{
 "metadata": {
  "name": "Linearization points-defunct"
 },
 "nbformat": 3,
 "nbformat_minor": 0,
 "worksheets": [
  {
   "cells": [
    {
     "cell_type": "code",
     "collapsed": false,
     "input": [
      "import csv\n",
      "import sympy"
     ],
     "language": "python",
     "metadata": {},
     "outputs": [],
     "prompt_number": 23
    },
    {
     "cell_type": "code",
     "collapsed": false,
     "input": [
      "def import_text(filename, separator):\n",
      "    reader= csv.DictReader(open(filename), delimiter=separator, skipinitialspace=True)\n",
      "    for line in reader:\n",
      "        if line:\n",
      "            yield line   "
     ],
     "language": "python",
     "metadata": {},
     "outputs": [],
     "prompt_number": 24
    },
    {
     "cell_type": "code",
     "collapsed": false,
     "input": [
      "def get_steadystate(filename,initialcond,stateorder,error):\n",
      "    pre=[float(initialcond[str(stateorder[k])]) for k in range(13)]\n",
      "    count=0\n",
      "    for data in import_text(filename,'\\t'):\n",
      "        curt=[float(data[str(stateorder[k])]) for k in range(13)]\n",
      "        diff=numpy.linalg.norm(numpy.array(pre)-numpy.array(curt))\n",
      "        pre=curt\n",
      "        \n",
      "        if(diff<=error):\n",
      "            count=count+1\n",
      "        else:\n",
      "            count=0\n",
      "        if(count>=10):\n",
      "            return curt"
     ],
     "language": "python",
     "metadata": {},
     "outputs": [],
     "prompt_number": 156
    },
    {
     "cell_type": "code",
     "collapsed": false,
     "input": [
      "def get_states(filename):\n",
      "    initialcond=get_initialcond(filename)\n",
      "    state={}\n",
      "    for ind in initialcond.keys():\n",
      "        state[ind]=sympy.Symbol(ind)\n",
      "    return state"
     ],
     "language": "python",
     "metadata": {},
     "outputs": [],
     "prompt_number": 16
    },
    {
     "cell_type": "code",
     "collapsed": false,
     "input": [
      "def get_initialcond(filename):\n",
      "    for data in import_text(filename,'\\t'):\n",
      "        if(float(data['time'])==0):\n",
      "            return data"
     ],
     "language": "python",
     "metadata": {},
     "outputs": [],
     "prompt_number": 17
    },
    {
     "cell_type": "code",
     "collapsed": false,
     "input": [
      "def get_stateorder(state):\n",
      "    stateorder=sympy.Matrix([(state['n001']),(state['n002']),(state['n005']),(state['cfmb2']),(state['vom']),(state['vop']),(state['n009']),(state['n007']),(state['cmfb1']),(state['out1neg']),(state['out1pos']),(state['ig9']),(state['ig7'])])\n",
      "    return stateorder"
     ],
     "language": "python",
     "metadata": {},
     "outputs": [],
     "prompt_number": 19
    },
    {
     "cell_type": "code",
     "collapsed": false,
     "input": [
      "def get_linpdiff(initial,steady,stateorder):\n",
      "    init=[float(initial[str(stateorder[k])]) for k in range(13) ]\n",
      "    return numpy.linalg.norm(numpy.array(init)-steady)/numpy.linalg.norm(init)"
     ],
     "language": "python",
     "metadata": {},
     "outputs": [],
     "prompt_number": 186
    },
    {
     "cell_type": "code",
     "collapsed": false,
     "input": [
      "def get_linPoints(filename,initialcond,delta):\n",
      "    pre=numpy.array([float(initialcond[str(stateorder[k])]) for k in range(13)])\n",
      "    count=0\n",
      "    time=[]\n",
      "    for i in import_text(filename,'\\t'):\n",
      "        cur=numpy.array([float(i[str(stateorder[k])]) for k in range(13)])\n",
      "        diff=abs(numpy.linalg.norm(pre-cur)/numpy.linalg.norm(pre))\n",
      "        if(diff>=delta):\n",
      "            pre=cur\n",
      "            count=count+1\n",
      "            print count,\") Difference is :\",diff,\"Time\",i['time']\n",
      "            time.append(float(i['time']))\n",
      "            \n",
      "     \n",
      "    return count,time\n",
      "        "
     ],
     "language": "python",
     "metadata": {},
     "outputs": [],
     "prompt_number": 226
    },
    {
     "cell_type": "code",
     "collapsed": false,
     "input": [
      "initial=get_initialcond('./Data/voltage_diffamp.txt')\n",
      "state=get_states('./Data/voltage_diffamp.txt')\n",
      "stateorder=get_stateorder(state)\n",
      "steadystate=get_steadystate('./Data/voltage_diffamp.txt',initial,stateorder,10e-6)\n",
      "delta=get_linpdiff(initialcond,steadystate,stateorder)\n",
      "count,time=get_linPoints('./Data/voltage_diffamp.txt',initialcond,delta/5)"
     ],
     "language": "python",
     "metadata": {},
     "outputs": [
      {
       "output_type": "stream",
       "stream": "stdout",
       "text": [
        "1 ) Difference is : 0.108476030663 Time 2.001057999311997e-006\n",
        "2 ) Difference is : 0.113563829244 Time 2.038547528135878e-006\n",
        "3 ) Difference is : 0.110911338375 Time 2.074246007128351e-006\n",
        "4 ) Difference is : 0.12643585714 Time 2.124244539607343e-006\n",
        "5 ) Difference is : 0.125510689391 Time 2.160724580511140e-006\n",
        "6"
       ]
      },
      {
       "output_type": "stream",
       "stream": "stdout",
       "text": [
        " ) Difference is : 0.108026236509 Time 2.188064992854927e-006\n",
        "7"
       ]
      },
      {
       "output_type": "stream",
       "stream": "stdout",
       "text": [
        " ) Difference is : 0.119493327464 Time 2.251454566888808e-006\n",
        "8"
       ]
      },
      {
       "output_type": "stream",
       "stream": "stdout",
       "text": [
        " ) Difference is : 0.110059512359 Time 2.498760613244890e-006\n"
       ]
      }
     ],
     "prompt_number": 238
    },
    {
     "cell_type": "code",
     "collapsed": false,
     "input": [
      "datapoints=[{} for i in range(count)]\n",
      "currents=[{} for i in range(count)]\n",
      "regions=[{} for i in range(count)]\n",
      "\n",
      "for data in import_text('./Data/voltage_diffamp.txt','\\t'):\n",
      "    for i in range(count):\n",
      "        if(float(data['time'])==time[i]):\n",
      "            datapoints[i]=data\n",
      "            \n",
      "initialcond['0']=0  \n",
      "for i in range(4):\n",
      "    datapoints[i]['0']=0\n",
      "    \n",
      "for data in import_text('./Data/currents.txt','\\t'):\n",
      "    for i in range(count):\n",
      "        if(float(data['time'])==time[i]):\n",
      "            currents[i]=data"
     ],
     "language": "python",
     "metadata": {},
     "outputs": [
      {
       "output_type": "stream",
       "stream": "stdout",
       "text": [
        "0\n",
        "1\n",
        "2\n",
        "3\n",
        "4\n",
        "5\n",
        "6\n",
        "7\n"
       ]
      }
     ],
     "prompt_number": 256
    },
    {
     "cell_type": "code",
     "collapsed": false,
     "input": [],
     "language": "python",
     "metadata": {},
     "outputs": [],
     "prompt_number": 256
    },
    {
     "cell_type": "code",
     "collapsed": false,
     "input": [],
     "language": "python",
     "metadata": {},
     "outputs": [],
     "prompt_number": 256
    },
    {
     "cell_type": "code",
     "collapsed": false,
     "input": [],
     "language": "python",
     "metadata": {},
     "outputs": []
    }
   ],
   "metadata": {}
  }
 ]
}