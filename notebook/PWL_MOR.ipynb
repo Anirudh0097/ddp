{
 "metadata": {
  "name": "PWL_MOR"
 },
 "nbformat": 3,
 "nbformat_minor": 0,
 "worksheets": [
  {
   "cells": [
    {
     "cell_type": "code",
     "collapsed": false,
     "input": [
      "import sympy\n",
      "import numpy\n",
      "from scipy.integrate import odeint\n",
      "from scipy import exp\n",
      "import matplotlib.pyplot as plt\n",
      "\n",
      "def Sym2NumArray(F):\n",
      "#Function to convert symbolic expression with numerical data to numpy array \n",
      "    shapeF=F.shape\n",
      "    B=numpy.zeros(shapeF)\n",
      "    for i in range(0,shapeF[0]):\n",
      "        for j in range(0,shapeF[1]):\n",
      "            B[i,j]=sympy.N(F[i,j])\n",
      "    return B\n",
      "\n",
      "def signal_in(t):\n",
      "    if t>0.2:\n",
      "        out=1.0\n",
      "    else:\n",
      "        out=0.0\n",
      "    return out"
     ],
     "language": "python",
     "metadata": {},
     "outputs": [],
     "prompt_number": 1
    },
    {
     "cell_type": "code",
     "collapsed": false,
     "input": [
      "ord=10\n",
      "A=numpy.diag(numpy.ones(ord)*-2)+numpy.diag(numpy.ones(ord-1),1)+numpy.diag(numpy.ones(ord-1),-1)\n",
      "B=numpy.zeros((ord,1));C=numpy.zeros((ord));\n",
      "B[0]=1;C[ord-1]=1;D=numpy.zeros((1));\n",
      "A[ord-1][ord-1]=-1\n",
      "\n",
      "x=sympy.symbols(\"x1:11\");\n",
      "nonl=sympy.Matrix(numpy.zeros((ord,1)))\n",
      "\n",
      "for i in range(1,ord-1):\n",
      "    nonl[i]=sympy.exp(10*x[i-1]-10*x[i])-sympy.exp(10*x[i]-10*x[i+1])\n",
      "nonl[0]=2-sympy.exp(10*x[0])-sympy.exp(10*x[0]-10*x[1])\n",
      "nonl[ord-1]=sympy.exp(10*x[ord-2]-10*x[ord-1])-1\n",
      "\n",
      "xMat=sympy.Matrix(x)\n",
      "Anew=A*(xMat)+nonl\n",
      "AJac=Anew.jacobian(xMat)"
     ],
     "language": "python",
     "metadata": {},
     "outputs": [],
     "prompt_number": 2
    },
    {
     "cell_type": "code",
     "collapsed": false,
     "input": [
      "#def SolveLinPoint(AJac,\n",
      "AJacOrig=AJac.evalf(subs={x[0]:0.,x[1]:0.,x[2]:0.,x[3]:0.,x[4]:0.,x[5]:0.,x[6]:0.,x[7]:0.,x[8]:0.,x[9]:0.})\n",
      "AJacON=Sym2NumArray(AJacOrig)\n",
      "\n",
      "def dervL1(y,t):\n",
      "    temp=numpy.dot(AJacON,y)\n",
      "    sigIn=numpy.dot(B,(signal_in(t)))\n",
      "    sigIn_R=sigIn.reshape(1,10)\n",
      "    tempL1=temp+sigIn_R[0]\n",
      "    return tempL1"
     ],
     "language": "python",
     "metadata": {},
     "outputs": [],
     "prompt_number": 4
    },
    {
     "cell_type": "code",
     "collapsed": false,
     "input": [
      "y0=numpy.zeros(ord)\n",
      "time  = numpy.linspace(0, 30., 100)\n",
      "solnL1 = odeint(dervL1, y0, time)\n",
      "plt.plot(time,solnL1[:,9])\n",
      "plt.show()"
     ],
     "language": "python",
     "metadata": {},
     "outputs": [
      {
       "output_type": "display_data",
       "png": "[encoded data removed]"
      }
     ],
     "prompt_number": 5
    },
    {
     "cell_type": "code",
     "collapsed": false,
     "input": [
      "def dervNL(y,t):\n",
      "    tempObj=Anew.evalf(subs={x[0]:y[0],x[1]:y[1],x[2]:y[2],x[3]:y[3],x[4]:y[4],x[5]:y[5],x[6]:y[6],x[7]:y[7],x[8]:y[8],x[9]:y[9]})+B*signal_in(t)\n",
      "    temp=Sym2NumArray(tempObj).reshape(1,10)\n",
      "    return temp[0]\n",
      "    \n",
      "y0=numpy.zeros(ord)\n",
      "t = numpy.linspace(0, 30., 100)\n",
      "solnNL = odeint(dervNL, y0, t)   \n",
      "plt.plot(t,solnNL[:,9])    \n",
      "plt.show()"
     ],
     "language": "python",
     "metadata": {},
     "outputs": [
      {
       "output_type": "display_data",
       "png": "[encoded data removed]"
      }
     ],
     "prompt_number": 7
    },
    {
     "cell_type": "code",
     "collapsed": false,
     "input": [
      "points=[10,50,130,170,700]\n",
      "linP=numpy.zeros((ord,len(points)))\n",
      "linPJac=numpy.zeros((5,10,10))\n",
      "offset=numpy.zeros((5))\n",
      "for i in range(0,5):\n",
      "    linP[:,i]=solnNL[points[i],:]"
     ],
     "language": "python",
     "metadata": {},
     "outputs": [
      {
       "ename": "IndexError",
       "evalue": "invalid index",
       "output_type": "pyerr",
       "traceback": [
        "\u001b[1;31m---------------------------------------------------------------------------\u001b[0m\n\u001b[1;31mIndexError\u001b[0m                                Traceback (most recent call last)",
        "\u001b[1;32m<ipython-input-8-2db3fc9122d5>\u001b[0m in \u001b[0;36m<module>\u001b[1;34m()\u001b[0m\n\u001b[0;32m      4\u001b[0m \u001b[0moffset\u001b[0m\u001b[1;33m=\u001b[0m\u001b[0mnumpy\u001b[0m\u001b[1;33m.\u001b[0m\u001b[0mzeros\u001b[0m\u001b[1;33m(\u001b[0m\u001b[1;33m(\u001b[0m\u001b[1;36m5\u001b[0m\u001b[1;33m)\u001b[0m\u001b[1;33m)\u001b[0m\u001b[1;33m\u001b[0m\u001b[0m\n\u001b[0;32m      5\u001b[0m \u001b[1;32mfor\u001b[0m \u001b[0mi\u001b[0m \u001b[1;32min\u001b[0m \u001b[0mrange\u001b[0m\u001b[1;33m(\u001b[0m\u001b[1;36m0\u001b[0m\u001b[1;33m,\u001b[0m\u001b[1;36m5\u001b[0m\u001b[1;33m)\u001b[0m\u001b[1;33m:\u001b[0m\u001b[1;33m\u001b[0m\u001b[0m\n\u001b[1;32m----> 6\u001b[1;33m     \u001b[0mlinP\u001b[0m\u001b[1;33m[\u001b[0m\u001b[1;33m:\u001b[0m\u001b[1;33m,\u001b[0m\u001b[0mi\u001b[0m\u001b[1;33m]\u001b[0m\u001b[1;33m=\u001b[0m\u001b[0msolnNL\u001b[0m\u001b[1;33m[\u001b[0m\u001b[0mpoints\u001b[0m\u001b[1;33m[\u001b[0m\u001b[0mi\u001b[0m\u001b[1;33m]\u001b[0m\u001b[1;33m,\u001b[0m\u001b[1;33m:\u001b[0m\u001b[1;33m]\u001b[0m\u001b[1;33m\u001b[0m\u001b[0m\n\u001b[0m",
        "\u001b[1;31mIndexError\u001b[0m: invalid index"
       ]
      }
     ],
     "prompt_number": 8
    },
    {
     "cell_type": "code",
     "collapsed": false,
     "input": [
      "for i in range(0,5):\n",
      "    linPV=Anew.evalf(subs={x[0]:linP[0,i],x[1]:linP[1,i],x[2]:linP[2,i],x[3]:linP[3,i],x[4]:linP[4,i],x[5]:linP[5,i],x[6]:linP[6,i],x[7]:linP[7,i],x[8]:linP[8,i],x[9]:linP[9,i]})\n",
      "    linPV_N=Sym2NumArray(linPV)\n",
      "    linPJ=AJac.evalf(subs={x[0]:linP[0,i],x[1]:linP[1,i],x[2]:linP[2,i],x[3]:linP[3,i],x[4]:linP[4,i],x[5]:linP[5,i],x[6]:linP[6,i],x[7]:linP[7,i],x[8]:linP[8,i],x[9]:linP[9,i]})\n",
      "    linPJ_N=Sym2NumArray(linPJ)\n",
      "    linPJac[i]=linPJ_N\n",
      "    temp=linPV_N.reshape((1,10))-dot(linPJ_N,linP[:,i])\n",
      "    offset[i]=temp[0][0]"
     ],
     "language": "python",
     "metadata": {},
     "outputs": [],
     "prompt_number": 141
    },
    {
     "cell_type": "code",
     "collapsed": false,
     "input": [
      "def normcalc(y):\n",
      "    normV=numpy.zeros(5)\n",
      "    for i in range(0,5):\n",
      "        temp=y-linP[:,i]\n",
      "        normV[i]=numpy.linalg.norm(temp)\n",
      "    temp=10**(-20*normV*normV/normV.min())       \n",
      "    return temp/temp.sum()"
     ],
     "language": "python",
     "metadata": {},
     "outputs": [],
     "prompt_number": 142
    },
    {
     "cell_type": "code",
     "collapsed": false,
     "input": [
      "normcalc(numpy.zeros(10))"
     ],
     "language": "python",
     "metadata": {},
     "outputs": [
      {
       "output_type": "pyout",
       "prompt_number": 143,
       "text": [
        "array([  9.99879005e-01,   1.20993637e-04,   8.70842417e-10,\n",
        "         5.67113718e-12,   5.39530279e-19])"
       ]
      }
     ],
     "prompt_number": 143
    },
    {
     "cell_type": "code",
     "collapsed": false,
     "input": [
      "def dervPWL(y,t):\n",
      "    weight=normcalc(y)\n",
      "    temp=numpy.dot(linPJac[0],y)*weight[0]+numpy.dot(linPJac[1],y)*weight[1]+numpy.dot(linPJac[2],y)*weight[2]+numpy.dot(linPJac[3],y)*weight[3]+numpy.dot(linPJac[4],y)*weight[4]\n",
      "    sigIn=numpy.dot(B,(signal_in(t)+numpy.dot(offset,weight)))\n",
      "    sigIn_R=sigIn.reshape(1,10)\n",
      "    tempPWL=temp+sigIn_R[0]\n",
      "    return tempPWL"
     ],
     "language": "python",
     "metadata": {},
     "outputs": [],
     "prompt_number": 144
    },
    {
     "cell_type": "code",
     "collapsed": false,
     "input": [
      "y0=numpy.zeros(ord)\n",
      "time  = numpy.linspace(0, 30., 100)\n",
      "solnPWL = odeint(dervPWL, y0, time)\n",
      "plt.plot(time,solnPWL[:,9])\n",
      "plt.show()"
     ],
     "language": "python",
     "metadata": {},
     "outputs": [
      {
       "output_type": "display_data",
       "png": "[encoded data removed]"
      }
     ],
     "prompt_number": 145
    },
    {
     "cell_type": "code",
     "collapsed": false,
     "input": [
      "plt.plot(time,solnPWL[:,9],t,solnNL[:,9],time,solnL1[:,9])\n",
      "plt.show()"
     ],
     "language": "python",
     "metadata": {},
     "outputs": [
      {
       "output_type": "display_data",
       "png": "[encoded data removed]"
      }
     ],
     "prompt_number": 146
    },
    {
     "cell_type": "markdown",
     "metadata": {},
     "source": [
      "To Do:\n",
      "---------\n",
      "    Add Arnoldi Method Method for reduction \n",
      "    Add Extended Model Reduction function\n",
      "    Make the following functoins\n",
      "            1. input -> Anew,AJac point of linearization, signal_in  output-> plot  \n",
      "            2. input -> Anew,signal_in ouput -> plot non linear response\n",
      "            3.input -> Anew,AJac,points,signal_in output-> plot PWL"
     ]
    },
    {
     "cell_type": "code",
     "collapsed": false,
     "input": [
      "def ArnoldiBasis_QR(Jac,B,ord,red_ord):\n",
      "    spanB=numpy.zeros((ord,red_ord))\n",
      "    A=numpy.linalg.inv(Jac)\n",
      "    temp=numpy.dot(A,B)\n",
      "    spanB[:,0]=temp.reshape(1,ord)\n",
      "    for i in range(1,red_ord):\n",
      "        spanB[:,i]=numpy.dot(A,spanB[:,i-1])\n",
      "    unitB,R=numpy.linalg.qr(spanB)\n",
      "    return unitB\n",
      "    "
     ],
     "language": "python",
     "metadata": {},
     "outputs": [],
     "prompt_number": 147
    },
    {
     "cell_type": "code",
     "collapsed": false,
     "input": [
      "red_ord=3\n",
      "AggB=copy(linP)\n",
      "for i in range(0,5):\n",
      "    unitB=ArnoldiBasis_QR(linPJac[i],B,ord,red_ord)\n",
      "    unitBoff=ArnoldiBasis_QR(linPJac[i],numpy.dot(B,offset[i]),ord,red_ord)\n",
      "    AggB=numpy.concatenate((unitB,unitBoff,AggB),1)"
     ],
     "language": "python",
     "metadata": {},
     "outputs": [],
     "prompt_number": 148
    },
    {
     "cell_type": "code",
     "collapsed": false,
     "input": [
      "eigenC,eigenV,eigenR=numpy.linalg.svd(AggB)\n",
      "for i in range(1,ord):\n",
      "    if  (eigenV[0]/eigenV[i])>100:\n",
      "        red_ordNew=i-1\n",
      "        break"
     ],
     "language": "python",
     "metadata": {},
     "outputs": [],
     "prompt_number": 149
    },
    {
     "cell_type": "code",
     "collapsed": false,
     "input": [
      "redBasis=eigenC[:,:red_ordNew]"
     ],
     "language": "python",
     "metadata": {},
     "outputs": [],
     "prompt_number": 150
    },
    {
     "cell_type": "code",
     "collapsed": false,
     "input": [
      "newReptemp=numpy.dot(numpy.linalg.inv(eigenC),linP)\n",
      "newRep=newReptemp[:red_ordNew,:]\n",
      "print newRep"
     ],
     "language": "python",
     "metadata": {},
     "outputs": [
      {
       "output_type": "stream",
       "stream": "stdout",
       "text": [
        "[[-0.02501495 -0.09545122 -0.14966391 -0.16555455 -0.20607176]\n",
        " [ 0.02909354  0.04196737  0.00887296 -0.00150716 -0.02804834]\n",
        " [ 0.02279092  0.0015875  -0.00075788 -0.00096062 -0.00150863]]\n"
       ]
      }
     ],
     "prompt_number": 151
    },
    {
     "cell_type": "code",
     "collapsed": false,
     "input": [
      "def normcalcMOR(y):\n",
      "    normV=numpy.zeros(5)\n",
      "    for i in range(0,5):\n",
      "        temp=y-newRep[:,i]\n",
      "        normV[i]=numpy.linalg.norm(temp)\n",
      "    temp=10**(-20*normV*normV/normV.min())\n",
      "    return temp/(temp.sum())\n",
      "    "
     ],
     "language": "python",
     "metadata": {},
     "outputs": [],
     "prompt_number": 152
    },
    {
     "cell_type": "code",
     "collapsed": false,
     "input": [
      "\n",
      "linPJacMOR=numpy.zeros((5,red_ordNew,red_ordNew))\n",
      "for i in range(5):\n",
      "    linPJacMOR[i]=numpy.dot(redBasis.T,numpy.dot(linPJac[i],redBasis))\n",
      "    "
     ],
     "language": "python",
     "metadata": {},
     "outputs": [],
     "prompt_number": 154
    },
    {
     "cell_type": "code",
     "collapsed": false,
     "input": [
      "def dervPWLMOR(y,t):\n",
      "    weight=normcalcMOR(y)\n",
      "    temp=numpy.dot(linPJacMOR[0],y)*weight[0]+numpy.dot(linPJacMOR[1],y)*weight[1]+numpy.dot(linPJacMOR[2],y)*weight[2]+numpy.dot(linPJacMOR[3],y)*weight[3]+numpy.dot(linPJacMOR[4],y)*weight[4]\n",
      "    sigIn=numpy.dot(redBasis.T,numpy.dot(B,(signal_in(t)+numpy.dot(offset,weight))))\n",
      "    sigIn_R=sigIn.reshape(1,red_ordNew)\n",
      "    tempPWLMOR=temp+sigIn_R[0]\n",
      "    return tempPWLMOR"
     ],
     "language": "python",
     "metadata": {},
     "outputs": [],
     "prompt_number": 155
    },
    {
     "cell_type": "code",
     "collapsed": false,
     "input": [
      "y0=numpy.zeros(red_ordNew)\n",
      "time  = numpy.linspace(0, 30., 100)\n",
      "solnMOR = odeint(dervPWLMOR, y0, time)\n",
      "solnMOR_out=numpy.zeros(len(time))\n",
      "for i in range(len(time)):\n",
      "    solnMOR_out[i]=numpy.dot(redBasis[9,:],solnMOR[i,:])\n",
      "plt.plot(time,solnMOR_out)\n",
      "plt.show()"
     ],
     "language": "python",
     "metadata": {},
     "outputs": [
      {
       "output_type": "display_data",
       "png": "[encoded data removed]"
      }
     ],
     "prompt_number": 156
    },
    {
     "cell_type": "code",
     "collapsed": false,
     "input": [
      "plt.plot(time,solnF[:,9],t,soln[:,9],time,solnF1[:,9],time,solnMOR_out)\n",
      "plt.show()"
     ],
     "language": "python",
     "metadata": {},
     "outputs": [
      {
       "output_type": "display_data",
       "png": "[encoded data removed]"
      }
     ],
     "prompt_number": 157
    },
    {
     "cell_type": "code",
     "collapsed": false,
     "input": [
      "def func(one,two):\n",
      "    print one,two\n",
      "    \n",
      "    def three(two):\n",
      "        print two**2\n",
      "        return\n",
      "    print three(one)\n",
      "    return \n"
     ],
     "language": "python",
     "metadata": {},
     "outputs": [],
     "prompt_number": 5
    },
    {
     "cell_type": "code",
     "collapsed": false,
     "input": [
      "func(2,1)"
     ],
     "language": "python",
     "metadata": {},
     "outputs": [
      {
       "output_type": "stream",
       "stream": "stdout",
       "text": [
        "2 1\n",
        "4\n",
        "None\n"
       ]
      }
     ],
     "prompt_number": 3
    },
    {
     "cell_type": "code",
     "collapsed": false,
     "input": [
      "func(2,3)"
     ],
     "language": "python",
     "metadata": {},
     "outputs": [
      {
       "output_type": "stream",
       "stream": "stdout",
       "text": [
        "2 3\n",
        "4\n",
        "None\n"
       ]
      }
     ],
     "prompt_number": 7
    },
    {
     "cell_type": "code",
     "collapsed": false,
     "input": [],
     "language": "python",
     "metadata": {},
     "outputs": []
    }
   ],
   "metadata": {}
  }
 ]
}