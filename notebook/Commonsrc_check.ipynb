{
 "metadata": {
  "name": "Commonsrc_check"
 },
 "nbformat": 3,
 "nbformat_minor": 0,
 "worksheets": [
  {
   "cells": [
    {
     "cell_type": "heading",
     "level": 4,
     "metadata": {},
     "source": [
      "Choose linearization points from PSPICE"
     ]
    },
    {
     "cell_type": "code",
     "collapsed": false,
     "input": [
      "import csv\n",
      "def import_text(filename, separator):\n",
      "    reader= csv.DictReader(open(filename), delimiter=separator, skipinitialspace=True)\n",
      "    for line in reader:\n",
      "        if line:\n",
      "            yield line\n",
      "\n",
      "datapoints=[{} for i in range(4)]\n",
      "currents=[{} for i in range(4)]\n",
      "initialcond=[]\n",
      "regions=[{} for i in range(4)]\n",
      "for data in import_text('./Data/cmnsrc_data.txt', '\\t'):\n",
      "    if(float(data['time'])==0):\n",
      "       initialcond=data.copy()\n",
      "    if (float(data['time'])==1.023999942617593e-007):\n",
      "        datapoints[0]=data.copy()\n",
      "    if (float(data['time'])==9.552020198607335e-007):\n",
      "        datapoints[1]=data.copy()\n",
      "    if (float(data['time'])==1.008399621276113e-006):\n",
      "        datapoints[2]=data.copy()\n",
      "    if (float(data['time'])==1.500000000000000e-005):\n",
      "        datapoints[3]=data.copy()\n",
      "initialcond['ground']=0  \n",
      "for i in range(4):\n",
      "    datapoints[i]['ground']=0\n",
      "\n",
      "currents=[{} for i in range(4)]\n",
      "\n",
      "for data in import_text('./Data/cmnsrc_currents.txt','\\t'):\n",
      "    if (float(data['time'])==1.023999942617593e-007):\n",
      "        currents[0]=data.copy()\n",
      "    if (float(data['time'])==9.552020198607335e-007):\n",
      "        currents[1]=data.copy()\n",
      "    if (float(data['time'])==1.008399621276113e-006):\n",
      "        currents[2]=data.copy()\n",
      "    if (float(data['time'])==1.500000000000000e-005):\n",
      "        currents[3]=data.copy()"
     ],
     "language": "python",
     "metadata": {},
     "outputs": [],
     "prompt_number": 277
    },
    {
     "cell_type": "code",
     "collapsed": false,
     "input": [
      "global datapoints\n"
     ],
     "language": "python",
     "metadata": {},
     "outputs": [],
     "prompt_number": 313
    },
    {
     "cell_type": "code",
     "collapsed": false,
     "input": [
      "def Sym2NumArray(F):\n",
      "#Function to convert symbolic expression with numerical data to numpy array \n",
      "    shapeF=F.shape\n",
      "    B=numpy.zeros(shapeF)\n",
      "    for i in range(0,shapeF[0]):\n",
      "        for j in range(0,shapeF[1]):\n",
      "            B[i,j]=sympy.N(F[i,j])\n",
      "    return B"
     ],
     "language": "python",
     "metadata": {},
     "outputs": [],
     "prompt_number": 279
    },
    {
     "cell_type": "heading",
     "level": 4,
     "metadata": {},
     "source": [
      "Understand Mode of operation"
     ]
    },
    {
     "cell_type": "code",
     "collapsed": false,
     "input": [
      "def region(MOS,drain,gate,source):\n",
      "    th=0.4\n",
      "    if MOS=='CMOSP':\n",
      "        if(source<(gate+th)):\n",
      "            return 'c'\n",
      "        elif((source>=(gate+th)) & (drain>=(gate+th))):\n",
      "            return 'l'\n",
      "        elif((source>=(gate+th)) & (drain<(gate+th))):\n",
      "            return 's'\n",
      "    \n",
      "    if MOS=='CMOSN':\n",
      "        if(gate<(source+th)):\n",
      "            return 'c'\n",
      "        elif((gate>=(source+th)) & (drain<=(gate-th))):\n",
      "            return 'l'\n",
      "        elif((gate>=(source+th)) & (drain>(gate-th))):\n",
      "            return 's'\n",
      "               "
     ],
     "language": "python",
     "metadata": {},
     "outputs": [],
     "prompt_number": 280
    },
    {
     "cell_type": "code",
     "collapsed": false,
     "input": [
      "Vth={'m1':0.427}\n"
     ],
     "language": "python",
     "metadata": {},
     "outputs": [],
     "prompt_number": 327
    },
    {
     "cell_type": "heading",
     "level": 4,
     "metadata": {},
     "source": [
      "Parse netlist and determine nodes of connection"
     ]
    },
    {
     "cell_type": "code",
     "collapsed": false,
     "input": [
      "import re\n",
      "nl=open('./Data/cmnsrc_net.txt')\n",
      "x=re.compile('M(?#comment)')\n",
      "for point in range(4):\n",
      "    a=0\n",
      "    #print \"The state of the system at\",datapoints[point]['time']\n",
      "    while True:\n",
      "        i=nl.readline()    \n",
      "        if re.match(x,i):\n",
      "            a=a+1\n",
      "            inf=i.split()\n",
      "            sma=[low.lower() for low in i.split()]\n",
      "            dd=len(sma)\n",
      "            for i in range(dd):\n",
      "                if sma[i]=='0':\n",
      "                    sma[i]='ground'\n",
      "            r=region(sma[5].upper(),float(datapoints[point][sma[1]]),float(datapoints[point][sma[2]]),float(datapoints[point][sma[3]]))\n",
      "            #print sma[0],\"is in \",r\n",
      "            regions[point][sma[0]]=[r,sma[1],sma[2],sma[3],sma[5].upper(),sma[7],sma[6]]\n",
      "        if not i:           \n",
      "            nl.seek(0)\n",
      "            break\n",
      "print \"There are\",a,\"transistors\"\n"
     ],
     "language": "python",
     "metadata": {},
     "outputs": [
      {
       "output_type": "stream",
       "stream": "stdout",
       "text": [
        "There are 1 transistors\n"
       ]
      }
     ],
     "prompt_number": 328
    },
    {
     "cell_type": "code",
     "collapsed": false,
     "input": [
      "import sympy\n",
      "state={}\n",
      "for ind in datapoints[0].keys():\n",
      "        state[ind]=sympy.Symbol(ind)\n"
     ],
     "language": "python",
     "metadata": {},
     "outputs": [],
     "prompt_number": 329
    },
    {
     "cell_type": "heading",
     "level": 4,
     "metadata": {},
     "source": [
      "Checking for Mode of operation and substitution of current equations"
     ]
    },
    {
     "cell_type": "code",
     "collapsed": false,
     "input": [
      "def current(information,state,point,vth,cur):\n",
      "    drain=state[information[1]]\n",
      "    gate=state[information[2]]\n",
      "    source=state[information[3]]\n",
      "    p=re.compile('(l|w|=|u)')\n",
      "    w=float(p.sub('',information[5]))\n",
      "    l=float(p.sub('',information[6]))\n",
      "    vth=float(vth)\n",
      "    cur=abs(float(cur))\n",
      "    sub1={state[i]:datapoints[point][i] for i in state}\n",
      "    \n",
      "    if(information[4]=='CMOSP'):\n",
      "        if(information[0]=='c'):\n",
      "            return 0\n",
      "        elif(information[0]=='s'):\n",
      "            cc=(((gate**2)+(source**2)+(vth**2)-(2*gate*source)-(2*vth*source)+(2*vth*gate))*(37e-6)*(w/l))\n",
      "            gds=(cur-cc.evalf(subs=sub1))/((source-drain).evalf(subs=sub1))\n",
      "            \n",
      "            return cc+(source-drain)*gds\n",
      "        elif(information[0]=='l'):\n",
      "            cc=(((0.5*(source**2))-(0.5*(drain**2))-(source*gate)+(drain*gate)-(vth*source)+(vth*drain))*(37e-6*2)*(w/l))\n",
      "            gds=(cur-cc.evalf(subs=sub1))/((source-drain).evalf(subs=sub1))\n",
      "            \n",
      "            return  cc+(source-drain)*gds      \n",
      "        \n",
      "    if(information[4]=='CMOSN'):\n",
      "        if(information[0]=='c'):\n",
      "            return 0\n",
      "        elif(information[0]=='s'):\n",
      "            cc=(((gate**2)+(source**2)+(vth**2)-(2*gate*source)+(2*vth*source)-(2*vth*gate))*(171e-6)*(w/l))\n",
      "            gds=(cur-cc.evalf(subs=sub1))/((drain-source).evalf(subs=sub1))\n",
      "            print gds\n",
      "            return cc+(drain-source)*(gds)               \n",
      "        elif(information[0]=='l'):\n",
      "            cc=(((0.5*(source**2))-(0.5*(drain**2))-(source*gate)+(drain*gate)+(vth*source)-(vth*drain))*(171e-6*2)*(w/l))\n",
      "            gds=(cur-cc.evalf(subs=sub1))/((drain-source).evalf(subs=sub1))\n",
      "            print gds\n",
      "            return cc+(drain-source)*(gds)"
     ],
     "language": "python",
     "metadata": {},
     "outputs": [],
     "prompt_number": 704
    },
    {
     "cell_type": "code",
     "collapsed": false,
     "input": [
      "ss=str('m1')\n",
      "print regions[3][ss] \n",
      "point=3\n",
      "cc=(current(regions[point][ss],state,point,Vth[ss],currents[point]['Id('+ss.upper()+')']))\n",
      "print cc\n",
      "sub1={state[i]:datapoints[3][i] for i in state}\n",
      "print cc.evalf(subs=sub1)\n"
     ],
     "language": "python",
     "metadata": {},
     "outputs": [
      {
       "output_type": "stream",
       "stream": "stdout",
       "text": [
        "['s', 'drain', 'inp', 'ground', 'CMOSN', 'w=0.72u', 'l=0.36u']\n",
        "-0.000739414116365627\n",
        "-0.000739414116365627*drain + 0.000342*ground**2 - 0.000684*ground*inp + 0.00103148211636563*ground + 0.000342*inp**2 - 0.000292068*inp + 6.2356518e-5\n",
        "0.000765428700000000\n"
       ]
      }
     ],
     "prompt_number": 705
    },
    {
     "cell_type": "code",
     "collapsed": false,
     "input": [
      "currents"
     ],
     "language": "python",
     "metadata": {},
     "outputs": [
      {
       "output_type": "pyout",
       "prompt_number": 706,
       "text": [
        "[{'Id(M1)': '7.645373e-004', 'time': '1.023999942617593e-007'},\n",
        " {'Id(M1)': '7.653844e-004', 'time': '9.552020198607335e-007'},\n",
        " {'Id(M1)': '7.654279e-004', 'time': '1.008399621276113e-006'},\n",
        " {'Id(M1)': '7.654287e-004', 'time': '1.500000000000000e-005'}]"
       ]
      }
     ],
     "prompt_number": 706
    },
    {
     "cell_type": "code",
     "collapsed": false,
     "input": [
      "current(regions[linpt]['m1'],state,linpt,Vth['m1'],currents[linpt]['Id(M1)'])"
     ],
     "language": "python",
     "metadata": {},
     "outputs": [
      {
       "output_type": "stream",
       "stream": "stdout",
       "text": [
        "-0.000739414116365627\n"
       ]
      },
      {
       "output_type": "pyout",
       "prompt_number": 707,
       "text": [
        "-0.000739414116365627*drain + 0.000342*ground**2 - 0.000684*ground*inp + 0.00103148211636563*ground + 0.000342*inp**2 - 0.000292068*inp + 6.2356518e-5"
       ]
      }
     ],
     "prompt_number": 707
    },
    {
     "cell_type": "heading",
     "level": 4,
     "metadata": {},
     "source": [
      "Generation of all non linear equations and evaluating them at linearization points"
     ]
    },
    {
     "cell_type": "code",
     "collapsed": false,
     "input": [
      "inp2=re.compile(r\"([-+]?[ ]?\\d+.\\d+).inp\\*\\*2\")\n",
      "inp=re.compile(r\"([-+]?[ ]?\\d+.\\d+).inp \")\n",
      "#inn2=re.compile(r\"([-+]?[ ]?\\d+.\\d+).innegative\\*\\*2\")\n",
      "#inn=re.compile(r\"([-+]?[ ]?\\d+.\\d+).innegative \")\n",
      "stateorder=sympy.Matrix([(state['drain']),(state['iC2'])])\n",
      "linP=numpy.zeros((4,2,1))\n",
      "inputorder=sympy.Matrix( ((state['inp']),(state['inp']**2)))\n",
      "inputm=inputorder.evalf(subs={state['inp']:3.85})\n",
      "for i in range(4):\n",
      "    for k in range(2):\n",
      "        linP[i][k]=(datapoints[i][str(stateorder[k])])          \n",
      "\n",
      "print stateorder\n"
     ],
     "language": "python",
     "metadata": {},
     "outputs": [
      {
       "output_type": "stream",
       "stream": "stdout",
       "text": [
        "[drain]\n",
        "[  iC2]\n"
       ]
      }
     ],
     "prompt_number": 708
    },
    {
     "cell_type": "code",
     "collapsed": false,
     "input": [
      "from sympy.parsing.sympy_parser import parse_expr\n",
      "C=numpy.zeros((2,13))\n",
      "\n",
      "offset=numpy.ones((4,2,1))\n",
      "diff=numpy.ones((2,1))\n",
      "proj=numpy.zeros((2,2))\n",
      "\n",
      "Cpara=1e-15\n",
      "\n",
      "linPJac=numpy.zeros((4,2,2))\n",
      "linPVal=numpy.zeros((4,2,1))\n",
      "B=numpy.zeros((4,2,2))\n",
      "for linpt in range(4):\n",
      "    print linpt\n",
      "    \n",
      "    Im1=current(regions[linpt]['m1'],state,linpt,Vth['m1'],currents[linpt]['Id(M1)'])\n",
      "    \n",
      "    vdot=(((5-state['drain'])/800)-Im1-state['iC2'])*1e15\n",
      "    idot=(vdot-state['iC2'])/2000\n",
      "    \n",
      "    eqs=sympy.Matrix( [(vdot),(idot)] )\n",
      "    \n",
      "   \n",
      "    \n",
      "    \n",
      "    \n",
      "    for i in range(2):\n",
      "        che=str(eqs[i])\n",
      "        checkinp=re.search(inp,che)\n",
      "        checkinp2=re.search(inp2,che)\n",
      "        #checkinn=re.search(inn,che)\n",
      "        #checkinn2=re.search(inn2,che)\n",
      "        \n",
      "        if re.search(inp,che):\n",
      "            print checkinp.group(1)\n",
      "            B[linpt][i][0]=float((checkinp.group(1)).replace(\" \",\"\"))\n",
      "            che=che.replace((checkinp.group()),\"\")\n",
      "        if re.search(inp2,str(eqs[i])):\n",
      "            print checkinp2.group(1)\n",
      "            B[linpt][i][1]=float((checkinp2.group(1)).replace(\" \",\"\"))\n",
      "            che=che.replace((checkinp2.group()),\"\")\n",
      "       # if re.search(inn,str(eqs[i])):\n",
      "        #    print checkinn.group(1)\n",
      "          #  B[linpt][i][2]=float((checkinn.group(1)).replace(\" \",\"\"))\n",
      "            #che=che.replace((checkinn.group()),\"\")\n",
      "        #if re.search(inn2,str(eqs[i])):\n",
      "         #   print checkinn2.group(1)\n",
      "         #   B[linpt][i][3]=float((checkinn2.group(1)).replace(\" \",\"\"))\n",
      "          #  che=che.replace((checkinn2.group()),\"\")\n",
      "        eqs[i]=sympy.parsing.sympy_parser.parse_expr(che,state)\n",
      "        #print i\n",
      "        \n",
      "    sub1={state[i]:abs(float(datapoints[linpt][i])) for i in state}\n",
      "    #sub1['inpositive']=1.3\n",
      "    #sub1['innegative']=0.5\n",
      "    val=eqs.evalf(subs=sub1)\n",
      "    linPVal[linpt]=Sym2NumArray(val)\n",
      "    jack=eqs.jacobian(stateorder)\n",
      "    evjack=jack.evalf(subs=sub1)    \n",
      "    linPJac[linpt]=Sym2NumArray(evjack)        \n",
      "     \n",
      " \n",
      "\n",
      "    temp=numpy.matrix(B[linpt])\n",
      "    proj=numpy.linalg.pinv(temp)\n",
      "    diff=linPVal[linpt]-numpy.dot(linPJac[linpt],linP[linpt])\n",
      "    offset[linpt]=proj*diff\n",
      "    \n",
      "    \n",
      "    \n",
      "    \n",
      "    #val=eqs.evalf(subs=sub1)\n",
      "    #linPVal[linpt]=Sym2NumArray(val)\n",
      "    #jack=eqs.jacobian(stateorder)\n",
      "    #evjack=jack.evalf(subs=sub1)    \n",
      "    #linPJac[linpt]=Sym2NumArray(evjack)\n"
     ],
     "language": "python",
     "metadata": {},
     "outputs": [
      {
       "output_type": "stream",
       "stream": "stdout",
       "text": [
        "0\n",
        "-0.000737139111229336\n",
        "+ 292068000000.0\n",
        "- 342000000000.0\n",
        "+ 146034000.0\n",
        "- 171000000.0\n",
        "1\n",
        "-0.000739296901399020\n",
        "+ 292068000000.0"
       ]
      },
      {
       "output_type": "stream",
       "stream": "stdout",
       "text": [
        "\n",
        "- 342000000000.0\n",
        "+ 146034000.0\n",
        "- 171000000.0\n",
        "2\n",
        "-0.000739432835550526\n",
        "+ 292068000000.0"
       ]
      },
      {
       "output_type": "stream",
       "stream": "stdout",
       "text": [
        "\n",
        "- 342000000000.0\n",
        "+ 146034000.0\n",
        "- 171000000.0\n",
        "3\n",
        "-0.000739414116365627"
       ]
      },
      {
       "output_type": "stream",
       "stream": "stdout",
       "text": [
        "\n",
        "+ 292068000000.0\n",
        "- 342000000000.0\n",
        "+ 146034000.0\n",
        "- 171000000.0\n"
       ]
      }
     ],
     "prompt_number": 709
    },
    {
     "cell_type": "code",
     "collapsed": false,
     "input": [],
     "language": "python",
     "metadata": {},
     "outputs": [],
     "prompt_number": 709
    },
    {
     "cell_type": "markdown",
     "metadata": {},
     "source": [
      "Variables used \n",
      "--------------------\n",
      "\n",
      "* linPVal => stores the constant for the non linear matrix at each linearization point\n",
      "* linPJac => stores the jacobian at each linearization point\n",
      "* C       => has the C values for all the lin points\n",
      "* D => is 0 for all the points\n",
      "\n",
      "\n",
      "* BlinP  => will store all the B values at each linearization point\n",
      "\n",
      "\n",
      "\n",
      " "
     ]
    },
    {
     "cell_type": "code",
     "collapsed": false,
     "input": [
      "def normcalc(y):\n",
      "    normV=numpy.zeros(4)\n",
      "    for i in range(4):\n",
      "        temp=y-linP[i]\n",
      "        normV[i]=numpy.linalg.norm(temp)\n",
      "        temp=2.3**(-10*normV*normV/normV.min())\n",
      "    temp=temp/(temp.sum())\n",
      "    \n",
      "    return temp"
     ],
     "language": "python",
     "metadata": {},
     "outputs": [],
     "prompt_number": 710
    },
    {
     "cell_type": "code",
     "collapsed": false,
     "input": [
      "import timeit\n",
      "from scipy.integrate import odeint\n",
      "\n",
      "def dervPWL(y,t):\n",
      "    weight=normcalc(y)\n",
      "    #print weight\n",
      "        \n",
      "    temp=((numpy.dot(linPJac[0],y))*weight[0])+((numpy.dot(linPJac[1],y))*weight[1])+((numpy.dot(linPJac[2],y))*weight[2])+((numpy.dot(linPJac[3],y))*weight[3])\n",
      "    sigInTemp=numpy.zeros((4,2,1))\n",
      "    \n",
      "    for i in range(4):\n",
      "        sigInTemp[i]=Sym2NumArray(inputm+offset[i])\n",
      "        \n",
      "    sigIn=(numpy.dot(B[0],sigInTemp[0].reshape(2,1)))*weight[0]+(numpy.dot(B[1],sigInTemp[1].reshape(2,1)))*weight[1]+(numpy.dot(B[2],sigInTemp[2].reshape(2,1)))*weight[2]+(numpy.dot(B[3],sigInTemp[3].reshape(2,1)))*weight[3]\n",
      "    sigIn_R=sigIn.reshape(1,2)\n",
      "    \n",
      "    tempPWL=temp+sigIn_R[0]\n",
      "    return tempPWL\n",
      "y0=numpy.zeros(2)\n",
      "for i in range(len(stateorder)):\n",
      "    y0[i]=abs(float(initialcond[str(stateorder[i])]))\n",
      "print y0\n",
      "time  = numpy.linspace(0, 15e-6, 50)\n",
      "solnPWL = odeint(dervPWL, y0, time,full_output=1)\n"
     ],
     "language": "python",
     "metadata": {},
     "outputs": [
      {
       "output_type": "stream",
       "stream": "stdout",
       "text": [
        "[  4.38845200e+00   4.38845100e-12]\n"
       ]
      }
     ],
     "prompt_number": 711
    },
    {
     "cell_type": "code",
     "collapsed": false,
     "input": [
      "solnPWL[0][:,0]"
     ],
     "language": "python",
     "metadata": {},
     "outputs": [
      {
       "output_type": "pyout",
       "prompt_number": 712,
       "text": [
        "array([ 4.388452  ,  4.38799323,  4.38799323,  4.38799323,  4.38799323,\n",
        "        4.38799323,  4.38799323,  4.38799323,  4.38799323,  4.38799323,\n",
        "        4.38799323,  4.38799323,  4.38799323,  4.38799323,  4.38799323,\n",
        "        4.38799323,  4.38799323,  4.38799323,  4.38799323,  4.38799323,\n",
        "        4.38799323,  4.38799323,  4.38799323,  4.38799323,  4.38799323,\n",
        "        4.38799323,  4.38799323,  4.38799323,  4.38799323,  4.38799323,\n",
        "        4.38799323,  4.38799323,  4.38799323,  4.38799323,  4.38799323,\n",
        "        4.38799323,  4.38799323,  4.38799323,  4.38799323,  4.38799323,\n",
        "        4.38799323,  4.38799323,  4.38799323,  4.38799324,  4.38799324,\n",
        "        4.38799324,  4.38799324,  4.38799324,  4.38799324,  4.38799324])"
       ]
      }
     ],
     "prompt_number": 712
    },
    {
     "cell_type": "code",
     "collapsed": false,
     "input": [
      "solnPWL[0][:,1]\n"
     ],
     "language": "python",
     "metadata": {},
     "outputs": [
      {
       "output_type": "pyout",
       "prompt_number": 713,
       "text": [
        "array([  4.38845100e-12,  -2.29381412e-07,  -2.29381478e-07,\n",
        "        -2.29381547e-07,  -2.29381618e-07,  -2.29381688e-07,\n",
        "        -2.29381758e-07,  -2.29381829e-07,  -2.29381899e-07,\n",
        "        -2.29381969e-07,  -2.29382040e-07,  -2.29382110e-07,\n",
        "        -2.29382180e-07,  -2.29382260e-07,  -2.29382340e-07,\n",
        "        -2.29382421e-07,  -2.29382501e-07,  -2.29382581e-07,\n",
        "        -2.29382661e-07,  -2.29382741e-07,  -2.29382821e-07,\n",
        "        -2.29382901e-07,  -2.29382981e-07,  -2.29383061e-07,\n",
        "        -2.29383141e-07,  -2.29383222e-07,  -2.29383302e-07,\n",
        "        -2.29383382e-07,  -2.29383462e-07,  -2.29383542e-07,\n",
        "        -2.29383622e-07,  -2.29383702e-07,  -2.29383782e-07,\n",
        "        -2.29383862e-07,  -2.29383942e-07,  -2.29384023e-07,\n",
        "        -2.29384103e-07,  -2.29384183e-07,  -2.29384263e-07,\n",
        "        -2.29384343e-07,  -2.29384423e-07,  -2.29384503e-07,\n",
        "        -2.29384583e-07,  -2.29384663e-07,  -2.29384743e-07,\n",
        "        -2.29384823e-07,  -2.29384904e-07,  -2.29384984e-07,\n",
        "        -2.29385064e-07,  -2.29385144e-07])"
       ]
      }
     ],
     "prompt_number": 713
    },
    {
     "cell_type": "markdown",
     "metadata": {},
     "source": [
      "Order reduction Code\n",
      "---------------------------\n",
      "\n",
      "* Arnoldi reduction \n",
      "* Reduction at all the points \n",
      "* SVD of the basis"
     ]
    },
    {
     "cell_type": "markdown",
     "metadata": {},
     "source": [
      "Arnoldi Reduction for each point with generation of unit Basis\n",
      "------------------------------------------------------------------------------\n",
      "\n",
      "* Jac and B will be for a given linearization point \n",
      "\n",
      "No changes needed\n"
     ]
    },
    {
     "cell_type": "code",
     "collapsed": false,
     "input": [
      "def ArnoldiBasis_QR(Jac,B,ord,red_ord):\n",
      "    spanB=numpy.zeros((ord,red_ord))\n",
      "    A=numpy.linalg.pinv(Jac)\n",
      "    temp=numpy.dot(A,B)\n",
      "    spanB[:,0]=temp.reshape(1,ord)\n",
      "    for i in range(1,red_ord):\n",
      "        spanB[:,i]=numpy.dot(A,spanB[:,i-1])\n",
      "    unitB,R=numpy.linalg.qr(spanB)\n",
      "    return unitB\n",
      "    "
     ],
     "language": "python",
     "metadata": {},
     "outputs": [],
     "prompt_number": 262
    },
    {
     "cell_type": "markdown",
     "metadata": {},
     "source": [
      "Creating the aggregate basis\n",
      "------------------------------------\n",
      "ToDo\n",
      "\n",
      "* Need an array Jacobians\n",
      "* an array for B values \n",
      "\n",
      "\n"
     ]
    },
    {
     "cell_type": "code",
     "collapsed": false,
     "input": [
      "red_ord=3\n",
      "AggB=numpy.copy(linP)\n",
      "for i in range(4):\n",
      "    unitB=ArnoldiBasis_QR(linPJac[i],B[i],ord,red_ord)\n",
      "    #unitBoff=ArnoldiBasis_QR(linPJac[i],numpy.dot(B[i],offset[i]),ord,red_ord)\n",
      "    #AggB=numpy.concatenate((unitB,unitBoff,AggB),1)"
     ],
     "language": "python",
     "metadata": {},
     "outputs": [
      {
       "ename": "ValueError",
       "evalue": "total size of new array must be unchanged",
       "output_type": "pyerr",
       "traceback": [
        "\u001b[1;31m---------------------------------------------------------------------------\u001b[0m\n\u001b[1;31mValueError\u001b[0m                                Traceback (most recent call last)",
        "\u001b[1;32m<ipython-input-266-3cba47b58433>\u001b[0m in \u001b[0;36m<module>\u001b[1;34m()\u001b[0m\n\u001b[0;32m      2\u001b[0m \u001b[0mAggB\u001b[0m\u001b[1;33m=\u001b[0m\u001b[0mnumpy\u001b[0m\u001b[1;33m.\u001b[0m\u001b[0mcopy\u001b[0m\u001b[1;33m(\u001b[0m\u001b[0mlinP\u001b[0m\u001b[1;33m)\u001b[0m\u001b[1;33m\u001b[0m\u001b[0m\n\u001b[0;32m      3\u001b[0m \u001b[1;32mfor\u001b[0m \u001b[0mi\u001b[0m \u001b[1;32min\u001b[0m \u001b[0mrange\u001b[0m\u001b[1;33m(\u001b[0m\u001b[1;36m4\u001b[0m\u001b[1;33m)\u001b[0m\u001b[1;33m:\u001b[0m\u001b[1;33m\u001b[0m\u001b[0m\n\u001b[1;32m----> 4\u001b[1;33m     \u001b[0munitB\u001b[0m\u001b[1;33m=\u001b[0m\u001b[0mArnoldiBasis_QR\u001b[0m\u001b[1;33m(\u001b[0m\u001b[0mlinPJac\u001b[0m\u001b[1;33m[\u001b[0m\u001b[0mi\u001b[0m\u001b[1;33m]\u001b[0m\u001b[1;33m,\u001b[0m\u001b[0mB\u001b[0m\u001b[1;33m[\u001b[0m\u001b[0mi\u001b[0m\u001b[1;33m]\u001b[0m\u001b[1;33m,\u001b[0m\u001b[0mord\u001b[0m\u001b[1;33m,\u001b[0m\u001b[0mred_ord\u001b[0m\u001b[1;33m)\u001b[0m\u001b[1;33m\u001b[0m\u001b[0m\n\u001b[0m\u001b[0;32m      5\u001b[0m     \u001b[1;31m#unitBoff=ArnoldiBasis_QR(linPJac[i],numpy.dot(B[i],offset[i]),ord,red_ord)\u001b[0m\u001b[1;33m\u001b[0m\u001b[1;33m\u001b[0m\u001b[0m\n\u001b[0;32m      6\u001b[0m     \u001b[1;31m#AggB=numpy.concatenate((unitB,unitBoff,AggB),1)\u001b[0m\u001b[1;33m\u001b[0m\u001b[1;33m\u001b[0m\u001b[0m\n",
        "\u001b[1;32m<ipython-input-262-4bd0428e897d>\u001b[0m in \u001b[0;36mArnoldiBasis_QR\u001b[1;34m(Jac, B, ord, red_ord)\u001b[0m\n\u001b[0;32m      3\u001b[0m     \u001b[0mA\u001b[0m\u001b[1;33m=\u001b[0m\u001b[0mnumpy\u001b[0m\u001b[1;33m.\u001b[0m\u001b[0mlinalg\u001b[0m\u001b[1;33m.\u001b[0m\u001b[0mpinv\u001b[0m\u001b[1;33m(\u001b[0m\u001b[0mJac\u001b[0m\u001b[1;33m)\u001b[0m\u001b[1;33m\u001b[0m\u001b[0m\n\u001b[0;32m      4\u001b[0m     \u001b[0mtemp\u001b[0m\u001b[1;33m=\u001b[0m\u001b[0mnumpy\u001b[0m\u001b[1;33m.\u001b[0m\u001b[0mdot\u001b[0m\u001b[1;33m(\u001b[0m\u001b[0mA\u001b[0m\u001b[1;33m,\u001b[0m\u001b[0mB\u001b[0m\u001b[1;33m)\u001b[0m\u001b[1;33m\u001b[0m\u001b[0m\n\u001b[1;32m----> 5\u001b[1;33m     \u001b[0mspanB\u001b[0m\u001b[1;33m[\u001b[0m\u001b[1;33m:\u001b[0m\u001b[1;33m,\u001b[0m\u001b[1;36m0\u001b[0m\u001b[1;33m]\u001b[0m\u001b[1;33m=\u001b[0m\u001b[0mtemp\u001b[0m\u001b[1;33m.\u001b[0m\u001b[0mreshape\u001b[0m\u001b[1;33m(\u001b[0m\u001b[1;36m1\u001b[0m\u001b[1;33m,\u001b[0m\u001b[0mord\u001b[0m\u001b[1;33m)\u001b[0m\u001b[1;33m\u001b[0m\u001b[0m\n\u001b[0m\u001b[0;32m      6\u001b[0m     \u001b[1;32mfor\u001b[0m \u001b[0mi\u001b[0m \u001b[1;32min\u001b[0m \u001b[0mrange\u001b[0m\u001b[1;33m(\u001b[0m\u001b[1;36m1\u001b[0m\u001b[1;33m,\u001b[0m\u001b[0mred_ord\u001b[0m\u001b[1;33m)\u001b[0m\u001b[1;33m:\u001b[0m\u001b[1;33m\u001b[0m\u001b[0m\n\u001b[0;32m      7\u001b[0m         \u001b[0mspanB\u001b[0m\u001b[1;33m[\u001b[0m\u001b[1;33m:\u001b[0m\u001b[1;33m,\u001b[0m\u001b[0mi\u001b[0m\u001b[1;33m]\u001b[0m\u001b[1;33m=\u001b[0m\u001b[0mnumpy\u001b[0m\u001b[1;33m.\u001b[0m\u001b[0mdot\u001b[0m\u001b[1;33m(\u001b[0m\u001b[0mA\u001b[0m\u001b[1;33m,\u001b[0m\u001b[0mspanB\u001b[0m\u001b[1;33m[\u001b[0m\u001b[1;33m:\u001b[0m\u001b[1;33m,\u001b[0m\u001b[0mi\u001b[0m\u001b[1;33m-\u001b[0m\u001b[1;36m1\u001b[0m\u001b[1;33m]\u001b[0m\u001b[1;33m)\u001b[0m\u001b[1;33m\u001b[0m\u001b[0m\n",
        "\u001b[1;31mValueError\u001b[0m: total size of new array must be unchanged"
       ]
      }
     ],
     "prompt_number": 266
    },
    {
     "cell_type": "heading",
     "level": 4,
     "metadata": {},
     "source": [
      "Normalize all the basis with SVD"
     ]
    },
    {
     "cell_type": "code",
     "collapsed": false,
     "input": [
      "ord=13"
     ],
     "language": "python",
     "metadata": {},
     "outputs": [],
     "prompt_number": 9
    },
    {
     "cell_type": "code",
     "collapsed": false,
     "input": [
      "import sympy"
     ],
     "language": "python",
     "metadata": {},
     "outputs": [],
     "prompt_number": 10
    },
    {
     "cell_type": "code",
     "collapsed": false,
     "input": [
      "chec=inputm+offset[0]"
     ],
     "language": "python",
     "metadata": {},
     "outputs": [],
     "prompt_number": 118
    },
    {
     "cell_type": "code",
     "collapsed": false,
     "input": [
      "numpy.dot(linPJac[0],y0)"
     ],
     "language": "python",
     "metadata": {},
     "outputs": [
      {
       "output_type": "pyout",
       "prompt_number": 126,
       "text": [
        "array([ 0.,  0.,  0.,  0.,  0.,  0.,  0.,  0.,  0.,  0.,  0.,  0.,  0.])"
       ]
      }
     ],
     "prompt_number": 126
    },
    {
     "cell_type": "code",
     "collapsed": false,
     "input": [
      "numpy.dot(B[0],Sym2NumArray(tt))"
     ],
     "language": "python",
     "metadata": {},
     "outputs": [
      {
       "ename": "ValueError",
       "evalue": "matrices are not aligned",
       "output_type": "pyerr",
       "traceback": [
        "\u001b[1;31m---------------------------------------------------------------------------\u001b[0m\n\u001b[1;31mValueError\u001b[0m                                Traceback (most recent call last)",
        "\u001b[1;32m<ipython-input-146-67b8a5ad955e>\u001b[0m in \u001b[0;36m<module>\u001b[1;34m()\u001b[0m\n\u001b[1;32m----> 1\u001b[1;33m \u001b[0mnumpy\u001b[0m\u001b[1;33m.\u001b[0m\u001b[0mdot\u001b[0m\u001b[1;33m(\u001b[0m\u001b[0mB\u001b[0m\u001b[1;33m[\u001b[0m\u001b[1;36m0\u001b[0m\u001b[1;33m]\u001b[0m\u001b[1;33m,\u001b[0m\u001b[0mSym2NumArray\u001b[0m\u001b[1;33m(\u001b[0m\u001b[0mtt\u001b[0m\u001b[1;33m)\u001b[0m\u001b[1;33m)\u001b[0m\u001b[1;33m\u001b[0m\u001b[0m\n\u001b[0m",
        "\u001b[1;31mValueError\u001b[0m: matrices are not aligned"
       ]
      }
     ],
     "prompt_number": 146
    },
    {
     "cell_type": "code",
     "collapsed": false,
     "input": [
      "tt=inputm.reshape(1,4)"
     ],
     "language": "python",
     "metadata": {},
     "outputs": [],
     "prompt_number": 139
    },
    {
     "cell_type": "code",
     "collapsed": false,
     "input": [
      "tt=Sym2NumArray(tt)"
     ],
     "language": "python",
     "metadata": {},
     "outputs": [],
     "prompt_number": 155
    },
    {
     "cell_type": "code",
     "collapsed": false,
     "input": [
      "type(tt)"
     ],
     "language": "python",
     "metadata": {},
     "outputs": [
      {
       "output_type": "pyout",
       "prompt_number": 157,
       "text": [
        "numpy.ndarray"
       ]
      }
     ],
     "prompt_number": 157
    },
    {
     "cell_type": "code",
     "collapsed": false,
     "input": [
      "print normcalc(linP[3].reshape(1,13))\n",
      "normV=numpy.array([6.8,5.46,5.65,4.484])"
     ],
     "language": "python",
     "metadata": {},
     "outputs": [
      {
       "output_type": "stream",
       "stream": "stdout",
       "text": [
        "[ 6.84149192  5.46008985  5.65995822  4.48499533]\n",
        "[  9.48919198e-120   5.70508850e-044   7.00218600e-054   1.00000000e+000]\n"
       ]
      }
     ],
     "prompt_number": 55
    },
    {
     "cell_type": "code",
     "collapsed": false,
     "input": [
      "10**(-20*normV/normV.min())"
     ],
     "language": "python",
     "metadata": {},
     "outputs": [
      {
       "output_type": "pyout",
       "prompt_number": 57,
       "text": [
        "array([  4.67667894e-31,   4.43347209e-25,   6.29921384e-26,\n",
        "         1.00000000e-20])"
       ]
      }
     ],
     "prompt_number": 57
    },
    {
     "cell_type": "code",
     "collapsed": false,
     "input": [
      "Vth['m3']"
     ],
     "language": "python",
     "metadata": {},
     "outputs": [
      {
       "output_type": "pyout",
       "prompt_number": 18,
       "text": [
        "0.479"
       ]
      }
     ],
     "prompt_number": 18
    },
    {
     "cell_type": "code",
     "collapsed": false,
     "input": [
      "whos"
     ],
     "language": "python",
     "metadata": {},
     "outputs": [
      {
       "output_type": "stream",
       "stream": "stdout",
       "text": [
        "Variable       Type           Data/Info\n",
        "---------------------------------------\n",
        "B              ndarray        4x13x4: 208 elems, type `float64`, 1664 bytes\n",
        "C              ndarray        2x13: 26 elems, type `float64`, 208 bytes\n",
        "Cpara_vcmfb1   float          1e-15\n",
        "Cpara_vcmfb2   float          1e-15\n",
        "Cpara_vd1      float          1e-15\n",
        "Cpara_vd11     float          1e-15\n",
        "Cpara_vd12     float          1e-15\n",
        "Cpara_vd2      float          1e-15\n",
        "Cpara_vdc3     float          1e-15\n",
        "Cpara_vdc5     float          1e-15\n",
        "Cpara_vdo      float          1e-15\n",
        "Cpara_vom      float          1e-15\n",
        "Cpara_vop      float          1e-15\n",
        "D              list           n=1\n",
        "I              Add            2850000000000.0*0**2 - 57<...>81*vom - 605033433333.333\n",
        "IC10           Add            "
       ]
      },
      {
       "output_type": "stream",
       "stream": "stdout",
       "text": [
        "0.000949683438853715*0**2<...>op - 0.000606246780022155\n",
        "IC2            Add            "
       ]
      },
      {
       "output_type": "stream",
       "stream": "stdout",
       "text": [
        "-0.000854938932933362*0**<...>pos + 0.00047987382413161\n",
        "IC4            Add            -0.000427499997819189*0**<...>os - 0.000321244065227812\n",
        "IC9            Add            "
       ]
      },
      {
       "output_type": "stream",
       "stream": "stdout",
       "text": [
        "0.000949683438853716*0**2<...>op + 0.000608066373490999\n",
        "II             Add            2850000000000.0*0**2 - 57<...>61*vop + 610494033333.333\n",
        "III            Add            "
       ]
      },
      {
       "output_type": "stream",
       "stream": "stdout",
       "text": [
        "-1710000000000.0*0**2 + 2<...>ut1pos - 162660198333.333\n",
        "IV             Add            "
       ]
      },
      {
       "output_type": "stream",
       "stream": "stdout",
       "text": [
        "-1710000000000.0*0**2 + 2<...>ut1neg + 959816201666.666\n",
        "Im0            Add            -0.00986666666666667*n001<...>- 0.00936268506951986*vdd\n",
        "Im1            Add            0.00493333333333333*inpos<...>-5*out1neg + 0.0011224764\n",
        "Im10           Add            "
       ]
      },
      {
       "output_type": "stream",
       "stream": "stdout",
       "text": [
        "0.00246666666666667*cfmb2<...>om + 0.000558887466666667\n",
        "Im11           Add            0.00285*0**2 - 0.0057*0*c<...>83e-6*n005 + 0.0006676296\n",
        "Im12           Add            3.51079515421372e-6*n002 <...>945*n006 + 0.000324228825\n",
        "Im13           Add            2.891307225591e-6*cfmb2 +<...>3623*vbias + 0.0003255897\n",
        "Im14           Add            "
       ]
      },
      {
       "output_type": "stream",
       "stream": "stdout",
       "text": [
        "0.00123333333333333*n002*<...>dd + 0.000279443733333333\n",
        "Im15           Add            -5.67028341108011e-6*cfmb<...>dd + 0.000279443733333333\n",
        "Im2            Add            -0.00986666666666667*inne<...>00509100669286529*out1pos\n",
        "Im3            Add            "
       ]
      },
      {
       "output_type": "stream",
       "stream": "stdout",
       "text": [
        "0.001425*0**2 - 0.00285*0<...>*out1neg + 0.000326953425\n",
        "Im4            Add            0.001425*0**2 - 0.00285*0<...>*out1pos + 0.000326953425\n",
        "Im5            Add            0.000986666666666667*umir<...>dd + 0.000223554986666667\n",
        "Im6            Add            0.000493333333333333*n007<...>8*out1neg + 0.00011084016\n",
        "Im7            Add            "
       ]
      },
      {
       "output_type": "stream",
       "stream": "stdout",
       "text": [
        "0.00285*0**2 - 0.0057*0*o<...>73221e-6*vop + 0.00065664\n",
        "Im8            Add            -0.00493333333333333*cfmb<...>+ 0.00241415582526635*vop\n",
        "Im9            Add            0.00285*0**2 - 0.0057*0*o<...>- 0.00555884503010679*vom\n",
        "Imc1           int            0\n",
        "Imc2           Add            -6.4584154787382e-6*cmfb1<...>08 + 0.000223554986666667\n",
        "Imc3           Add            0.000285*0**2 - 0.00057*0<...>785589*n009 + 5.926176e-5\n",
        "Imc4           Add            "
       ]
      },
      {
       "output_type": "stream",
       "stream": "stdout",
       "text": [
        "0.000285*0**2 - 0.00057*0<...>025992*n009 + 5.926176e-5\n",
        "Imc5           Add            -1.29294685295813e-5*n007<...>47042*vdd + 0.00044899056\n",
        "Sym2NumArray   function       <function Sym2NumArray at 0xbfe9764>\n",
        "Vth            dict           n=21\n",
        "a              int            21\n",
        "cap            Matrix         [2.00014285714286e+15,   <...>15, 2.00014285714286e+15]\n",
        "cc             Add            0.001425*0**2 - 0.00285*0<...>*out1pos + 0.000326953425\n",
        "che            str            379622371.787077*0**2 - 4<...>87*vop - 1323970425.64061\n",
        "checkinn       NoneType       None\n",
        "checkinn2      NoneType       None\n",
        "checkinp       SRE_Match      <_sre.SRE_Match object at 0xc5d6960>\n",
        "checkinp2      SRE_Match      <_sre.SRE_Match object at 0xc5d68e0>\n",
        "csv            module         <module 'csv' from '/usr/lib/python2.7/csv.pyc'>\n",
        "cur            Matrix         "
       ]
      },
      {
       "output_type": "stream",
       "stream": "stdout",
       "text": [
        "[-1710000000000.0*0**2 + <...>t1neg + 959816201666.666]\n",
        "current        function       <function current at 0xc0d809c>\n",
        "currents       list           n=4\n",
        "data           dict           n=22\n",
        "datapoints     list           n=4\n",
        "dervPWL        function       <function dervPWL at 0xbfae6bc>\n",
        "eqs            Matrix         "
       ]
      },
      {
       "output_type": "stream",
       "stream": "stdout",
       "text": [
        "[                        <...>7*vop - 1323970425.64061]\n",
        "evjack         Matrix         [-8743311487106.55,      <...>2e-19, -1500178568877.73]\n",
        "i              int            12\n",
        "ig7dot         Add            379622371.787077*0**2 - 4<...>87*vop - 1323970425.64061\n",
        "ig9dot         Add            "
       ]
      },
      {
       "output_type": "stream",
       "stream": "stdout",
       "text": [
        "-47816563.3270957*0**2 - <...>95*vop + 600838176.872324\n",
        "import_text    function       <function import_text at 0xc16f09c>\n",
        "ind            str            vbias\n",
        "initialcond    dict           n=23\n",
        "inn            SRE_Pattern    <_sre.SRE_Pattern object at 0xbb5dee0>\n",
        "inn2           SRE_Pattern    <_sre.SRE_Pattern object at 0xbf683f8>\n",
        "inp            SRE_Pattern    <_sre.SRE_Pattern object at 0xbb75f48>\n",
        "inp2           SRE_Pattern    <_sre.SRE_Pattern object at 0xb9cbd30>\n",
        "inputm         Matrix         [ 1.3]\\n[1.69]\\n[ 0.5]\\n[0.25]\n",
        "inputorder     Matrix         [   inpositive]\\n[inposit<...>egative]\\n[innegative**2]\n",
        "jack           Matrix         "
       ]
      },
      {
       "output_type": "stream",
       "stream": "stdout",
       "text": [
        "[9866666666666.67*innegat<...>2e-19, -1500178568877.73]\n",
        "k              int            12\n",
        "linP           ndarray        4x13x1: 52 elems, type `float64`, 416 bytes\n",
        "linPJac        ndarray        4x13x13: 676 elems, type `float64`, 5408 bytes\n",
        "linPVal        ndarray        4x13x1: 52 elems, type `float64`, 416 bytes\n",
        "linpt          int            3\n",
        "low            str            w=8u\n",
        "nl             file           <open file './Data/diffam<...>', mode 'r' at 0xc3cbf98>\n",
        "normV          ndarray        4: 4 elems, type `float64`, 32 bytes\n",
        "normcalc       function       <function normcalc at 0xc429764>\n",
        "odeint         function       <function odeint at 0xba0c994>\n",
        "offset         ndarray        4x4x1: 16 elems, type `float64`, 128 bytes\n",
        "old_settings   dict           n=4\n",
        "parse_expr     function       <function parse_expr at 0xb8c2d4c>\n",
        "point          int            3\n",
        "proj           matrix         [[ -2.99978536e-14   0.00<...>+00\\n    0.00000000e+00]]\n",
        "r              str            s\n",
        "re             module         <module 're' from '/usr/lib/python2.7/re.pyc'>\n",
        "region         function       <function region at 0xbfe9684>\n",
        "regions        list           n=4\n",
        "sma            list           n=8\n",
        "solnPWL        tuple          n=2\n",
        "ss             str            m4\n",
        "state          dict           n=24\n",
        "stateorder     Matrix         [   n001]\\n[   n002]\\n[  <...>os]\\n[    ig9]\\n[    ig7]\n",
        "sub1           dict           n=24\n",
        "sympy          module         <module 'sympy' from '/us<...>ages/sympy/__init__.pyc'>\n",
        "temp           matrix         [[ -4.70640000e+12  -4.93<...>00e+00   0.00000000e+00]]\n",
        "time           ndarray        4: 4 elems, type `float64`, 32 bytes\n",
        "timeit         module         <module 'timeit' from '/u<...>ib/python2.7/timeit.pyc'>\n",
        "val            Matrix         [     14299807902143.6]\\n<...>\\n[     21567687874.4029]\n",
        "vcmfb1dot      Add            "
       ]
      },
      {
       "output_type": "stream",
       "stream": "stdout",
       "text": [
        "997438930752.551*0**2 - 2<...>ut1pos + 5663467762.86939\n",
        "vcmfb2dot      Add            -1899366877707.43*0**2 + <...>31*vop - 47965560135.5104\n",
        "vd0dot         Add            "
       ]
      },
      {
       "output_type": "stream",
       "stream": "stdout",
       "text": [
        "9866666666666.67*innegati<...>.86*vdd - 1122476400000.0\n",
        "vd11dot        Add            -2850000000000.0*0**2 + 5<...>*vbias - 17811075000.0001\n",
        "vd12dot        Add            "
       ]
      },
      {
       "output_type": "stream",
       "stream": "stdout",
       "text": [
        "1233333333333.33*n002**2 <...>42*vdd - 44785091666.6667\n",
        "vd1dot         Add            "
       ]
      },
      {
       "output_type": "stream",
       "stream": "stdout",
       "text": [
        "-2279938932933.36*0**2 + <...>ut1pos + 1275396799131.61\n",
        "vd2dot         Add            "
       ]
      },
      {
       "output_type": "stream",
       "stream": "stdout",
       "text": [
        "-1852499997819.19*0**2 + <...>ut1pos - 648197490227.812\n",
        "vdc3dot        Add            -285000000000.0*0**2 + 57<...>0*out1neg + 51578400000.0\n",
        "vdc5dot        Add            "
       ]
      },
      {
       "output_type": "stream",
       "stream": "stdout",
       "text": [
        "6458415478.7382*cmfb1 - 1<...>42*vdd + 114595413333.333\n",
        "vec            ndarray        13x13: 169 elems, type `complex128`, 2704 bytes\n",
        "vomdot         Add            -1900316561146.28*0**2 + <...>95*vop - 47359313355.4881\n",
        "vopdot         Add            "
       ]
      },
      {
       "output_type": "stream",
       "stream": "stdout",
       "text": [
        "-1900316561146.28*0**2 + <...>87*vop - 48573626509.0015\n",
        "w              ndarray        4: 4 elems, type `float64`, 32 bytes\n",
        "x              SRE_Pattern    <_sre.SRE_Pattern object at 0xb1b8260>\n",
        "y0             ndarray        13: 13 elems, type `float64`, 104 bytes\n"
       ]
      }
     ],
     "prompt_number": 351
    },
    {
     "cell_type": "code",
     "collapsed": false,
     "input": [],
     "language": "python",
     "metadata": {},
     "outputs": []
    }
   ],
   "metadata": {}
  }
 ]
}