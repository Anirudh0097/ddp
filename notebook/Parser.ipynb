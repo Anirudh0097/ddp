{
 "metadata": {
  "name": "Parser"
 },
 "nbformat": 3,
 "nbformat_minor": 0,
 "worksheets": [
  {
   "cells": [
    {
     "cell_type": "markdown",
     "metadata": {},
     "source": [
      "## Modularized code yet to be checked on common source"
     ]
    },
    {
     "cell_type": "code",
     "collapsed": false,
     "input": [
      "import sympy\n",
      "from getparameters import *\n",
      "from currenteqs import *\n",
      "from parsers import *\n",
      "from stateqs import *\n",
      "from numericals import *\n",
      "from scipy.integrate import odeint\n",
      "import matplotlib.pyplot as plt\n",
      "\n",
      "# This file is the topmost layer of the project. Only function level calls and data transfer is shown here. \n",
      "global linPJac, B, C, D, linPVal, inputm, count, linP\n",
      "#\n",
      "# These functions are used in the integration process\n",
      "# Derivative of the function at any point is given by\n",
      "# dx/dt = Summation( weight*(Jacobian * ( state ) + B * ( input ) + ( Val @ state - Jacobian * linPoint )))\n",
      "def dervPWL(y,t):\n",
      "\t#order = len(y)\n",
      "\tweights = normcalc( y )\n",
      "\t#count = len(weights)\n",
      "\ttemp = 0\n",
      "    \n",
      "\tfor i in range(count):\n",
      "\t\ttemp = temp +  weights[ i ] * ( linPVal[ i ] + (numpy.dot( linPJac[ i ], y )).reshape( order ,1 ) - (numpy.dot( linPJac[ i ], linP[ i ] )).reshape( order ,1 ) + (numpy.dot( B[ i ], inputm[ i ] )) )\n",
      "\treturn (temp.reshape(1, order))[0]\n",
      "\n",
      "# Calculates the weighing function depending on the proximity to linearizatoin points\n",
      "def normcalc( y ) :\n",
      "\tnorm = numpy.array([ 10**(-1*numpy.linalg.norm( linP[ i ] - y.reshape(order,1) )) for i in range(count) ])\n",
      "\treturn norm/norm.sum()\n",
      "\n",
      "\n",
      "initialcond = get_initialcond(file_voltage)\n",
      "\n",
      "state = get_states(file_voltage)\n",
      "\n",
      "stateorder = get_stateorder(state)\n",
      "\n",
      "steadystate = get_steadystate(file_voltage,initialcond,stateorder, sim_end,order)\n",
      "\n",
      "delta = get_linpdiff(initialcond,steadystate,stateorder,order)\n",
      "\n",
      "print \"Simulation begins at \", sim_begin\n",
      "\n",
      "count,time = get_linPoints(file_voltage,initialcond,delta/denominator,order,stateorder)\n",
      "\n",
      "datapoints = get_datapoints(file_voltage, count , time)\n",
      "\n",
      "currents = get_currents(file_current,count,time)\n",
      "\n",
      "regions = get_region_operation(datapoints,file_netlist,count)\n",
      "\n",
      "Vth = get_vth()\n",
      "\n",
      "regexp = get_regexp_eqs(input_list)\n",
      "\n",
      "inputorder = get_inputorder(state, input_list )\n",
      "\n",
      "linP = get_num_linP(count,order,datapoints,stateorder)\n",
      "\n",
      "linPJac, B, C, D, linPVal, inputm = init_statematrices(count,order,input_list,output_list,stateorder)\n",
      "\n",
      "linPJac, B, C, D, linPVal,inputm = get_statematrices( linPJac, B, C, D, linPVal, inputm, count, order, regions, state, regexp, datapoints, stateorder,inputorder, Vth)\n",
      "\n",
      "y0 , time = get_parameters_integration( initialcond, intg_end, stateorder )\n",
      "\n",
      "solnPWL = odeint(dervPWL, y0, time)\n",
      "\n",
      "#--------------------------------------------------------------------------------------------\n",
      "# Plotting the output obtained with integration\n",
      "C_ones = [i for i in range( len( stateorder ) ) if str( stateorder[ i ] ) in output_list ]\n",
      "for k in range(len(C_ones)):\n",
      "    plt.figure(k)\n",
      "    plt.plot(time, numpy.array([ float(solnPWL[i][C_ones[k]]) for i in range(len(time) )] ), '--')\n",
      "    plt.ylabel(r'$V_{'+str(stateorder[C_ones[k]])+'}$' )\n",
      "    plt.xlabel(r'$time$')\n",
      "    \n",
      "plt.show()"
     ],
     "language": "python",
     "metadata": {},
     "outputs": [
      {
       "output_type": "stream",
       "stream": "stdout",
       "text": [
        "Getting initial conditions...\n",
        "Getting states....\n",
        "Getting initial conditions...\n",
        "Getting steady state ....\n",
        "Simulation begins at "
       ]
      },
      {
       "output_type": "stream",
       "stream": "stdout",
       "text": [
        " 2e-06\n",
        "The Linearization points chosen if |xnew - xi|/|xi| > "
       ]
      },
      {
       "output_type": "stream",
       "stream": "stdout",
       "text": [
        " 0.13494797694\n",
        "+-------+------------------+------------------------+\n",
        "| Point | |xnew - xi|/|xi| |          Time          |\n",
        "+-------+------------------+------------------------+\n",
        "|   1   |  0.135030118015  | 2.019198861656683e-006 |\n",
        "|   2   |  0.139369458071  | 2.061272415894668e-006 |\n",
        "|   3   |  0.14310210357   | 2.115044999617510e-006 |\n",
        "|   4   |  0.147734626523  | 2.160724580511140e-006 |\n",
        "|   5   |  0.13515244886   | 2.194806972893450e-006 |\n",
        "|   6   |  0.141700237651  | 2.302471531871317e-006 |\n",
        "|   7   |  0.137376832308  | 2.494822278795385e-006 |\n",
        "+-------+------------------+------------------------+\n",
        "Parsing netlist...."
       ]
      },
      {
       "output_type": "stream",
       "stream": "stdout",
       "text": [
        "\n",
        "This circuit has 21 transistors\n",
        "Building matrices for point 1 ....\n",
        "Building matrices for point"
       ]
      },
      {
       "output_type": "stream",
       "stream": "stdout",
       "text": [
        " 2 ....\n",
        "Building matrices for point"
       ]
      },
      {
       "output_type": "stream",
       "stream": "stdout",
       "text": [
        " 3 ....\n",
        "Building matrices for point"
       ]
      },
      {
       "output_type": "stream",
       "stream": "stdout",
       "text": [
        " 4 ....\n",
        "Building matrices for point"
       ]
      },
      {
       "output_type": "stream",
       "stream": "stdout",
       "text": [
        " 5 ....\n",
        "Building matrices for point"
       ]
      },
      {
       "output_type": "stream",
       "stream": "stdout",
       "text": [
        " 6 ....\n",
        "Building matrices for point"
       ]
      },
      {
       "output_type": "stream",
       "stream": "stdout",
       "text": [
        " 7 ....\n",
        "PWL Integration initialized...."
       ]
      },
      {
       "output_type": "stream",
       "stream": "stdout",
       "text": [
        "\n",
        "Excess work done on this call (perhaps wrong Dfun type)."
       ]
      },
      {
       "output_type": "stream",
       "stream": "stdout",
       "text": [
        "\n",
        "Run with full_output = 1 to get quantitative information.\n",
        "[[  1.45730800e+000   1.14825300e+000   2.34944900e-001   1.04347900e+000\n",
        "    8.97946600e-001   8.97946600e-001   6.73448600e-001   1.19837500e+000\n",
        "    6.71797200e-001   6.29983800e-001   6.29983800e-001   0.00000000e+000\n",
        "    0.00000000e+000]\n",
        " [  2.85831838e+000  -7.13517877e+000  -1.06113007e+001  -1.09330099e+001\n",
        "    8.01055049e+000   1.11653068e+001  -3.17664534e+000   3.87662401e+000\n",
        "    1.31396700e+001   7.28699185e+000   3.32868801e+000   4.40656363e-003\n",
        "    3.60155354e-003]\n",
        " [  1.90016854e-052   1.76372712e-105   3.91522138e+180   5.53145464e-048\n",
        "    1.39804329e-076   9.82164909e+252   3.90757434e+233   4.18679316e-062\n",
        "    1.76372712e-105   3.91522138e+180   8.60246003e-067   1.76372712e-105\n",
        "    1.08618485e-153]\n",
        " [  5.88363259e-062   1.20563142e-153   1.39805120e-076   1.62866435e+185\n",
        "    1.77828126e-104   3.93603215e-062   3.25507318e-086   2.00397786e-105\n",
        "    1.96129263e-152   4.66726152e-062   4.66724291e-062   5.46806529e-066\n",
        "    8.44440983e-053]\n",
        " [  1.39804329e-076   5.46806529e-066   1.35478597e-153   4.66726152e-062\n",
        "    4.66724291e-062   5.46806529e-066   4.57551309e-072   1.39804331e-076\n",
        "    8.33127303e-071   1.85267671e-070   9.69277896e-072   1.39804329e-076\n",
        "    8.33127303e-071]\n",
        " [  1.78800531e-052   3.25508855e-086   1.89496249e-105   1.39597541e-152\n",
        "    1.08499036e-042   4.94166504e+169   3.00005647e-067   2.52619164e-052\n",
        "    2.42200439e-105   1.19567160e-071   3.25507318e-086   9.29797973e+199\n",
        "    1.98002184e-105]\n",
        " [  8.44032992e-053   1.39804329e-076   1.09910131e+248   4.85268221e-067\n",
        "    1.19354394e+190   1.57177871e-076   1.76372712e-105   9.76519558e+199\n",
        "    1.87358288e-105   3.93603218e-062   3.25507318e-086   9.29797973e+199\n",
        "    1.41895137e-076]\n",
        " [  3.91522138e+180   1.12948018e-042   4.46626315e-086   3.77706543e+233\n",
        "    1.87159883e-104   1.28789214e-057   1.39804859e-076   1.09910131e+248\n",
        "    4.67952694e+257   1.08617970e-153   1.39804329e-076   9.16275172e-072\n",
        "    1.19566987e-071]\n",
        " [  3.25507318e-086   1.42752111e-105   3.91522138e+180   1.14306006e-071\n",
        "    3.67060667e-062   1.41895112e-076   1.28851445e-057   1.39804859e-076\n",
        "    1.87358288e-105   1.39597541e-152   3.31185307e-033   4.73317484e+222\n",
        "    4.64919735e-062]\n",
        " [  3.25507318e-086   3.91522138e+180   3.90757394e+233   1.83221713e-076\n",
        "    1.76372712e-105   2.04022034e-104   7.71261653e-043   1.30355344e-076\n",
        "    1.19354394e+190   2.99860826e-067   1.51845633e-047   5.11841930e-312\n",
        "   -2.75353057e-042]]\n",
        "[9, 10]\n"
       ]
      },
      {
       "output_type": "display_data",
       "png": "[encoded data removed]"
      }
     ],
     "prompt_number": 1
    },
    {
     "cell_type": "heading",
     "level": 4,
     "metadata": {},
     "source": [
      "Checking for Mode of operation and substitution of current equations"
     ]
    },
    {
     "cell_type": "code",
     "collapsed": false,
     "input": [],
     "language": "python",
     "metadata": {},
     "outputs": [
      {
       "output_type": "display_data",
       "png": "[encoded data removed]"
      },
      {
       "output_type": "display_data",
       "png": "[encoded data removed]"
      }
     ],
     "prompt_number": 16
    },
    {
     "cell_type": "code",
     "collapsed": false,
     "input": [
      "ss=str('m5')\n",
      "print regions[3][ss]\n",
      "cc=current(regions[3][ss],state,Vth[ss])\n",
      "print cc\n",
      "sub1={state[i]:datapoints[3][i] for i in state}\n",
      "print cc.evalf(subs=sub1)\n",
      "print currents[3]['Id('+ss.upper()+')']\n",
      "print datapoints[3]['out1pos'],datapoints[3]['cmfb1'],datapoints[3]['time']\n",
      "print \"Threshold::\", Vth[ss]"
     ],
     "language": "python",
     "metadata": {},
     "outputs": [
      {
       "output_type": "stream",
       "stream": "stdout",
       "text": [
        "['s', 'umirror', 'umirror', 'vdd', 'CMOSP', 'w=6.4u', 'l=0.24u']\n",
        "-0.0001032*umirror**3 + 0.0003096*umirror**2*vdd + 0.00104821386666667*umirror**2 - 0.0003096*umirror*vdd**2 - 0.00209642773333333*umirror*vdd + 0.0010704390072*umirror + 0.0001032*vdd**3 + 0.00104821386666667*vdd**2 - 0.0010704390072*vdd + 0.00026089992\n",
        "9.64646012869729e-6\n",
        "-9.646537e-006\n",
        "1.327579e+000 5.669050e-001 2.160724580511140e-006\n",
        "Threshold:: 0.477\n"
       ]
      }
     ],
     "prompt_number": 5
    },
    {
     "cell_type": "heading",
     "level": 4,
     "metadata": {},
     "source": [
      "Generation of all non linear equations and evaluating them at linearization points"
     ]
    },
    {
     "cell_type": "code",
     "collapsed": false,
     "input": [
      "def normcalc( y ) :\n",
      "    norm = numpy.array([ 10**(-1*numpy.linalg.norm( linP[ i ] - y.reshape(order,1) )) for i in range(count) ])\n",
      "    return norm/norm.sum()"
     ],
     "language": "python",
     "metadata": {},
     "outputs": [],
     "prompt_number": 5
    },
    {
     "cell_type": "code",
     "collapsed": false,
     "input": [
      "def dervPWL(y,t):\n",
      "    order = len(y)\n",
      "    weights = normcalc( y )\n",
      "    count = len(weights)\n",
      "    temp = 0\n",
      "    \n",
      "    for i in range(count):#range( count ):\n",
      "        temp = temp +  weights[ i ] * ( linPVal[ i ] + (numpy.dot( linPJac[ i ], y )).reshape( order ,1 ) - (numpy.dot( linPJac[ i ], linP[ i ] )).reshape( order ,1 ) + (numpy.dot( B[ i ], inputm[ i ] )) )\n",
      "    return (temp.reshape(1, order))[0]\n"
     ],
     "language": "python",
     "metadata": {},
     "outputs": [],
     "prompt_number": 53
    },
    {
     "cell_type": "code",
     "collapsed": false,
     "input": [
      "y0 = numpy.array( [ (float( initialcond[ str( i ) ]) )for i in stateorder ])\n",
      "#y0 = numpy.array( [ (float( 0) )for i in stateorder ])\n",
      "dervPWL(y0,0)\n",
      "[ float( i ) - sim_begin for i in time ]"
     ],
     "language": "python",
     "metadata": {},
     "outputs": [
      {
       "output_type": "pyout",
       "prompt_number": 54,
       "text": [
        "[1.9198861656683214e-08,\n",
        " 6.127241589466811e-08,\n",
        " 1.1504499961750992e-07,\n",
        " 1.6072458051114014e-07,\n",
        " 1.9480697289345004e-07,\n",
        " 3.024715318713172e-07,\n",
        " 4.948222787953852e-07]"
       ]
      }
     ],
     "prompt_number": 54
    },
    {
     "cell_type": "code",
     "collapsed": false,
     "input": [
      "from scipy.integrate import odeint\n",
      "ti  = numpy.linspace(0, 2e-7, 10)\n",
      "solnPWL = odeint(dervPWL, y0, ti)\n"
     ],
     "language": "python",
     "metadata": {},
     "outputs": [
      {
       "output_type": "stream",
       "stream": "stdout",
       "text": [
        "Excess work done on this call (perhaps wrong Dfun type).\n",
        "Run with full_output = 1 to get quantitative information.\n"
       ]
      }
     ],
     "prompt_number": 56
    },
    {
     "cell_type": "code",
     "collapsed": false,
     "input": [
      "C_ones = [i for i in range( len( stateorder ) ) if str( stateorder[ i ] ) in output_list ]\n",
      "\n",
      "out1, = plt.plot(time[:4], numpy.array([ float(solnPWL[i][C_ones[0]]) for i in range(4 )] ), '--')\n",
      "out2, = plt.plot(time[:4], numpy.array([ float(solnPWL[i][C_ones[1]]) for i in range(4 )] ), '--')\n",
      "\n",
      "plt.grid()\n",
      "plt.show()"
     ],
     "language": "python",
     "metadata": {},
     "outputs": [
      {
       "output_type": "display_data",
       "png": "[encoded data removed]"
      }
     ],
     "prompt_number": 74
    },
    {
     "cell_type": "code",
     "collapsed": false,
     "input": [
      "print [ float(solnPWL[i][C_ones[0]]) for i in range(4 )]\n",
      "print [ float(solnPWL[i][C_ones[1]]) for i in range(4 )]"
     ],
     "language": "python",
     "metadata": {},
     "outputs": [
      {
       "output_type": "stream",
       "stream": "stdout",
       "text": [
        "[0.6299838, 7.286991850524811, 1.5012141345887344e-263, 0.0]\n",
        "[0.6299838, 3.328688013266967, 0.0, 0.0]\n"
       ]
      }
     ],
     "prompt_number": 71
    },
    {
     "cell_type": "code",
     "collapsed": false,
     "input": [
      "\n",
      "plt.figure(1)\n",
      "plt.plot([1,3,4])\n",
      "plt.show()"
     ],
     "language": "python",
     "metadata": {},
     "outputs": [
      {
       "output_type": "display_data",
       "png": "[encoded data removed]"
      }
     ],
     "prompt_number": 77
    },
    {
     "cell_type": "code",
     "collapsed": false,
     "input": [
      "stateorder"
     ],
     "language": "python",
     "metadata": {},
     "outputs": [
      {
       "output_type": "pyout",
       "prompt_number": 4,
       "text": [
        "[   n001]\n",
        "[   n002]\n",
        "[   n005]\n",
        "[  cfmb2]\n",
        "[    vom]\n",
        "[    vop]\n",
        "[   n009]\n",
        "[   n007]\n",
        "[  cmfb1]\n",
        "[out1neg]\n",
        "[out1pos]\n",
        "[    ig9]\n",
        "[    ig7]"
       ]
      }
     ],
     "prompt_number": 4
    },
    {
     "cell_type": "code",
     "collapsed": false,
     "input": [],
     "language": "python",
     "metadata": {},
     "outputs": []
    },
    {
     "cell_type": "code",
     "collapsed": false,
     "input": [
      "def normcalc(y):\n",
      "    #print y\n",
      "    normV=numpy.zeros(count)\n",
      "    weight=numpy.zeros(count)\n",
      "    for i in range(count):\n",
      "        \n",
      "        normV[i]=numpy.linalg.norm(y.reshape(13,1)-linP[i])\n",
      "       \n",
      "    if(normV.min()!=0):\n",
      "        weight=10**(-10*(normV)*normV)\n",
      "    else:\n",
      "        for i in range(count):\n",
      "            if(normV[i]==0):\n",
      "                weight[i]=1\n",
      "            else:\n",
      "                weight[i]=0\n",
      "    \n",
      "       \n",
      "    \n",
      "    weights=weight/weight.sum()\n",
      "    #print \"weight:\",weight\n",
      "    #print (list(weights)).index(weights.max())\n",
      "    #print \"Normalized weights:\",weights,\"\\n\"\n",
      "    #assert numpy.isnan(temp[1]), 'We have a problem'\n",
      "    return weights"
     ],
     "language": "python",
     "metadata": {},
     "outputs": [],
     "prompt_number": 29
    },
    {
     "cell_type": "code",
     "collapsed": false,
     "input": [
      "global ycheck\n",
      "ycheck=[]"
     ],
     "language": "python",
     "metadata": {},
     "outputs": [],
     "prompt_number": 28
    },
    {
     "cell_type": "code",
     "collapsed": false,
     "input": [
      "import timeit\n",
      "from scipy.integrate import odeint\n",
      "global w1,w2,w3,w4\n",
      "w1=[]\n",
      "w2=[]\n",
      "w3=[]\n",
      "w4=[]\n",
      "w5=[]\n",
      "def dervPWL(y,t):\n",
      "    #print y\n",
      "    weight=normcalc(y)\n",
      "    w1.append(weight[0])\n",
      "    w2.append(weight[1])\n",
      "    w3.append(weight[2])\n",
      "    w4.append(weight[3])\n",
      "    w5.append(weight[4])\n",
      "    #weight=numpy.array((1,0,0,0,0,0,0,0))\n",
      "    temp=numpy.zeros((13,1))\n",
      "    sigInTemp=numpy.zeros((count,6,1))\n",
      "    sigIn=numpy.zeros((13,1))\n",
      "    \n",
      "    for i in range(count):\n",
      "       # temp=(numpy.dot(linPJac[i],y)*weight[i]).reshape(13,1)+(offset[i]*weight[i])+temp\n",
      "        temp=(numpy.dot(linPJac[i],y)*weight[i]).reshape(13,1)+temp\n",
      "    for i in range(count):\n",
      "        sigInTemp[i]=Sym2NumArray(inputm+offset[i])\n",
      "        \n",
      "    for i in range(count):\n",
      "        sigIn=(numpy.dot(B[i],sigInTemp[i].reshape(6,1)))*weight[i]+sigIn\n",
      "        \n",
      "    \n",
      "    tempPWL=temp+sigIn\n",
      "    return (tempPWL.reshape(1,13))[0]\n",
      "\n",
      "#y0=numpy.array([float(initialcond[str(i)]) for i in stateorder])\n",
      "y0=numpy.array([float(datapoints[0][str(i)]) for i in stateorder])\n",
      "\n",
      "ti  = numpy.linspace(0, 2e-6, 10)\n",
      "solnPWL = odeint(dervPWL, y0, ti,full_output=1)\n"
     ],
     "language": "python",
     "metadata": {},
     "outputs": [],
     "prompt_number": 30
    },
    {
     "cell_type": "code",
     "collapsed": false,
     "input": [
      "we1,= plt.plot(w1)\n",
      "we2,= plt.plot(w2)\n",
      "we3,= plt.plot(w3)\n",
      "we4,= plt.plot(w4)\n",
      "we5,= plt.plot(w5)\n",
      "\n",
      "\n",
      "plt.figlegend([we1,we2,we3],('weight1','weight2','weight3'),'lower right')\n",
      "plt.xlabel('Time')\n",
      "plt.ylabel('Weights')\n",
      "plt.title('PWL models usage')\n",
      "plt.show()\n"
     ],
     "language": "python",
     "metadata": {},
     "outputs": [
      {
       "output_type": "display_data",
       "png": "[encoded data removed]"
      }
     ],
     "prompt_number": 31
    },
    {
     "cell_type": "code",
     "collapsed": false,
     "input": [
      "plt.plot([solnPWL[0][i][10] for i in range(4)])\n",
      "plt.plot([solnPWL[0][i][9] for i in range(4)])\n",
      "plt.show()\n",
      "print solnPWL"
     ],
     "language": "python",
     "metadata": {},
     "outputs": [
      {
       "output_type": "display_data",
       "png": "[encoded data removed]"
      },
      {
       "output_type": "stream",
       "stream": "stdout",
       "text": [
        "(array([[  1.09897900e+000,   1.17965100e+000,   2.63023300e-001,\n",
        "          1.01852000e+000,   8.20536000e-001,   9.63714800e-001,\n",
        "          7.08322200e-001,   1.17837600e+000,   6.38987200e-001,\n",
        "          5.48565500e-001,   7.70499000e-001,   6.37157900e-008,\n",
        "         -3.92700400e-009],\n",
        "       [  7.86461358e-001,  -1.38083854e+000,  -1.87207093e+000,\n",
        "         -1.51354691e+000,   2.10095271e+000,   3.53713320e+000,\n",
        "         -9.97884394e-001,   6.71882775e-001,   2.20812716e+000,\n",
        "          1.94153704e+000,   9.06233901e-001,   1.14338176e-003,\n",
        "          1.17893442e-003],\n",
        "       [  4.24400727e-314,   0.00000000e+000,   4.24400423e-314,\n",
        "          0.00000000e+000,   3.16202013e-320,   0.00000000e+000,\n",
        "          2.12201236e-314,   0.00000000e+000,   1.26480805e-321,\n",
        "          0.00000000e+000,   8.48799784e-314,   2.97079411e-313,\n",
        "          4.24400499e-314],\n",
        "       [  0.00000000e+000,   4.24400727e-314,   0.00000000e+000,\n",
        "          6.36600002e-314,   0.00000000e+000,   3.16202013e-320,\n",
        "          0.00000000e+000,   2.12201236e-314,   0.00000000e+000,\n",
        "          1.26480805e-321,   0.00000000e+000,   1.06099936e-313,\n",
        "          3.18299369e-313],\n",
        "       [  4.24400499e-314,   0.00000000e+000,   4.24400727e-314,\n",
        "          0.00000000e+000,   8.48799581e-314,   0.00000000e+000,\n",
        "          3.16202013e-320,   0.00000000e+000,   2.12201236e-314,\n",
        "          0.00000000e+000,   1.26480805e-321,   0.00000000e+000,\n",
        "          1.27319894e-313],\n",
        "       [  3.39519327e-313,   4.24400499e-314,   0.00000000e+000,\n",
        "          4.24400727e-314,   0.00000000e+000,   1.06099916e-313,\n",
        "          0.00000000e+000,   3.16202013e-320,   0.00000000e+000,\n",
        "          2.12201236e-314,   0.00000000e+000,   1.26480805e-321,\n",
        "          0.00000000e+000],\n",
        "       [  1.48539852e-313,   3.81959242e-313,   1.69759797e-313,\n",
        "          0.00000000e+000,   1.27319874e-313,   0.00000000e+000,\n",
        "          4.24400423e-314,   0.00000000e+000,   4.24400448e-314,\n",
        "          0.00000000e+000,   2.12201236e-314,   0.00000000e+000,\n",
        "          6.36600318e-314],\n",
        "       [  0.00000000e+000,   1.48539852e-313,   4.03179200e-313,\n",
        "          1.69759797e-313,   0.00000000e+000,   1.90979768e-313,\n",
        "          0.00000000e+000,   1.48539832e-313,   0.00000000e+000,\n",
        "          4.24400423e-314,   0.00000000e+000,   6.36600028e-314,\n",
        "          0.00000000e+000],\n",
        "       [  2.12201236e-314,   0.00000000e+000,   8.48799898e-314,\n",
        "          0.00000000e+000,   1.48539852e-313,   4.24399158e-313,\n",
        "          1.69759797e-313,   0.00000000e+000,   1.27319874e-313,\n",
        "          0.00000000e+000,   4.24400423e-314,   0.00000000e+000,\n",
        "          4.24400448e-314],\n",
        "       [  0.00000000e+000,   2.12201236e-314,   0.00000000e+000,\n",
        "          1.06099948e-313,   0.00000000e+000,   1.51806610e-319,\n",
        "          4.67885931e-313,   2.12199726e-313,   0.00000000e+000,\n",
        "          1.90979768e-313,   0.00000000e+000,   5.38903063e-313,\n",
        "         -2.13698022e-042]]), {'nfe': array([     1150, 179351376, 223253920, 212956540, 204920748, 205923844,\n",
        "       184975752,         0,        40]), 'nje': array([        0, 215690968, 223255776, 212956540, 204920748, 223347004,\n",
        "       184975752,         0,        40]), 'tolsf': array([  1.51832943e-314,   0.00000000e+000,   0.00000000e+000,\n",
        "         0.00000000e+000,   1.00000000e+000,   0.00000000e+000,\n",
        "         0.00000000e+000,   0.00000000e+000,   1.00000000e+000]), 'nqu': array([        2, 208071992, 223253920, 212956540, 204920748, 205923844,\n",
        "       184975752,         0,        40]), 'lenrw': 308, 'tcur': array([  2.49730456e-11,   0.00000000e+00,   0.00000000e+00,\n",
        "         0.00000000e+00,  -1.00000000e+00,   0.00000000e+00,\n",
        "         0.00000000e+00,   0.00000000e+00,   1.00000000e+00]), 'hu': array([  3.47725295e-17,   0.00000000e+00,   0.00000000e+00,\n",
        "         0.00000000e+00,   1.00000000e+00,   0.00000000e+00,\n",
        "         0.00000000e+00,   0.00000000e+00,   1.00000000e+00]), 'imxer': -1, 'leniw': 33, 'tsw': array([ 0.,  0.,  0.,  0., -1.,  0.,  0.,  0.,  1.]), 'message': 'Excess work done on this call (perhaps wrong Dfun type).', 'nst': array([      500, 223520240, 223253920, 212956540, 204920748, 205923844,\n",
        "       184975752,         0,        40]), 'mused': array([        1, 205218832, 223255776, 212956540, 204920748, 223347004,\n",
        "       184975752,         0,        40])})\n"
       ]
      }
     ],
     "prompt_number": 1031
    },
    {
     "cell_type": "code",
     "collapsed": false,
     "input": [
      "print stateorder\n",
      "print count"
     ],
     "language": "python",
     "metadata": {},
     "outputs": [
      {
       "output_type": "stream",
       "stream": "stdout",
       "text": [
        "[   n001]\n",
        "[   n002]\n",
        "[   n005]\n",
        "[  cfmb2]\n",
        "[    vom]\n",
        "[    vop]\n",
        "[   n009]\n",
        "[   n007]\n",
        "[  cmfb1]\n",
        "[out1neg]\n",
        "[out1pos]\n",
        "[    ig9]\n",
        "[    ig7]\n",
        "7\n"
       ]
      }
     ],
     "prompt_number": 953
    },
    {
     "cell_type": "code",
     "collapsed": false,
     "input": [
      "print \"step sizes\",solnPWL[1]['hu']\n",
      "print \"value of T reached\",solnPWL[1]['tcur']\n",
      "print \"Tolerance \",solnPWL[1]['tolsf']\n",
      "print \"Method was swtiched\",solnPWL[1]['tsw']\n",
      "print \"cummulative number os time steps\",solnPWL[1]['nst']\n",
      "print \"Function evaluations for each step\",solnPWL[1]['nfe']\n",
      "print \"cummulative number of Jacobian evaluations\", solnPWL[1]['nje']\n",
      "print \"method indicators used\",solnPWL[1]['mused']"
     ],
     "language": "python",
     "metadata": {},
     "outputs": [
      {
       "output_type": "stream",
       "stream": "stdout",
       "text": [
        "step sizes [  1.11331172e-08   2.60805603e-08   3.99361049e-08   3.99361049e-08\n",
        "   6.11661102e-08   6.11661102e-08   9.36974836e-08   9.36974836e-08\n",
        "   9.36974836e-08]\n",
        "value of T reached [  2.24519904e-07   4.46375699e-07   6.82731270e-07   9.22347899e-07\n",
        "   1.16701234e-06   1.35051067e-06   1.59907175e-06   1.78646672e-06\n",
        "   2.06755917e-06]\n",
        "Tolerance  [ 0.  0.  0.  0.  0.  0.  0.  0.  0.]\n",
        "Method was swtiched [ 0.  0.  0.  0.  0.  0.  0.  0.  0.]\n",
        "cummulative number os time steps [352 365 373 379 383 386 389 391 394]\n",
        "Function evaluations for each step [706 732 748 760 768 774 780 784 790]\n",
        "cummulative number of Jacobian evaluations [0 0 0 0 0 0 0 0 0]\n",
        "method indicators used [1 1 1 1 1 1 1 1 1]\n"
       ]
      }
     ],
     "prompt_number": 326
    },
    {
     "cell_type": "markdown",
     "metadata": {},
     "source": [
      "Order reduction Code\n",
      "---------------------------\n",
      "\n",
      "* Arnoldi reduction \n",
      "* Reduction at all the points \n",
      "* SVD of the basis"
     ]
    },
    {
     "cell_type": "markdown",
     "metadata": {},
     "source": [
      "Arnoldi Reduction for each point with generation of unit Basis\n",
      "------------------------------------------------------------------------------\n",
      "\n",
      "* Jac and B will be for a given linearization point \n",
      "\n",
      "No changes needed\n"
     ]
    },
    {
     "cell_type": "code",
     "collapsed": false,
     "input": [
      "def ArnoldiBasis_QR(Jac,B,ord,red_ord):\n",
      "    spanB=numpy.zeros((ord,red_ord))\n",
      "    A=numpy.linalg.pinv(Jac)\n",
      "    temp=numpy.dot(A,B)\n",
      "    spanB[:,0]=temp.reshape(1,ord)\n",
      "    for i in range(1,red_ord):\n",
      "        spanB[:,i]=numpy.dot(A,spanB[:,i-1])\n",
      "    unitB,R=numpy.linalg.qr(spanB)\n",
      "    return unitB\n",
      "    "
     ],
     "language": "python",
     "metadata": {},
     "outputs": [],
     "prompt_number": 262
    },
    {
     "cell_type": "code",
     "collapsed": false,
     "input": [
      "initialcond_regions = { }"
     ],
     "language": "python",
     "metadata": {},
     "outputs": [],
     "prompt_number": 32
    },
    {
     "cell_type": "code",
     "collapsed": false,
     "input": [
      "import re\n",
      "nl=open('./Data/diffamp.net')\n",
      "x=re.compile('M(?#comment)')\n",
      "for point in range(1):\n",
      "    a=0\n",
      "    #print \"The state of the system at\",datapoints[point]['time']\n",
      "    while True:\n",
      "        i=nl.readline()    \n",
      "        if re.match(x,i):\n",
      "            a=a+1\n",
      "            inf=i.split()\n",
      "            sma=[low.lower() for low in i.split()]\n",
      "            r=region(sma[5].upper(),float(initialcond[sma[1]]),float(initialcond[sma[2]]),float(initialcond[sma[3]]))\n",
      "            #print sma[0],\"is in \",r\n",
      "            initialcond_regions[sma[0]]=[r,sma[1],sma[2],sma[3],sma[5].upper(),sma[7],sma[6]]\n",
      "        if not i:           \n",
      "            nl.seek(0)\n",
      "            break\n",
      "print \"There are\",a,\"transistors\""
     ],
     "language": "python",
     "metadata": {},
     "outputs": [
      {
       "output_type": "stream",
       "stream": "stdout",
       "text": [
        "There are 21 transistors\n"
       ]
      }
     ],
     "prompt_number": 33
    },
    {
     "cell_type": "code",
     "collapsed": false,
     "input": [],
     "language": "python",
     "metadata": {},
     "outputs": [
      {
       "output_type": "pyout",
       "prompt_number": 71,
       "text": [
        "21"
       ]
      }
     ],
     "prompt_number": 71
    },
    {
     "cell_type": "code",
     "collapsed": false,
     "input": [],
     "language": "python",
     "metadata": {},
     "outputs": [],
     "prompt_number": 34
    },
    {
     "cell_type": "code",
     "collapsed": false,
     "input": [
      "subs1 = { state[ i ] : float(initialcond[ i ]) for i in state}"
     ],
     "language": "python",
     "metadata": {},
     "outputs": [],
     "prompt_number": 43
    },
    {
     "cell_type": "code",
     "collapsed": false,
     "input": [
      "initialcond_currents = {}\n",
      "for data in import_text('./Data/currents.txt','\\t'):\n",
      "    for i in range(1):\n",
      "        if(float(initialcond['time'])==float( data[ 'time' ])) :\n",
      "            initialcond_currents=data"
     ],
     "language": "python",
     "metadata": {},
     "outputs": [],
     "prompt_number": 35
    },
    {
     "cell_type": "code",
     "collapsed": false,
     "input": [
      "initialcond_currents"
     ],
     "language": "python",
     "metadata": {},
     "outputs": [
      {
       "output_type": "pyout",
       "prompt_number": 36,
       "text": [
        "{'Id(M0)': '-9.807012e-005',\n",
        " 'Id(M1)': '-4.903506e-005',\n",
        " 'Id(M10)': '-2.421617e-004',\n",
        " 'Id(M11)': '9.308590e-005',\n",
        " 'Id(M12)': '4.633658e-005',\n",
        " 'Id(M13)': '4.674931e-005',\n",
        " 'Id(M14)': '-4.633658e-005',\n",
        " 'Id(M15)': '-4.674931e-005',\n",
        " 'Id(M2)': '-4.903506e-005',\n",
        " 'Id(M3)': '4.903506e-005',\n",
        " 'Id(M4)': '4.903506e-005',\n",
        " 'Id(M5)': '-1.000000e-005',\n",
        " 'Id(M6)': '-5.014888e-006',\n",
        " 'Id(M7)': '6.257234e-005',\n",
        " 'Id(M8)': '-2.421617e-004',\n",
        " 'Id(M9)': '6.257234e-005',\n",
        " 'Id(Mc1)': '-5.014888e-006',\n",
        " 'Id(Mc2)': '-1.002766e-005',\n",
        " 'Id(Mc3)': '1.002978e-005',\n",
        " 'Id(Mc4)': '1.002766e-005',\n",
        " 'Id(Mc5)': '-2.005743e-005',\n",
        " 'time': '0.000000000000000e+000'}"
       ]
      }
     ],
     "prompt_number": 36
    },
    {
     "cell_type": "code",
     "collapsed": false,
     "input": [
      "a=[]\n",
      "a.append(re.compile(r\"abcd\"))"
     ],
     "language": "python",
     "metadata": {},
     "outputs": [],
     "prompt_number": 9
    },
    {
     "cell_type": "code",
     "collapsed": false,
     "input": [],
     "language": "python",
     "metadata": {},
     "outputs": [
      {
       "output_type": "pyout",
       "prompt_number": 11,
       "text": [
        "re.compile(r'abcd')"
       ]
      }
     ],
     "prompt_number": 11
    },
    {
     "cell_type": "code",
     "collapsed": false,
     "input": [
      "import prettytable"
     ],
     "language": "python",
     "metadata": {},
     "outputs": [],
     "prompt_number": 49
    },
    {
     "cell_type": "code",
     "collapsed": false,
     "input": [
      "transistors = [((((i.split('('))[1]).split(')'))[0]).lower() for i in initialcond_currents.keys() if i != 'time']"
     ],
     "language": "python",
     "metadata": {},
     "outputs": [],
     "prompt_number": 40
    },
    {
     "cell_type": "code",
     "collapsed": false,
     "input": [
      "calculated_currents = {}\n",
      "for i in transistors:\n",
      "    temp = current(initialcond_regions[ i ],state,Vth[ i ])\n",
      "    if len(i.split('c')) == 1:\n",
      "        i = \"Id(\"+i.upper()+\")\"\n",
      "    else:\n",
      "        i = \"Id(Mc\"+(i.split('c'))[1]+\")\"\n",
      "    print i\n",
      "    calculated_currents[ i ] = temp.evalf( subs = subs1 )"
     ],
     "language": "python",
     "metadata": {},
     "outputs": [
      {
       "output_type": "stream",
       "stream": "stdout",
       "text": [
        "Id(M3)\n",
        "Id(M5)\n",
        "Id(M7)"
       ]
      },
      {
       "output_type": "stream",
       "stream": "stdout",
       "text": [
        "\n",
        "Id(M1)\n",
        "Id(M11)"
       ]
      },
      {
       "output_type": "stream",
       "stream": "stdout",
       "text": [
        "\n",
        "Id(Mc1)\n",
        "Id(M8)"
       ]
      },
      {
       "output_type": "stream",
       "stream": "stdout",
       "text": [
        "\n",
        "Id(Mc3)\n",
        "Id(M15)"
       ]
      },
      {
       "output_type": "stream",
       "stream": "stdout",
       "text": [
        "\n",
        "Id(M13)"
       ]
      },
      {
       "output_type": "stream",
       "stream": "stdout",
       "text": [
        "\n",
        "Id(M2)\n",
        "Id(M4)"
       ]
      },
      {
       "output_type": "stream",
       "stream": "stdout",
       "text": [
        "\n",
        "Id(M6)\n",
        "Id(Mc5)"
       ]
      },
      {
       "output_type": "stream",
       "stream": "stdout",
       "text": [
        "\n",
        "Id(M0)\n",
        "Id(M10)"
       ]
      },
      {
       "output_type": "stream",
       "stream": "stdout",
       "text": [
        "\n",
        "Id(M9)\n",
        "Id(Mc2)"
       ]
      },
      {
       "output_type": "stream",
       "stream": "stdout",
       "text": [
        "\n",
        "Id(M14)\n",
        "Id(Mc4)"
       ]
      },
      {
       "output_type": "stream",
       "stream": "stdout",
       "text": [
        "\n",
        "Id(M12)\n"
       ]
      }
     ],
     "prompt_number": 44
    },
    {
     "cell_type": "code",
     "collapsed": false,
     "input": [
      "xx = prettytable.PrettyTable( [\"Current\",\"Calculated\",\"SPICE\",\"Error\"] )\n",
      "for i in calculated_currents.keys():    \n",
      "    xx.add_row( [i , calculated_currents[ i ] , abs( float(initialcond_currents[ i ] ) ), abs(float( calculated_currents[ i ] - abs( float(initialcond_currents[ i ] ) ) ) )] )\n",
      "print xx"
     ],
     "language": "python",
     "metadata": {},
     "outputs": [
      {
       "output_type": "stream",
       "stream": "stdout",
       "text": [
        "+---------+----------------------+--------------+-------------------+\n",
        "| Current |      Calculated      |    SPICE     |       Error       |\n",
        "+---------+----------------------+--------------+-------------------+\n",
        "|  Id(M3) | 4.90350762381596e-5  | 4.903506e-05 | 1.62381596139e-11 |\n",
        "| Id(M10) | 0.000242162010225664 | 0.0002421617 | 3.10225664466e-10 |\n",
        "| Id(M11) | 9.30859355803490e-5  | 9.30859e-05  | 3.55803490376e-11 |\n",
        "|  Id(M2) | 4.90355263042793e-5  | 4.903506e-05 | 4.66304279301e-10 |\n",
        "| Id(Mc1) | 5.01491497101298e-6  | 5.014888e-06 | 2.69710129762e-11 |\n",
        "|  Id(M8) | 0.000242162010225664 | 0.0002421617 | 3.10225664466e-10 |\n",
        "|  Id(M5) | 9.99990667040241e-6  |    1e-05     | 9.33295975852e-11 |\n",
        "| Id(M12) | 4.63365661692262e-5  | 4.633658e-05 | 1.38307737862e-11 |\n",
        "|  Id(M4) | 4.90350762381596e-5  | 4.903506e-05 | 1.62381596139e-11 |\n",
        "| Id(Mc3) | 1.00297720975970e-5  | 1.002978e-05 | 7.90240303106e-12 |\n",
        "| Id(M14) | 4.63363719129613e-5  | 4.633658e-05 | 2.08087038669e-10 |\n",
        "|  Id(M7) | 6.25722829206070e-5  | 6.257234e-05 | 5.70793930242e-11 |\n",
        "|  Id(M9) | 6.25722829206070e-5  | 6.257234e-05 | 5.70793930242e-11 |\n",
        "| Id(M15) | 4.67490987336844e-5  | 4.674931e-05 | 2.11266315619e-10 |\n",
        "|  Id(M6) | 5.01491497101298e-6  | 5.014888e-06 | 2.69710129762e-11 |\n",
        "| Id(Mc5) | 2.00572465473220e-5  | 2.005743e-05 | 1.83452677996e-10 |\n",
        "| Id(Mc2) | 1.00276974233212e-5  | 1.002766e-05 | 3.74233212405e-11 |\n",
        "|  Id(M1) | 4.90355263042793e-5  | 4.903506e-05 | 4.66304279301e-10 |\n",
        "| Id(Mc4) | 1.00276530446598e-5  | 1.002766e-05 | 6.95534017344e-12 |\n",
        "| Id(M13) | 4.67492888577218e-5  | 4.674931e-05 | 2.11422781951e-11 |\n",
        "|  Id(M0) | 9.80692089041946e-5  | 9.807012e-05 | 9.11095805354e-10 |\n",
        "+---------+----------------------+--------------+-------------------+\n"
       ]
      }
     ],
     "prompt_number": 157
    },
    {
     "cell_type": "code",
     "collapsed": false,
     "input": [
      "calculated_currents['Id(M2)']-calculated_currents['Id(M4)']"
     ],
     "language": "python",
     "metadata": {},
     "outputs": [
      {
       "output_type": "pyout",
       "prompt_number": 72,
       "text": [
        "4.50066119685923e-10"
       ]
      }
     ],
     "prompt_number": 72
    },
    {
     "cell_type": "code",
     "collapsed": false,
     "input": [
      "def errorcalc(one,two):\n",
      "    return [one + \" \"+\" <-> \" +\" \"+ two, calculated_currents['Id('+one+')']-calculated_currents['Id('+two+')'],abs(float(initialcond_currents['Id('+one+')']))-abs(float(initialcond_currents['Id('+two+')'])) ]"
     ],
     "language": "python",
     "metadata": {},
     "outputs": [],
     "prompt_number": 155
    },
    {
     "cell_type": "code",
     "collapsed": false,
     "input": [
      "yy = prettytable.PrettyTable( [\"Series-Transistors\",\"Calculated Error\",\"LTSPICE Error\"] )\n",
      "\n",
      "yy.add_row(['M0 <-> M1 + M2', -1.84370436396059e-9, 0.0])\n",
      "yy.add_row( errorcalc('M2','M4') )\n",
      "yy.add_row( errorcalc('M1','M3') )\n",
      "\n",
      "yy.add_row( ['M10 <-> M9 + R', 4.07305057492950e-10, 0] )\n",
      "yy.add_row( ['M8 <-> M7 + R', 4.07305057492950e-10, 0] )\n",
      "\n",
      "yy.add_row( errorcalc('Mc2','Mc4') )\n",
      "yy.add_row(['Mc3 <-> M6 + Mc1', -5.78444289824065e-11, 4.000000000957448e-12] )\n",
      "yy.add_row(['Mc5 <-> Mc2 + (Mc1+M6)', -2.22973596204385e-10, -9.999999999005488e-12])\n",
      "\n",
      "yy.add_row( errorcalc('M12','M14') )\n",
      "yy.add_row( errorcalc('M15','M13') )\n",
      "yy.add_row( ['M11 <-> M12 + M13 ', 8.05534010233870e-11, 1.0000000007475817e-11] )\n",
      "print yy"
     ],
     "language": "python",
     "metadata": {},
     "outputs": [
      {
       "output_type": "stream",
       "stream": "stdout",
       "text": [
        "+------------------------+-----------------------+--------------------+\n",
        "|   Series-Transistors   |    Calculated Error   |   LTSPICE Error    |\n",
        "+------------------------+-----------------------+--------------------+\n",
        "|     M0 <-> M1 + M2     |   -1.84370436396e-09  |        0.0         |\n",
        "|      M2  <->  M4       |  4.50066119685923e-10 |        0.0         |\n",
        "|      M1  <->  M3       |  4.50066119685923e-10 |        0.0         |\n",
        "|     M10 <-> M9 + R     |   4.07305057493e-10   |         0          |\n",
        "|     M8 <-> M7 + R      |   4.07305057493e-10   |         0          |\n",
        "|     Mc2  <->  Mc4      |  4.43786614136625e-11 |        0.0         |\n",
        "|    Mc3 <-> M6 + Mc1    |   -5.78444289824e-11  | 4.00000000096e-12  |\n",
        "| Mc5 <-> Mc2 + (Mc1+M6) |   -2.22973596204e-10  | -9.99999999901e-12 |\n",
        "|     M12  <->  M14      |  1.94256264879416e-10 |        0.0         |\n",
        "|     M15  <->  M13      | -1.90124037427187e-10 |        0.0         |\n",
        "|   M11 <-> M12 + M13    |   8.05534010234e-11   | 1.00000000075e-11  |\n",
        "+------------------------+-----------------------+--------------------+\n"
       ]
      }
     ],
     "prompt_number": 156
    }
   ],
   "metadata": {}
  }
 ]
}