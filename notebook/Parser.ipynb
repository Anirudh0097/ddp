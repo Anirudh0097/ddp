{
 "metadata": {
  "name": "Parser"
 },
 "nbformat": 3,
 "nbformat_minor": 0,
 "worksheets": [
  {
   "cells": [
    {
     "cell_type": "markdown",
     "metadata": {},
     "source": [
      "## Modularized code yet to be checked on common source"
     ]
    },
    {
     "cell_type": "code",
     "collapsed": false,
     "input": [
      "import sympy\n",
      "import os\n",
      "from getparameters import *\n",
      "from currenteqs import *\n",
      "from parsers import *\n",
      "from config import *\n",
      "from numericals import *\n",
      "from scipy.integrate import odeint\n",
      "import matplotlib.pyplot as plt\n",
      "\n",
      "# This file is the topmost layer of the project. Only function level calls and data transfer is shown here. \n",
      "global linPJac, B, C, D, linPVal, inputm, count, linP\n",
      "#\n",
      "# These functions are used in the integration process\n",
      "# Derivative of the function at any point is given by\n",
      "# dx/dt = Summation( weight*(Jacobian * ( state ) + B * ( input ) + ( Val @ state - Jacobian * linPoint )))\n",
      "def dervPWL(y,t):\n",
      "\t#order = len(y)\n",
      "\tweights = normcalc( y )\n",
      "\t#count = len(weights)\n",
      "\ttemp = 0\n",
      "    \n",
      "\tfor i in range(count):\n",
      "\t\ttemp = temp +  weights[ i ] * ( linPVal[ i ] + (numpy.dot( linPJac[ i ], y )).reshape( order ,1 ) - (numpy.dot( linPJac[ i ], linP[ i ] )).reshape( order ,1 ) + (numpy.dot( B[ i ], inputm[ i ] )) )\n",
      "\treturn (temp.reshape(1, order))[0]\n",
      "\n",
      "def initialize():\n",
      "    if os.path.isfile('./config.py'):\n",
      "        print \"Config file in \", os.path.curdir()\n",
      "        print \"-----------------------------------------------\"\n",
      "    else:\n",
      "        print \"Config file in PYTHONPATH\"\n",
      "        print \"-----------------------------------------------\"\n",
      "    \n",
      "\n",
      "# Calculates the weighing function depending on the proximity to linearizatoin points\n",
      "def normcalc( y ) :\n",
      "\tnorm = numpy.array([ 10**(-1*numpy.linalg.norm( linP[ i ] - y.reshape(order,1) )) for i in range(count) ])\n",
      "\treturn norm/norm.sum()\n",
      "\n",
      "initialize()\n",
      "\n",
      "initialcond = get_initialcond(file_voltage)\n",
      "\n",
      "state = get_states(file_voltage)\n",
      "\n",
      "stateorder = get_stateorder(state)\n",
      "\n",
      "steadystate = get_steadystate(file_voltage,initialcond,stateorder, sim_end,order)\n",
      "\n",
      "delta = get_linpdiff(initialcond,steadystate,stateorder,order)\n",
      "\n",
      "print \"Simulation begins at \", sim_begin\n",
      "\n",
      "count,time = get_linPoints(file_voltage,initialcond,delta/denominator,order,stateorder)\n",
      "\n",
      "datapoints = get_datapoints(file_voltage, count , time)\n",
      "\n",
      "currents = get_currents(file_current,count,time)\n",
      "\n",
      "regions = get_region_operation(datapoints,file_netlist,count)\n",
      "\n",
      "Vth = get_vth()\n",
      "\n",
      "regexp = get_regexp_eqs(input_list)\n",
      "\n",
      "inputorder = get_inputorder(state, input_list )\n",
      "\n",
      "linP = get_num_linP(count,order,datapoints,stateorder)\n",
      "\n",
      "linPJac, B, C, D, linPVal, inputm = init_statematrices(count,order,input_list,output_list,stateorder)\n",
      "\n",
      "linPJac, B, C, D, linPVal,inputm = get_statematrices( linPJac, B, C, D, linPVal, inputm, count, order, regions, state, regexp, datapoints, stateorder,inputorder, Vth)\n",
      "\n",
      "y0 , time = get_parameters_integration( initialcond, intg_end, stateorder )\n",
      "\n",
      "solnPWL = odeint(dervPWL, y0, time)\n",
      "\n",
      "#--------------------------------------------------------------------------------------------\n",
      "# Plotting the output obtained with integration\n",
      "C_ones = [i for i in range( len( stateorder ) ) if str( stateorder[ i ] ) in output_list ]\n",
      "for k in range(len(C_ones)):\n",
      "    plt.figure(k)\n",
      "    plt.plot(time, numpy.array([ float(solnPWL[i][C_ones[k]]) for i in range(len(time) )] ), '--')\n",
      "    plt.ylabel(r'$V_{'+str(stateorder[C_ones[k]])+'}$' )\n",
      "    plt.xlabel(r'$time$')\n",
      "    \n",
      "plt.show()"
     ],
     "language": "python",
     "metadata": {},
     "outputs": [
      {
       "output_type": "stream",
       "stream": "stdout",
       "text": [
        "Working with Common source\n",
        "The config file located at /home/bhargava/ddp/notebook\n",
        "Getting initial conditions..."
       ]
      },
      {
       "output_type": "stream",
       "stream": "stdout",
       "text": [
        "\n",
        "Getting states....\n",
        "Getting initial conditions...\n",
        "Getting steady state ....\n",
        "Simulation begins at  5e-07\n",
        "The Linearization points chosen if |xnew - xi|/|xi| > "
       ]
      },
      {
       "output_type": "stream",
       "stream": "stdout",
       "text": [
        " 0.193958606884\n",
        "+-------+------------------+------------------------+\n",
        "| Point | |xnew - xi|/|xi| |          Time          |\n",
        "+-------+------------------+------------------------+\n",
        "|   1   |  0.237148890008  | 5.000796890581215e-007 |\n",
        "|   2   |  0.705278953578  | 5.010000000000000e-007 |\n",
        "+-------+------------------+------------------------+\n",
        "Parsing netlist....\n",
        "This circuit has 1 transistors\n",
        "Building matrices for point 1 ....\n",
        "Building matrices for point"
       ]
      },
      {
       "output_type": "stream",
       "stream": "stdout",
       "text": [
        " 2 ....\n",
        "PWL Integration initialized...."
       ]
      },
      {
       "output_type": "stream",
       "stream": "stdout",
       "text": [
        "\n"
       ]
      },
      {
       "output_type": "display_data",
       "png": "[encoded data removed]"
      }
     ],
     "prompt_number": 1
    },
    {
     "cell_type": "code",
     "collapsed": false,
     "input": [
      "import os\n",
      "os.path.isfile('./config.py')"
     ],
     "language": "python",
     "metadata": {},
     "outputs": [
      {
       "output_type": "pyout",
       "prompt_number": 3,
       "text": [
        "True"
       ]
      }
     ],
     "prompt_number": 3
    },
    {
     "cell_type": "heading",
     "level": 4,
     "metadata": {},
     "source": [
      "Checking for Mode of operation and substitution of current equations"
     ]
    },
    {
     "cell_type": "code",
     "collapsed": false,
     "input": [
      "ss=str('m5')\n",
      "print regions[3][ss]\n",
      "cc=current(regions[3][ss],state,Vth[ss])\n",
      "print cc\n",
      "sub1={state[i]:datapoints[3][i] for i in state}\n",
      "print cc.evalf(subs=sub1)\n",
      "print currents[3]['Id('+ss.upper()+')']\n",
      "print datapoints[3]['out1pos'],datapoints[3]['cmfb1'],datapoints[3]['time']\n",
      "print \"Threshold::\", Vth[ss]"
     ],
     "language": "python",
     "metadata": {},
     "outputs": [
      {
       "output_type": "stream",
       "stream": "stdout",
       "text": [
        "['s', 'umirror', 'umirror', 'vdd', 'CMOSP', 'w=6.4u', 'l=0.24u']\n",
        "-0.0001032*umirror**3 + 0.0003096*umirror**2*vdd + 0.00104821386666667*umirror**2 - 0.0003096*umirror*vdd**2 - 0.00209642773333333*umirror*vdd + 0.0010704390072*umirror + 0.0001032*vdd**3 + 0.00104821386666667*vdd**2 - 0.0010704390072*vdd + 0.00026089992\n",
        "9.64646012869729e-6\n",
        "-9.646537e-006\n",
        "1.327579e+000 5.669050e-001 2.160724580511140e-006\n",
        "Threshold:: 0.477\n"
       ]
      }
     ],
     "prompt_number": 5
    },
    {
     "cell_type": "heading",
     "level": 4,
     "metadata": {},
     "source": [
      "Generation of all non linear equations and evaluating them at linearization points"
     ]
    },
    {
     "cell_type": "code",
     "collapsed": false,
     "input": [
      "print \"step sizes\",solnPWL[1]['hu']\n",
      "print \"value of T reached\",solnPWL[1]['tcur']\n",
      "print \"Tolerance \",solnPWL[1]['tolsf']\n",
      "print \"Method was swtiched\",solnPWL[1]['tsw']\n",
      "print \"cummulative number os time steps\",solnPWL[1]['nst']\n",
      "print \"Function evaluations for each step\",solnPWL[1]['nfe']\n",
      "print \"cummulative number of Jacobian evaluations\", solnPWL[1]['nje']\n",
      "print \"method indicators used\",solnPWL[1]['mused']"
     ],
     "language": "python",
     "metadata": {},
     "outputs": [
      {
       "output_type": "stream",
       "stream": "stdout",
       "text": [
        "step sizes [  1.11331172e-08   2.60805603e-08   3.99361049e-08   3.99361049e-08\n",
        "   6.11661102e-08   6.11661102e-08   9.36974836e-08   9.36974836e-08\n",
        "   9.36974836e-08]\n",
        "value of T reached [  2.24519904e-07   4.46375699e-07   6.82731270e-07   9.22347899e-07\n",
        "   1.16701234e-06   1.35051067e-06   1.59907175e-06   1.78646672e-06\n",
        "   2.06755917e-06]\n",
        "Tolerance  [ 0.  0.  0.  0.  0.  0.  0.  0.  0.]\n",
        "Method was swtiched [ 0.  0.  0.  0.  0.  0.  0.  0.  0.]\n",
        "cummulative number os time steps [352 365 373 379 383 386 389 391 394]\n",
        "Function evaluations for each step [706 732 748 760 768 774 780 784 790]\n",
        "cummulative number of Jacobian evaluations [0 0 0 0 0 0 0 0 0]\n",
        "method indicators used [1 1 1 1 1 1 1 1 1]\n"
       ]
      }
     ],
     "prompt_number": 326
    },
    {
     "cell_type": "markdown",
     "metadata": {},
     "source": [
      "Order reduction Code\n",
      "---------------------------\n",
      "\n",
      "* Arnoldi reduction \n",
      "* Reduction at all the points \n",
      "* SVD of the basis"
     ]
    },
    {
     "cell_type": "markdown",
     "metadata": {},
     "source": [
      "Arnoldi Reduction for each point with generation of unit Basis\n",
      "------------------------------------------------------------------------------\n",
      "\n",
      "* Jac and B will be for a given linearization point \n",
      "\n",
      "No changes needed\n"
     ]
    }
   ],
   "metadata": {}
  }
 ]
}