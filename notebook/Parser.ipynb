{
 "metadata": {
  "name": "Parser"
 },
 "nbformat": 3,
 "nbformat_minor": 0,
 "worksheets": [
  {
   "cells": [
    {
     "cell_type": "code",
     "collapsed": false,
     "input": [
      "import csv\n",
      "def import_text(filename, separator):\n",
      "    reader= csv.DictReader(open(filename), delimiter=separator, skipinitialspace=True)\n",
      "    for line in reader:\n",
      "        if line:\n",
      "            yield line\n",
      "\n",
      "datapoints=[{} for i in range(4)]\n",
      "regions=[{} for i in range(4)]\n",
      "for data in import_text('./Data/voltage_diffamp.txt', '\\t'):\n",
      "    if (2.04e-6<=float(data['time'])<=2.055e-6):\n",
      "        datapoints[0]=data.copy()\n",
      "    if (2.15e-6<=float(data['time'])<=2.16e-6):\n",
      "        datapoints[1]=data.copy()\n",
      "    if (2.21e-6<=float(data['time'])<=2.22e-6):\n",
      "        datapoints[2]=data.copy()\n",
      "    if (2.40e-6<=float(data['time'])<=2.41e-6):\n",
      "        datapoints[3]=data.copy()\n",
      "  \n",
      "for i in range(4):\n",
      "    datapoints[i]['0']=0\n"
     ],
     "language": "python",
     "metadata": {},
     "outputs": [],
     "prompt_number": 810
    },
    {
     "cell_type": "code",
     "collapsed": false,
     "input": [
      "def region(MOS,drain,gate,source):\n",
      "    th=0.4\n",
      "    if MOS=='CMOSP':\n",
      "        if(source<(gate+th)):\n",
      "            return 'c'\n",
      "        elif((source>=(gate+th)) & (drain>=(gate+th))):\n",
      "            return 'l'\n",
      "        elif((source>=(gate+th)) & (drain<(gate+th))):\n",
      "            return 's'\n",
      "    \n",
      "    if MOS=='CMOSN':\n",
      "        if(gate<(source+th)):\n",
      "            return 'c'\n",
      "        elif((gate>=(source+th)) & (drain<=(gate-th))):\n",
      "            return 'l'\n",
      "        elif((gate>=(source+th)) & (drain>(gate-th))):\n",
      "            return 's'\n",
      "               "
     ],
     "language": "python",
     "metadata": {},
     "outputs": [],
     "prompt_number": 811
    },
    {
     "cell_type": "code",
     "collapsed": false,
     "input": [
      "import re\n",
      "nl=open('./Data/diffamp.net')\n",
      "x=re.compile('M(?#comment)')\n",
      "for point in range(4):\n",
      "    a=0\n",
      "    #print \"The state of the system at\",datapoints[point]['time']\n",
      "    while True:\n",
      "        i=nl.readline()    \n",
      "        if re.match(x,i):\n",
      "            a=a+1\n",
      "            inf=i.split()\n",
      "            sma=[low.lower() for low in i.split()]\n",
      "            r=region(sma[5].upper(),float(datapoints[point][sma[1]]),float(datapoints[point][sma[2]]),float(datapoints[point][sma[3]]))\n",
      "            #print sma[0],\"is in \",r\n",
      "            regions[point][sma[0]]=[r,sma[1],sma[2],sma[3],sma[5].upper(),sma[7],sma[6]]\n",
      "        if not i:           \n",
      "            nl.seek(0)\n",
      "            break\n",
      "print \"There are\",a,\"transistors\"\n"
     ],
     "language": "python",
     "metadata": {},
     "outputs": [
      {
       "output_type": "stream",
       "stream": "stdout",
       "text": [
        "There are 21 transistors\n"
       ]
      }
     ],
     "prompt_number": 812
    },
    {
     "cell_type": "code",
     "collapsed": false,
     "input": [
      "import sympy\n",
      "state={}\n",
      "for ind in datapoints[0].keys():\n",
      "        state[ind]=sympy.Symbol(ind)\n"
     ],
     "language": "python",
     "metadata": {},
     "outputs": [],
     "prompt_number": 813
    },
    {
     "cell_type": "code",
     "collapsed": false,
     "input": [
      "def current(information,state):\n",
      "    drain=state[information[1]]\n",
      "    gate=state[information[2]]\n",
      "    source=state[information[3]]\n",
      "    p=re.compile('(l|w|=|u)')\n",
      "    w=float(p.sub('',information[5]))\n",
      "    l=float(p.sub('',information[6]))\n",
      "    \n",
      "    if(information[4]=='CMOSP'):\n",
      "        if(information[0]=='c'):\n",
      "            return 0\n",
      "        elif(information[0]=='s'):\n",
      "            return ((gate-source-0.4)**2)*(37e-6)*(w/l)\n",
      "        elif(information[0]=='l'):\n",
      "            return (source-drain)*(source-gate-0.4-0.5*(source)-0.5*(drain))*(37*2e-6)*(w/l)\n",
      "        \n",
      "    if(information[4]=='CMOSN'):\n",
      "        if(information[0]=='c'):\n",
      "            return 0\n",
      "        elif(information[0]=='s'):\n",
      "            return ((gate-source-0.4)**2)*(171e-6)*(w/l)\n",
      "        elif(information[0]=='l'):\n",
      "            return (drain-source)*(gate-source-0.4-0.5*(drain)-0.5*(source))*(171*2e-6)*(w/l)"
     ],
     "language": "python",
     "metadata": {},
     "outputs": [],
     "prompt_number": 814
    },
    {
     "cell_type": "code",
     "collapsed": false,
     "input": [
      "Cpara_vdo=1e-15\n",
      "Cpara_vd12=1e-15\n",
      "Cpara_vd11=1e-15\n",
      "Cpara_vcmfb2=1e-15\n",
      "Cpara_vom=1e-15\n",
      "Cpara_vop=1e-15\n",
      "Cpara_vdc3=1e-15\n",
      "Cpara_vdc5=1e-15\n",
      "Cpara_vcmfb1=1e-15\n",
      "Cpara_vd1=1e-15\n",
      "Cpara_vd2=1e-15\n",
      "stateorder=sympy.Matrix([(state['n001']),(state['n002']),(state['n005']),(state['cfmb2']),(state['vom']),(state['vop']),(state['n009']),(state['n007']),(state['cmfb1']),(state['out1neg']),(state['out1pos']),(state['ig9']),(state['ig7'])])\n",
      "linPJac=numpy.zeros((4,13,13))\n",
      "linPVal=numpy.zeros((4,13,1))\n",
      "for linpt in range(4):\n",
      " \n",
      "    I=((current(regions[linpt]['m15'],state)-current(regions[linpt]['m13'],state))/Cpara_vcmfb2)-((current(regions[linpt]['m10'],state)-current(regions[linpt]['m9'],state))/Cpara_vom)\n",
      "    II=((current(regions[linpt]['m15'],state)-current(regions[linpt]['m13'],state))/Cpara_vcmfb2)-((current(regions[linpt]['m8'],state)-current(regions[linpt]['m7'],state))/Cpara_vop)\n",
      "    cur=sympy.Matrix(((I),(II)))\n",
      "    cap=sympy.Matrix((((1/1e-12+1/Cpara_vcmfb2+1/Cpara_vom),(1/Cpara_vcmfb2)),(1/Cpara_vcmfb2,1/1e-12+1/Cpara_vcmfb2+1/Cpara_vop)))\n",
      "    [IC10,IC9]=cap.inv()*cur\n",
      "    \n",
      "    III=((current(regions[linpt]['mc2'],state)-current(regions[linpt]['mc4'],state))/Cpara_vcmfb1)-((state['ig9']+current(regions[linpt]['m4'],state)-current(regions[linpt]['m2'],state))/Cpara_vd2)\n",
      "    IV=((current(regions[linpt]['mc2'],state)-current(regions[linpt]['mc4'],state))/Cpara_vcmfb1)-((state['ig7']+current(regions[linpt]['m3'],state)-current(regions[linpt]['m1'],state))/Cpara_vd1)\n",
      "    cap=sympy.Matrix(((1/7e-12+1/Cpara_vd2+1/Cpara_vcmfb1,1/Cpara_vcmfb1),(Cpara_vcmfb1,1/7e-12+1/Cpara_vd1+1/Cpara_vcmfb1)))\n",
      "    cur=sympy.Matrix(((III),(IV)))\n",
      "    [IC4,IC2]=cap.inv()*cur\n",
      "    \n",
      "    vd0dot=(current(regions[linpt]['m1'],state)+current(regions[linpt]['m2'],state)-current(regions[linpt]['m0'],state))/Cpara_vdo\n",
      "    vd12dot=(-current(regions[linpt]['m12'],state)+current(regions[linpt]['m14'],state))/Cpara_vd12\n",
      "    vd11dot=(current(regions[linpt]['m12'],state)+current(regions[linpt]['m13'],state)-current(regions[linpt]['m11'],state))/Cpara_vd11\n",
      "    vcmfb2dot=(current(regions[linpt]['m15'],state)-current(regions[linpt]['m13'],state)-IC10-IC9)/Cpara_vcmfb2\n",
      "    vomdot=(current(regions[linpt]['m10'],state)+IC10-current(regions[linpt]['m9'],state))/Cpara_vom\n",
      "    vopdot=(current(regions[linpt]['m8'],state)+IC9-current(regions[linpt]['m7'],state))/Cpara_vop\n",
      "    vdc3dot=(current(regions[linpt]['mc1'],state)+current(regions[linpt]['m6'],state)-current(regions[linpt]['mc3'],state))/Cpara_vdc3\n",
      "    vdc5dot=(current(regions[linpt]['mc1'],state)+current(regions[linpt]['m6'],state)+current(regions[linpt]['mc2'],state)-current(regions[linpt]['mc5'],state))/Cpara_vdc5\n",
      "    vcmfb1dot=(current(regions[linpt]['mc2'],state)-current(regions[linpt]['mc4'],state)-IC2-IC4)/Cpara_vcmfb1\n",
      "    vd1dot=(state['ig7']+current(regions[linpt]['m3'],state)-current(regions[linpt]['m1'],state)-IC2)/Cpara_vd1\n",
      "    vd2dot=(state['ig9']+current(regions[linpt]['m4'],state)-current(regions[linpt]['m2'],state)-IC4)/Cpara_vd2\n",
      "    ig9dot=0.001*(((state['ig9']+current(regions[linpt]['m4'],state)-current(regions[linpt]['m2'],state)-IC4))/Cpara_vd2)-(state['ig9']/7e-12)+((current(regions[linpt]['m9'],state)-IC10-current(regions[linpt]['m10'],state))/Cpara_vom)\n",
      "    ig7dot=0.001*(((state['ig7']+current(regions[linpt]['m3'],state)-current(regions[linpt]['m1'],state)-IC2)/Cpara_vd1)-(state['ig7']/7e-12)-(current(regions[linpt]['m8'],state)+IC9-current(regions[linpt]['m7'],state)/Cpara_vop))\n",
      "    \n",
      "    eqs=sympy.Matrix( [(vd0dot),(vd12dot),(vd11dot),(vcmfb2dot),(vomdot),(vopdot),(vdc3dot),(vdc5dot),(vcmfb1dot),(vd1dot),(vd2dot),(ig9dot),(ig7dot)] )\n",
      "    sub1={state[i]:datapoints[linpt][i] for i in state}\n",
      "    sub1['inpositive']=0\n",
      "    sub1['innegative']=0\n",
      "    val=eqs.evalf(subs=sub1)\n",
      "    linPVal[linpt]=Sym2NumArray(val)\n",
      "    jack=eqs.jacobian(stateorder)\n",
      "    evjack=jack.evalf(subs=sub1)    \n",
      "    linPJac[linpt]=Sym2NumArray(evjack)\n"
     ],
     "language": "python",
     "metadata": {},
     "outputs": [],
     "prompt_number": 880
    },
    {
     "cell_type": "code",
     "collapsed": false,
     "input": [
      "def Sym2NumArray(F):\n",
      "#Function to convert symbolic expression with numerical data to numpy array \n",
      "    shapeF=F.shape\n",
      "    B=numpy.zeros(shapeF)\n",
      "    for i in range(0,shapeF[0]):\n",
      "        for j in range(0,shapeF[1]):\n",
      "            B[i,j]=sympy.N(F[i,j])\n",
      "    return B"
     ],
     "language": "python",
     "metadata": {},
     "outputs": [],
     "prompt_number": 816
    },
    {
     "cell_type": "code",
     "collapsed": false,
     "input": [
      "state"
     ],
     "language": "python",
     "metadata": {},
     "outputs": [
      {
       "output_type": "pyout",
       "prompt_number": 915,
       "text": [
        "{'0': 0,\n",
        " '10umirror': 10umirror,\n",
        " 'cfmb2': cfmb2,\n",
        " 'cmfb1': cmfb1,\n",
        " 'ig7': ig7,\n",
        " 'ig9': ig9,\n",
        " 'innegative': innegative,\n",
        " 'inpositive': inpositive,\n",
        " 'n001': n001,\n",
        " 'n002': n002,\n",
        " 'n003': n003,\n",
        " 'n004': n004,\n",
        " 'n005': n005,\n",
        " 'n006': n006,\n",
        " 'n007': n007,\n",
        " 'n008': n008,\n",
        " 'n009': n009,\n",
        " 'out1neg': out1neg,\n",
        " 'out1pos': out1pos,\n",
        " 'time': time,\n",
        " 'vbias': vbias,\n",
        " 'vdd': vdd,\n",
        " 'vom': vom,\n",
        " 'vop': vop}"
       ]
      }
     ],
     "prompt_number": 915
    },
    {
     "cell_type": "code",
     "collapsed": false,
     "input": [
      "linP=numpy.zeros((4,13,1))\n",
      "\n",
      "for i in range(4):\n",
      "    for k in range(13):\n",
      "        linP[i][k]=(datapoints[i][str(stateorder[k])])                      "
     ],
     "language": "python",
     "metadata": {},
     "outputs": [],
     "prompt_number": 869
    },
    {
     "cell_type": "code",
     "collapsed": false,
     "input": [
      "def normcalc(y):\n",
      "    normV=numpy.zeros(4)\n",
      "    for i in range(0,5):\n",
      "        temp=y-linP[:,i]\n",
      "        normV[i]=numpy.linalg.norm(temp)\n",
      "    temp=10**(-20*normV*normV/normV.min())       \n",
      "    return temp/temp.sum()"
     ],
     "language": "python",
     "metadata": {},
     "outputs": [],
     "prompt_number": 887
    },
    {
     "cell_type": "code",
     "collapsed": false,
     "input": [
      "def dervPWL(y,t):\n",
      "    weight=normcalc(y)\n",
      "    temp=(linPVal[0]+numpy.dot(linPJac[0],y))*weight[0]+(linPVal[1]+numpy.dot(linPJac[1],y))*weight[1]+(linPVal[2]+numpy.dot(linPJac[2],y))*weight[2]+(linPVal[3]+numpy.dot(linPJac[3],y))*weight[3]\n",
      "    \n",
      "    sigIn=numpy.dot(B,(signal_new(t)+numpy.dot(offset,weight)))\n",
      "    sigIn_R=sigIn.reshape(1,10)\n",
      "    tempPWL=temp+sigIn_R[0]\n",
      "    return tempPWL\n",
      "\n",
      "y0=numpy.zeros(13)\n",
      "time  = numpy.linspace(0, 30., 100)\n",
      "begin=timeit.time.time()\n",
      "solnPWL = odeint(dervPWL, y0, time)\n",
      "print \"Time to implenment is:\", timeit.time.time()-begin"
     ],
     "language": "python",
     "metadata": {},
     "outputs": [
      {
       "output_type": "pyout",
       "prompt_number": 874,
       "text": [
        "['1.318095e+000',\n",
        " '1.232283e+000',\n",
        " '3.150384e-001',\n",
        " '8.745253e-001',\n",
        " '1.999652e-001',\n",
        " '1.570587e+000',\n",
        " '6.740578e-001',\n",
        " '1.144446e+000',\n",
        " '5.910378e-001',\n",
        " '5.111042e-001',\n",
        " '1.291570e+000',\n",
        " '6.055494e-005',\n",
        " '-1.927546e-005']"
       ]
      }
     ],
     "prompt_number": 874
    },
    {
     "cell_type": "code",
     "collapsed": false,
     "input": [
      "jack.evalf(subs=chh)"
     ],
     "language": "python",
     "metadata": {},
     "outputs": [
      {
       "output_type": "pyout",
       "prompt_number": 911,
       "text": [
        "[-7893333333333.33,                   0,                   0,                   0,                    0,                    0,                 0,                 0,                 0,                 0,     3946666666666.67,                     0,                    0]\n",
        "[                0,   -986666666666.667,    -1140000000000.0,                   0,                    0,                    0,                 0,                 0,                 0,                 0,                    0,                     0,                    0]\n",
        "[                0,                   0,     2280000000000.0,                   0,                    0,                    0,                 0,                 0,   2280000000000.0,                 0,                    0,                     0,                    0]\n",
        "[                0,   -329108075086.082,   -380253248917.028,   -657558591580.584,     759746751082.972,     657558591580.584,                 0,                 0,                 0,  759746751082.973,                    0,                     0,                    0]\n",
        "[                0,   -328779295790.292,   -379873375541.486,   -658873051862.056,     761265485597.375,     656901689890.693,                 0,                 0,                 0,  758987763319.653,                    0,                     0,                    0]\n",
        "[                0,   -328779295790.292,   -379873375541.486,   -656901689890.693,     758987763319.652,     658873051862.056,                 0,                 0,                 0,  761265485597.375,                    0,                     0,                    0]\n",
        "[                0,                   0,                   0,                   0,                    0,                    0,    228000000000.0,  394666666666.667,                 0, -394666666666.667,                    0,                     0,                    0]\n",
        "[                0,                   0,                   0,                   0,                    0,                    0,                 0,   1184000000000.0,                 0, -394666666666.667,                    0,                     0,                    0]\n",
        "[ 986525729386.317,                   0,                   0,                   0,                    0,                    0,  57008142566.3265,  197361522802.721, -854959287168.367,                 0,    -1973192391019.69,     499964288265124.0,    249999998724672.0]\n",
        "[-5919859057686.36,                   0,                   0,                   0,                    0,                    0, -113991857724.448, -394638478203.938, -1709959288622.24,                 0, 9.86525729386317e-19, -2.49964289540452e-16, 1.49996428826512e+15]\n",
        "[ 6906384787072.67,                   0,                   0,                   0,                    0,                    0, -56999999709.2252, -197333332326.674, -1424999998546.13,                 0,    -5919859057686.36,  1.49996428826512e+15,   -249964289540452.0]\n",
        "[ 6906384787.07267,    328779295790.292,    379873375541.486,    658873051862.056,    -761265485597.375,    -656901689890.693, -56999999.7092252, -197333332.326674, -1424999998.54613, -758987763319.653,    -5919859057.68636,      1357107145407.98,    -249964289540.452]\n",
        "[-5919859057.68636, 3.28779295790292e-7, 3.79873375541486e-7, 6.56901689890693e-7, -7.58987763319652e-7, -6.58873051862056e-7, -113991857.724448, -394638478.203938, -1709959288.62224,     -2280000000.0, 9.86525729386317e-22, -2.49964289540452e-19,     1499821431122.27]"
       ]
      }
     ],
     "prompt_number": 911
    },
    {
     "cell_type": "code",
     "collapsed": false,
     "input": [
      "jack[0,:]\n"
     ],
     "language": "python",
     "metadata": {},
     "outputs": [
      {
       "output_type": "pyout",
       "prompt_number": 934,
       "text": [
        "[-19733333333333.3*10umirror - 9866666666666.67*innegative - 9866666666666.67*inpositive - 9866666666666.67*out1pos + 19733333333333.3*vdd - 7893333333333.33, 0, 0, 0, 0, 0, 0, 0, 0, 0, 9866666666666.67*innegative - 9866666666666.67*n001 + 9866666666666.67*out1pos + 3946666666666.67, 0, 0]"
       ]
      }
     ],
     "prompt_number": 934
    },
    {
     "cell_type": "code",
     "collapsed": false,
     "input": [
      "stateorder"
     ],
     "language": "python",
     "metadata": {},
     "outputs": [
      {
       "output_type": "pyout",
       "prompt_number": 935,
       "text": [
        "[   n001]\n",
        "[   n002]\n",
        "[   n005]\n",
        "[  cfmb2]\n",
        "[    vom]\n",
        "[    vop]\n",
        "[   n009]\n",
        "[   n007]\n",
        "[  cmfb1]\n",
        "[out1neg]\n",
        "[out1pos]\n",
        "[    ig9]\n",
        "[    ig7]"
       ]
      }
     ],
     "prompt_number": 935
    },
    {
     "cell_type": "code",
     "collapsed": false,
     "input": [
      "chh"
     ],
     "language": "python",
     "metadata": {},
     "outputs": [
      {
       "output_type": "pyout",
       "prompt_number": 910,
       "text": [
        "{'innegative': 1,\n",
        " 'inpositive': 1,\n",
        " 0: 0,\n",
        " 10umirror: 0,\n",
        " cfmb2: 0,\n",
        " cmfb1: 0,\n",
        " ig7: 0,\n",
        " ig9: 0,\n",
        " innegative: 0,\n",
        " inpositive: 0,\n",
        " n001: 0,\n",
        " n002: 0,\n",
        " n003: 0,\n",
        " n004: 0,\n",
        " n005: 0,\n",
        " n006: 0,\n",
        " n007: 0,\n",
        " n008: 0,\n",
        " n009: 0,\n",
        " out1neg: 0,\n",
        " out1pos: 0,\n",
        " time: 0,\n",
        " vbias: 0,\n",
        " vdd: 0,\n",
        " vom: 0,\n",
        " vop: 0}"
       ]
      }
     ],
     "prompt_number": 910
    },
    {
     "cell_type": "code",
     "collapsed": false,
     "input": [],
     "language": "python",
     "metadata": {},
     "outputs": []
    }
   ],
   "metadata": {}
  }
 ]
}