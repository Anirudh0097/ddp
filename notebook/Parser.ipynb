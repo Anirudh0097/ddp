{
 "metadata": {
  "name": "Parser"
 },
 "nbformat": 3,
 "nbformat_minor": 0,
 "worksheets": [
  {
   "cells": [
    {
     "cell_type": "markdown",
     "metadata": {},
     "source": [
      "## Modularized code , checked and verified"
     ]
    },
    {
     "cell_type": "code",
     "collapsed": false,
     "input": [
      "import sympy\n",
      "import os\n",
      "from getparameters import *\n",
      "from currenteqs import *\n",
      "from parsers import *\n",
      "from config import *\n",
      "from numericals import *\n",
      "from scipy.integrate import odeint\n",
      "import matplotlib.pyplot as plt\n",
      "\n",
      "# This file is the topmost layer of the project. Only function level calls and data transfer is shown here. \n",
      "global linPJac, B, C, D, linPVal, inputm, count, linP\n",
      "#\n",
      "# These functions are used in the integration process\n",
      "# Derivative of the function at any point is given by\n",
      "# dx/dt = Summation( weight*(Jacobian * ( state ) + B * ( input ) + ( Val @ state - Jacobian * linPoint )))\n",
      "\n",
      "def initialize():\n",
      "    if os.path.isfile('./config.py'):\n",
      "        print \"Config file in \", os.path.abspath('./config.py')\n",
      "        print \"-----------------------------------------------\"\n",
      "    else:\n",
      "        print \"Config file in PYTHONPATH\"\n",
      "        print \"-----------------------------------------------\"\n",
      "\n",
      "initialize()\n",
      "\n",
      "initialcond = get_initialcond(file_voltage)\n",
      "\n",
      "state = get_states(file_voltage)\n",
      "\n",
      "stateorder = get_stateorder(state)\n",
      "\n",
      "steadystate = get_steadystate(file_voltage,initialcond,stateorder, sim_end,order)\n",
      "\n",
      "delta = get_linpdiff(initialcond,steadystate,stateorder,order)\n",
      "\n",
      "print \"Simulation begins at \", sim_begin\n",
      "\n",
      "count,time = get_linPoints(file_voltage,initialcond,delta/denominator,order,stateorder)\n",
      "\n",
      "datapoints = get_datapoints(file_voltage, count , time)\n",
      "\n",
      "currents = get_currents(file_current,count,time)\n",
      "\n",
      "regions = get_region_operation(datapoints,file_netlist,count)\n",
      "\n",
      "Vth = get_vth()\n",
      "\n",
      "regexp = get_regexp_eqs(input_list)\n",
      "\n",
      "inputorder = get_inputorder(state, input_list )\n",
      "\n",
      "linP = get_num_linP(count,order,datapoints,stateorder)\n",
      "\n",
      "C, B , D , inputm = init_statematrices(count,order,input_list,output_list,stateorder)\n",
      "\n",
      "Matrix, B, C, D = get_statematrices( B, C, D, inputm, count, order, regions, state, regexp, datapoints, stateorder, inputorder, Vth)\n",
      "\n",
      "y0 , time = get_parameters_integration( initialcond, intg_end, stateorder )\n"
     ],
     "language": "python",
     "metadata": {},
     "outputs": [
      {
       "output_type": "stream",
       "stream": "stderr",
       "text": [
        "Building State matrices @ Point 0|                         |\r",
        "Building State matrices @ Point 1|.....                    |\r",
        "Building State matrices @ Point 2|..........               |\r"
       ]
      },
      {
       "output_type": "stream",
       "stream": "stderr",
       "text": [
        "Building State matrices @ Point 3|...............          |\r",
        "Building State matrices @ Point 4|....................     |\r"
       ]
      },
      {
       "output_type": "stream",
       "stream": "stdout",
       "text": [
        "Config file in  /home/bhargava/ddp/notebook/config.py\n",
        "-----------------------------------------------\n",
        "Getting initial conditions...\n",
        "Getting states....\n",
        "Getting initial conditions...\n",
        "Getting steady state ....\n",
        "Simulation begins at  5e-07\n",
        "The Linearization points chosen if |xnew - xi|/|xi| >  0.193958606884\n",
        "+-------+------------------+------------------------+\n",
        "| Point | |xnew - xi|/|xi| |          Time          |\n",
        "+-------+------------------+------------------------+\n",
        "|   1   |  0.205591450289  | 5.671969702088997e-007 |\n",
        "|   2   |  0.226522622819  | 6.342856898637078e-007 |\n",
        "|   3   |  0.20128287857   | 7.383163164942147e-007 |\n",
        "|   4   |  0.340964813956  | 1.069310521176465e-006 |\n",
        "|   5   |  0.306879282434  | 1.500000000000000e-006 |\n",
        "+-------+------------------+------------------------+\n",
        "Parsing netlist....\n",
        "This circuit has 1 transistors\n",
        "PWL Integration initialized...."
       ]
      },
      {
       "output_type": "stream",
       "stream": "stdout",
       "text": [
        "\n"
       ]
      },
      {
       "output_type": "stream",
       "stream": "stderr",
       "text": [
        "Building State matrices @ Point 5|.........................|\n"
       ]
      }
     ],
     "prompt_number": 40
    },
    {
     "cell_type": "code",
     "collapsed": false,
     "input": [
      "\n",
      "linPVal = []\n",
      "linPJac = []\n",
      "sub1 = { state [ str( i ) ]:y0 [ k ] for i , k in zip(stateorder,range( order ) ) }\n",
      "sub1[ state['0'] ] = 0.0\n",
      "sub1[ state[ 'inp' ] ] = get_input_signals( 1e-7)\n",
      "\n",
      "for i in range( count ):\n",
      "    linPVal.append( Sym2NumArray( ( Matrix[ i ].linPVal ).evalf( subs = sub1 ) ) )\n",
      "    linPJac.append( Sym2NumArray( ( Matrix[ i ].linPJac ).evalf( subs = sub1 ) ) )\n",
      "    "
     ],
     "language": "python",
     "metadata": {},
     "outputs": [],
     "prompt_number": 60
    },
    {
     "cell_type": "code",
     "collapsed": false,
     "input": [
      "print Sym2NumArray(linPVal[0])"
     ],
     "language": "python",
     "metadata": {},
     "outputs": [
      {
       "output_type": "stream",
       "stream": "stdout",
       "text": [
        "[[  4.23873029e+12]\n",
        " [  2.11936515e+09]]\n"
       ]
      }
     ],
     "prompt_number": 58
    },
    {
     "cell_type": "code",
     "collapsed": false,
     "input": [
      "\n",
      "def dervPWL(y,t):\n",
      "\t#order = len(y)\n",
      "\tweights = normcalc( y )\n",
      "\t#count = len(weights)\n",
      "\ttemp = 0\n",
      "    \n",
      "\tlinPVal = []\n",
      "\tlinPJac = []\n",
      "\tfor i in range( count ):\n",
      "\t\tsub1={state[k]:abs(float(datapoints[ i ][k])) for k in state}\n",
      "\t\tsub1[ state[ 'inp' ] ] = get_input_signals( t )\n",
      "\t\tlinPVal.append( Sym2NumArray( ( Matrix[ i ].linPVal ).evalf( subs = sub1 ) ) )\n",
      "\t\tlinPJac.append( Sym2NumArray( ( Matrix[ i ].linPJac ).evalf( subs = sub1 ) ) )\n",
      "    \n",
      "\tfor i in range(count):\n",
      "\t\ttemp = temp +  weights[ i ] * ( linPVal[ i ] + (numpy.dot( linPJac[ i ], y )).reshape( order ,1 ) - (numpy.dot( linPJac[ i ], linP[ i ] )).reshape( order ,1 ) + (numpy.dot( B[ i ], inputm[ i ] )) )\n",
      "\treturn (temp.reshape(1, order))[0]"
     ],
     "language": "python",
     "metadata": {},
     "outputs": [],
     "prompt_number": 96
    },
    {
     "cell_type": "code",
     "collapsed": false,
     "input": [
      "# Calculates the weighing function depending on the proximity to linearizatoin points\n",
      "def normcalc( y ) :\n",
      "\tnorm = numpy.array([ 10**(-1*numpy.linalg.norm( linP[ i ] - y.reshape(order,1) )) for i in range(count) ])\n",
      "\n",
      "\treturn norm/norm.sum()\n"
     ],
     "language": "python",
     "metadata": {},
     "outputs": [],
     "prompt_number": 97
    },
    {
     "cell_type": "code",
     "collapsed": false,
     "input": [
      "\n",
      "solnPWL = odeint(dervPWL, y0, time)\n",
      "\n",
      "#--------------------------------------------------------------------------------------------\n",
      "# Plotting the output obtained with integration\n"
     ],
     "language": "python",
     "metadata": {},
     "outputs": [],
     "prompt_number": 98
    },
    {
     "cell_type": "code",
     "collapsed": false,
     "input": [],
     "language": "python",
     "metadata": {},
     "outputs": [],
     "prompt_number": 102
    },
    {
     "cell_type": "code",
     "collapsed": false,
     "input": [
      "C_ones = [i for i in range( len( stateorder ) ) if str( stateorder[ i ] ) in output_list ]\n",
      "for k in range(len(C_ones)):\n",
      "    plt.figure(k)\n",
      "    calc, = plt.plot(time, numpy.array([ float(solnPWL[i][C_ones[k]]) for i in range(len(time) )] ), '--')\n",
      "    plt.ylabel(r'$V_{'+str(stateorder[C_ones[k]])+'}$' )\n",
      "    plt.xlabel(r'$time$')\n",
      "    x , y  = [], []\n",
      "    for i in import_text(file_voltage,\"\\t\"):\n",
      "        if (float( i[ 'time' ] ) < intg_end+sim_begin) and (float( i[ 'time' ]  )> sim_begin) :\n",
      "            y.append( i[ str( stateorder[ C_ones[ k ] ] ) ] ), x.append( float(i[ 'time' ])-sim_begin )\n",
      "    plt.ylabel(r'$V_{'+str(stateorder[C_ones[k]])+'}$' )\n",
      "    plt.xlabel(r'$time$')\n",
      "    plt.title(str(cirname)+' output')\n",
      "    spice, = plt.plot(x,y)\n",
      "    plt.figsize(10,10)\n",
      "    plt.figlegend([calc,spice],('Calculated','Spice'),'lower right')\n",
      "plt.show()"
     ],
     "language": "python",
     "metadata": {},
     "outputs": [
      {
       "output_type": "display_data",
       "png": "[encoded data removed]"
      }
     ],
     "prompt_number": 90
    },
    {
     "cell_type": "code",
     "collapsed": false,
     "input": [
      "Matrix = [ matrices( i ) for i in range( count ) ]\n",
      "Matrix[0].linPJac = a\n",
      "for i in range( count ):\n",
      "    print Matrix[ i ].linPJac\n",
      "    print \"---------------\""
     ],
     "language": "python",
     "metadata": {},
     "outputs": [
      {
       "output_type": "stream",
       "stream": "stdout",
       "text": [
        "[1, 1]\n",
        "[1, 1]\n",
        "---------------\n",
        "[0, 0]\n",
        "[0, 0]\n",
        "---------------\n",
        "[0, 0]\n",
        "[0, 0]\n",
        "---------------\n",
        "[0, 0]\n",
        "[0, 0]\n",
        "---------------\n",
        "[0, 0]\n",
        "[0, 0]\n",
        "---------------\n"
       ]
      }
     ],
     "prompt_number": 36
    },
    {
     "cell_type": "heading",
     "level": 4,
     "metadata": {},
     "source": [
      "Generation of all non linear equations and evaluating them at linearization points"
     ]
    },
    {
     "cell_type": "code",
     "collapsed": false,
     "input": [
      "print \"step sizes\",solnPWL[1]['hu']\n",
      "print \"value of T reached\",solnPWL[1]['tcur']\n",
      "print \"Tolerance \",solnPWL[1]['tolsf']\n",
      "print \"Method was swtiched\",solnPWL[1]['tsw']\n",
      "print \"cummulative number os time steps\",solnPWL[1]['nst']\n",
      "print \"Function evaluations for each step\",solnPWL[1]['nfe']\n",
      "print \"cummulative number of Jacobian evaluations\", solnPWL[1]['nje']\n",
      "print \"method indicators used\",solnPWL[1]['mused']"
     ],
     "language": "python",
     "metadata": {},
     "outputs": [
      {
       "output_type": "stream",
       "stream": "stdout",
       "text": [
        "step sizes [  1.11331172e-08   2.60805603e-08   3.99361049e-08   3.99361049e-08\n",
        "   6.11661102e-08   6.11661102e-08   9.36974836e-08   9.36974836e-08\n",
        "   9.36974836e-08]\n",
        "value of T reached [  2.24519904e-07   4.46375699e-07   6.82731270e-07   9.22347899e-07\n",
        "   1.16701234e-06   1.35051067e-06   1.59907175e-06   1.78646672e-06\n",
        "   2.06755917e-06]\n",
        "Tolerance  [ 0.  0.  0.  0.  0.  0.  0.  0.  0.]\n",
        "Method was swtiched [ 0.  0.  0.  0.  0.  0.  0.  0.  0.]\n",
        "cummulative number os time steps [352 365 373 379 383 386 389 391 394]\n",
        "Function evaluations for each step [706 732 748 760 768 774 780 784 790]\n",
        "cummulative number of Jacobian evaluations [0 0 0 0 0 0 0 0 0]\n",
        "method indicators used [1 1 1 1 1 1 1 1 1]\n"
       ]
      }
     ],
     "prompt_number": 326
    }
   ],
   "metadata": {}
  }
 ]
}