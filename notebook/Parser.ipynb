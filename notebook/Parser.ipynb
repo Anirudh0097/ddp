{
 "metadata": {
  "name": "Parser"
 },
 "nbformat": 3,
 "nbformat_minor": 0,
 "worksheets": [
  {
   "cells": [
    {
     "cell_type": "markdown",
     "metadata": {},
     "source": [
      "## Modularized code , checked and verified"
     ]
    },
    {
     "cell_type": "code",
     "collapsed": false,
     "input": [
      "import sympy\n",
      "import os\n",
      "from getparameters import *\n",
      "from currenteqs import *\n",
      "from parsers import *\n",
      "from config import *\n",
      "from numericals import *\n",
      "from scipy.integrate import odeint\n",
      "import matplotlib.pyplot as plt\n",
      "\n",
      "# This file is the topmost layer of the project. Only function level calls and data transfer is shown here. \n",
      "global linPJac, B, C, D, linPVal, inputm, count, linP, state\n",
      "#\n",
      "# These functions are used in the integration process\n",
      "# Derivative of the function at any point is given by\n",
      "# dx/dt = Summation( weight*(Jacobian * ( state ) + B * ( input ) + ( Val @ state - Jacobian * linPoint )))\n",
      "# Calculates the weighing function depending on the proximity to linearizatoin points\n",
      "def normcalc( y ) :\n",
      "\tnorm = numpy.array([ 10.0**(-20*numpy.linalg.norm( linP[ i ] - y.reshape(order,1) )) for i in range(count) ])\n",
      "\treturn norm/norm.sum()\n",
      "\n",
      "def dervPWL(y,t):\n",
      "\t#order = len(y)\n",
      "\tweights = normcalc( y )\n",
      "\t#count = len(weights)\n",
      "\ttemp = 0\n",
      "    \t\n",
      "\tlinPVal = []\n",
      "\tlinPJac = []\n",
      "\t\n",
      "\tfor i in range( count ):\n",
      "\t\tinput_signals = get_input_signals( t ) \n",
      "\t\tsub1 = {state[ k ]: (float(datapoints[ i ][ k ])) if str( state[ k ] ) not in constant_dict.keys() else constant_dict[ str( k ) ] for k in state}\n",
      "\t\t\n",
      "\t\tfor k in range( len( input_list ) ) :\n",
      "\t\t\tsub1[ state[ str( input_list[ k ] ) ] ] = input_signals[ k ]\n",
      "\t\t\n",
      "\t\tlinPVal.append( Sym2NumArray( ( Matrix[ i ].linPVal ).evalf( subs = sub1 ) ) )\n",
      "\t\tlinPJac.append( Sym2NumArray( ( Matrix[ i ].linPJac ).evalf( subs = sub1 ) ) )\n",
      "\tinputM = Sym2NumArray(inputm.evalf( subs = sub1 ))\n",
      "        \n",
      "    \n",
      "\tfor i in range(count):\n",
      "\t\ttemp = temp +  weights[ i ] * ( linPVal[ i ] + (numpy.dot( linPJac[ i ], y )).reshape( order ,1 ) - (numpy.dot( linPJac[ i ], linP[ i ] )).reshape( order ,1 ) + (numpy.dot( B[ i ], inputM )) )\n",
      "\treturn (temp.reshape(1, order))[0]\n",
      "#------------------------------------------------------------------------ARNOLDI--------------------------------------------------------\n",
      "def y0MOR(y,t):\n",
      "\tglobal state\n",
      "\n",
      "\tinput_signals = get_input_signals( t ) \n",
      "\n",
      "\tsub1 = { state[ str( input_list[ k ] ) ] : input_signals[ k ] for k in range( len( input_list ) ) }\n",
      "\n",
      "\tredBasis , linPValRed, linPJacRed = get_redBasis(  t , moments , order,redOrder )\n",
      "        \n",
      "\t\n",
      "\tredBasisPro = numpy.dot( numpy.linalg.inv(numpy.dot( redBasis.T, redBasis ) ) , redBasis.T ) \n",
      "\n",
      "\treturn numpy.dot( redBasisPro , y )\n",
      "\n",
      "def LD2HD ( t, y ):\n",
      "\t\n",
      "\n",
      "\tredBasis, linPValRed, linPJacRed = get_redBasis(  t , moments , order,redOrder)\n",
      "\n",
      "\treturn numpy.dot( redBasis, y )\n",
      "\n",
      "def get_redBasis(  t , moment, order,redOrder):\n",
      "\t\n",
      "\n",
      "\tspanAgg = numpy.concatenate( linP , 1 )\n",
      "\n",
      "\tinput_signals = get_input_signals( t ) \n",
      "\n",
      "\tsub1 = { state[ str( input_list[ k ] ) ] : input_signals[ k ] for k in range( len( input_list ) ) }\n",
      "\n",
      "\tlinPVal=[ Sym2NumArray( ( Matrix[ i ].linPVal ).evalf( subs = sub1 ) )  for i in range( count )]\n",
      "\n",
      "\tlinPJac=[ Sym2NumArray( ( Matrix[ i ].linPJac ).evalf( subs = sub1 ) ) for i in range( count ) ]\n",
      "\n",
      "\tfor linpt in range( count ):\n",
      "\t\tspanV1 = [ numpy.dot( numpy.linalg.inv( linPJac[ linpt ] ),B[ linpt ]) ]\n",
      "        \n",
      "\t\tfor k in range( moment ):\n",
      "\t\t\tspanV1.append( numpy.dot( numpy.linalg.inv( linPJac[ linpt ] ),spanV1[ -1 ]) )\n",
      "\n",
      "\t\tspanV1 = numpy.concatenate( spanV1, 1 )\n",
      "        \n",
      "\n",
      "\t\tspanV2 = [ numpy.dot( numpy.linalg.inv( linPJac[ linpt ] ),linPVal[ linpt ] - (numpy.dot( linPJac[ linpt ], linP[ linpt ] )).reshape( order ,1 ) )]\n",
      "\t\tfor k in range( moment ):\n",
      "\t\t\tspanV2.append( numpy.dot( numpy.linalg.inv( linPJac[ linpt ] ),spanV2[ -1 ]) )\n",
      "\t\tspanV2 = numpy.concatenate( spanV2, 1 )\t\n",
      "\t\t\n",
      "\t\tunitSpanV1 , R = numpy.linalg.qr( spanV1 )\n",
      "\n",
      "\t\tunitSpanV2 , R = numpy.linalg.qr( spanV2 )\n",
      "\n",
      "\tspanAgg = numpy.concatenate( ( spanAgg, unitSpanV1 , unitSpanV2) , 1 )\n",
      "\n",
      "\teigenC , eigenV , eigenR = numpy.linalg.svd(spanAgg)\n",
      "        \n",
      "\tredBasis = eigenC[ : , :redOrder ]\n",
      "\t\n",
      "\tlinPValRed = [numpy.dot( redBasis.T,linPVal[ k ]) for k in range( count ) ] \n",
      "\t\n",
      "\tlinPJacRed = [numpy.dot( redBasis.T, numpy.dot( linPJac[ k ] , redBasis ) ) for k in range( count )]\n",
      "\t\n",
      "\treturn redBasis, linPValRed, linPJacRed\n",
      "\n",
      "def dervPWLMOR(yNew,t):\n",
      "\t\n",
      "\n",
      "\ttemp = 0\n",
      "\n",
      "\tspanAgg = numpy.concatenate( linP , 1 )\n",
      "\n",
      "\tinput_signals = get_input_signals( t ) \n",
      "\n",
      "\tsub1 = { state[ str( input_list[ k ] ) ] : input_signals[ k ] for k in range( len( input_list ) ) }\n",
      "\n",
      "\tredBasis, linPValRed, linPJacRed = get_redBasis(  t , moments , order ,redOrder)\n",
      "\t\n",
      "\tredBasisPro = numpy.dot( numpy.linalg.inv(numpy.dot( redBasis.T, redBasis ) ) , redBasis.T ) \n",
      "\t\n",
      "\t#yNew = numpy.dot( redBasisPro, y )\n",
      "        linPRed = [ numpy.dot( redBasisPro, linP[ i ] ) for i in range( count ) ]\n",
      "\n",
      "        BRed = [numpy.dot( redBasis.T, B[ k ] ) for k in range( count )]\n",
      "\n",
      "\tinputM = Sym2NumArray(inputm.evalf( subs = sub1 ))\n",
      "        \n",
      "\tnorm = numpy.array([ 10.0**(-20*numpy.linalg.norm( linPRed[ i ] - yNew.reshape(redOrder,1) )) for i in range(count) ])\n",
      "\n",
      "        weights = norm/norm.sum()\n",
      "        #print weights\n",
      "        \n",
      "           \n",
      "    \tfor i in range(count):\n",
      "\t\ttemp = temp +  weights[ i ] * ( linPValRed[ i ] + (numpy.dot( linPJacRed[ i ], yNew )).reshape( redOrder ,1 ) - (numpy.dot( linPJacRed[ i ], linPRed[ i ] )).reshape( redOrder ,1 ) + (numpy.dot( BRed[ i ], inputM )) )\n",
      "    \n",
      "\treturn  (temp.reshape(1, redOrder))[0] \n",
      "\n",
      "\n",
      "\n",
      "\n",
      "def check_stability_MOR(count, state):\n",
      "\tglobal linP\n",
      "\n",
      "\tx = prettytable.PrettyTable( )\n",
      "\n",
      "\tx.add_column(\"Linearization Point\",[ k for k in range( count ) ])\n",
      "\n",
      "\tfor moments in range( 1,order ):\n",
      "\t\tfor red_order in range( 2 , order +1 ):\n",
      "\n",
      "\t\t\tJaccheck = []\n",
      "\n",
      "\t\t\tfor linpt in range( count  ):\n",
      "\n",
      "\t\t\t\tredOrder = red_order\n",
      "\n",
      "\t\t\t\tredBasis, linPValRed, linPJacRed = get_redBasis( time[ linpt ] - sim_begin , moments ,order ,redOrder)\n",
      "\t\n",
      "\t\t\t\tredBasisPro = numpy.dot( numpy.linalg.inv(numpy.dot( redBasis.T, redBasis ) ) , redBasis.T ) \n",
      "\t\n",
      "\t\t\t\tlinPRed = [ numpy.dot( redBasisPro, linP[ i ] ) for i in range( count ) ]\n",
      "\t\t    \n",
      "\t\t\t\tnorm = numpy.array([ 10.0**(-20*numpy.linalg.norm( linPRed[ i ] - linPRed[ linpt] )) for i in range(count) ])\n",
      "\n",
      "\t\t\t\tweights = norm/norm.sum()\n",
      "\n",
      "\t\t\t\ttemp = 0 \n",
      "\t\t   \n",
      "\t\t\t\tfor j in range(count):\n",
      "\n",
      "\t\t\t\t\ttemp = temp +  weights[ j ] * (  linPJacRed[ j ] )\n",
      "\n",
      "\t\t\t\tJaccheck.append( temp )\n",
      "\n",
      "\t\t\teigenV = [ numpy.real(numpy.linalg.eigvals(Jaccheck[ k ] )).max() for k in range( count ) ]\n",
      "\t\t\tcheckStab = numpy.array( [ 1 if egV < 0 else 0 for egV in eigenV ] )\n",
      "\t\t\tif checkStab.sum() == count:\n",
      "\t\t\t\tstab = 'Stable'\n",
      "\t\t\t\tredOrder = red_order\n",
      "\t\t\t\tmoment = moments\n",
      "\t\t\telse:\n",
      "\t\t\t\tstab = 'Unstable'\n",
      "\t\t    \n",
      "\n",
      "\t\t\tx.add_column(\"Order:\"+str(redOrder)+\" -- \"+str(stab),eigenV)\n",
      "\t\t\tif stab == 'Stable' and red_order < order:\n",
      "\t\t\t\n",
      "\t\t\t\tbreak\n",
      "\t\tif stab == 'Stable' and red_order < order:\n",
      "\t\t\tbreak\n",
      "\t\t\n",
      "\tprint moments,\" moments matched:\"\n",
      "\tif stab == 'Stable' and red_order < order:\n",
      "\t\tprint x\n",
      "\t\tprint \"Reducing order to\", redOrder ,\"with \",moments,\" moments matched\"\n",
      "\t\t\n",
      "\telse :\n",
      "\t\tprint \"No STABLE reduced order model exists\"\n",
      "\t\tredOrder = order\n",
      "\t\tmoments = order\n",
      "\treturn redOrder, moments\n",
      "\n",
      "#------------------------------------------------------------------------ARNOLDI--------------------------------------------------------\n",
      "\n",
      "def initialize():\n",
      "    get_newdata_heading( file_voltage )\n",
      "    if os.path.isfile('./config.py'):\n",
      "        print \"Config file in \", os.path.abspath('./config.py')\n",
      "        print \"-----------------------------------------------\"\n",
      "    else:\n",
      "        print \"Config file in PYTHONPATH\"\n",
      "        print \"-----------------------------------------------\"\n",
      "    \n",
      "\n",
      "initialize()\n",
      "\n",
      "initialcond = get_initialcond(file_voltage, sim_begin)\n",
      "\n",
      "state = get_states(file_voltage,sim_begin)\n",
      "\n",
      "stateorder = get_stateorder(state)\n",
      "\n",
      "steadystate = get_steadystate(file_voltage,initialcond,stateorder, sim_end,order)\n",
      "\n",
      "delta = get_linpdiff(initialcond,steadystate,stateorder,order)\n",
      "\n",
      "print \"Simulation begins at \", sim_begin\n",
      "\n",
      "count,time = get_linPoints(file_voltage,initialcond,delta/denominator,order,stateorder,sim_begin)\n",
      "\n",
      "#time_inter = [ average(time[ i-1 : i+1] ) for i in range( 1, count-1 ) ]\n",
      "\n",
      "#time = sort( time + time_inter )\n",
      "#count = len( time )\n",
      "datapoints = get_datapoints(file_voltage, count , time)\n",
      "\n",
      "currents = get_currents(file_current,count,time)\n",
      "\n",
      "regions = get_region_operation(datapoints,file_netlist,count)\n",
      "\n",
      "Vth = get_vth()\n",
      "\n",
      "regexp = get_regexp_eqs(input_list)\n",
      "\n",
      "inputorder = get_inputorder(state, input_list )\n",
      "\n",
      "linP = get_num_linP(count,order,datapoints,stateorder)\n",
      "\n",
      "C, B , D , inputm = init_statematrices(count,order,input_list,output_list,stateorder,state)\n",
      "\n",
      "Matrix, B, C, D = get_statematrices( B, C, D, inputm, count, order, regions, state, regexp, datapoints, stateorder, inputorder, Vth)\n",
      "\n",
      "y0 , time_intg = get_parameters_integration( initialcond, intg_end, stateorder )\n",
      "\n",
      "\n"
     ],
     "language": "python",
     "metadata": {},
     "outputs": [
      {
       "output_type": "stream",
       "stream": "stdout",
       "text": [
        "Working on 4 input NAND-gate \n",
        "Config file in "
       ]
      },
      {
       "output_type": "stream",
       "stream": "stdout",
       "text": [
        " /home/bhargava/ddp/notebook/config.py\n",
        "-----------------------------------------------\n",
        "Getting initial conditions...\n",
        "Getting states....\n",
        "Getting initial conditions...\n",
        "Getting steady state ....\n",
        "Simulation begins at  0.0\n",
        "The Linearization points chosen if |xnew - xi|/|xi| > "
       ]
      },
      {
       "output_type": "stream",
       "stream": "stdout",
       "text": [
        " 0.0999999987202\n",
        "DC operating point is chosen as the first linearization point\n",
        "+-------+------------------+------------------------+\n",
        "| Point | |xnew - xi|/|xi| |          Time          |\n",
        "+-------+------------------+------------------------+\n",
        "|   2   |  0.113782828587  | 2.441406250000001e-007 |\n",
        "|   3   |  0.102320359262  | 3.931361607142858e-007 |\n",
        "|   4   |  0.104705174451  | 4.801897321428572e-007 |\n",
        "|   5   |  0.111426170889  | 5.097656250000000e-007 |\n",
        "|   6   |  0.137749853116  | 5.186551596671581e-007 |\n",
        "|   7   |  0.142955786943  | 5.264676596671582e-007 |\n",
        "|   8   |  0.108202762135  | 5.342801596671581e-007 |\n",
        "|   9   |  0.114406331118  | 5.459989096671581e-007 |\n",
        "|   10  |  0.155547166491  | 5.655301596671582e-007 |\n",
        "|   11  |   0.1722322291   | 5.889676596671581e-007 |\n",
        "|   12  |  0.149068710223  | 6.090569453814438e-007 |\n",
        "|   13  |  0.156472278592  | 6.291462310957296e-007 |\n",
        "|   14  |  0.163655901325  | 6.492355168100152e-007 |\n",
        "|   15  |  0.190304879415  | 6.715569453814438e-007 |\n",
        "|   16  |  0.118121736162  | 6.838337310957295e-007 |\n",
        "|   17  |  0.124940395315  | 6.961105168100152e-007 |\n",
        "|   18  |  0.132505336413  | 7.083873025243010e-007 |\n",
        "|   19  |  0.140922801951  | 7.206640882385866e-007 |\n",
        "|   20  |  0.150308841461  | 7.329408739528724e-007 |\n",
        "|   21  |  0.16078342597   | 7.452176596671581e-007 |\n",
        "|   22  |  0.167601581147  | 7.569364096671581e-007 |\n",
        "|   23  |  0.182277313333  | 7.686551596671581e-007 |\n",
        "|   24  |  0.135799705051  | 7.764676596671581e-007 |\n",
        "|   25  |  0.145392080785  | 7.842801596671581e-007 |\n",
        "|   26  |  0.156479218647  | 7.920926596671582e-007 |\n",
        "|   27  |  0.169432013026  | 7.999051596671581e-007 |\n",
        "|   28  |  0.184756497727  | 8.077176596671581e-007 |\n",
        "|   29  |  0.104505465195  | 8.116239096671581e-007 |\n",
        "|   30  |  0.110167448157  | 8.155301596671581e-007 |\n",
        "|   31  |  0.116482734878  | 8.194364096671581e-007 |\n",
        "|   32  |  0.123570378547  | 8.233426596671582e-007 |\n",
        "|   33  |  0.131580154075  | 8.272489096671582e-007 |\n",
        "|   34  |  0.140703252245  | 8.311551596671581e-007 |\n",
        "|   35  |  0.151186078535  | 8.350614096671581e-007 |\n",
        "|   36  |  0.163354503584  | 8.389676596671581e-007 |\n",
        "|   37  |  0.177645172642  | 8.428739096671581e-007 |\n",
        "|   38  |  0.19465779413   | 8.467801596671581e-007 |\n",
        "|   39  |   0.2152361499   | 8.506864096671581e-007 |\n",
        "|   40  |  0.240603360964  | 8.545926596671581e-007 |\n",
        "|   41  |  0.272589105162  | 8.584989096671581e-007 |\n",
        "|   42  |  0.314028849976  | 8.624051596671582e-007 |\n",
        "|   43  |  0.369449764927  | 8.663114096671582e-007 |\n",
        "|   44  |  0.446079135309  | 8.702176596671581e-007 |\n",
        "|   45  |  0.553319019283  | 8.741239096671581e-007 |\n",
        "|   46  |  0.682003286806  | 8.780301596671581e-007 |\n",
        "|   47  |  0.748227023876  | 8.819364096671581e-007 |\n",
        "|   48  |  0.429411818336  | 8.858426596671581e-007 |\n",
        "|   49  |  0.64609561102   | 1.000215406933432e-006 |\n",
        "|   50  |  0.985628082097  | 1.000646220800295e-006 |\n",
        "|   51  |  0.612927044313  | 1.131677614936380e-006 |\n",
        "+-------+------------------+------------------------+\n",
        "Parsing netlist....\n",
        "This circuit has"
       ]
      },
      {
       "output_type": "stream",
       "stream": "stderr",
       "text": [
        "Building State matrices @ Point 0|                         |\r",
        "Building State matrices @ Point 1|                         |\r",
        "Building State matrices @ Point 2|                         |\r"
       ]
      },
      {
       "output_type": "stream",
       "stream": "stderr",
       "text": [
        "Building State matrices @ Point 3|.                        |\r",
        "Building State matrices @ Point 4|.                        |\r"
       ]
      },
      {
       "output_type": "stream",
       "stream": "stderr",
       "text": [
        "Building State matrices @ Point 5|..                       |\r",
        "Building State matrices @ Point 6|..                       |\r"
       ]
      },
      {
       "output_type": "stream",
       "stream": "stderr",
       "text": [
        "Building State matrices @ Point 7|...                      |\r",
        "Building State matrices @ Point 8|...                      |\r"
       ]
      },
      {
       "output_type": "stream",
       "stream": "stderr",
       "text": [
        "Building State matrices @ Point 9|....                     |\r",
        "Building State matrices @ Point10|....                     |\r"
       ]
      },
      {
       "output_type": "stream",
       "stream": "stderr",
       "text": [
        "Building State matrices @ Point11|.....                    |\r",
        "Building State matrices @ Point12|.....                    |\r"
       ]
      },
      {
       "output_type": "stream",
       "stream": "stderr",
       "text": [
        "Building State matrices @ Point13|......                   |\r",
        "Building State matrices @ Point14|......                   |\r"
       ]
      },
      {
       "output_type": "stream",
       "stream": "stderr",
       "text": [
        "Building State matrices @ Point15|.......                  |\r",
        "Building State matrices @ Point16|.......                  |\r"
       ]
      },
      {
       "output_type": "stream",
       "stream": "stderr",
       "text": [
        "Building State matrices @ Point17|........                 |\r",
        "Building State matrices @ Point18|........                 |\r"
       ]
      },
      {
       "output_type": "stream",
       "stream": "stderr",
       "text": [
        "Building State matrices @ Point19|.........                |\r",
        "Building State matrices @ Point20|.........                |\r"
       ]
      },
      {
       "output_type": "stream",
       "stream": "stderr",
       "text": [
        "Building State matrices @ Point21|..........               |\r",
        "Building State matrices @ Point22|..........               |\r"
       ]
      },
      {
       "output_type": "stream",
       "stream": "stderr",
       "text": [
        "Building State matrices @ Point23|...........              |\r",
        "Building State matrices @ Point24|...........              |\r"
       ]
      },
      {
       "output_type": "stream",
       "stream": "stderr",
       "text": [
        "Building State matrices @ Point25|............             |\r",
        "Building State matrices @ Point26|............             |\r"
       ]
      },
      {
       "output_type": "stream",
       "stream": "stderr",
       "text": [
        "Building State matrices @ Point27|.............            |\r",
        "Building State matrices @ Point28|.............            |\r"
       ]
      },
      {
       "output_type": "stream",
       "stream": "stderr",
       "text": [
        "Building State matrices @ Point29|..............           |\r",
        "Building State matrices @ Point30|..............           |\r"
       ]
      },
      {
       "output_type": "stream",
       "stream": "stderr",
       "text": [
        "Building State matrices @ Point31|...............          |\r",
        "Building State matrices @ Point32|...............          |\r"
       ]
      },
      {
       "output_type": "stream",
       "stream": "stderr",
       "text": [
        "Building State matrices @ Point33|................         |\r",
        "Building State matrices @ Point34|................         |\r"
       ]
      },
      {
       "output_type": "stream",
       "stream": "stderr",
       "text": [
        "Building State matrices @ Point35|.................        |\r",
        "Building State matrices @ Point36|.................        |\r"
       ]
      },
      {
       "output_type": "stream",
       "stream": "stderr",
       "text": [
        "Building State matrices @ Point37|..................       |\r",
        "Building State matrices @ Point38|..................       |\r"
       ]
      },
      {
       "output_type": "stream",
       "stream": "stderr",
       "text": [
        "Building State matrices @ Point39|...................      |\r",
        "Building State matrices @ Point40|...................      |\r"
       ]
      },
      {
       "output_type": "stream",
       "stream": "stderr",
       "text": [
        "Building State matrices @ Point41|....................     |\r",
        "Building State matrices @ Point42|....................     |\r"
       ]
      },
      {
       "output_type": "stream",
       "stream": "stderr",
       "text": [
        "Building State matrices @ Point43|.....................    |\r",
        "Building State matrices @ Point44|.....................    |\r"
       ]
      },
      {
       "output_type": "stream",
       "stream": "stderr",
       "text": [
        "Building State matrices @ Point45|......................   |\r",
        "Building State matrices @ Point46|......................   |\r"
       ]
      },
      {
       "output_type": "stream",
       "stream": "stderr",
       "text": [
        "Building State matrices @ Point47|.......................  |\r",
        "Building State matrices @ Point48|.......................  |\r"
       ]
      },
      {
       "output_type": "stream",
       "stream": "stderr",
       "text": [
        "Building State matrices @ Point49|........................ |\r",
        "Building State matrices @ Point50|........................ |\r"
       ]
      },
      {
       "output_type": "stream",
       "stream": "stdout",
       "text": [
        " 8 transistors\n"
       ]
      },
      {
       "output_type": "stream",
       "stream": "stderr",
       "text": [
        "Building State matrices @ Point51|.........................|\n"
       ]
      }
     ],
     "prompt_number": 1
    },
    {
     "cell_type": "code",
     "collapsed": false,
     "input": [
      "Matrix[ 1 ].linPVal"
     ],
     "language": "python",
     "metadata": {},
     "outputs": [
      {
       "output_type": "pyout",
       "prompt_number": 2,
       "text": [
        "[-168493007760.0*ainp**2 + 454569091040.27*ainp + 336787980440.823]\n",
        "[168493007760.0*ainp**2 - 634150573297.422*ainp + 19510708982.7281]\n",
        "[                                                 81193870.6618095]\n",
        "[                                                 45111864.5594349]"
       ]
      }
     ],
     "prompt_number": 2
    },
    {
     "cell_type": "code",
     "collapsed": false,
     "input": [
      "count"
     ],
     "language": "python",
     "metadata": {},
     "outputs": [
      {
       "output_type": "pyout",
       "prompt_number": 2,
       "text": [
        "107"
       ]
      }
     ],
     "prompt_number": 2
    },
    {
     "cell_type": "code",
     "collapsed": false,
     "input": [
      "def dervPWLnew(t ,y ):\n",
      "\t#order = len(y)\n",
      "\tweights = normcalc( y )\n",
      "\t#count = len(weights)\n",
      "\ttemp = 0\n",
      "    \t\n",
      "\tlinPVal = []\n",
      "\tlinPJac = []\n",
      "\t\n",
      "\tfor i in range( count ):\n",
      "\t\t#input_signals = get_input_signals( t ) \n",
      "\t\t#sub1 = {state[ k ]: (float(datapoints[ i ][ k ])) if str( state[ k ] ) not in constant_dict.keys() else constant_dict[ str( k ) ] for k in state}\n",
      "\t\t\n",
      "\t\t#for k in range( len( input_list ) ) :\n",
      "\t\t\t#sub1[ state[ str( input_list[ k ] ) ] ] = input_signals[ k ]\n",
      "\t\t\n",
      "\t\tlinPVal.append(  ( Matrix[ i ].linPVal ) )\n",
      "\t\tlinPJac.append( ( Matrix[ i ].linPJac ) )\n",
      "\tsub1 = { state[ str( input_list[ k ] ) ]  : (get_input_signals( t ))[ k ] for k in range( len( input_list ) ) }\n",
      "\tinputM = Sym2NumArray(inputm.evalf( subs = sub1 ))\n",
      "\ttempJac = 0\n",
      "        \n",
      "    \n",
      "\tfor i in range(count):\n",
      "\t\ttemp = temp +  weights[ i ] * ( linPVal[ i ] + (numpy.dot( linPJac[ i ], y )).reshape( order ,1 ) - (numpy.dot( linPJac[ i ], linP[ i ] )).reshape( order ,1 ) + (numpy.dot( B[ i ], inputM )) )\n",
      "\t\ttempJac = ( weights[ i ] * linPJac[ i ] )+ tempJac\n",
      "\treturn (temp.reshape(1, order))[0]"
     ],
     "language": "python",
     "metadata": {},
     "outputs": [],
     "prompt_number": 27
    },
    {
     "cell_type": "code",
     "collapsed": false,
     "input": [
      "for T in range( count ):\n",
      "    sub1 = { state[ str( input_list[ k ] ) ]  : (get_input_signals(time[ T ] - sim_begin ))[ k ] for k in range( len( input_list ) ) }\n",
      "    Matrix[ T ].linPVal = Sym2NumArray((Matrix[ T ].linPVal).evalf( subs = sub1 ))\n",
      "    Matrix[ T ].linPJac =  Sym2NumArray( ( Matrix[ T ].linPJac ).evalf( subs = sub1 ) ) "
     ],
     "language": "python",
     "metadata": {},
     "outputs": [],
     "prompt_number": 4
    },
    {
     "cell_type": "code",
     "collapsed": false,
     "input": [
      "sub1 = { state[ str( input_list[ k ] ) ] : (get_input_signals( time[ 2 ] - sim_begin ) )[ k ] for k in range( len( input_list ) ) }"
     ],
     "language": "python",
     "metadata": {},
     "outputs": [],
     "prompt_number": 7
    },
    {
     "cell_type": "code",
     "collapsed": false,
     "input": [
      "import scipy.integrate"
     ],
     "language": "python",
     "metadata": {},
     "outputs": [],
     "prompt_number": 5
    },
    {
     "cell_type": "code",
     "collapsed": false,
     "input": [
      "T = []\n",
      "Y = []\n",
      "R = scipy.integrate.ode( dervPWLnew )\n",
      "R.set_initial_value(y0 , 0 )\n",
      "while R.successful() and R.t < 1e-7:\n",
      "    R.integrate( R.t + 1e-10 )\n",
      "    Y.append( R.y )\n",
      "    T.append( R.t )"
     ],
     "language": "python",
     "metadata": {},
     "outputs": [],
     "prompt_number": 19
    },
    {
     "cell_type": "code",
     "collapsed": false,
     "input": [
      "for i in range( count ):\n",
      "    print min(numpy.array( numpy.linalg.eigvals(Matrix[ i ].linPJac)) )"
     ],
     "language": "python",
     "metadata": {},
     "outputs": [
      {
       "output_type": "stream",
       "stream": "stdout",
       "text": [
        "-8.38647736528e+12\n",
        "-8.30657218418e+12\n",
        "-8.21784133162e+12\n",
        "-8.1580099144e+12\n",
        "-8.13933317572e+12\n",
        "-8.13746975237e+12\n",
        "-8.13932565694e+12\n",
        "-8.15373131469e+12\n",
        "-8.18273091819e+12\n",
        "-8.23644190272e+12\n",
        "-8.30333632615e+12\n",
        "-8.36102688509e+12\n",
        "-8.41716187745e+12\n",
        "-8.47230400219e+12\n",
        "-8.53246067421e+12\n",
        "-8.56427945243e+12\n",
        "-8.59521816521e+12\n",
        "-8.6253305719e+12\n",
        "-8.65467267636e+12\n",
        "-8.68330171452e+12\n",
        "-8.71127601399e+12\n",
        "-8.73687347784e+12\n",
        "-8.76158855079e+12\n",
        "-8.77755932413e+12\n",
        "-8.79311433105e+12\n",
        "-8.80824406699e+12\n",
        "-8.82293898838e+12\n",
        "-8.83718949295e+12\n",
        "-8.84414504827e+12\n",
        "-8.85098587124e+12\n",
        "-8.85771070905e+12\n",
        "-8.86431834982e+12\n",
        "-8.87080754148e+12\n",
        "-8.877177044e+12\n",
        "-8.8834256171e+12\n",
        "-8.88955199364e+12\n",
        "-8.8955549257e+12\n",
        "-8.90143313455e+12\n",
        "-8.90718534672e+12\n",
        "-8.91281028046e+12\n",
        "-8.91830664924e+12\n",
        "-8.92367315718e+12\n",
        "-8.9289084995e+12\n",
        "-8.9340113712e+12\n",
        "-8.9389804559e+12\n",
        "-8.94381637704e+12\n",
        "-8.94855180737e+12\n",
        "-8.95325867097e+12\n",
        "-9.10610643218e+12\n",
        "-9.10611358866e+12\n",
        "-9.10611364773e+12\n"
       ]
      }
     ],
     "prompt_number": 25
    },
    {
     "cell_type": "code",
     "collapsed": false,
     "input": [
      "import time as TME\n"
     ],
     "language": "python",
     "metadata": {},
     "outputs": [],
     "prompt_number": 6
    },
    {
     "cell_type": "code",
     "collapsed": false,
     "input": [
      "begin = TME.time()\n",
      "intg_points = 10000\n",
      "intg_end = 2e-7\n",
      "time_check = numpy.linspace( 0, intg_end, intg_points)\n",
      "solnPWL = odeint(dervPWLnew, y0, time_check)\n",
      "end = TME.time()\n",
      "print \"Time taken:\", end - begin"
     ],
     "language": "python",
     "metadata": {},
     "outputs": [
      {
       "output_type": "stream",
       "stream": "stdout",
       "text": [
        "Excess work done on this call (perhaps wrong Dfun type).\n",
        "Run with full_output = 1 to get quantitative information.\n",
        "Time taken: 106.131371021\n"
       ]
      }
     ],
     "prompt_number": 9
    },
    {
     "cell_type": "code",
     "collapsed": false,
     "input": [
      "import time as TME"
     ],
     "language": "python",
     "metadata": {},
     "outputs": [
      {
       "output_type": "stream",
       "stream": "stdout",
       "text": [
        "\n"
       ]
      }
     ],
     "prompt_number": 34
    },
    {
     "cell_type": "code",
     "collapsed": false,
     "input": [
      "x = [] \n",
      "for TM in range(1,  len( time ) ) :\n",
      "\tinp_now = numpy.array(get_input_signals( time[ TM ] - sim_begin ))\n",
      "\tinp_org = numpy.array( get_input_signals( time[ TM - 1 ] - sim_begin ) )\n",
      "\tpercent =numpy.average(abs( (( inp_now - inp_org )/ inp_org )*100) )\n",
      "        \n",
      "    \n",
      "\tx.append( percent )\n",
      "a = (numpy.array( x ))\n",
      "print \"Summary of Run On\",(TME.localtime())[2],\"/\",(TME.localtime())[1],\"/\",(TME.localtime())[0],\"@\",(TME.localtime())[3],\":\",(TME.localtime())[4]\n",
      "print \"Number of points :\", count\n",
      "print \"State error (%): \", (delta/denominator )*100.0\n",
      "print \"Integration points:\",intg_points\n",
      "print \"Step of integration:\",intg_end / intg_points\n",
      "print \"Relative step size of input(%):\"\n",
      "print \"\\t\\tVar: \", a.var()\n",
      "print \"\\t\\tMean: \",a.mean()\n",
      "\n",
      "plt.plot( time[1:] ,x,'-o')\n",
      "plt.figsize( 10, 10 )\n",
      "plt.show()"
     ],
     "language": "python",
     "metadata": {},
     "outputs": [
      {
       "ename": "NameError",
       "evalue": "name 'intg_points' is not defined",
       "output_type": "pyerr",
       "traceback": [
        "\u001b[1;31m---------------------------------------------------------------------------\u001b[0m\n\u001b[1;31mNameError\u001b[0m                                 Traceback (most recent call last)",
        "\u001b[1;32m<ipython-input-35-bf39f38faba2>\u001b[0m in \u001b[0;36m<module>\u001b[1;34m()\u001b[0m\n\u001b[0;32m     11\u001b[0m \u001b[1;32mprint\u001b[0m \u001b[1;34m\"Number of points :\"\u001b[0m\u001b[1;33m,\u001b[0m \u001b[0mcount\u001b[0m\u001b[1;33m\u001b[0m\u001b[0m\n\u001b[0;32m     12\u001b[0m \u001b[1;32mprint\u001b[0m \u001b[1;34m\"State error (%): \"\u001b[0m\u001b[1;33m,\u001b[0m \u001b[1;33m(\u001b[0m\u001b[0mdelta\u001b[0m\u001b[1;33m/\u001b[0m\u001b[0mdenominator\u001b[0m \u001b[1;33m)\u001b[0m\u001b[1;33m*\u001b[0m\u001b[1;36m100.0\u001b[0m\u001b[1;33m\u001b[0m\u001b[0m\n\u001b[1;32m---> 13\u001b[1;33m \u001b[1;32mprint\u001b[0m \u001b[1;34m\"Integration points:\"\u001b[0m\u001b[1;33m,\u001b[0m\u001b[0mintg_points\u001b[0m\u001b[1;33m\u001b[0m\u001b[0m\n\u001b[0m\u001b[0;32m     14\u001b[0m \u001b[1;32mprint\u001b[0m \u001b[1;34m\"Step of integration:\"\u001b[0m\u001b[1;33m,\u001b[0m\u001b[0mintg_end\u001b[0m \u001b[1;33m/\u001b[0m \u001b[0mintg_points\u001b[0m\u001b[1;33m\u001b[0m\u001b[0m\n\u001b[0;32m     15\u001b[0m \u001b[1;32mprint\u001b[0m \u001b[1;34m\"Relative step size of input(%):\"\u001b[0m\u001b[1;33m\u001b[0m\u001b[0m\n",
        "\u001b[1;31mNameError\u001b[0m: name 'intg_points' is not defined"
       ]
      },
      {
       "output_type": "stream",
       "stream": "stdout",
       "text": [
        "Summary of Run On 21 / 4 / 2013 @ 18 : 41\n",
        "Number of points : 107\n",
        "State error (%):  0.53979190559\n",
        "Integration points:"
       ]
      }
     ],
     "prompt_number": 35
    },
    {
     "cell_type": "code",
     "collapsed": false,
     "input": [
      " \n",
      "#----------------------------------------------------------------------------------\n",
      "print \"Checking for stable reduced order models\"\n",
      "\n",
      "#redOrder ,moments = check_stability_MOR(count, state) # Add error checking to make it complete. \n",
      "redOrder = 2 \n",
      "moments = 2\n",
      "if redOrder < order :\n",
      "\tprint \"TPWL + MOR integration intiated.....\"\n",
      "\tsolnPWLMOR = odeint(dervPWLMOR, y0MOR( y0 , 0  ), time_check)\n",
      "\tsolnPWL =  [ LD2HD( time_check[ i ] , solnPWLMOR[ i ] ) for i in range( len( time_check) ) ]\n",
      "else :\n",
      "\tprint \"TPWL integration intiated.....\"\n",
      "\tsolnPWL = odeint(dervPWL, y0, time_check)\t\n",
      "#---------------------------------------------------------------------------------\n"
     ],
     "language": "python",
     "metadata": {},
     "outputs": [
      {
       "ename": "AttributeError",
       "evalue": "'numpy.ndarray' object has no attribute 'evalf'",
       "output_type": "pyerr",
       "traceback": [
        "\u001b[1;31m---------------------------------------------------------------------------\u001b[0m\n\u001b[1;31mAttributeError\u001b[0m                            Traceback (most recent call last)",
        "\u001b[1;32m<ipython-input-12-ed4149e54419>\u001b[0m in \u001b[0;36m<module>\u001b[1;34m()\u001b[0m\n\u001b[0;32m      8\u001b[0m \u001b[1;32mif\u001b[0m \u001b[0mredOrder\u001b[0m \u001b[1;33m<\u001b[0m \u001b[0morder\u001b[0m \u001b[1;33m:\u001b[0m\u001b[1;33m\u001b[0m\u001b[0m\n\u001b[0;32m      9\u001b[0m         \u001b[1;32mprint\u001b[0m \u001b[1;34m\"TPWL + MOR integration intiated.....\"\u001b[0m\u001b[1;33m\u001b[0m\u001b[0m\n\u001b[1;32m---> 10\u001b[1;33m         \u001b[0msolnPWLMOR\u001b[0m \u001b[1;33m=\u001b[0m \u001b[0modeint\u001b[0m\u001b[1;33m(\u001b[0m\u001b[0mdervPWLMOR\u001b[0m\u001b[1;33m,\u001b[0m \u001b[0my0MOR\u001b[0m\u001b[1;33m(\u001b[0m \u001b[0my0\u001b[0m \u001b[1;33m,\u001b[0m \u001b[1;36m0\u001b[0m  \u001b[1;33m)\u001b[0m\u001b[1;33m,\u001b[0m \u001b[0mtime_check\u001b[0m\u001b[1;33m)\u001b[0m\u001b[1;33m\u001b[0m\u001b[0m\n\u001b[0m\u001b[0;32m     11\u001b[0m         \u001b[0msolnPWL\u001b[0m \u001b[1;33m=\u001b[0m  \u001b[1;33m[\u001b[0m \u001b[0mLD2HD\u001b[0m\u001b[1;33m(\u001b[0m \u001b[0mtime_check\u001b[0m\u001b[1;33m[\u001b[0m \u001b[0mi\u001b[0m \u001b[1;33m]\u001b[0m \u001b[1;33m,\u001b[0m \u001b[0msolnPWLMOR\u001b[0m\u001b[1;33m[\u001b[0m \u001b[0mi\u001b[0m \u001b[1;33m]\u001b[0m \u001b[1;33m)\u001b[0m \u001b[1;32mfor\u001b[0m \u001b[0mi\u001b[0m \u001b[1;32min\u001b[0m \u001b[0mrange\u001b[0m\u001b[1;33m(\u001b[0m \u001b[0mlen\u001b[0m\u001b[1;33m(\u001b[0m \u001b[0mtime_check\u001b[0m\u001b[1;33m)\u001b[0m \u001b[1;33m)\u001b[0m \u001b[1;33m]\u001b[0m\u001b[1;33m\u001b[0m\u001b[0m\n\u001b[0;32m     12\u001b[0m \u001b[1;32melse\u001b[0m \u001b[1;33m:\u001b[0m\u001b[1;33m\u001b[0m\u001b[0m\n",
        "\u001b[1;32m<ipython-input-1-24a00113c7e3>\u001b[0m in \u001b[0;36my0MOR\u001b[1;34m(y, t)\u001b[0m\n\u001b[0;32m     52\u001b[0m         \u001b[0msub1\u001b[0m \u001b[1;33m=\u001b[0m \u001b[1;33m{\u001b[0m \u001b[0mstate\u001b[0m\u001b[1;33m[\u001b[0m \u001b[0mstr\u001b[0m\u001b[1;33m(\u001b[0m \u001b[0minput_list\u001b[0m\u001b[1;33m[\u001b[0m \u001b[0mk\u001b[0m \u001b[1;33m]\u001b[0m \u001b[1;33m)\u001b[0m \u001b[1;33m]\u001b[0m \u001b[1;33m:\u001b[0m \u001b[0minput_signals\u001b[0m\u001b[1;33m[\u001b[0m \u001b[0mk\u001b[0m \u001b[1;33m]\u001b[0m \u001b[1;32mfor\u001b[0m \u001b[0mk\u001b[0m \u001b[1;32min\u001b[0m \u001b[0mrange\u001b[0m\u001b[1;33m(\u001b[0m \u001b[0mlen\u001b[0m\u001b[1;33m(\u001b[0m \u001b[0minput_list\u001b[0m \u001b[1;33m)\u001b[0m \u001b[1;33m)\u001b[0m \u001b[1;33m}\u001b[0m\u001b[1;33m\u001b[0m\u001b[0m\n\u001b[0;32m     53\u001b[0m \u001b[1;33m\u001b[0m\u001b[0m\n\u001b[1;32m---> 54\u001b[1;33m         \u001b[0mredBasis\u001b[0m \u001b[1;33m,\u001b[0m \u001b[0mlinPValRed\u001b[0m\u001b[1;33m,\u001b[0m \u001b[0mlinPJacRed\u001b[0m \u001b[1;33m=\u001b[0m \u001b[0mget_redBasis\u001b[0m\u001b[1;33m(\u001b[0m  \u001b[0mt\u001b[0m \u001b[1;33m,\u001b[0m \u001b[0mmoments\u001b[0m \u001b[1;33m,\u001b[0m \u001b[0morder\u001b[0m\u001b[1;33m,\u001b[0m\u001b[0mredOrder\u001b[0m \u001b[1;33m)\u001b[0m\u001b[1;33m\u001b[0m\u001b[0m\n\u001b[0m\u001b[0;32m     55\u001b[0m \u001b[1;33m\u001b[0m\u001b[0m\n\u001b[0;32m     56\u001b[0m \u001b[1;33m\u001b[0m\u001b[0m\n",
        "\u001b[1;32m<ipython-input-1-24a00113c7e3>\u001b[0m in \u001b[0;36mget_redBasis\u001b[1;34m(t, moment, order, redOrder)\u001b[0m\n\u001b[0;32m     75\u001b[0m         \u001b[0msub1\u001b[0m \u001b[1;33m=\u001b[0m \u001b[1;33m{\u001b[0m \u001b[0mstate\u001b[0m\u001b[1;33m[\u001b[0m \u001b[0mstr\u001b[0m\u001b[1;33m(\u001b[0m \u001b[0minput_list\u001b[0m\u001b[1;33m[\u001b[0m \u001b[0mk\u001b[0m \u001b[1;33m]\u001b[0m \u001b[1;33m)\u001b[0m \u001b[1;33m]\u001b[0m \u001b[1;33m:\u001b[0m \u001b[0minput_signals\u001b[0m\u001b[1;33m[\u001b[0m \u001b[0mk\u001b[0m \u001b[1;33m]\u001b[0m \u001b[1;32mfor\u001b[0m \u001b[0mk\u001b[0m \u001b[1;32min\u001b[0m \u001b[0mrange\u001b[0m\u001b[1;33m(\u001b[0m \u001b[0mlen\u001b[0m\u001b[1;33m(\u001b[0m \u001b[0minput_list\u001b[0m \u001b[1;33m)\u001b[0m \u001b[1;33m)\u001b[0m \u001b[1;33m}\u001b[0m\u001b[1;33m\u001b[0m\u001b[0m\n\u001b[0;32m     76\u001b[0m \u001b[1;33m\u001b[0m\u001b[0m\n\u001b[1;32m---> 77\u001b[1;33m         \u001b[0mlinPVal\u001b[0m\u001b[1;33m=\u001b[0m\u001b[1;33m[\u001b[0m \u001b[0mSym2NumArray\u001b[0m\u001b[1;33m(\u001b[0m \u001b[1;33m(\u001b[0m \u001b[0mMatrix\u001b[0m\u001b[1;33m[\u001b[0m \u001b[0mi\u001b[0m \u001b[1;33m]\u001b[0m\u001b[1;33m.\u001b[0m\u001b[0mlinPVal\u001b[0m \u001b[1;33m)\u001b[0m\u001b[1;33m.\u001b[0m\u001b[0mevalf\u001b[0m\u001b[1;33m(\u001b[0m \u001b[0msubs\u001b[0m \u001b[1;33m=\u001b[0m \u001b[0msub1\u001b[0m \u001b[1;33m)\u001b[0m \u001b[1;33m)\u001b[0m  \u001b[1;32mfor\u001b[0m \u001b[0mi\u001b[0m \u001b[1;32min\u001b[0m \u001b[0mrange\u001b[0m\u001b[1;33m(\u001b[0m \u001b[0mcount\u001b[0m \u001b[1;33m)\u001b[0m\u001b[1;33m]\u001b[0m\u001b[1;33m\u001b[0m\u001b[0m\n\u001b[0m\u001b[0;32m     78\u001b[0m \u001b[1;33m\u001b[0m\u001b[0m\n\u001b[0;32m     79\u001b[0m         \u001b[0mlinPJac\u001b[0m\u001b[1;33m=\u001b[0m\u001b[1;33m[\u001b[0m \u001b[0mSym2NumArray\u001b[0m\u001b[1;33m(\u001b[0m \u001b[1;33m(\u001b[0m \u001b[0mMatrix\u001b[0m\u001b[1;33m[\u001b[0m \u001b[0mi\u001b[0m \u001b[1;33m]\u001b[0m\u001b[1;33m.\u001b[0m\u001b[0mlinPJac\u001b[0m \u001b[1;33m)\u001b[0m\u001b[1;33m.\u001b[0m\u001b[0mevalf\u001b[0m\u001b[1;33m(\u001b[0m \u001b[0msubs\u001b[0m \u001b[1;33m=\u001b[0m \u001b[0msub1\u001b[0m \u001b[1;33m)\u001b[0m \u001b[1;33m)\u001b[0m \u001b[1;32mfor\u001b[0m \u001b[0mi\u001b[0m \u001b[1;32min\u001b[0m \u001b[0mrange\u001b[0m\u001b[1;33m(\u001b[0m \u001b[0mcount\u001b[0m \u001b[1;33m)\u001b[0m \u001b[1;33m]\u001b[0m\u001b[1;33m\u001b[0m\u001b[0m\n",
        "\u001b[1;31mAttributeError\u001b[0m: 'numpy.ndarray' object has no attribute 'evalf'"
       ]
      },
      {
       "output_type": "stream",
       "stream": "stdout",
       "text": [
        "Checking for stable reduced order models\n",
        "TPWL + MOR integration intiated.....\n"
       ]
      }
     ],
     "prompt_number": 12
    },
    {
     "cell_type": "code",
     "collapsed": false,
     "input": [
      "normcalc(linP[2])"
     ],
     "language": "python",
     "metadata": {},
     "outputs": [
      {
       "output_type": "pyout",
       "prompt_number": 32,
       "text": [
        "array([  8.32196056e-02,   1.83814401e-01,   4.61110041e-01,\n",
        "         1.79904430e-01,   5.63698535e-02,   2.28205142e-02,\n",
        "         8.26764760e-03,   2.66459894e-03,   1.00140180e-03,\n",
        "         4.61619577e-04,   2.04794753e-04,   8.73289643e-05,\n",
        "         4.09245092e-05,   1.86620854e-05,   8.28743472e-06,\n",
        "         3.58712332e-06,   1.51484833e-06,   6.24826514e-07,\n",
        "         9.95094088e-08,   3.85142491e-08,   1.46288907e-08,\n",
        "         5.46089648e-09,   2.19464074e-09,   7.93845058e-10,\n",
        "         2.83143599e-10,   1.19032107e-10,   3.92806294e-11,\n",
        "         6.91059664e-12,   2.32571725e-12,   7.74044932e-13,\n",
        "         2.54931736e-13,   8.31466563e-14,   2.68773904e-14,\n",
        "         8.61960467e-15,   2.75053528e-15,   8.80135301e-16,\n",
        "         2.85578998e-16,   9.48671695e-17,   3.25028523e-17,\n",
        "         1.15682557e-17,   4.29810036e-18,   1.66580642e-18,\n",
        "         6.69851640e-19,   2.77494365e-19,   1.17589898e-19,\n",
        "         5.06483082e-20,   2.20313716e-20,   7.01123302e-21,\n",
        "         3.38774772e-21,   1.48671980e-21,   6.49464115e-22,\n",
        "         2.81816837e-22,   1.21236034e-22,   5.16173666e-23,\n",
        "         2.17164216e-23,   9.01698110e-24,   3.69109002e-24,\n",
        "         1.48830713e-24,   5.92196108e-25,   2.34519950e-25,\n",
        "         9.31829757e-26,   3.70427326e-26,   1.46166630e-26,\n",
        "         5.72297399e-27,   2.27755717e-27,   9.68732216e-28,\n",
        "         4.56015654e-28,   2.74953802e-28,   1.90970024e-28,\n",
        "         1.34753303e-28,   1.04164593e-28,   8.13790538e-29,\n",
        "         6.93182696e-29,   6.38364203e-29,   6.24594077e-29,\n",
        "         6.32400551e-29,   6.66267412e-29,   7.18458838e-29,\n",
        "         8.45727342e-29,   9.76608501e-29,   1.04937973e-28,\n",
        "         9.80480027e-29,   7.64656634e-29,   5.45970076e-29,\n",
        "         3.57591308e-29,   2.41977729e-29,   1.73182907e-29,\n",
        "         1.01732230e-29,   5.89460615e-30,   3.34226324e-30,\n",
        "         1.83697796e-30,   1.01434000e-30,   5.42434937e-31,\n",
        "         1.93087937e-31,   1.03253589e-31,   5.82700354e-32,\n",
        "         3.52063584e-32,   2.09324447e-32,   1.22906320e-32,\n",
        "         8.52732370e-33,   5.95218176e-33,   4.16520247e-33,\n",
        "         3.04983807e-33,   2.17461647e-33,   1.69059114e-33,\n",
        "         1.38018912e-33,   1.63784046e-33])"
       ]
      }
     ],
     "prompt_number": 32
    },
    {
     "cell_type": "code",
     "collapsed": false,
     "input": [
      "dervPWLnew( 0 , y0 )"
     ],
     "language": "python",
     "metadata": {},
     "outputs": [
      {
       "output_type": "pyout",
       "prompt_number": 28,
       "text": [
        "array([ -3.62658136e+07,   5.59614705e+07,  -5.62085932e+07,\n",
        "         1.10027018e+05,   1.21984243e+05,   9.89515223e+04,\n",
        "        -2.56374019e+08,   2.58290630e+08,   1.38870610e+07,\n",
        "        -5.55719943e+07,   8.33600448e+07,  -8.32380606e+04,\n",
        "         5.56709458e+04])"
       ]
      }
     ],
     "prompt_number": 28
    },
    {
     "cell_type": "code",
     "collapsed": false,
     "input": [
      "\n",
      "print \"Plotting results.....\"\t\n",
      "time_linp = [ float( i ) - sim_begin for i in time] \n",
      "C_ones = [i for i in range( len( stateorder ) ) if str( stateorder[ i ] ) in output_list ]\n",
      "intg_end = T[ -1 ]\n",
      "for k in range(len(C_ones)):\n",
      "    plt.figure(k)\n",
      "    calc, = plt.plot(T, numpy.array([ abs(float(Y[i][C_ones[k]])) for i in range(len(T) )] ), '--')\n",
      "    plt.ylabel(r'$V_{'+str(stateorder[C_ones[k]])+'}$' )\n",
      "    plt.xlabel(r'$time$')\n",
      "    x , y  = [], []\n",
      "    for i in import_text(file_voltage,\"\\t\"):\n",
      "        if (float( i[ 'time' ] ) < intg_end+sim_begin) and (float( i[ 'time' ]  )> sim_begin) :\n",
      "            y.append( i[ str( stateorder[ C_ones[ k ] ] ) ] ), x.append( float(i[ 'time' ])-sim_begin )\n",
      "    plt.ylabel(r'$V_{'+str(stateorder[C_ones[k]])+'}$' )\n",
      "    plt.xlabel(r'$time$')\n",
      "    #plt.title(str(cirname)+' output\\n MOR from '+str(order)+' to '+str(redOrder)+', Moments matched '+str(moments))\n",
      "    spice, = plt.plot(x,y)\n",
      "    plt.figsize(10,10)\n",
      "    plt.figlegend([calc,spice],('Calculated','Spice'),'lower right')\n",
      "    x_time , y_val = [], []\n",
      "    for i in range( count   ):\n",
      "        x_time.append(float( time_linp[ i ] ) )\n",
      "        y_val.append( float(datapoints[ i ] [str(stateorder[ C_ones[ k ] ] )]) )\n",
      "    plt.plot( x_time,y_val,'ro' )\n",
      "plt.show()\n",
      "\n",
      "\n",
      "\n",
      "#----------------------------------------------------------------------------------\n",
      "\n"
     ],
     "language": "python",
     "metadata": {},
     "outputs": [
      {
       "output_type": "stream",
       "stream": "stdout",
       "text": [
        "Plotting results.....\n"
       ]
      },
      {
       "output_type": "display_data",
       "png": "[encoded data removed]"
      }
     ],
     "prompt_number": 8
    },
    {
     "cell_type": "code",
     "collapsed": false,
     "input": [
      "\n",
      "print \"Plotting results.....\"\t\n",
      "time_linp = [ float( i ) - sim_begin for i in time] \n",
      "C_ones = [i for i in range( len( stateorder ) )]# if str( stateorder[ i ] ) in output_list ]\n",
      "intg_end = T[ -1 ]\n",
      "for k in range(len(C_ones)):\n",
      "    plt.figure(k)\n",
      "    calc, = plt.plot(T, numpy.array([ abs(float(Y[i][C_ones[k]])) for i in range(len(T) )] ), '--')\n",
      "    plt.ylabel(r'$V_{'+str(stateorder[C_ones[k]])+'}$' )\n",
      "    plt.xlabel(r'$time$')\n",
      "    x , y  = [], []\n",
      "    for i in import_text(file_voltage,\"\\t\"):\n",
      "        if (float( i[ 'time' ] ) < intg_end+sim_begin) and (float( i[ 'time' ]  )> sim_begin) :\n",
      "            y.append( i[ str( stateorder[ C_ones[ k ] ] ) ] ), x.append( float(i[ 'time' ])-sim_begin )\n",
      "    plt.ylabel(r'$V_{'+str(stateorder[C_ones[k]])+'}$' )\n",
      "    plt.xlabel(r'$time$')\n",
      "    #plt.title(str(cirname)+' output\\n MOR from '+str(order)+' to '+str(redOrder)+', Moments matched '+str(moments))\n",
      "    spice, = plt.plot(x,y)\n",
      "    plt.figsize(10,10)\n",
      "    plt.figlegend([calc,spice],('Calculated','Spice'),'lower right')\n",
      "    x_time , y_val = [], []\n",
      "    for i in range( count   ):\n",
      "        x_time.append(float( time_linp[ i ] ) )\n",
      "        y_val.append( float(datapoints[ i ] [str(stateorder[ C_ones[ k ] ] )]) )\n",
      "    plt.plot( x_time,y_val,'ro' )\n",
      "    #plt.savefig('./Diffamp_LTI/'+str(stateorder[C_ones[k]])+'.png')\n",
      "plt.show()\n",
      "\n",
      "\n",
      "#----------------------------------------------------------------------------------\n"
     ],
     "language": "python",
     "metadata": {},
     "outputs": [
      {
       "output_type": "stream",
       "stream": "stdout",
       "text": [
        "Plotting results.....\n"
       ]
      },
      {
       "output_type": "display_data",
       "png": "[encoded data removed]"
      },
      {
       "output_type": "display_data",
       "png": "[encoded data removed]"
      },
      {
       "output_type": "display_data",
       "png": "[encoded data removed]"
      },
      {
       "output_type": "display_data",
       "png": "[encoded data removed]"
      }
     ],
     "prompt_number": 10
    },
    {
     "cell_type": "code",
     "collapsed": false,
     "input": [
      "Matrix[ 0 ].linPVal"
     ],
     "language": "python",
     "metadata": {},
     "outputs": [
      {
       "output_type": "pyout",
       "prompt_number": 17,
       "text": [
        "array([[  1.88527917e+13],\n",
        "       [  5.23099235e+02],\n",
        "       [ -2.98379565e+03],\n",
        "       [ -5.60312190e-01],\n",
        "       [  8.80942711e-03],\n",
        "       [  8.80943498e-03],\n",
        "       [ -7.62807917e+02],\n",
        "       [  1.96959286e+03],\n",
        "       [ -6.28216984e+12],\n",
        "       [ -6.28531092e+12],\n",
        "       [ -6.28531092e+12],\n",
        "       [  6.28531092e+09],\n",
        "       [  6.28531092e+09]])"
       ]
      }
     ],
     "prompt_number": 17
    },
    {
     "cell_type": "code",
     "collapsed": false,
     "input": [
      "a.var()"
     ],
     "language": "python",
     "metadata": {},
     "outputs": [
      {
       "output_type": "pyout",
       "prompt_number": 57,
       "text": [
        "1.2805771945585425"
       ]
      }
     ],
     "prompt_number": 57
    },
    {
     "cell_type": "code",
     "collapsed": false,
     "input": [
      "from scipy.linalg import *\n",
      "from numpy import dot as nD\n",
      "from numpy import concatenate as nC\n",
      "import prettytable"
     ],
     "language": "python",
     "metadata": {},
     "outputs": [],
     "prompt_number": 140
    },
    {
     "cell_type": "code",
     "collapsed": false,
     "input": [
      "x = prettytable.PrettyTable( [\"Linearization point\",\"MinRealization\",\"Obs\",\"Cont\"] )"
     ],
     "language": "python",
     "metadata": {},
     "outputs": [],
     "prompt_number": 186
    },
    {
     "cell_type": "code",
     "collapsed": false,
     "input": [
      "#Z = 3\n",
      "from scipy.linalg import *\n",
      "for linpt in [1]:\n",
      "        t = time[ linpt ] - sim_begin\n",
      "\tinput_signals = get_input_signals( t ) \n",
      "\tsub1 = { state[ str( input_list[ k ] ) ] : input_signals[ k ] for k in range( len( input_list ) ) }\n",
      "\tval = Sym2NumArray( (Matrix[ linpt ].linPVal).evalf( subs = sub1 ))\n",
      "\tjac = Sym2NumArray( ( Matrix[ linpt ].linPJac).evalf( subs = sub1 ) )\t\n",
      "        \n",
      "\n",
      "\toffset = val  - (numpy.dot( jac, linP[ linpt ] )).reshape( order ,1 )\n",
      "\tBnew = numpy.concatenate( (offset , B[ linpt ]) , 1 )\n",
      "\tminR_A, minR_B, minR_C = minReal( jac , Bnew, C )\n",
      "\n",
      "\tcontGram = solve_lyapunov( minR_A,-numpy.dot( minR_B, transpose( minR_B ) ) )\n",
      "\n",
      "        print \"Positive def of CONT GRAM\",(numpy.array( [ i for i in numpy.linalg.eigvals(contGram ) ])).min()\n",
      "\n",
      "#         controlability(Bnew, jac , order )\n",
      "\n",
      "\tobsGram = solve_lyapunov( transpose( minR_A ) , -numpy.dot( transpose( minR_C ), minR_C  ) )\n",
      "\n",
      "#        print \"Positive def of OBS GRAM\",(numpy.array( [ i for i in numpy.linalg.eigvals(obsGram ) ])).min()\n",
      "\n",
      "\tLCGram = numpy.linalg.cholesky( contGram )\n",
      "\tLOGram = numpy.linalg.cholesky ( obsGram )\n",
      "\tU, eigenV , V = svd( numpy.dot( transpose( LOGram ) , LCGram ) )\n",
      "        CO_order = max( shape( minR_A ) )\n",
      "        #if CO_order < order :\n",
      "           # x.add_row( [linpt, True ] )\n",
      "        #else:\n",
      "            #x.add_row( [linpt, False ] )\n",
      "    \n",
      "        truncOrder = 1;\n",
      "#\tfor truncOrder in range( len( eigenV) ):\n",
      "#\t\tif eigenV[ 0 ] / eigenV[ truncOrder ] > 10 :\n",
      "\t#\t\ttruncOrder = truncOrder+1\n",
      "#\t\t\tbreak \n",
      "\n",
      "\tSigma = numpy.diag( numpy.array ( [ eigenV[ i ]**-0.5 for i in range( len( eigenV ) )  if i < truncOrder  ] ) )\n",
      "\tprint  truncOrder\n",
      "\tI1 = numpy.eye(truncOrder)\n",
      "\tI2 = numpy.zeros( (truncOrder, CO_order - truncOrder) ) \n",
      "\tTrunc = transpose( nC( (I1,I2 ) , 1) )\n",
      "\tVbasis = nD( LCGram, nD( V , nD( Trunc,  Sigma )) )\n",
      "\tWbasis = nD( LOGram , nD( U ,nD(Trunc, Sigma ) )) \n",
      "\tAgg  = nC( (Vbasis, Wbasis) , 1 )\n",
      "\t\t\n",
      "\tCol,eigenV, R = svd( Agg )\n"
     ],
     "language": "python",
     "metadata": {},
     "outputs": [
      {
       "output_type": "stream",
       "stream": "stdout",
       "text": [
        "Positive def of CONT GRAM 1.32807073331e+13\n",
        "1\n"
       ]
      }
     ],
     "prompt_number": 471
    },
    {
     "cell_type": "code",
     "collapsed": false,
     "input": [
      "eigenV"
     ],
     "language": "python",
     "metadata": {},
     "outputs": [
      {
       "output_type": "pyout",
       "prompt_number": 472,
       "text": [
        "array([  6.77655169e+08,   2.13558449e-09])"
       ]
      }
     ],
     "prompt_number": 472
    },
    {
     "cell_type": "code",
     "collapsed": false,
     "input": [
      "from numpy import dot as nD\n",
      "from numpy import concatenate as nC"
     ],
     "language": "python",
     "metadata": {},
     "outputs": [],
     "prompt_number": 19
    },
    {
     "cell_type": "code",
     "collapsed": false,
     "input": [
      "\n",
      "t = time[ Z ]-sim_begin\n",
      "for linpt in range( count ) :\n",
      "\tinput_signals = get_input_signals( t ) \n",
      "\tsub1 = { state[ str( input_list[ k ] ) ] : input_signals[ k ] for k in range( len( input_list ) ) }\n",
      "\tval = Sym2NumArray( (Matrix[ linpt ].linPVal).evalf( subs = sub1 ))\n",
      "\tjac = Sym2NumArray( ( Matrix[ linpt ].linPJac).evalf( subs = sub1 ) )\t\n",
      "\tif  (numpy.array(numpy.linalg.eigvals( jac ))).max() > 0 :\n",
      "\t\tprint \"Unstable\", linpt"
     ],
     "language": "python",
     "metadata": {},
     "outputs": [],
     "prompt_number": 16
    },
    {
     "cell_type": "code",
     "collapsed": false,
     "input": [
      "def observability( C , A  ):\n",
      "\t''' Checks for the observability of the system. \n",
      "\tReturns:\n",
      "\tObservability matrix \n",
      "\tTrue : if full rank\n",
      "\tFalse : if rank deficient '''\n",
      "\n",
      "\tstart = [ C ]\n",
      "\torder = (shape( A ))[ 0 ]\n",
      "\tfor i in range( order - 1 ) :\n",
      "\t\tstart.append( nD( start[ -1 ], A ) )\n",
      "\tobs = nC( start , 0 )\n",
      "\tif( matrix_rank( obs) < order ) :\n",
      "\t\treturn obs, False\n",
      "\telse:\n",
      "\t\treturn obs, True"
     ],
     "language": "python",
     "metadata": {},
     "outputs": [],
     "prompt_number": 5
    },
    {
     "cell_type": "code",
     "collapsed": false,
     "input": [
      "def controlability( B, A ):\n",
      "\t''' Returns the controllability matrix and also checks its rank\n",
      "\treturns \n",
      "\tFalse : if rank deficient\n",
      "\tTrue : if full rank '''\n",
      "\tstart = [ B ] \n",
      "\torder = (shape( A ))[ 0 ]\n",
      "\tfor i in range( order -1 ):\n",
      "\t\tstart.append( nD( A, start[ -1 ] ) )\n",
      "\tcont = nC( start,1 )\n",
      "    \tif ( matrix_rank( cont ) < order ):\n",
      "\t\treturn cont, False\n",
      "\telse :\n",
      "\t\treturn cont, True"
     ],
     "language": "python",
     "metadata": {},
     "outputs": [],
     "prompt_number": 6
    },
    {
     "cell_type": "code",
     "collapsed": false,
     "input": [
      "def columnProj( column , vect ,ret ):\n",
      "\t''' Generates the column-space projection of the vector onto the space spanned by columns of column.\n",
      "\t ret = 1 : returns the coefficients of the projection\n",
      "\t ret = 0 : returns the projection in standard basis'''\n",
      "\tif ret == 0:\n",
      "\t\treturn numpy.dot( column, numpy.dot(numpy.linalg.inv(numpy.dot(column.T, column )), numpy.dot( column.T,vect ) ) )\n",
      "\telse:\n",
      "\t\treturn numpy.dot(numpy.linalg.inv(numpy.dot(column.T, column )), numpy.dot( column.T,vect ) ) "
     ],
     "language": "python",
     "metadata": {},
     "outputs": [],
     "prompt_number": 7
    },
    {
     "cell_type": "code",
     "collapsed": false,
     "input": [
      "def columspace( mat ):\n",
      "\t''' Generates the Unitary basis vectors which span the column space of the given matrix'''\n",
      "\tcol,eigen,row = numpy.linalg.svd(mat)\n",
      "\treturn col[:,:matrix_rank(mat)]"
     ],
     "language": "python",
     "metadata": {},
     "outputs": [],
     "prompt_number": 8
    },
    {
     "cell_type": "code",
     "collapsed": false,
     "input": [
      "def nullspace( mat ):\n",
      "\t'''Generates the Unitary basis for the null-space of the given matrix'''\n",
      "\tcol, eigen, row = numpy.linalg.svd( mat )    \n",
      "\treturn (row.T)[:,(matrix_rank(mat)):]"
     ],
     "language": "python",
     "metadata": {},
     "outputs": [],
     "prompt_number": 9
    },
    {
     "cell_type": "code",
     "collapsed": false,
     "input": [
      "def KalmanBasis( check_A, check_B, check_C ):\n",
      "\t''' This function also produces Kalman basis but the generation of basis is slightly abmiguous, use KalmanBasisNew for the latest methods for basis generation'''\n",
      "\tcheck_cont , bool_cont = controlability( check_B , check_A )\n",
      "\tcheck_obs, bool_obs = observability( check_C, check_A )\n",
      "\n",
      "\trange_cont = columspace( check_cont ) \n",
      "\tnull_obs = nullspace( check_obs )\n",
      "\tinter = numpy.concatenate(( numpy.eye(matrix_rank(range_cont) ), numpy.zeros( (matrix_rank( range_cont) , matrix_rank( null_obs ) ) ) ) , 1)\n",
      "\tinterBasis = numpy.dot( numpy.dot( range_cont, inter ), nullspace( numpy.concatenate( (range_cont,null_obs) , 1 ) ) )\n",
      "\n",
      "\tdim_int = min(shape(interBasis))\n",
      "\tdim_C = min( shape( range_cont ) )\n",
      "\tdim_N = min( shape( null_obs ) )\n",
      "\n",
      "\tT1 = range_cont[:,:(dim_C - dim_int)]\n",
      "\tT2 = interBasis[: , :dim_int]\n",
      "\tT4 = null_obs[: , dim_int: dim_N]\n",
      "\tT3 = nullspace( ( numpy.concatenate( (T1, T2,T4 ), 1 ) ).T)\n",
      "\n",
      "\tKBasis = numpy.concatenate( (T1,T2,T3,T4) , 1 )\n",
      "\t\n",
      "\treturn KBasis, min( shape( T1 ) ) , min( shape( T2 ) ), min( shape( T3 ) ), min( shape( T4 ) ) "
     ],
     "language": "python",
     "metadata": {},
     "outputs": [],
     "prompt_number": 10
    },
    {
     "cell_type": "code",
     "collapsed": false,
     "input": [
      "def removeBasis( space, basis ):\n",
      "\t''' Removes the mentioned basis and provides the remaining basis from the subspace.\n",
      "\treturns basis which is unitary in the remaining space'''    \n",
      "\tto_remove = columnProj( space, basis, 1 ) \n",
      "\tnull = nullspace( to_remove.T )\n",
      "\treturn numpy.dot( space, null )"
     ],
     "language": "python",
     "metadata": {},
     "outputs": [],
     "prompt_number": 11
    },
    {
     "cell_type": "code",
     "collapsed": false,
     "input": [
      "def intersection( space1 , space2 ):\t\n",
      "\t''' Finds the basis for the intersection of two spaces'''\n",
      "\tinter = numpy.concatenate(( numpy.eye(matrix_rank(space1) ), numpy.zeros( (matrix_rank( space1) , matrix_rank( space2 ) ) ) ) , 1)\n",
      "\tinterBasis = numpy.dot( numpy.dot( space1, inter ), nullspace( numpy.concatenate( (space1,space2) , 1 ) ) )\n",
      "\treturn interBasis"
     ],
     "language": "python",
     "metadata": {},
     "outputs": [],
     "prompt_number": 12
    },
    {
     "cell_type": "code",
     "collapsed": false,
     "input": [
      "def BasisTrans( A,B, C, Basis ):\n",
      "\t''' Produces the state space after a similarity transformation'''\n",
      "\tnew_A = numpy.dot( numpy.dot(numpy.linalg.inv( Basis ), A ), Basis )\n",
      "\tnew_B = numpy.dot( numpy.linalg.inv(Basis) , B )\n",
      "\tnew_C = numpy.dot( C , Basis )\n",
      "\treturn new_A , new_B , new_C "
     ],
     "language": "python",
     "metadata": {},
     "outputs": [],
     "prompt_number": 14
    },
    {
     "cell_type": "code",
     "collapsed": false,
     "input": [
      "cont , cont_bool = controlability(  check_B, check_A )\n",
      "obs, obs_bool = observability ( check_C, check_A )\n",
      "range_cont = columspace( cont )\n",
      "null_obs = nullspace( obs )\n",
      "intersection( range_cont ,null_obs )\n"
     ],
     "language": "python",
     "metadata": {},
     "outputs": [
      {
       "output_type": "pyout",
       "prompt_number": 24,
       "text": [
        "matrix([[  2.04124145e-01],\n",
        "        [  6.12372436e-01],\n",
        "        [  2.04124145e-01],\n",
        "        [  1.05665476e-13],\n",
        "        [  1.30080408e-13],\n",
        "        [  2.04124145e-01]])"
       ]
      }
     ],
     "prompt_number": 24
    },
    {
     "cell_type": "code",
     "collapsed": false,
     "input": [
      "def KalmanBasisNew( check_A, check_B, check_C ):\n",
      "\t''' This produces the Kalman Basis needed for a kalman decomposition of the system, which is used for a minimal realization of the state space\n",
      "\t+---------------------+---------------+-------------------+-----------+--------------+\n",
      "\t|      Conditions     |       T1      |         T2        |     T3    |      T4      |\n",
      "\t+---------------------+---------------+-------------------+-----------+--------------+\n",
      "\t|        R, !N        |     R( C )    |         *         |  ~R( C )  |      *       |\n",
      "\t|  ( R N ) full rank  |     R( C )    |         *         |     *     |    N( O )    |\n",
      "\t|   ( R N ) low rank  |     R( C )    |         *         |  ~( R N ) |    N( O )    |\n",
      "\t|       Kalman        |  R( C ) - T2  | R( C ) int N( O ) |  ~( R N ) | N( O ) - T2  |\n",
      "\t+---------------------+---------------+-------------------+-----------+--------------+\t'''\n",
      "\n",
      "\tcheck_cont , bool_cont = controlability( check_B , check_A )\n",
      "\tcheck_obs, bool_obs = observability( check_C, check_A )\n",
      "\n",
      "\trange_cont = columspace( check_cont ) \n",
      "\tnull_obs = nullspace( check_obs )\n",
      "\n",
      "\n",
      "\t# The system has R( Cont ) but has not N( Obs ) => Fully observable but not controllable. Similarity Transform into Cont basis can finish the job.\n",
      "\t\n",
      "\tif not bool_obs :\n",
      "\t\tinterBasis = intersection( range_cont , null_obs )\n",
      "\telse :\n",
      "\t\tprint \"Completely Observable system + Uncontrollable system\"\n",
      "\t\tnew_A , new_B, new_C, KBasis = ContSpace( check_A, check_B, check_C , False )\n",
      "\t\treturn KBasis, matrix_rank( check_cont ) , 0,0, matrix_rank( check_obs ) - matrix_rank( check_cont )\n",
      "\t\n",
      "\t\n",
      "\tdim_int = min(shape(interBasis))\n",
      "\tdim_C = min( shape( range_cont ) )\n",
      "\tdim_N = min( shape( null_obs ) )\n",
      "\t\t\n",
      "\tT2 = interBasis[: , 0:dim_int]\n",
      "\n",
      "\tif min( shape( T2 ) ) == 0:\n",
      "\t\tT1 = range_cont\n",
      "\t\tT4 = null_obs\n",
      "\t\tif matrix_rank( nC( (T1,T4), 1 ) ) == max( shape( check_A ) ):\n",
      "\t\t\treturn nC( ( T1, T4 ) ,1 ), min( shape( T1 ) ), 0, 0, min(shape(T4) ) \n",
      "\t\telse :\n",
      "\t\t\tT3 = nullspace ( ( nC( ( T1,T4) , 1 ) ).T )\n",
      "\t\t\treturn nC( (T1,T3,T4) , 1 ) , min( shape( T1 ) ), 0 ,min( shape( T3 ) ),min( shape( T4 ) )\n",
      "\t\n",
      "\telse :\t\n",
      "\n",
      "\t# The system has R( Cont ) and N( Obs ) => Usual Kalman Decomposition can take place.\n",
      "\t\tT1 = removeBasis( range_cont, T2 )\n",
      "\t\tT4 = removeBasis( null_obs , T2 )    \n",
      "\t\tT3 = nullspace( ( numpy.concatenate( (T1, T2,T4 ), 1 ) ).T)\n",
      "\n",
      "\n",
      "\n",
      "\t\tKBasis = numpy.concatenate( (T1,T2,T3,T4) , 1 )\n",
      "\n",
      "\t\treturn KBasis, min( shape( T1 ) ) , min( shape( T2 ) ), min( shape( T3 ) ), min( shape( T4 ) ) "
     ],
     "language": "python",
     "metadata": {},
     "outputs": [],
     "prompt_number": 304
    },
    {
     "cell_type": "code",
     "collapsed": false,
     "input": [
      "from numpy.linalg import inv as nI\n",
      "def KBasisContObs( check_A, check_B, check_C ):\n",
      "\t''' This produces the Kalman Basis needed for a kalman decomposition of the system, which is used for a minimal realization of the state space'''\n",
      "\n",
      "\t# Using a different algorithm than the one previously mentioned. \n",
      "\t# This algorithm makes controllability and then moves over to observability \n",
      "\t# This makes it very easy to implement\n",
      "\n",
      "\n",
      "\tcheck_cont , bool_cont = controlability( check_B , check_A )\n",
      "\tcheck_obs, bool_obs = observability( check_C, check_A )\n",
      "\n",
      "\trange_cont = columspace( check_cont ) \n",
      "\tnull_obs = nullspace( check_obs )\n",
      "\n",
      "\tif bool_obs and bool_cont:\n",
      "\t\tprint \" Minimal realization already\"\n",
      "\t\treturn numpy.eye( max( shape( check_A ) ) ), max( shape( check_A ) ) , max( shape( check_A ) ),max( shape( check_A ) ),max( shape( check_A ) )\n",
      "\n",
      "\telse:\n",
      "\t\tCont_A, Cont_B , Cont_C , Cont_col = ContSpace( check_A, check_B, check_C,False)\n",
      "\t    \n",
      "\t#print Cont_A, Cont_B , Cont_C\n",
      "\n",
      "# Stage I : Checking for Controllablity\n",
      "#-------------------------------------\n",
      "\n",
      "\tC = matrix_rank( range_cont )\n",
      "\n",
      "\tACont,BCont, CCont = Cont_A[ :C , :C] , Cont_B[ :C , : ],Cont_C[ : , :C ]\n",
      "\n",
      "\tAUncont, BUncont, CUncont = Cont_A[ C: , C: ] ,Cont_B[ C: , : ], Cont_C[ :, C: ]\n",
      "\n",
      "#\tprint AUncont, BUncont, CUncont\n",
      "\n",
      "# Stage II : checking for Observability\n",
      "#-------------------------------------\n",
      "\n",
      "\t# Stage II ( a ) : Checking for Observablity of Controllable states\n",
      "\t#--------------------------------------------------------------------\n",
      "\n",
      "\tcheck_obs , bool_obs = observability ( CCont, ACont )\n",
      "\n",
      "\tObsACont, ObsBCont, ObsCCont , ObsCont_row = ObsSpace( ACont, BCont , CCont ,False ) # Observable from Controllable\n",
      "\n",
      "\t#print ObsACont, ObsBCont, ObsCCont\n",
      "\t\n",
      "\tO = matrix_rank( check_obs )\n",
      "\n",
      "\tAObsCont,BObsCont, CObsCont = ObsACont[ :O , :O],ObsBCont[ :O , : ] , ObsCCont[ : , :O ]\n",
      "\n",
      "\t# Stage II ( b ) : Checking for Observability of Uncontrollable states \n",
      "\t#---------------------------------------------------------------------\n",
      "\n",
      "\tcheck_obs , bool_obs = observability ( CUncont, AUncont ) \n",
      "\n",
      "\tObsAUncont, ObsBUncont, ObsCUncont , ObsUncont_row = ObsSpace( AUncont, BUncont , CUncont ,False ) # Observable from Uncontrollable\n",
      "\n",
      "#\tprint ObsAUncont, ObsBUncont, ObsCUncont\n",
      "\n",
      "\tO = matrix_rank( check_obs )\n",
      "\n",
      "\tAObsUncont, BOBsUncont, CObsUncont = ObsAUncont[ :O , :O] ,ObsBUncont[ :O , : ] , ObsCUncont[ : , :O ]\n",
      "\n",
      "\t# Stage III : Putting it all together, finding the basis of transformation\n",
      "\t#---------------------------------------------------------------------------\n",
      "\n",
      "\tZ1 = numpy.matrix( numpy.zeros( ( shape( nI(ObsCont_row) ) [ 0 ] , shape( nI(ObsUncont_row) ) [ 1 ]) ) )\n",
      "\tZ2 = numpy.matrix( numpy.zeros( ( shape( nI(ObsUncont_row) ) [ 0 ] , shape( nI(ObsCont_row) ) [ 1 ]) ) )\n",
      "\n",
      "\tPO = nC( ( nC( (nI(ObsCont_row),Z1) ,1 ) , nC( (Z2,nI(ObsUncont_row)) ,1 ) ),0 )\n",
      "\tKbasis = nD( PO , nI(Cont_col) )\n",
      "\t# Truncate output : AObsCont, BObsCont, CObsCont\n",
      "\treturn Kbasis.I , max( shape( AObsCont ) ) , max( shape(BObsCont) ), max( shape( CObsCont ) )"
     ],
     "language": "python",
     "metadata": {},
     "outputs": [],
     "prompt_number": 443
    },
    {
     "cell_type": "code",
     "collapsed": false,
     "input": [
      "def minReal( check_A , check_B, check_C , method = 'k'):\n",
      "\t''' Produces the minimal realization of the state space using Kalman decomposition procedure\n",
      "\tReturns only the space which is both controllable and observable'''\n",
      "\n",
      "\tif method == 'k':\n",
      "\t\tKBasis , CO , C_O , _CO , _C_O = KalmanBasisNew( check_A , check_B, check_C )\n",
      "\telse :\n",
      "\t\tKBasis , CO , C_O , _CO  = KBasisContObs( check_A , check_B, check_C )\n",
      "#        print matrix_rank( KBasis ) \n",
      "\tnew_A, new_B , new_C = BasisTrans( check_A , check_B, check_C , KBasis )\n",
      "\tminR_A = new_A[:CO, :CO]\n",
      "\tminR_B = new_B[ :CO, : ]\n",
      "\tminR_C = new_C[ :, :CO ]\n",
      "\treturn minR_A, minR_B, minR_C"
     ],
     "language": "python",
     "metadata": {},
     "outputs": [],
     "prompt_number": 436
    },
    {
     "cell_type": "code",
     "collapsed": false,
     "input": [
      "def ContSpace( A , B ,C ,conv=True):\n",
      "    '''Does a basis transformation into the space where Controllable and Uncontrollable states are orthogonal '''\n",
      "    cont, cont_bool = controlability( B , A )\n",
      "    col , eigen , row = numpy.linalg.svd( cont )\n",
      "    new_A , new_B , new_C = BasisTrans(A , B , C , col )\n",
      "    if conv :\n",
      "        return new_A, new_B, new_C\n",
      "    else :\n",
      "        return new_A, new_B, new_C, col"
     ],
     "language": "python",
     "metadata": {},
     "outputs": [],
     "prompt_number": 302
    },
    {
     "cell_type": "code",
     "collapsed": false,
     "input": [
      "def ObsSpace( A, B, C,conv=True ):\n",
      "    '''Does a basis transformation into the space where Observable and Unobservable states are orthogonal '''\n",
      "    obs, obs_bool = observability( C ,A )\n",
      "    col, eigen, row = numpy.linalg.svd( obs )\n",
      "    new_A , new_B, new_C = BasisTrans( A, B,C, row.T )\n",
      "    if conv :\n",
      "        return new_A , new_B, new_C\n",
      "    else :\n",
      "        return new_A , new_B, new_C,row.T"
     ],
     "language": "python",
     "metadata": {},
     "outputs": [],
     "prompt_number": 303
    }
   ],
   "metadata": {}
  }
 ]
}