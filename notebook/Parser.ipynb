{
 "metadata": {
  "name": "Parser"
 },
 "nbformat": 3,
 "nbformat_minor": 0,
 "worksheets": [
  {
   "cells": [
    {
     "cell_type": "markdown",
     "metadata": {},
     "source": [
      "## Importing all external libraries"
     ]
    },
    {
     "cell_type": "code",
     "collapsed": false,
     "input": [
      "import sympy"
     ],
     "language": "python",
     "metadata": {},
     "outputs": [],
     "prompt_number": 2
    },
    {
     "cell_type": "markdown",
     "metadata": {},
     "source": [
      "##Functions"
     ]
    },
    {
     "cell_type": "code",
     "collapsed": false,
     "input": [
      "import csv\n",
      "def import_text(filename, separator):\n",
      "    reader= csv.DictReader(open(filename), delimiter=separator, skipinitialspace=True)\n",
      "    for line in reader:\n",
      "        if line:\n",
      "            yield line"
     ],
     "language": "python",
     "metadata": {},
     "outputs": [],
     "prompt_number": 3
    },
    {
     "cell_type": "markdown",
     "metadata": {},
     "source": [
      "####Needs revision Temporarily fixed"
     ]
    },
    {
     "cell_type": "code",
     "collapsed": false,
     "input": [
      "def get_steadystate(filename,initialcond,stateorder,error):\n",
      "    pre=[float(initialcond[str(stateorder[k])]) for k in range(13)]\n",
      "    count=0\n",
      "    for data in import_text(filename,'\\t'):\n",
      "        curt=[float(data[str(stateorder[k])]) for k in range(13)]\n",
      "        diff=numpy.linalg.norm(numpy.array(pre)-numpy.array(curt))\n",
      "        pre=curt\n",
      "        #print \"Difference:\\t\",diff\n",
      "        #print \"Time:\\t\",data['time'],\"\\n\"\n",
      "        if(float(data['time'])==4.796677620601137e-006):\n",
      "            return curt\n",
      "       \n",
      "     "
     ],
     "language": "python",
     "metadata": {},
     "outputs": [],
     "prompt_number": 4
    },
    {
     "cell_type": "code",
     "collapsed": false,
     "input": [
      "def get_states(filename):\n",
      "    \"\"\" Provide absolute path to the waveforms file\n",
      "         Returns states\"\"\"\n",
      "    initialcond=get_initialcond(filename)\n",
      "    state={}\n",
      "    state['0']=sympy.Symbol('0')\n",
      "    for ind in initialcond.keys():\n",
      "        state[ind]=sympy.Symbol(ind)\n",
      "    return state"
     ],
     "language": "python",
     "metadata": {},
     "outputs": [],
     "prompt_number": 5
    },
    {
     "cell_type": "code",
     "collapsed": false,
     "input": [
      "def get_initialcond(filename):\n",
      "    for data in import_text(filename,'\\t'):\n",
      "        if(float(data['time'])==0):\n",
      "            return data"
     ],
     "language": "python",
     "metadata": {},
     "outputs": [],
     "prompt_number": 6
    },
    {
     "cell_type": "code",
     "collapsed": false,
     "input": [
      "def get_stateorder(state):\n",
      "    stateorder=sympy.Matrix([(state['n001']),(state['n002']),(state['n005']),(state['cfmb2']),(state['vom']),(state['vop']),(state['n009']),(state['n007']),(state['cmfb1']),(state['out1neg']),(state['out1pos']),(state['ig9']),(state['ig7'])])\n",
      "    return stateorder"
     ],
     "language": "python",
     "metadata": {},
     "outputs": [],
     "prompt_number": 7
    },
    {
     "cell_type": "code",
     "collapsed": false,
     "input": [
      "def get_linpdiff(initial,steady,stateorder):\n",
      "    init=[float(initial[str(stateorder[k])]) for k in range(13) ]\n",
      "    return numpy.linalg.norm(numpy.array(init)-steady)/numpy.linalg.norm(init)"
     ],
     "language": "python",
     "metadata": {},
     "outputs": [],
     "prompt_number": 8
    },
    {
     "cell_type": "code",
     "collapsed": false,
     "input": [
      "def get_linPoints(filename,initialcond,delta):\n",
      "    pre=numpy.array([float(initialcond[str(stateorder[k])]) for k in range(13)])\n",
      "    count=0\n",
      "    time=[]\n",
      "    for i in import_text(filename,'\\t'):\n",
      "        cur=numpy.array([float(i[str(stateorder[k])]) for k in range(13)])\n",
      "        diff=abs(numpy.linalg.norm(pre-cur)/numpy.linalg.norm(pre))\n",
      "        if(diff>=delta):\n",
      "            pre=cur\n",
      "            count=count+1\n",
      "            print count,\") Difference is :\",diff,\"Time\",i['time']\n",
      "            time.append(float(i['time']))\n",
      "            \n",
      "     \n",
      "    return count,time\n",
      "        "
     ],
     "language": "python",
     "metadata": {},
     "outputs": [],
     "prompt_number": 9
    },
    {
     "cell_type": "code",
     "collapsed": false,
     "input": [
      "def Sym2NumArray(F):\n",
      "#Function to convert symbolic expression with numerical data to numpy array \n",
      "    shapeF=F.shape\n",
      "    B=numpy.zeros(shapeF)\n",
      "    for i in range(0,shapeF[0]):\n",
      "        for j in range(0,shapeF[1]):\n",
      "            B[i,j]=sympy.N(F[i,j])\n",
      "    return B"
     ],
     "language": "python",
     "metadata": {},
     "outputs": [],
     "prompt_number": 10
    },
    {
     "cell_type": "code",
     "collapsed": false,
     "input": [
      "def region(MOS,drain,gate,source):\n",
      "    th=0.477\n",
      "    if MOS=='CMOSP':\n",
      "        if(source<(gate+th)):\n",
      "            return 'c'\n",
      "        elif((source>=(gate+th)) & (drain>=(gate+th))):\n",
      "            return 'l'\n",
      "        elif((source>=(gate+th)) & (drain<(gate+th))):\n",
      "            return 's'\n",
      "    \n",
      "    if MOS=='CMOSN':\n",
      "        if(gate<(source+th)):\n",
      "            return 'c'\n",
      "        elif((gate>=(source+th)) & (drain<=(gate-th))):\n",
      "            return 'l'\n",
      "        elif((gate>=(source+th)) & (drain>(gate-th))):\n",
      "            return 's'\n",
      "               "
     ],
     "language": "python",
     "metadata": {},
     "outputs": [],
     "prompt_number": 11
    },
    {
     "cell_type": "code",
     "collapsed": false,
     "input": [
      "def current(information,state,point,vth):\n",
      "    d=state[information[1]]\n",
      "    g=state[information[2]]\n",
      "    s=state[information[3]]\n",
      "    p=re.compile('(l|w|=|u)')\n",
      "    w=float(p.sub('',information[5]))\n",
      "    l=float(p.sub('',information[6]))\n",
      "    vth=float(vth)\n",
      "    #cur=abs(float(cur))\n",
      "    sub1={state[i]:datapoints[point][i] for i in state}\n",
      "    \n",
      "    if(information[4]=='CMOSP'):\n",
      "        if(information[0]=='c'):\n",
      "            return 0\n",
      "        elif(information[0]=='s'):\n",
      "            cc=(43e-6) * (w / l) * ((g**2) + (1 - 2 * vth * 0.09) * (s**2) + (vth**2) + ((0.09 * vth - 1) * 2 * g * s) + (2 * g * vth) + (-2 * vth + 0.09 * vth**2) * s - (0.09 * d * vth**2) - (0.09 * d * g**2) -  (0.09 * d * s**2) + ( 2 * g * s * 0.09 * d) - (2 * g * vth * 0.09 * d) + ( 2* s * vth * 0.09 * d ) + (0.09 * s * g**2) + (0.09 * s**3) - (0.09 * 2 * g * s**2))\n",
      "            return cc\n",
      "        elif(information[0]=='l'):\n",
      "            cc=(86e-6) * (w / l) * ((0.5 * s**2) - (0.5 * d**2) - (g * s) - (s * vth) + (g * d) + (d * vth) + (0.09 * 0.5 * s**3) - (0.09 * s * 0.5 * d**2) - (0.09 * g * s**2) - (s**2 * 0.09 * vth) + (2 * 0.09 * s * g * d) + (2 * 0.09 * s * d * vth) - (0.5 * d * 0.09 * s**2) + (0.5 * 0.09 * d**3) - (0.09 * g * d**2) - (0.09 * d**2 *vth))\n",
      "            return  cc\n",
      "        \n",
      "    if(information[4]=='CMOSN'):\n",
      "        if(information[0]=='c'):\n",
      "            return 0\n",
      "        elif(information[0]=='s'):\n",
      "            cc = (0.5 * 285e-6) * (w / l) * ((g**2) + (1-2 * vth * 0.14) * (s**2) + (vth**2) + ((0.14 * vth - 1) * 2 * g * s) - (2 * g * vth) + (2 * vth - 0.14 * vth**2) * s + (0.14 * d * vth**2) + (0.14 * d * g**2) + (0.14 * d * s**2) - (2 * g * s * 0.14 * d) - (2 * g * vth * 0.14 * d) + (2 * s * vth * 0.14 * d) - (0.14 * s * g**2) - (0.14 * s**3) + (0.14 * 2 * g * s**2))\n",
      "            return cc\n",
      "        elif(information[0]=='l'):\n",
      "            cc=(285e-6) * (w / l) * ((g * d) - (s * g) + (0.5 * s**2) - (vth * d) + (vth * s) - (0.5 * d**2) + (0.14 * g * d**2) - (2 * 0.14 * d * s * g) + (0.5 * 0.14 * d * s**2) - (0.14 * vth * d**2) + (2 * 0.14 * d * vth * s) - (0.5 * 0.14 * d**3) + (s**2 *g * 0.14) - (0.5 * 0.14 * s**3) - (0.14 * s**2 * vth) + (0.5 * 0.14 * s * d**2))\n",
      "            return cc"
     ],
     "language": "python",
     "metadata": {},
     "outputs": [],
     "prompt_number": 12
    },
    {
     "cell_type": "code",
     "collapsed": false,
     "input": [
      "initial=get_initialcond('./Data/voltage_diffamp.txt')\n",
      "state=get_states('./Data/voltage_diffamp.txt')\n",
      "stateorder=get_stateorder(state)\n",
      "steadystate=get_steadystate('./Data/voltage_diffamp.txt',initial,stateorder,10e-6)\n",
      "delta=get_linpdiff(initial,steadystate,stateorder)\n",
      "count,time=get_linPoints('./Data/voltage_diffamp.txt',initial,delta/4)"
     ],
     "language": "python",
     "metadata": {},
     "outputs": [
      {
       "output_type": "stream",
       "stream": "stdout",
       "text": [
        "1 ) Difference is : 0.135030118015 Time 2.019198861656683e-006\n",
        "2 ) Difference is : 0.139369458071 Time 2.061272415894668e-006\n",
        "3 ) Difference is : 0.14310210357 Time 2.115044999617510e-006\n",
        "4 ) Difference is : 0.147734626523 Time 2.160724580511140e-006\n",
        "5 ) Difference is : 0.13515244886 Time 2.194806972893450e-006\n",
        "6 ) Difference is : 0.141700237651 Time 2.302471531871317e-006\n",
        "7 ) Difference is : 0.137376832308 Time 2.494822278795385e-006\n"
       ]
      }
     ],
     "prompt_number": 13
    },
    {
     "cell_type": "code",
     "collapsed": false,
     "input": [
      "datapoints=[{} for i in range(count)]\n",
      "currents=[{} for i in range(count)]\n",
      "regions=[{} for i in range(count)]\n",
      "\n",
      "for data in import_text('./Data/voltage_diffamp.txt','\\t'):\n",
      "    for i in range(count):\n",
      "        if(float(data['time'])==time[i]):\n",
      "            datapoints[i]=data\n",
      "            \n",
      "initial['0']=0  \n",
      "initialcond=initial\n",
      "for i in range(count):\n",
      "    datapoints[i]['0']=0\n",
      "    \n",
      "for data in import_text('./Data/currents.txt','\\t'):\n",
      "    for i in range(count):\n",
      "        if(float(data['time'])==time[i]):\n",
      "            currents[i]=data"
     ],
     "language": "python",
     "metadata": {},
     "outputs": [],
     "prompt_number": 14
    },
    {
     "cell_type": "code",
     "collapsed": false,
     "input": [
      "global datapoints\n",
      "print initialcond\n",
      "global count"
     ],
     "language": "python",
     "metadata": {},
     "outputs": [
      {
       "output_type": "stream",
       "stream": "stdout",
       "text": [
        "{'vom': '8.979466e-001', 'inpositive': '8.910891e-001', 'cfmb2': '1.043479e+000', 'out1neg': '6.299838e-001', 'vop': '8.979466e-001', 'cmfb1': '6.717972e-001', 'innegative': '8.910891e-001', 'umirror': '1.231914e+000', 'n008': '6.300000e-001', 'n009': '6.734486e-001', 'n006': '8.979466e-001', 'n007': '1.198375e+000', 'n004': '6.299838e-001', 'n005': '2.349449e-001', 'n002': '1.148253e+000', 'n003': '6.299838e-001', 'n001': '1.457308e+000', '0': 0, 'vbias': '9.000000e-001', 'out1pos': '6.299838e-001', 'ig7': '0.000000e+000', 'ig9': '0.000000e+000', 'vdd': '1.800000e+000', 'time': '0.000000000000000e+000'}\n"
       ]
      }
     ],
     "prompt_number": 15
    },
    {
     "cell_type": "heading",
     "level": 4,
     "metadata": {},
     "source": [
      "Understand Mode of operation"
     ]
    },
    {
     "cell_type": "code",
     "collapsed": false,
     "input": [
      "#Vth={'m15':0.476,'m14':0.476,'m10':0.476,'m8':0.476,'mc5':0.477,'mc2':0.476,'m6':0.474,'mc1':0.474,'m5':0.476,'m2':0.477,'m0':0.479,'m1':0.477,'m13':0.478,'m12':0.477,'m11':0.484,'m9':0.480,'m7':0.480,'mc4':0.456,'mc3':0.456,'m4':0.479,'m3':0.479}\n",
      "Vth={'m15':0.477,'m14':0.477,'m10':0.477,'m8':0.477,'mc5':0.477,'mc2':0.477,'m6':0.477,'mc1':0.477,'m5':0.477,'m2':0.477,'m0':0.477,'m1':0.477,'m13':0.477,'m12':0.477,'m11':0.477,'m9':0.477,'m7':0.477,'mc4':0.477,'mc3':0.477,'m4':0.477,'m3':0.477}"
     ],
     "language": "python",
     "metadata": {},
     "outputs": [],
     "prompt_number": 16
    },
    {
     "cell_type": "heading",
     "level": 4,
     "metadata": {},
     "source": [
      "Parse netlist and determine nodes of connection"
     ]
    },
    {
     "cell_type": "code",
     "collapsed": false,
     "input": [
      "import re\n",
      "nl=open('./Data/diffamp.net')\n",
      "x=re.compile('M(?#comment)')\n",
      "for point in range(count):\n",
      "    a=0\n",
      "    #print \"The state of the system at\",datapoints[point]['time']\n",
      "    while True:\n",
      "        i=nl.readline()    \n",
      "        if re.match(x,i):\n",
      "            a=a+1\n",
      "            inf=i.split()\n",
      "            sma=[low.lower() for low in i.split()]\n",
      "            r=region(sma[5].upper(),float(datapoints[point][sma[1]]),float(datapoints[point][sma[2]]),float(datapoints[point][sma[3]]))\n",
      "            #print sma[0],\"is in \",r\n",
      "            regions[point][sma[0]]=[r,sma[1],sma[2],sma[3],sma[5].upper(),sma[7],sma[6]]\n",
      "        if not i:           \n",
      "            nl.seek(0)\n",
      "            break\n",
      "print \"There are\",a,\"transistors\"\n"
     ],
     "language": "python",
     "metadata": {},
     "outputs": [
      {
       "output_type": "stream",
       "stream": "stdout",
       "text": [
        "There are 21 transistors\n"
       ]
      }
     ],
     "prompt_number": 17
    },
    {
     "cell_type": "heading",
     "level": 4,
     "metadata": {},
     "source": [
      "Checking for Mode of operation and substitution of current equations"
     ]
    },
    {
     "cell_type": "code",
     "collapsed": false,
     "input": [
      "time"
     ],
     "language": "python",
     "metadata": {},
     "outputs": [
      {
       "output_type": "pyout",
       "prompt_number": 18,
       "text": [
        "[2.019198861656683e-06,\n",
        " 2.061272415894668e-06,\n",
        " 2.11504499961751e-06,\n",
        " 2.16072458051114e-06,\n",
        " 2.19480697289345e-06,\n",
        " 2.302471531871317e-06,\n",
        " 2.494822278795385e-06]"
       ]
      }
     ],
     "prompt_number": 18
    },
    {
     "cell_type": "code",
     "collapsed": false,
     "input": [
      "ss=str('m4')\n",
      "print regions[3][ss]\n",
      "cc=current(regions[3][ss],state,3,Vth[ss])\n",
      "print cc\n",
      "sub1={state[i]:datapoints[3][i] for i in state}\n",
      "print cc.evalf(subs=sub1)\n",
      "print currents[3]['Id('+ss.upper()+')']\n",
      "print datapoints[3]['out1pos'],datapoints[3]['cmfb1'],datapoints[3]['time']\n",
      "print \"Threshold::\", Vth[ss]"
     ],
     "language": "python",
     "metadata": {},
     "outputs": [
      {
       "output_type": "stream",
       "stream": "stdout",
       "text": [
        "['s', 'out1pos', 'cmfb1', '0', 'CMOSN', 'w=2u', 'l=0.24u']\n",
        "-0.00016625*0**3 + 0.0003325*0**2*cmfb1 + 0.00016625*0**2*out1pos + 0.0010288975*0**2 - 0.00016625*0*cmfb1**2 - 0.0003325*0*cmfb1*out1pos - 0.0022163975*0*cmfb1 + 0.0001586025*0*out1pos + 0.00109504830375*0 + 0.00016625*cmfb1**2*out1pos + 0.0011875*cmfb1**2 - 0.0001586025*cmfb1*out1pos - 0.001132875*cmfb1 + 3.782669625e-5*out1pos + 0.0002701906875\n",
        "1.13824333888207e-5\n",
        "1.163338e-005\n",
        "1.327579e+000 5.669050e-001 2.160724580511140e-006\n",
        "Threshold:: 0.477\n"
       ]
      }
     ],
     "prompt_number": 31
    },
    {
     "cell_type": "heading",
     "level": 4,
     "metadata": {},
     "source": [
      "Generation of all non linear equations and evaluating them at linearization points"
     ]
    },
    {
     "cell_type": "code",
     "collapsed": false,
     "input": [
      "inp2=re.compile(r\"([-+]?[ ]?\\d+.\\d+).inpositive\\*\\*2 \")\n",
      "inp=re.compile(r\"([-+]?[ ]?\\d+.\\d+).inpositive \")\n",
      "inn2=re.compile(r\"([-+]?[ ]?\\d+.\\d+).innegative\\*\\*2 \")\n",
      "inn=re.compile(r\"([-+]?[ ]?\\d+.\\d+).innegative \")\n",
      "inp3=re.compile(r\"([-+]?[ ]?\\d+.\\d+).inpositive\\*\\*3 \")\n",
      "inn3=re.compile(r\"([-+]?[ ]?\\d+.\\d+).innegative\\*\\*3 \")\n",
      "start=re.compile(r\"^[*]\")\n",
      "stateorder=sympy.Matrix([(state['n001']),(state['n002']),(state['n005']),(state['cfmb2']),(state['vom']),(state['vop']),(state['n009']),(state['n007']),(state['cmfb1']),(state['out1neg']),(state['out1pos']),(state['ig9']),(state['ig7'])])\n",
      "linP=numpy.zeros((count,13,1))\n",
      "inputorder=sympy.Matrix( ((state['inpositive']),(state['inpositive']**2),(state['inpositive']**3),(state['innegative']),(state['innegative']**2),(state['innegative']**3)))\n",
      "inputm=inputorder.evalf(subs={state['inpositive']:1.3,state['innegative']:0.5})\n",
      "for i in range(count):\n",
      "    for k in range(13):\n",
      "        linP[i][k]=(datapoints[i][str(stateorder[k])])          \n",
      "\n",
      "print stateorder"
     ],
     "language": "python",
     "metadata": {},
     "outputs": [
      {
       "output_type": "stream",
       "stream": "stdout",
       "text": [
        "[   n001]\n",
        "[   n002]\n",
        "[   n005]\n",
        "[  cfmb2]\n",
        "[    vom]\n",
        "[    vop]\n",
        "[   n009]\n",
        "[   n007]\n",
        "[  cmfb1]\n",
        "[out1neg]\n",
        "[out1pos]\n",
        "[    ig9]\n",
        "[    ig7]\n"
       ]
      }
     ],
     "prompt_number": 975
    },
    {
     "cell_type": "code",
     "collapsed": false,
     "input": [
      "from sympy.parsing.sympy_parser import parse_expr\n",
      "C=numpy.zeros((2,13))\n",
      "C[0,9]=1\n",
      "C[1,10]=1\n",
      "D=[0]\n",
      "offset=numpy.ones((count,6,1))\n",
      "diff=numpy.ones((13,1))\n",
      "proj=numpy.zeros((13,13))\n",
      "\n",
      "Cpara_vdo=1e-15\n",
      "Cpara_vd12=1e-15\n",
      "Cpara_vd11=1e-15\n",
      "Cpara_vcmfb2=1e-15\n",
      "Cpara_vom=1e-15\n",
      "Cpara_vop=1e-15\n",
      "Cpara_vdc3=1e-15\n",
      "Cpara_vdc5=1e-15\n",
      "Cpara_vcmfb1=1e-15\n",
      "Cpara_vd1=1e-15\n",
      "Cpara_vd2=1e-15\n",
      "#stateorder=sympy.Matrix([(state['n001']),(state['n002']),(state['n005']),(state['cfmb2']),(state['vom']),(state['vop']),(state['n009']),(state['n007']),(state['cmfb1']),(state['out1neg']),(state['out1pos']),(state['ig9']),(state['ig7'])])\n",
      "linPJac=numpy.zeros((count,13,13))\n",
      "linPVal=numpy.zeros((count,13,1))\n",
      "B=numpy.zeros((count,13,6))\n",
      "for linpt in range(count):\n",
      "    print linpt\n",
      "    Im0=current(regions[linpt]['m0'],state,linpt,Vth['m0'])\n",
      "    Im1=current(regions[linpt]['m1'],state,linpt,Vth['m1'])\n",
      "    Im2=current(regions[linpt]['m2'],state,linpt,Vth['m2'])\n",
      "    Im3=current(regions[linpt]['m3'],state,linpt,Vth['m3'])\n",
      "    Im4=current(regions[linpt]['m4'],state,linpt,Vth['m4'])\n",
      "    Im5=current(regions[linpt]['m5'],state,linpt,Vth['m5'])\n",
      "    Im6=current(regions[linpt]['m6'],state,linpt,Vth['m6'])\n",
      "    Im7=current(regions[linpt]['m7'],state,linpt,Vth['m7'])\n",
      "    Im8=current(regions[linpt]['m8'],state,linpt,Vth['m8'])\n",
      "    Im9=current(regions[linpt]['m9'],state,linpt,Vth['m9'])\n",
      "    Im10=current(regions[linpt]['m10'],state,linpt,Vth['m10'])\n",
      "    Im11=current(regions[linpt]['m11'],state,linpt,Vth['m11'])\n",
      "    Im12=current(regions[linpt]['m12'],state,linpt,Vth['m12'])\n",
      "    Im13=current(regions[linpt]['m13'],state,linpt,Vth['m13'])\n",
      "    Im14=current(regions[linpt]['m14'],state,linpt,Vth['m14'])\n",
      "    Im15=current(regions[linpt]['m15'],state,linpt,Vth['m15'])\n",
      "    Imc1=current(regions[linpt]['mc1'],state,linpt,Vth['mc1'])\n",
      "    Imc2=current(regions[linpt]['mc2'],state,linpt,Vth['mc2'])\n",
      "    Imc3=current(regions[linpt]['mc3'],state,linpt,Vth['mc3'])\n",
      "    Imc4=current(regions[linpt]['mc4'],state,linpt,Vth['mc4'])\n",
      "    Imc5=current(regions[linpt]['mc5'],state,linpt,Vth['mc5'])\n",
      "    \n",
      "    I=((Im15-Im13)/Cpara_vcmfb2)-((Im10-Im9)/Cpara_vom)\n",
      "    II=((Im15-Im13)/Cpara_vcmfb2)-((Im8-Im7)/Cpara_vop) \n",
      "    cur=sympy.Matrix(((I),(II)))\n",
      "    cap=sympy.Matrix((((1/1e-12+1/Cpara_vcmfb2+1/Cpara_vom),(1/Cpara_vcmfb2)),(1/Cpara_vcmfb2,1/1e-12+1/Cpara_vcmfb2+1/Cpara_vop)))\n",
      "    [IC10,IC9]=[0,0]#cap.inv()*cur\n",
      "    \n",
      "    III=((Imc2-Imc4)/Cpara_vcmfb1)-((state['ig9']+Im4-Im2)/Cpara_vd2) \n",
      "    IV=((Imc2-Imc4)/Cpara_vcmfb1)-((state['ig7']+Im3-Im1)/Cpara_vd1)\n",
      "    cap=sympy.Matrix(((1/7e-12+1/Cpara_vd2+1/Cpara_vcmfb1,1/Cpara_vcmfb1),(Cpara_vcmfb1,1/7e-12+1/Cpara_vd1+1/Cpara_vcmfb1)))\n",
      "    cur=sympy.Matrix(((III),(IV)))\n",
      "    [IC4,IC2]=[0,0]#cap.inv()*cur\n",
      "    \n",
      "    vd0dot=(-Im1-Im2+Im0)/Cpara_vdo   #V Im0 V Im1 VIm2 chkd\n",
      "    vd12dot=(-Im12+Im14)/Cpara_vd12  #V Im14 V im12 chkd\n",
      "    vd11dot=(Im12+Im13-Im11)/Cpara_vd11    #V Im12 V Im13 V Im11 chkd\n",
      "    vcmfb2dot=(Im15-Im13-IC10-IC9)/Cpara_vcmfb2  # V Im15 <IC9 >IC10 V Im13\n",
      "    vomdot=(Im10+IC10-Im9-state['ig9'])/Cpara_vom   # > IC10 V Im10 V Im9  < ig9 chkd\n",
      "    vopdot=(Im8+IC9-Im7-state['ig7'])/Cpara_vop          # < IC9 V Im8 V Im7  > ig7 chkd\n",
      "    vdc3dot=(Imc1+Im6-Imc3)/Cpara_vdc3                 # V Imc1  V Im6 V Imc3 \n",
      "    vdc5dot=(-Imc1-Im6-Imc2+Imc5)/Cpara_vdc5   # V Imc5 V Imc1 V Im6 V Imc2\n",
      "    vcmfb1dot=(Imc2-Imc4-IC2-IC4)/Cpara_vcmfb1 #V Imc2 < IC2 >IC4 V Imc4\n",
      "    vd1dot=(state['ig7']-Im3+Im1+IC2)/Cpara_vd1   # >ig7 V Im1 V Im3 < IC2\n",
      "    vd2dot=(state['ig9']-Im4+Im2+IC4)/Cpara_vd2  # < ig9 V Im2 V Im4 > IC4\n",
      "    ig9dot=0.001*(vomdot-(state['ig9']/7e-12)-vd2dot) # <ig9\n",
      "    ig7dot=0.001*(vopdot-(state['ig7']/7e-12)-vd1dot) # > ig7\n",
      "    \n",
      "    \n",
      "    eqs=sympy.Matrix( [(vd0dot),(vd12dot),(vd11dot),(vcmfb2dot),(vomdot),(vopdot),(vdc3dot),(vdc5dot),(vcmfb1dot),(vd1dot),(vd2dot),(ig9dot),(ig7dot)] )\n",
      "    \n",
      "    \n",
      "    \n",
      "    for i in range(13):\n",
      "        che=str(eqs[i])\n",
      "        \n",
      "        checkinp=re.search(inp,che)\n",
      "        checkinp2=re.search(inp2,che)\n",
      "        checkinp3=re.search(inp3,che)\n",
      "        checkinn=re.search(inn,che)\n",
      "        checkinn2=re.search(inn2,che)\n",
      "        checkinn3=re.search(inn3,che)\n",
      "        \n",
      "        if re.search(inp,che):\n",
      "            print checkinp.group(1)\n",
      "            \n",
      "            B[linpt][i][0]=float((checkinp.group(1)).replace(\" \",\"\"))\n",
      "            che=che.replace((checkinp.group()),\"\")\n",
      "        \n",
      "        if re.search(inp2,che):\n",
      "            print checkinp2.group(1)\n",
      "            print \"inp2\"\n",
      "            print i\n",
      "            B[linpt][i][1]=float((checkinp2.group(1)).replace(\" \",\"\"))\n",
      "            che=che.replace((checkinp2.group()),\"\")\n",
      "        \n",
      "        if re.search(inp3,che):\n",
      "            print checkinp3.group(1)\n",
      "            print \"inp3\"\n",
      "            print i\n",
      "            B[linpt][i][2]=float((checkinp3.group(1)).replace(\" \",\"\"))\n",
      "            che=che.replace((checkinp3.group()),\"\")\n",
      "        \n",
      "        if re.search(inn,che):\n",
      "            print checkinn.group(1)\n",
      "            print \"inn1\"\n",
      "            print i\n",
      "            B[linpt][i][3]=float((checkinn.group(1)).replace(\" \",\"\"))\n",
      "            che=che.replace((checkinn.group()),\"\")\n",
      "        \n",
      "        if re.search(inn2,che):\n",
      "            print checkinn2.group(1)\n",
      "            print \"inn2\"\n",
      "            print i\n",
      "            B[linpt][i][4]=float((checkinn2.group(1)).replace(\" \",\"\"))\n",
      "            che=che.replace((checkinn2.group()),\"\")\n",
      "            \n",
      "        if re.search(inn3,che):\n",
      "            print checkinn3.group(1)\n",
      "            print \"inn3\"\n",
      "            print i\n",
      "            B[linpt][i][5]=float((checkinn3.group(1)).replace(\" \",\"\"))\n",
      "            che=che.replace((checkinn3.group()),\"\")\n",
      "        if che[0]=='*':\n",
      "            che=che[1:]\n",
      "        \n",
      "        eqs[i]=sympy.parsing.sympy_parser.parse_expr(che,state)\n",
      "        \n",
      "        \n",
      "    sub1={state[i]:abs(float(datapoints[linpt][i])) for i in state}\n",
      "    \n",
      "    \n",
      "    # dx/dt = Jacobian * ( state ) + B * ( input ) + ( Val @ state - Jacobian * linPoint )\n",
      "    \n",
      "    \n",
      "    val=eqs.evalf(subs=sub1)\n",
      "    linPVal[linpt]=Sym2NumArray(val) \n",
      "    jack=eqs.jacobian(stateorder)\n",
      "    evjack=jack.evalf(subs=sub1)    \n",
      "    linPJac[linpt]=Sym2NumArray(evjack)        \n",
      "     \n",
      " \n",
      "\n",
      "    temp=numpy.matrix(B[linpt])\n",
      "    proj=numpy.linalg.pinv(temp)\n",
      "    diff=(linPVal[linpt]-numpy.dot(linPJac[linpt],linP[linpt]))\n",
      "    offset[linpt]=proj*diff\n"
     ],
     "language": "python",
     "metadata": {},
     "outputs": [
      {
       "output_type": "stream",
       "stream": "stdout",
       "text": [
        "0\n",
        "- 5469600000000.0"
       ]
      },
      {
       "output_type": "stream",
       "stream": "stdout",
       "text": [
        "\n",
        "inn1\n",
        "0\n",
        "- 5733333333333.33\n",
        "inn2\n",
        "0\n",
        "+ 5469600000000.0"
       ]
      },
      {
       "output_type": "stream",
       "stream": "stdout",
       "text": [
        "\n",
        "inn1\n",
        "10\n",
        "+ 5733333333333.33\n",
        "inn2\n",
        "10\n",
        "- 5469600000.0"
       ]
      },
      {
       "output_type": "stream",
       "stream": "stdout",
       "text": [
        "\n",
        "inn1\n",
        "11\n",
        "- 5733333333.33333\n",
        "inn2\n",
        "11\n",
        "1"
       ]
      },
      {
       "output_type": "stream",
       "stream": "stdout",
       "text": [
        "\n",
        "- 5469600000000.0"
       ]
      },
      {
       "output_type": "stream",
       "stream": "stdout",
       "text": [
        "\n",
        "inn1\n",
        "0\n",
        "- 5733333333333.33\n",
        "inn2\n",
        "0\n",
        "+ 5469600000000.0"
       ]
      },
      {
       "output_type": "stream",
       "stream": "stdout",
       "text": [
        "\n",
        "inn1\n",
        "10\n",
        "+ 5733333333333.33\n",
        "inn2\n",
        "10\n",
        "- 5469600000.0"
       ]
      },
      {
       "output_type": "stream",
       "stream": "stdout",
       "text": [
        "\n",
        "inn1\n",
        "11\n",
        "- 5733333333.33333\n",
        "inn2\n",
        "11\n",
        "2"
       ]
      },
      {
       "output_type": "stream",
       "stream": "stdout",
       "text": [
        "\n",
        "3"
       ]
      },
      {
       "output_type": "stream",
       "stream": "stdout",
       "text": [
        "\n",
        "4"
       ]
      },
      {
       "output_type": "stream",
       "stream": "stdout",
       "text": [
        "\n",
        "5"
       ]
      },
      {
       "output_type": "stream",
       "stream": "stdout",
       "text": [
        "\n",
        "- 5469600000000.0"
       ]
      },
      {
       "output_type": "stream",
       "stream": "stdout",
       "text": [
        "\n",
        "- 5733333333333.33\n",
        "inp2\n",
        "0\n",
        "+ 5469600000000.0"
       ]
      },
      {
       "output_type": "stream",
       "stream": "stdout",
       "text": [
        "\n",
        "+ 5733333333333.33\n",
        "inp2\n",
        "9\n",
        "- 5469600000.0"
       ]
      },
      {
       "output_type": "stream",
       "stream": "stdout",
       "text": [
        "\n",
        "- 5733333333.33333\n",
        "inp2\n",
        "12\n",
        "6"
       ]
      },
      {
       "output_type": "stream",
       "stream": "stdout",
       "text": [
        "\n",
        "- 5469600000000.0"
       ]
      },
      {
       "output_type": "stream",
       "stream": "stdout",
       "text": [
        "\n",
        "- 5733333333333.33\n",
        "inp2\n",
        "0\n",
        "+ 5469600000000.0"
       ]
      },
      {
       "output_type": "stream",
       "stream": "stdout",
       "text": [
        "\n",
        "+ 5733333333333.33\n",
        "inp2\n",
        "9\n",
        "- 5469600000.0"
       ]
      },
      {
       "output_type": "stream",
       "stream": "stdout",
       "text": [
        "\n",
        "- 5733333333.33333\n",
        "inp2\n",
        "12\n"
       ]
      }
     ],
     "prompt_number": 976
    },
    {
     "cell_type": "markdown",
     "metadata": {},
     "source": [
      "Variables used \n",
      "--------------------\n",
      "\n",
      "* linPVal => stores the constant for the non linear matrix at each linearization point\n",
      "* linPJac => stores the jacobian at each linearization point\n",
      "* C       => has the C values for all the lin points\n",
      "* D => is 0 for all the points\n",
      "\n",
      "\n",
      "* BlinP  => will store all the B values at each linearization point\n",
      "\n",
      "\n",
      "\n",
      " "
     ]
    },
    {
     "cell_type": "code",
     "collapsed": false,
     "input": [
      "global ycheck\n",
      "ycheck=[]"
     ],
     "language": "python",
     "metadata": {},
     "outputs": [],
     "prompt_number": 977
    },
    {
     "cell_type": "code",
     "collapsed": false,
     "input": [
      "def normcalc(y):\n",
      "    #print y\n",
      "    normV=numpy.zeros(count)\n",
      "    weight=numpy.zeros(count)\n",
      "    for i in range(count):\n",
      "        \n",
      "        normV[i]=numpy.linalg.norm(y.reshape(13,1)-linP[i])\n",
      "       \n",
      "    if(normV.min()!=0):\n",
      "        weight=10**(-10*(normV)*normV)\n",
      "    else:\n",
      "        for i in range(count):\n",
      "            if(normV[i]==0):\n",
      "                weight[i]=1\n",
      "            else:\n",
      "                weight[i]=0\n",
      "    \n",
      "       \n",
      "    \n",
      "    weights=weight/weight.sum()\n",
      "    #print \"weight:\",weight\n",
      "    #print (list(weights)).index(weights.max())\n",
      "    #print \"Normalized weights:\",weights,\"\\n\"\n",
      "    #assert numpy.isnan(temp[1]), 'We have a problem'\n",
      "    return weights"
     ],
     "language": "python",
     "metadata": {},
     "outputs": [],
     "prompt_number": 978
    },
    {
     "cell_type": "code",
     "collapsed": false,
     "input": [
      "import timeit\n",
      "from scipy.integrate import odeint\n",
      "global w1,w2,w3,w4\n",
      "w1=[]\n",
      "w2=[]\n",
      "w3=[]\n",
      "w4=[]\n",
      "w5=[]\n",
      "def dervPWL(y,t):\n",
      "    #print y\n",
      "    weight=normcalc(y)\n",
      "    w1.append(weight[0])\n",
      "    w2.append(weight[1])\n",
      "    w3.append(weight[2])\n",
      "    w4.append(weight[3])\n",
      "    w5.append(weight[4])\n",
      "    #weight=numpy.array((1,0,0,0,0,0,0,0))\n",
      "    temp=numpy.zeros((13,1))\n",
      "    sigInTemp=numpy.zeros((count,6,1))\n",
      "    sigIn=numpy.zeros((13,1))\n",
      "    \n",
      "    for i in range(count):\n",
      "       # temp=(numpy.dot(linPJac[i],y)*weight[i]).reshape(13,1)+(offset[i]*weight[i])+temp\n",
      "        temp=(numpy.dot(linPJac[i],y)*weight[i]).reshape(13,1)+temp\n",
      "    for i in range(count):\n",
      "        sigInTemp[i]=Sym2NumArray(inputm+offset[i])\n",
      "        \n",
      "    for i in range(count):\n",
      "        sigIn=(numpy.dot(B[i],sigInTemp[i].reshape(6,1)))*weight[i]+sigIn\n",
      "        \n",
      "    \n",
      "    tempPWL=temp+sigIn\n",
      "    return (tempPWL.reshape(1,13))[0]\n",
      "\n",
      "#y0=numpy.array([float(initialcond[str(i)]) for i in stateorder])\n",
      "y0=numpy.array([float(datapoints[0][str(i)]) for i in stateorder])\n",
      "\n",
      "ti  = numpy.linspace(0, 2e-6, 10)\n",
      "solnPWL = odeint(dervPWL, y0, ti,full_output=1)\n"
     ],
     "language": "python",
     "metadata": {},
     "outputs": [
      {
       "output_type": "stream",
       "stream": "stdout",
       "text": [
        "Excess work done on this call (perhaps wrong Dfun type).\n",
        "Run with full_output = 1 to get quantitative information.\n"
       ]
      }
     ],
     "prompt_number": 1029
    },
    {
     "cell_type": "code",
     "collapsed": false,
     "input": [
      "we1,= plt.plot(w1)\n",
      "we2,= plt.plot(w2)\n",
      "we3,= plt.plot(w3)\n",
      "we4,= plt.plot(w4)\n",
      "we5,= plt.plot(w5)\n",
      "\n",
      "\n",
      "plt.figlegend([we1,we2,we3],('weight1','weight2','weight3'),'lower right')\n",
      "plt.xlabel('Time')\n",
      "plt.ylabel('Weights')\n",
      "plt.title('PWL models usage')\n",
      "plt.show()\n"
     ],
     "language": "python",
     "metadata": {},
     "outputs": [
      {
       "output_type": "display_data",
       "png": "[encoded data removed]"
      }
     ],
     "prompt_number": 1030
    },
    {
     "cell_type": "code",
     "collapsed": false,
     "input": [
      "plt.plot([solnPWL[0][i][10] for i in range(4)])\n",
      "plt.plot([solnPWL[0][i][9] for i in range(4)])\n",
      "plt.show()\n",
      "print solnPWL"
     ],
     "language": "python",
     "metadata": {},
     "outputs": [
      {
       "output_type": "display_data",
       "png": "[encoded data removed]"
      },
      {
       "output_type": "stream",
       "stream": "stdout",
       "text": [
        "(array([[  1.09897900e+000,   1.17965100e+000,   2.63023300e-001,\n",
        "          1.01852000e+000,   8.20536000e-001,   9.63714800e-001,\n",
        "          7.08322200e-001,   1.17837600e+000,   6.38987200e-001,\n",
        "          5.48565500e-001,   7.70499000e-001,   6.37157900e-008,\n",
        "         -3.92700400e-009],\n",
        "       [  7.86461358e-001,  -1.38083854e+000,  -1.87207093e+000,\n",
        "         -1.51354691e+000,   2.10095271e+000,   3.53713320e+000,\n",
        "         -9.97884394e-001,   6.71882775e-001,   2.20812716e+000,\n",
        "          1.94153704e+000,   9.06233901e-001,   1.14338176e-003,\n",
        "          1.17893442e-003],\n",
        "       [  4.24400727e-314,   0.00000000e+000,   4.24400423e-314,\n",
        "          0.00000000e+000,   3.16202013e-320,   0.00000000e+000,\n",
        "          2.12201236e-314,   0.00000000e+000,   1.26480805e-321,\n",
        "          0.00000000e+000,   8.48799784e-314,   2.97079411e-313,\n",
        "          4.24400499e-314],\n",
        "       [  0.00000000e+000,   4.24400727e-314,   0.00000000e+000,\n",
        "          6.36600002e-314,   0.00000000e+000,   3.16202013e-320,\n",
        "          0.00000000e+000,   2.12201236e-314,   0.00000000e+000,\n",
        "          1.26480805e-321,   0.00000000e+000,   1.06099936e-313,\n",
        "          3.18299369e-313],\n",
        "       [  4.24400499e-314,   0.00000000e+000,   4.24400727e-314,\n",
        "          0.00000000e+000,   8.48799581e-314,   0.00000000e+000,\n",
        "          3.16202013e-320,   0.00000000e+000,   2.12201236e-314,\n",
        "          0.00000000e+000,   1.26480805e-321,   0.00000000e+000,\n",
        "          1.27319894e-313],\n",
        "       [  3.39519327e-313,   4.24400499e-314,   0.00000000e+000,\n",
        "          4.24400727e-314,   0.00000000e+000,   1.06099916e-313,\n",
        "          0.00000000e+000,   3.16202013e-320,   0.00000000e+000,\n",
        "          2.12201236e-314,   0.00000000e+000,   1.26480805e-321,\n",
        "          0.00000000e+000],\n",
        "       [  1.48539852e-313,   3.81959242e-313,   1.69759797e-313,\n",
        "          0.00000000e+000,   1.27319874e-313,   0.00000000e+000,\n",
        "          4.24400423e-314,   0.00000000e+000,   4.24400448e-314,\n",
        "          0.00000000e+000,   2.12201236e-314,   0.00000000e+000,\n",
        "          6.36600318e-314],\n",
        "       [  0.00000000e+000,   1.48539852e-313,   4.03179200e-313,\n",
        "          1.69759797e-313,   0.00000000e+000,   1.90979768e-313,\n",
        "          0.00000000e+000,   1.48539832e-313,   0.00000000e+000,\n",
        "          4.24400423e-314,   0.00000000e+000,   6.36600028e-314,\n",
        "          0.00000000e+000],\n",
        "       [  2.12201236e-314,   0.00000000e+000,   8.48799898e-314,\n",
        "          0.00000000e+000,   1.48539852e-313,   4.24399158e-313,\n",
        "          1.69759797e-313,   0.00000000e+000,   1.27319874e-313,\n",
        "          0.00000000e+000,   4.24400423e-314,   0.00000000e+000,\n",
        "          4.24400448e-314],\n",
        "       [  0.00000000e+000,   2.12201236e-314,   0.00000000e+000,\n",
        "          1.06099948e-313,   0.00000000e+000,   1.51806610e-319,\n",
        "          4.67885931e-313,   2.12199726e-313,   0.00000000e+000,\n",
        "          1.90979768e-313,   0.00000000e+000,   5.38903063e-313,\n",
        "         -2.13698022e-042]]), {'nfe': array([     1150, 179351376, 223253920, 212956540, 204920748, 205923844,\n",
        "       184975752,         0,        40]), 'nje': array([        0, 215690968, 223255776, 212956540, 204920748, 223347004,\n",
        "       184975752,         0,        40]), 'tolsf': array([  1.51832943e-314,   0.00000000e+000,   0.00000000e+000,\n",
        "         0.00000000e+000,   1.00000000e+000,   0.00000000e+000,\n",
        "         0.00000000e+000,   0.00000000e+000,   1.00000000e+000]), 'nqu': array([        2, 208071992, 223253920, 212956540, 204920748, 205923844,\n",
        "       184975752,         0,        40]), 'lenrw': 308, 'tcur': array([  2.49730456e-11,   0.00000000e+00,   0.00000000e+00,\n",
        "         0.00000000e+00,  -1.00000000e+00,   0.00000000e+00,\n",
        "         0.00000000e+00,   0.00000000e+00,   1.00000000e+00]), 'hu': array([  3.47725295e-17,   0.00000000e+00,   0.00000000e+00,\n",
        "         0.00000000e+00,   1.00000000e+00,   0.00000000e+00,\n",
        "         0.00000000e+00,   0.00000000e+00,   1.00000000e+00]), 'imxer': -1, 'leniw': 33, 'tsw': array([ 0.,  0.,  0.,  0., -1.,  0.,  0.,  0.,  1.]), 'message': 'Excess work done on this call (perhaps wrong Dfun type).', 'nst': array([      500, 223520240, 223253920, 212956540, 204920748, 205923844,\n",
        "       184975752,         0,        40]), 'mused': array([        1, 205218832, 223255776, 212956540, 204920748, 223347004,\n",
        "       184975752,         0,        40])})\n"
       ]
      }
     ],
     "prompt_number": 1031
    },
    {
     "cell_type": "code",
     "collapsed": false,
     "input": [
      "print stateorder\n",
      "print count"
     ],
     "language": "python",
     "metadata": {},
     "outputs": [
      {
       "output_type": "stream",
       "stream": "stdout",
       "text": [
        "[   n001]\n",
        "[   n002]\n",
        "[   n005]\n",
        "[  cfmb2]\n",
        "[    vom]\n",
        "[    vop]\n",
        "[   n009]\n",
        "[   n007]\n",
        "[  cmfb1]\n",
        "[out1neg]\n",
        "[out1pos]\n",
        "[    ig9]\n",
        "[    ig7]\n",
        "7\n"
       ]
      }
     ],
     "prompt_number": 953
    },
    {
     "cell_type": "code",
     "collapsed": false,
     "input": [
      "print \"step sizes\",solnPWL[1]['hu']\n",
      "print \"value of T reached\",solnPWL[1]['tcur']\n",
      "print \"Tolerance \",solnPWL[1]['tolsf']\n",
      "print \"Method was swtiched\",solnPWL[1]['tsw']\n",
      "print \"cummulative number os time steps\",solnPWL[1]['nst']\n",
      "print \"Function evaluations for each step\",solnPWL[1]['nfe']\n",
      "print \"cummulative number of Jacobian evaluations\", solnPWL[1]['nje']\n",
      "print \"method indicators used\",solnPWL[1]['mused']"
     ],
     "language": "python",
     "metadata": {},
     "outputs": [
      {
       "output_type": "stream",
       "stream": "stdout",
       "text": [
        "step sizes [  1.11331172e-08   2.60805603e-08   3.99361049e-08   3.99361049e-08\n",
        "   6.11661102e-08   6.11661102e-08   9.36974836e-08   9.36974836e-08\n",
        "   9.36974836e-08]\n",
        "value of T reached [  2.24519904e-07   4.46375699e-07   6.82731270e-07   9.22347899e-07\n",
        "   1.16701234e-06   1.35051067e-06   1.59907175e-06   1.78646672e-06\n",
        "   2.06755917e-06]\n",
        "Tolerance  [ 0.  0.  0.  0.  0.  0.  0.  0.  0.]\n",
        "Method was swtiched [ 0.  0.  0.  0.  0.  0.  0.  0.  0.]\n",
        "cummulative number os time steps [352 365 373 379 383 386 389 391 394]\n",
        "Function evaluations for each step [706 732 748 760 768 774 780 784 790]\n",
        "cummulative number of Jacobian evaluations [0 0 0 0 0 0 0 0 0]\n",
        "method indicators used [1 1 1 1 1 1 1 1 1]\n"
       ]
      }
     ],
     "prompt_number": 326
    },
    {
     "cell_type": "markdown",
     "metadata": {},
     "source": [
      "Order reduction Code\n",
      "---------------------------\n",
      "\n",
      "* Arnoldi reduction \n",
      "* Reduction at all the points \n",
      "* SVD of the basis"
     ]
    },
    {
     "cell_type": "markdown",
     "metadata": {},
     "source": [
      "Arnoldi Reduction for each point with generation of unit Basis\n",
      "------------------------------------------------------------------------------\n",
      "\n",
      "* Jac and B will be for a given linearization point \n",
      "\n",
      "No changes needed\n"
     ]
    },
    {
     "cell_type": "code",
     "collapsed": false,
     "input": [
      "def ArnoldiBasis_QR(Jac,B,ord,red_ord):\n",
      "    spanB=numpy.zeros((ord,red_ord))\n",
      "    A=numpy.linalg.pinv(Jac)\n",
      "    temp=numpy.dot(A,B)\n",
      "    spanB[:,0]=temp.reshape(1,ord)\n",
      "    for i in range(1,red_ord):\n",
      "        spanB[:,i]=numpy.dot(A,spanB[:,i-1])\n",
      "    unitB,R=numpy.linalg.qr(spanB)\n",
      "    return unitB\n",
      "    "
     ],
     "language": "python",
     "metadata": {},
     "outputs": [],
     "prompt_number": 262
    }
   ],
   "metadata": {}
  }
 ]
}