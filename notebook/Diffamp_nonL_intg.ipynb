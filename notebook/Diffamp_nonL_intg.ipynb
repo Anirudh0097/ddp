{
 "metadata": {
  "name": "Diffamp_nonL_intg"
 },
 "nbformat": 3,
 "nbformat_minor": 0,
 "worksheets": [
  {
   "cells": [
    {
     "cell_type": "markdown",
     "metadata": {},
     "source": [
      "## Importing all external libraries"
     ]
    },
    {
     "cell_type": "code",
     "collapsed": false,
     "input": [
      "import sympy"
     ],
     "language": "python",
     "metadata": {},
     "outputs": [],
     "prompt_number": 2
    },
    {
     "cell_type": "code",
     "collapsed": false,
     "input": [
      "global order \n",
      "order = 11"
     ],
     "language": "python",
     "metadata": {},
     "outputs": [],
     "prompt_number": 126
    },
    {
     "cell_type": "markdown",
     "metadata": {},
     "source": [
      "##Functions"
     ]
    },
    {
     "cell_type": "code",
     "collapsed": false,
     "input": [
      "import csv\n",
      "def import_text(filename, separator):\n",
      "    reader= csv.DictReader(open(filename), delimiter=separator, skipinitialspace=True)\n",
      "    for line in reader:\n",
      "        if line:\n",
      "            yield line"
     ],
     "language": "python",
     "metadata": {},
     "outputs": [],
     "prompt_number": 3
    },
    {
     "cell_type": "markdown",
     "metadata": {},
     "source": [
      "####Needs revision Temporarily fixed"
     ]
    },
    {
     "cell_type": "code",
     "collapsed": false,
     "input": [
      "def get_steadystate(filename,initialcond,stateorder,error):\n",
      "    pre=[float(initialcond[str(stateorder[k])]) for k in range(order)]\n",
      "    count=0\n",
      "    for data in import_text(filename,'\\t'):\n",
      "        curt=[float(data[str(stateorder[k])]) for k in range(order)]\n",
      "        diff=numpy.linalg.norm(numpy.array(pre)-numpy.array(curt))\n",
      "        pre=curt\n",
      "        #print \"Difference:\\t\",diff\n",
      "        #print \"Time:\\t\",data['time'],\"\\n\"\n",
      "        if(float(data['time'])==4.796677620601137e-006):\n",
      "            return curt\n",
      "       \n",
      "     "
     ],
     "language": "python",
     "metadata": {},
     "outputs": [],
     "prompt_number": 127
    },
    {
     "cell_type": "code",
     "collapsed": false,
     "input": [
      "def get_states(filename):\n",
      "    \"\"\" Provide absolute path to the waveforms file\n",
      "         Returns states\"\"\"\n",
      "    initialcond=get_initialcond(filename)\n",
      "    state={}\n",
      "    state['0']=sympy.Symbol('0')\n",
      "    for ind in initialcond.keys():\n",
      "        state[ind]=sympy.Symbol(ind)\n",
      "    return state"
     ],
     "language": "python",
     "metadata": {},
     "outputs": [],
     "prompt_number": 5
    },
    {
     "cell_type": "code",
     "collapsed": false,
     "input": [
      "def get_initialcond(filename):\n",
      "    for data in import_text(filename,'\\t'):\n",
      "        if(float(data['time'])==0):\n",
      "            return data"
     ],
     "language": "python",
     "metadata": {},
     "outputs": [],
     "prompt_number": 6
    },
    {
     "cell_type": "code",
     "collapsed": false,
     "input": [
      "def get_stateorder(state):\n",
      "    stateorder=sympy.Matrix([(state['n001']),(state['n002']),(state['n005']),(state['cfmb2']),(state['vom']),(state['vop']),(state['n009']),(state['n007']),(state['cmfb1']),(state['out1neg']),(state['out1pos'])])#,(state['ig9']),(state['ig7'])])\n",
      "    return stateorder"
     ],
     "language": "python",
     "metadata": {},
     "outputs": [],
     "prompt_number": 124
    },
    {
     "cell_type": "code",
     "collapsed": false,
     "input": [
      "def get_linpdiff(initial,steady,stateorder):\n",
      "    init=[float(initial[str(stateorder[k])]) for k in range(order) ]\n",
      "    return numpy.linalg.norm(numpy.array(init)-steady)/numpy.linalg.norm(init)"
     ],
     "language": "python",
     "metadata": {},
     "outputs": [],
     "prompt_number": 128
    },
    {
     "cell_type": "code",
     "collapsed": false,
     "input": [
      "def get_linPoints(filename,initialcond,delta):\n",
      "    pre=numpy.array([float(initialcond[str(stateorder[k])]) for k in range(order)])\n",
      "    count=0\n",
      "    time=[]\n",
      "    for i in import_text(filename,'\\t'):\n",
      "        cur=numpy.array([float(i[str(stateorder[k])]) for k in range(order)])\n",
      "        diff=abs(numpy.linalg.norm(pre-cur)/numpy.linalg.norm(pre))\n",
      "        if(diff>=delta):\n",
      "            pre=cur\n",
      "            count=count+1\n",
      "            print count,\") Difference is :\",diff,\"Time\",i['time']\n",
      "            time.append(float(i['time']))\n",
      "            \n",
      "     \n",
      "    return count,time\n",
      "        "
     ],
     "language": "python",
     "metadata": {},
     "outputs": [],
     "prompt_number": 129
    },
    {
     "cell_type": "code",
     "collapsed": false,
     "input": [
      "\n",
      "def Sym2NumArray(F):\n",
      "#Function to convert symbolic expression with numerical data to numpy array \n",
      "    shapeF=F.shape\n",
      "    B=numpy.zeros(shapeF)\n",
      "    for i in range(0,shapeF[0]):\n",
      "        for j in range(0,shapeF[1]):\n",
      "            B[i,j]=sympy.N(F[i,j])\n",
      "    return B"
     ],
     "language": "python",
     "metadata": {},
     "outputs": [],
     "prompt_number": 130
    },
    {
     "cell_type": "code",
     "collapsed": false,
     "input": [
      "def region(MOS,drain,gate,source):\n",
      "    th=0.477\n",
      "    if MOS=='CMOSP':\n",
      "        if(source<(gate+th)):\n",
      "            return 'c'\n",
      "        elif((source>=(gate+th)) & (drain>=(gate+th))):\n",
      "            return 'l'\n",
      "        elif((source>=(gate+th)) & (drain<(gate+th))):\n",
      "            return 's'\n",
      "    \n",
      "    if MOS=='CMOSN':\n",
      "        if(gate<(source+th)):\n",
      "            return 'c'\n",
      "        elif((gate>=(source+th)) & (drain<=(gate-th))):\n",
      "            return 'l'\n",
      "        elif((gate>=(source+th)) & (drain>(gate-th))):\n",
      "            return 's'\n",
      "               "
     ],
     "language": "python",
     "metadata": {},
     "outputs": [],
     "prompt_number": 11
    },
    {
     "cell_type": "code",
     "collapsed": false,
     "input": [
      "def current(information,state,point,vth):\n",
      "    d=state[information[1]]\n",
      "    g=state[information[2]]\n",
      "    s=state[information[3]]\n",
      "    p=re.compile('(l|w|=|u)')\n",
      "    w=float(p.sub('',information[5]))\n",
      "    l=float(p.sub('',information[6]))\n",
      "    vth=float(vth)\n",
      "    #cur=abs(float(cur))\n",
      "    sub1={state[i]:datapoints[point][i] for i in state}\n",
      "    \n",
      "    if(information[4]=='CMOSP'):\n",
      "        if(information[0]=='c'):\n",
      "            return 0\n",
      "        elif(information[0]=='s'):\n",
      "            cc=(43e-6) * (w / l) * ((g**2) + (1 - 2 * vth * 0.09) * (s**2) + (vth**2) + ((0.09 * vth - 1) * 2 * g * s) + (2 * g * vth) + (-2 * vth + 0.09 * vth**2) * s - (0.09 * d * vth**2) - (0.09 * d * g**2) -  (0.09 * d * s**2) + ( 2 * g * s * 0.09 * d) - (2 * g * vth * 0.09 * d) + ( 2* s * vth * 0.09 * d ) + (0.09 * s * g**2) + (0.09 * s**3) - (0.09 * 2 * g * s**2))\n",
      "            return cc\n",
      "        elif(information[0]=='l'):\n",
      "            cc=(86e-6) * (w / l) * ((0.5 * s**2) - (0.5 * d**2) - (g * s) - (s * vth) + (g * d) + (d * vth) + (0.09 * 0.5 * s**3) - (0.09 * s * 0.5 * d**2) - (0.09 * g * s**2) - (s**2 * 0.09 * vth) + (2 * 0.09 * s * g * d) + (2 * 0.09 * s * d * vth) - (0.5 * d * 0.09 * s**2) + (0.5 * 0.09 * d**3) - (0.09 * g * d**2) - (0.09 * d**2 *vth))\n",
      "            return  cc\n",
      "        \n",
      "    if(information[4]=='CMOSN'):\n",
      "        if(information[0]=='c'):\n",
      "            return 0\n",
      "        elif(information[0]=='s'):\n",
      "            cc = (0.5 * 285e-6) * (w / l) * ((g**2) + (1-2 * vth * 0.14) * (s**2) + (vth**2) + ((0.14 * vth - 1) * 2 * g * s) - (2 * g * vth) + (2 * vth - 0.14 * vth**2) * s + (0.14 * d * vth**2) + (0.14 * d * g**2) + (0.14 * d * s**2) - (2 * g * s * 0.14 * d) - (2 * g * vth * 0.14 * d) + (2 * s * vth * 0.14 * d) - (0.14 * s * g**2) - (0.14 * s**3) + (0.14 * 2 * g * s**2))\n",
      "            return cc\n",
      "        elif(information[0]=='l'):\n",
      "            cc=(285e-6) * (w / l) * ((g * d) - (s * g) + (0.5 * s**2) - (vth * d) + (vth * s) - (0.5 * d**2) + (0.14 * g * d**2) - (2 * 0.14 * d * s * g) + (0.5 * 0.14 * d * s**2) - (0.14 * vth * d**2) + (2 * 0.14 * d * vth * s) - (0.5 * 0.14 * d**3) + (s**2 *g * 0.14) - (0.5 * 0.14 * s**3) - (0.14 * s**2 * vth) + (0.5 * 0.14 * s * d**2))\n",
      "            return cc"
     ],
     "language": "python",
     "metadata": {},
     "outputs": [],
     "prompt_number": 12
    },
    {
     "cell_type": "code",
     "collapsed": false,
     "input": [
      "initial=get_initialcond('./Data/voltage_diffamp.txt')\n",
      "state=get_states('./Data/voltage_diffamp.txt')\n",
      "stateorder=get_stateorder(state)\n",
      "steadystate=get_steadystate('./Data/voltage_diffamp.txt',initial,stateorder,10e-6)\n",
      "delta=get_linpdiff(initial,steadystate,stateorder)\n",
      "count,time=get_linPoints('./Data/voltage_diffamp.txt',initial,delta/3)"
     ],
     "language": "python",
     "metadata": {},
     "outputs": [
      {
       "output_type": "stream",
       "stream": "stdout",
       "text": [
        "1 ) Difference is : 0.182832382734 Time 2.047405317778174e-006\n",
        "2 ) Difference is : 0.18554814658 Time 2.115044999617510e-006\n",
        "3 ) Difference is : 0.19548275494 Time 2.172315304190989e-006\n",
        "4 ) Difference is : 0.189140320567 Time 2.265650531771602e-006\n"
       ]
      }
     ],
     "prompt_number": 131
    },
    {
     "cell_type": "code",
     "collapsed": false,
     "input": [
      "datapoints=[{} for i in range(count)]\n",
      "currents=[{} for i in range(count)]\n",
      "regions=[{} for i in range(count)]\n",
      "\n",
      "for data in import_text('./Data/voltage_diffamp.txt','\\t'):\n",
      "    for i in range(count):\n",
      "        if(float(data['time'])==time[i]):\n",
      "            datapoints[i]=data\n",
      "            \n",
      "initial['0']=0  \n",
      "initialcond=initial\n",
      "for i in range(count):\n",
      "    datapoints[i]['0']=0\n",
      "    \n",
      "for data in import_text('./Data/currents.txt','\\t'):\n",
      "    for i in range(count):\n",
      "        if(float(data['time'])==time[i]):\n",
      "            currents[i]=data"
     ],
     "language": "python",
     "metadata": {},
     "outputs": [],
     "prompt_number": 76
    },
    {
     "cell_type": "code",
     "collapsed": false,
     "input": [
      "global datapoints\n",
      "print initialcond\n",
      "global count"
     ],
     "language": "python",
     "metadata": {},
     "outputs": [
      {
       "output_type": "stream",
       "stream": "stdout",
       "text": [
        "{'vom': '8.979466e-001', 'inpositive': '8.910891e-001', 'cfmb2': '1.043479e+000', 'out1neg': '6.299838e-001', 'vop': '8.979466e-001', 'cmfb1': '6.717972e-001', 'innegative': '8.910891e-001', 'umirror': '1.231914e+000', 'n008': '6.300000e-001', 'n009': '6.734486e-001', 'n006': '8.979466e-001', 'n007': '1.198375e+000', 'n004': '6.299838e-001', 'n005': '2.349449e-001', 'n002': '1.148253e+000', 'n003': '6.299838e-001', 'n001': '1.457308e+000', '0': 0, 'vbias': '9.000000e-001', 'out1pos': '6.299838e-001', 'ig7': '0.000000e+000', 'ig9': '0.000000e+000', 'vdd': '1.800000e+000', 'time': '0.000000000000000e+000'}\n"
       ]
      }
     ],
     "prompt_number": 77
    },
    {
     "cell_type": "heading",
     "level": 4,
     "metadata": {},
     "source": [
      "Understand Mode of operation"
     ]
    },
    {
     "cell_type": "code",
     "collapsed": false,
     "input": [
      "#Vth={'m15':0.476,'m14':0.476,'m10':0.476,'m8':0.476,'mc5':0.477,'mc2':0.476,'m6':0.474,'mc1':0.474,'m5':0.476,'m2':0.477,'m0':0.479,'m1':0.477,'m13':0.478,'m12':0.477,'m11':0.484,'m9':0.480,'m7':0.480,'mc4':0.456,'mc3':0.456,'m4':0.479,'m3':0.479}\n",
      "Vth={'m15':0.477,'m14':0.477,'m10':0.477,'m8':0.477,'mc5':0.477,'mc2':0.477,'m6':0.477,'mc1':0.477,'m5':0.477,'m2':0.477,'m0':0.477,'m1':0.477,'m13':0.477,'m12':0.477,'m11':0.477,'m9':0.477,'m7':0.477,'mc4':0.477,'mc3':0.477,'m4':0.477,'m3':0.477}"
     ],
     "language": "python",
     "metadata": {},
     "outputs": [],
     "prompt_number": 78
    },
    {
     "cell_type": "heading",
     "level": 4,
     "metadata": {},
     "source": [
      "Parse netlist and determine nodes of connection"
     ]
    },
    {
     "cell_type": "code",
     "collapsed": false,
     "input": [
      "import re\n",
      "nl=open('./Data/diffamp.net')\n",
      "x=re.compile('M(?#comment)')\n",
      "for point in range(count):\n",
      "    a=0\n",
      "    #print \"The state of the system at\",datapoints[point]['time']\n",
      "    while True:\n",
      "        i=nl.readline()    \n",
      "        if re.match(x,i):\n",
      "            a=a+1\n",
      "            inf=i.split()\n",
      "            sma=[low.lower() for low in i.split()]\n",
      "            r=region(sma[5].upper(),float(datapoints[point][sma[1]]),float(datapoints[point][sma[2]]),float(datapoints[point][sma[3]]))\n",
      "            #print sma[0],\"is in \",r\n",
      "            regions[point][sma[0]]=[r,sma[1],sma[2],sma[3],sma[5].upper(),sma[7],sma[6]]\n",
      "        if not i:           \n",
      "            nl.seek(0)\n",
      "            break\n",
      "print \"There are\",a,\"transistors\"\n"
     ],
     "language": "python",
     "metadata": {},
     "outputs": [
      {
       "output_type": "stream",
       "stream": "stdout",
       "text": [
        "There are 21 transistors\n"
       ]
      }
     ],
     "prompt_number": 79
    },
    {
     "cell_type": "heading",
     "level": 4,
     "metadata": {},
     "source": [
      "Checking for Mode of operation and substitution of current equations"
     ]
    },
    {
     "cell_type": "code",
     "collapsed": false,
     "input": [
      "time"
     ],
     "language": "python",
     "metadata": {},
     "outputs": [
      {
       "output_type": "pyout",
       "prompt_number": 80,
       "text": [
        "[2.047405317778174e-06,\n",
        " 2.11504499961751e-06,\n",
        " 2.172315304190989e-06,\n",
        " 2.265650531771602e-06]"
       ]
      }
     ],
     "prompt_number": 80
    },
    {
     "cell_type": "code",
     "collapsed": false,
     "input": [
      "ss=str('m4')\n",
      "print regions[3][ss]\n",
      "cc=current(regions[3][ss],state,3,Vth[ss])\n",
      "print cc\n",
      "sub1={state[i]:datapoints[3][i] for i in state}\n",
      "print cc.evalf(subs=sub1)\n",
      "print currents[3]['Id('+ss.upper()+')']\n",
      "print datapoints[3]['out1pos'],datapoints[3]['cmfb1'],datapoints[3]['time']\n",
      "print \"Threshold::\", Vth[ss]"
     ],
     "language": "python",
     "metadata": {},
     "outputs": [
      {
       "ename": "AttributeError",
       "evalue": "'int' object has no attribute 'evalf'",
       "output_type": "pyerr",
       "traceback": [
        "\u001b[1;31m---------------------------------------------------------------------------\u001b[0m\n\u001b[1;31mAttributeError\u001b[0m                            Traceback (most recent call last)",
        "\u001b[1;32m<ipython-input-81-cb973fe8dfdc>\u001b[0m in \u001b[0;36m<module>\u001b[1;34m()\u001b[0m\n\u001b[0;32m      4\u001b[0m \u001b[1;32mprint\u001b[0m \u001b[0mcc\u001b[0m\u001b[1;33m\u001b[0m\u001b[0m\n\u001b[0;32m      5\u001b[0m \u001b[0msub1\u001b[0m\u001b[1;33m=\u001b[0m\u001b[1;33m{\u001b[0m\u001b[0mstate\u001b[0m\u001b[1;33m[\u001b[0m\u001b[0mi\u001b[0m\u001b[1;33m]\u001b[0m\u001b[1;33m:\u001b[0m\u001b[0mdatapoints\u001b[0m\u001b[1;33m[\u001b[0m\u001b[1;36m3\u001b[0m\u001b[1;33m]\u001b[0m\u001b[1;33m[\u001b[0m\u001b[0mi\u001b[0m\u001b[1;33m]\u001b[0m \u001b[1;32mfor\u001b[0m \u001b[0mi\u001b[0m \u001b[1;32min\u001b[0m \u001b[0mstate\u001b[0m\u001b[1;33m}\u001b[0m\u001b[1;33m\u001b[0m\u001b[0m\n\u001b[1;32m----> 6\u001b[1;33m \u001b[1;32mprint\u001b[0m \u001b[0mcc\u001b[0m\u001b[1;33m.\u001b[0m\u001b[0mevalf\u001b[0m\u001b[1;33m(\u001b[0m\u001b[0msubs\u001b[0m\u001b[1;33m=\u001b[0m\u001b[0msub1\u001b[0m\u001b[1;33m)\u001b[0m\u001b[1;33m\u001b[0m\u001b[0m\n\u001b[0m\u001b[0;32m      7\u001b[0m \u001b[1;32mprint\u001b[0m \u001b[0mcurrents\u001b[0m\u001b[1;33m[\u001b[0m\u001b[1;36m3\u001b[0m\u001b[1;33m]\u001b[0m\u001b[1;33m[\u001b[0m\u001b[1;34m'Id('\u001b[0m\u001b[1;33m+\u001b[0m\u001b[0mss\u001b[0m\u001b[1;33m.\u001b[0m\u001b[0mupper\u001b[0m\u001b[1;33m(\u001b[0m\u001b[1;33m)\u001b[0m\u001b[1;33m+\u001b[0m\u001b[1;34m')'\u001b[0m\u001b[1;33m]\u001b[0m\u001b[1;33m\u001b[0m\u001b[0m\n\u001b[0;32m      8\u001b[0m \u001b[1;32mprint\u001b[0m \u001b[0mdatapoints\u001b[0m\u001b[1;33m[\u001b[0m\u001b[1;36m3\u001b[0m\u001b[1;33m]\u001b[0m\u001b[1;33m[\u001b[0m\u001b[1;34m'out1pos'\u001b[0m\u001b[1;33m]\u001b[0m\u001b[1;33m,\u001b[0m\u001b[0mdatapoints\u001b[0m\u001b[1;33m[\u001b[0m\u001b[1;36m3\u001b[0m\u001b[1;33m]\u001b[0m\u001b[1;33m[\u001b[0m\u001b[1;34m'cmfb1'\u001b[0m\u001b[1;33m]\u001b[0m\u001b[1;33m,\u001b[0m\u001b[0mdatapoints\u001b[0m\u001b[1;33m[\u001b[0m\u001b[1;36m3\u001b[0m\u001b[1;33m]\u001b[0m\u001b[1;33m[\u001b[0m\u001b[1;34m'time'\u001b[0m\u001b[1;33m]\u001b[0m\u001b[1;33m\u001b[0m\u001b[0m\n",
        "\u001b[1;31mAttributeError\u001b[0m: 'int' object has no attribute 'evalf'"
       ]
      },
      {
       "output_type": "stream",
       "stream": "stdout",
       "text": [
        "['c', 'out1pos', 'cmfb1', '0', 'CMOSN', 'w=2u', 'l=0.24u']\n",
        "0\n"
       ]
      }
     ],
     "prompt_number": 81
    },
    {
     "cell_type": "heading",
     "level": 4,
     "metadata": {},
     "source": [
      "Generation of all non linear equations and evaluating them at linearization points"
     ]
    },
    {
     "cell_type": "code",
     "collapsed": false,
     "input": [
      "inp2=re.compile(r\"([-+]?[ ]?\\d+.\\d+).inpositive\\*\\*2 \")\n",
      "inp=re.compile(r\"([-+]?[ ]?\\d+.\\d+).inpositive \")\n",
      "inn2=re.compile(r\"([-+]?[ ]?\\d+.\\d+).innegative\\*\\*2 \")\n",
      "inn=re.compile(r\"([-+]?[ ]?\\d+.\\d+).innegative \")\n",
      "inp3=re.compile(r\"([-+]?[ ]?\\d+.\\d+).inpositive\\*\\*3 \")\n",
      "inn3=re.compile(r\"([-+]?[ ]?\\d+.\\d+).innegative\\*\\*3 \")\n",
      "start=re.compile(r\"^[*]\")\n",
      "#stateorder=sympy.Matrix([(state['n001']),(state['n002']),(state['n005']),(state['cfmb2']),(state['vom']),(state['vop']),(state['n009']),(state['n007']),(state['cmfb1']),(state['out1neg']),(state['out1pos']),(state['ig9']),(state['ig7'])])\n",
      "linP=numpy.zeros((count,order,1))\n",
      "inputorder=sympy.Matrix( ((state['inpositive']),(state['inpositive']**2),(state['inpositive']**3),(state['innegative']),(state['innegative']**2),(state['innegative']**3)))\n",
      "inputm=inputorder.evalf(subs={state['inpositive']:1.3,state['innegative']:0.5})\n",
      "for i in range(count):\n",
      "    for k in range(order):\n",
      "        linP[i][k]=(datapoints[i][str(stateorder[k])])          \n",
      "\n",
      "print stateorder"
     ],
     "language": "python",
     "metadata": {},
     "outputs": [
      {
       "output_type": "stream",
       "stream": "stdout",
       "text": [
        "[   n001]\n",
        "[   n002]\n",
        "[   n005]\n",
        "[  cfmb2]\n",
        "[    vom]\n",
        "[    vop]\n",
        "[   n009]\n",
        "[   n007]\n",
        "[  cmfb1]\n",
        "[out1neg]\n",
        "[out1pos]\n",
        "[    ig9]\n",
        "[    ig7]\n"
       ]
      }
     ],
     "prompt_number": 82
    },
    {
     "cell_type": "code",
     "collapsed": false,
     "input": [],
     "language": "python",
     "metadata": {},
     "outputs": [],
     "prompt_number": 123
    },
    {
     "cell_type": "code",
     "collapsed": false,
     "input": [
      "from sympy.parsing.sympy_parser import parse_expr\n",
      "C=numpy.zeros((2,order))\n",
      "C[0,9]=1\n",
      "C[1,10]=1\n",
      "D=[0]\n",
      "\n",
      "Cpara_vdo=1e-15\n",
      "Cpara_vd12=1e-15\n",
      "Cpara_vd11=1e-15\n",
      "Cpara_vcmfb2=1e-15\n",
      "Cpara_vom=1e-15\n",
      "Cpara_vop=1e-15\n",
      "Cpara_vdc3=1e-15\n",
      "Cpara_vdc5=1e-15\n",
      "Cpara_vcmfb1=1e-15\n",
      "Cpara_vd1=1e-15\n",
      "Cpara_vd2=1e-15\n",
      "eqs = sympy.Matrix( numpy.zeros( (order,count) ) )\n",
      "#stateorder=sympy.Matrix([(state['n001']),(state['n002']),(state['n005']),(state['cfmb2']),(state['vom']),(state['vop']),(state['n009']),(state['n007']),(state['cmfb1']),(state['out1neg']),(state['out1pos']),(state['ig9']),(state['ig7'])])\n",
      "#linPJac=numpy.zeros((count,13,13))\n",
      "#linPVal=numpy.zeros((count,13,1))\n",
      "#B=numpy.zeros((count,13,6))\n",
      "for linpt in range(count):\n",
      "    print linpt\n",
      "    Im0=current(regions[linpt]['m0'],state,linpt,Vth['m0'])\n",
      "    Im1=current(regions[linpt]['m1'],state,linpt,Vth['m1'])\n",
      "    Im2=current(regions[linpt]['m2'],state,linpt,Vth['m2'])\n",
      "    Im3=current(regions[linpt]['m3'],state,linpt,Vth['m3'])\n",
      "    Im4=current(regions[linpt]['m4'],state,linpt,Vth['m4'])\n",
      "    Im5=current(regions[linpt]['m5'],state,linpt,Vth['m5'])\n",
      "    Im6=current(regions[linpt]['m6'],state,linpt,Vth['m6'])\n",
      "    Im7=current(regions[linpt]['m7'],state,linpt,Vth['m7'])\n",
      "    Im8=current(regions[linpt]['m8'],state,linpt,Vth['m8'])\n",
      "    Im9=current(regions[linpt]['m9'],state,linpt,Vth['m9'])\n",
      "    Im10=current(regions[linpt]['m10'],state,linpt,Vth['m10'])\n",
      "    Im11=current(regions[linpt]['m11'],state,linpt,Vth['m11'])\n",
      "    Im12=current(regions[linpt]['m12'],state,linpt,Vth['m12'])\n",
      "    Im13=current(regions[linpt]['m13'],state,linpt,Vth['m13'])\n",
      "    Im14=current(regions[linpt]['m14'],state,linpt,Vth['m14'])\n",
      "    Im15=current(regions[linpt]['m15'],state,linpt,Vth['m15'])\n",
      "    Imc1=current(regions[linpt]['mc1'],state,linpt,Vth['mc1'])\n",
      "    Imc2=current(regions[linpt]['mc2'],state,linpt,Vth['mc2'])\n",
      "    Imc3=current(regions[linpt]['mc3'],state,linpt,Vth['mc3'])\n",
      "    Imc4=current(regions[linpt]['mc4'],state,linpt,Vth['mc4'])\n",
      "    Imc5=current(regions[linpt]['mc5'],state,linpt,Vth['mc5'])\n",
      "    \n",
      "    I=((Im15-Im13)/Cpara_vcmfb2)-((Im10-Im9)/Cpara_vom)\n",
      "    II=((Im15-Im13)/Cpara_vcmfb2)-((Im8-Im7)/Cpara_vop) \n",
      "    cur=sympy.Matrix(((I),(II)))\n",
      "    cap=sympy.Matrix((((1/1e-12+1/Cpara_vcmfb2+1/Cpara_vom),(1/Cpara_vcmfb2)),(1/Cpara_vcmfb2,1/1e-12+1/Cpara_vcmfb2+1/Cpara_vop)))\n",
      "    [IC10,IC9]=[0,0]#cap.inv()*cur\n",
      "    \n",
      "    III=((Imc2-Imc4)/Cpara_vcmfb1)-((state['ig9']+Im4-Im2)/Cpara_vd2) \n",
      "    IV=((Imc2-Imc4)/Cpara_vcmfb1)-((state['ig7']+Im3-Im1)/Cpara_vd1)\n",
      "    cap=sympy.Matrix(((1/7e-12+1/Cpara_vd2+1/Cpara_vcmfb1,1/Cpara_vcmfb1),(Cpara_vcmfb1,1/7e-12+1/Cpara_vd1+1/Cpara_vcmfb1)))\n",
      "    cur=sympy.Matrix(((III),(IV)))\n",
      "    [IC4,IC2]=[0,0]#cap.inv()*cur\n",
      "    \n",
      "    vd0dot=(-Im1-Im2+Im0)/Cpara_vdo   #V Im0 V Im1 VIm2 chkd\n",
      "    vd12dot=(-Im12+Im14)/Cpara_vd12  #V Im14 V im12 chkd\n",
      "    vd11dot=(Im12+Im13-Im11)/Cpara_vd11    #V Im12 V Im13 V Im11 chkd\n",
      "    vcmfb2dot=(Im15-Im13-IC10-IC9)/Cpara_vcmfb2  # V Im15 <IC9 >IC10 V Im13\n",
      "    #vomdot=(Im10+IC10-Im9-state['ig9'])/Cpara_vom   # > IC10 V Im10 V Im9  < ig9 chkd\n",
      "    vomdot=(Im10+IC10-Im9)/Cpara_vom   # > IC10 V Im10 V Im9  < ig9 chkd\n",
      "    #vopdot=(Im8+IC9-Im7-state['ig7'])/Cpara_vop          # < IC9 V Im8 V Im7  > ig7 chkd\n",
      "    vopdot=(Im8+IC9-Im7)/Cpara_vop          # < IC9 V Im8 V Im7  > ig7 chkd\n",
      "    vdc3dot=(Imc1+Im6-Imc3)/Cpara_vdc3                 # V Imc1  V Im6 V Imc3 \n",
      "    vdc5dot=(-Imc1-Im6-Imc2+Imc5)/Cpara_vdc5   # V Imc5 V Imc1 V Im6 V Imc2\n",
      "    vcmfb1dot=(Imc2-Imc4-IC2-IC4)/Cpara_vcmfb1 #V Imc2 < IC2 >IC4 V Imc4\n",
      "    #vd1dot=(state['ig7']-Im3+Im1+IC2)/Cpara_vd1   # >ig7 V Im1 V Im3 < IC2\n",
      "    vd1dot=(-Im3+Im1+IC2)/Cpara_vd1   # >ig7 V Im1 V Im3 < IC2\n",
      "    #vd2dot=(state['ig9']-Im4+Im2+IC4)/Cpara_vd2  # < ig9 V Im2 V Im4 > IC4\n",
      "    vd2dot=(-Im4+Im2+IC4)/Cpara_vd2  # < ig9 V Im2 V Im4 > IC4\n",
      "    #ig9dot=0#0.001*(vomdot-(state['ig9']/7e-12)-vd2dot) # <ig9\n",
      "    #ig7dot=0#0.001*(vopdot-(state['ig7']/7e-12)-vd1dot) # > ig7\n",
      "    \n",
      "    \n",
      "    eqs[ :, linpt ]=sympy.Matrix( [(vd0dot),(vd12dot),(vd11dot),(vcmfb2dot),(vomdot),(vopdot),(vdc3dot),(vdc5dot),(vcmfb1dot),(vd1dot),(vd2dot)])#,(ig9dot),(ig7dot)] )\n",
      "    \n",
      "    # dx/dt = Jacobian * ( state ) + B * ( input ) + ( Val @ state - Jacobian * linPoint )\n",
      "    \n",
      "    \n",
      "    \n"
     ],
     "language": "python",
     "metadata": {},
     "outputs": [
      {
       "output_type": "stream",
       "stream": "stdout",
       "text": [
        "0\n",
        "1"
       ]
      },
      {
       "output_type": "stream",
       "stream": "stdout",
       "text": [
        "\n",
        "2"
       ]
      },
      {
       "output_type": "stream",
       "stream": "stdout",
       "text": [
        "\n",
        "3"
       ]
      },
      {
       "output_type": "stream",
       "stream": "stdout",
       "text": [
        "\n"
       ]
      }
     ],
     "prompt_number": 83
    },
    {
     "cell_type": "code",
     "collapsed": false,
     "input": [
      "global sim_begin\n",
      "sim_begin = 2e-6"
     ],
     "language": "python",
     "metadata": {},
     "outputs": [],
     "prompt_number": 84
    },
    {
     "cell_type": "code",
     "collapsed": false,
     "input": [
      "global ycheck\n",
      "ycheck=[]"
     ],
     "language": "python",
     "metadata": {},
     "outputs": [],
     "prompt_number": 85
    },
    {
     "cell_type": "code",
     "collapsed": false,
     "input": [
      "import timeit\n",
      "from scipy.integrate import odeint"
     ],
     "language": "python",
     "metadata": {},
     "outputs": [],
     "prompt_number": 86
    },
    {
     "cell_type": "code",
     "collapsed": false,
     "input": [
      "act_time = [ float( time[ i ] ) - sim_begin for i in range(count) ]\n",
      "print act_time"
     ],
     "language": "python",
     "metadata": {},
     "outputs": [
      {
       "output_type": "stream",
       "stream": "stdout",
       "text": [
        "[4.7405317778174124e-08, 1.1504499961750992e-07, 1.7231530419098905e-07, 2.656505317716022e-07]\n"
       ]
      }
     ],
     "prompt_number": 87
    },
    {
     "cell_type": "code",
     "collapsed": false,
     "input": [
      "def dervPWL(y,t):\n",
      "    subs1 = {}\n",
      "    if t <= (act_time[ 0 ] + act_time[1]) * 0.5:\n",
      "        subs1 = { state[str( stateorder[ i ] ) ] : y[ i ] for i in range(order)}\n",
      "        subs1[ state['innegative'] ] = 0.4910891\n",
      "        subs1[ state['inpositive' ] ] = 1.291089\n",
      "        subs1 [ state['0'] ] = 0\n",
      "        subs1 [ state['vdd'] ] = 1.8\n",
      "        subs1[ state['cmfb1'] ] = float( datapoints[0]['cmfb1'] )\n",
      "        subs1[state['vbias'] ] = 0.9\n",
      "        subs1[ state['cfmb2'] ] = float( datapoints[0]['cfmb2'] )\n",
      "        subs1[ state['umirror'] ] = float( datapoints[0]['umirror'] )\n",
      "        subs1[ state['n008'] ] = 0.63\n",
      "        subs1[ state['n006'] ] = float( datapoints[0]['n006'] )\n",
      "        temp = Sym2NumArray( eqs [ : ,0 ].evalf(subs = subs1 ) )\n",
      "        \n",
      "        return (temp.reshape( 1, order ))[ 0 ]\n",
      "    \n",
      "    elif 0.5 * ( act_time[ 0 ] + act_time[ 1 ]) < t <= 0.5 * ( act_time[ 1 ] + act_time[ 2 ]) :\n",
      "        subs1 = { state[str( stateorder[ i ] ) ] : y[ i ] for i in range(order)}\n",
      "        subs1[ state['innegative'] ] = 0.4910891\n",
      "        subs1[ state['inpositive' ] ] = 1.291089\n",
      "        subs1 [ state['0'] ] = 0\n",
      "        subs1 [ state['vdd'] ] = 1.8\n",
      "        subs1[ state['cmfb1'] ] = float( datapoints[1]['cmfb1'] )\n",
      "        subs1[state['vbias'] ] = 0.9\n",
      "        subs1[ state['cfmb2'] ] = float( datapoints[1]['cfmb2'] )\n",
      "        subs1[ state['umirror'] ] = float( datapoints[1]['umirror'] )\n",
      "        subs1[ state['n008'] ] = 0.63\n",
      "        subs1[ state['n006'] ] = float( datapoints[1]['n006'] )\n",
      "        temp = Sym2NumArray( eqs [ : ,1 ].evalf(subs = subs1 ) )\n",
      "        \n",
      "        return (temp.reshape( 1, order ))[ 0 ]\n",
      "    \n",
      "    elif 0.5 * ( act_time[ 1 ] + act_time[ 2 ]) < t <= 0.5 * ( act_time[ 2 ] + act_time[ 3 ]) :\n",
      "        subs1 = { state[str( stateorder[ i ] ) ] : y[ i ] for i in range(order)}\n",
      "        subs1[ state['innegative'] ] = 0.4910891\n",
      "        subs1[ state['inpositive' ] ] = 1.291089\n",
      "        subs1 [ state['0'] ] = 0\n",
      "        subs1 [ state['vdd'] ] = 1.8\n",
      "        subs1[ state['cmfb1'] ] = float( datapoints[2]['cmfb1'] )\n",
      "        subs1[state['vbias'] ] = 0.9\n",
      "        subs1[ state['cfmb2'] ] = float( datapoints[2]['cfmb2'] )\n",
      "        subs1[ state['umirror'] ] = float( datapoints[2]['umirror'] )\n",
      "        subs1[ state['n008'] ] = 0.63\n",
      "        subs1[ state['n006'] ] = float( datapoints[2]['n006'] )\n",
      "        temp = Sym2NumArray( eqs [ : ,2 ].evalf(subs = subs1 ) )\n",
      "        \n",
      "        return (temp.reshape( 1, order ))[ 0 ]\n",
      "    \n",
      "    elif 0.5 * ( act_time[ 2 ] + act_time[ 3 ]) < t  :\n",
      "        subs1 = { state[str( stateorder[ i ] ) ] : y[ i ] for i in range(order)}\n",
      "        subs1[ state['innegative'] ] = 0.4910891\n",
      "        subs1[ state['inpositive' ] ] = 1.291089\n",
      "        subs1 [ state['0'] ] = 0\n",
      "        subs1 [ state['vdd'] ] = 1.8\n",
      "        subs1[ state['cmfb1'] ] = float( datapoints[3]['cmfb1'] )\n",
      "        subs1[state['vbias'] ] = 0.9\n",
      "        subs1[ state['cfmb2'] ] = float( datapoints[3]['cfmb2'] )\n",
      "        subs1[ state['umirror'] ] = float( datapoints[3]['umirror'] )\n",
      "        subs1[ state['n008'] ] = 0.63\n",
      "        subs1[ state['n006'] ] = float( datapoints[3]['n006'] )\n",
      "        temp = Sym2NumArray( eqs [ : ,3 ].evalf(subs = subs1 ) )\n",
      "        \n",
      "        return (temp.reshape( 1, order ))[ 0 ]\n",
      "    \n",
      "#    elif 0.5 * ( act_time[ 3 ] + act_time[ 4 ]) < t <= 0.5 * ( act_time[ 4 ] + act_time[ 5 ]) :\n",
      "#        subs1 = { state[str( stateorder[ i ] ) ] : y[ i ] for i in range(order)}\n",
      "#        subs1[ state['innegative'] ] = 0.4910891\n",
      "#        subs1[ state['inpositive' ] ] = 1.291089\n",
      "#        subs1 [ state['0'] ] = 0\n",
      "#        subs1 [ state['vdd'] ] = 1.8\n",
      "#        subs1[ state['cmfb1'] ] = float( datapoints[4]['cmfb1'] )\n",
      "#        subs1[state['vbias'] ] = 0.9\n",
      "#        subs1[ state['cfmb2'] ] = float( datapoints[4]['cfmb2'] )\n",
      "#        subs1[ state['umirror'] ] = float( datapoints[4]['umirror'] )\n",
      "#        subs1[ state['n008'] ] = float( datapoints[4]['n008'] )\n",
      "#        subs1[ state['n006'] ] = float( datapoints[4]['n006'] )\n",
      "#        temp = Sym2NumArray( eqs [ : ,4 ].evalf(subs = subs1 ) )\n",
      "#        return (temp.reshape( 1, order ))[ 0 ]\n",
      "#    \n",
      "#    elif 0.5 * ( act_time[ 4 ] + act_time[ 5 ]) < t <= 0.5 * ( act_time[ 5 ] + act_time[ 6 ]) :\n",
      "#        subs1 = { state[str( stateorder[ i ] ) ] : y[ i ] for i in range(order)}\n",
      "#        subs1[ state['innegative'] ] = 0.4910891\n",
      "#        subs1[ state['inpositive' ] ] = 1.291089\n",
      "#        subs1 [ state['0'] ] = 0\n",
      "#        subs1 [ state['vdd'] ] = 1.8\n",
      "#        subs1[ state['cmfb1'] ] = float( datapoints[5]['cmfb1'] )\n",
      "#        subs1[state['vbias'] ] = 0.9\n",
      "#        subs1[ state['cfmb2'] ] = float( datapoints[5]['cfmb2'] )\n",
      "#        subs1[ state['umirror'] ] = float( datapoints[5]['umirror'] )\n",
      "#        subs1[ state['n008'] ] = float( datapoints[5]['n008'] )\n",
      "#        subs1[ state['n006'] ] = float( datapoints[5]['n006'] )\n",
      "#        temp = Sym2NumArray( eqs [ : ,5 ].evalf(subs = subs1 ) )\n",
      "#        return (temp.reshape( 1, order ))[ 0 ]\n",
      "#    \n",
      "#    elif 0.5 * ( act_time[ 5 ] + act_time[ 6 ]) < t  :\n",
      "#        subs1 = { state[str( stateorder[ i ] ) ] : y[ i ] for i in range(order)}\n",
      "#        subs1[ state['innegative'] ] = 0.4910891\n",
      "#        subs1[ state['inpositive' ] ] = 1.291089\n",
      "#        subs1 [ state['0'] ] = 0\n",
      "#        subs1 [ state['vdd'] ] = 1.8\n",
      "#        subs1[ state['cmfb1'] ] = float( datapoints[6]['cmfb1'] )\n",
      "#        subs1[state['vbias'] ] = 0.9\n",
      "#        subs1[ state['cfmb2'] ] = float( datapoints[6]['cfmb2'] )\n",
      "#        subs1[ state['umirror'] ] = float( datapoints[6]['umirror'] )\n",
      "#        subs1[ state['n008'] ] = float( datapoints[6]['n008'] )\n",
      "#        subs1[ state['n006'] ] = float( datapoints[6]['n006'] )\n",
      "#        temp = Sym2NumArray( eqs [ : ,6 ].evalf(subs = subs1 ) )\n",
      "#        return (temp.reshape( 1, order ))[ 0 ]\n",
      "#    \n",
      "#    \n",
      "#    \n",
      "#\n",
      "#"
     ],
     "language": "python",
     "metadata": {},
     "outputs": [],
     "prompt_number": 120
    },
    {
     "cell_type": "code",
     "collapsed": false,
     "input": [
      "y0=numpy.array([float(datapoints[0][str(i)]) for i in stateorder])\n",
      "\n",
      "ti  = numpy.linspace(0, 2e-7, 4)\n",
      "solnPWL = odeint(dervPWL, y0, ti,full_output=1)\n"
     ],
     "language": "python",
     "metadata": {},
     "outputs": [
      {
       "output_type": "stream",
       "stream": "stdout",
       "text": [
        "Excess work done on this call (perhaps wrong Dfun type).\n",
        "Run with full_output = 1 to get quantitative information.\n"
       ]
      }
     ],
     "prompt_number": 121
    },
    {
     "cell_type": "code",
     "collapsed": false,
     "input": [
      "solnPWL"
     ],
     "language": "python",
     "metadata": {},
     "outputs": [
      {
       "output_type": "pyout",
       "prompt_number": 122,
       "text": [
        "(array([[  1.09940200e+00,   1.17223500e+00,   2.53237500e-01,\n",
        "          9.81902800e-01,   6.34461300e-01,   1.14663400e+00,\n",
        "          6.73395800e-01,   1.19830100e+00,   6.48362800e-01,\n",
        "          5.92152200e-01,   8.44348500e-01,   4.92055700e-08,\n",
        "         -1.19527200e-08],\n",
        "       [  1.09975700e+00,   1.17209990e+00,   2.53197782e-01,\n",
        "         -1.78394119e+02,   4.90893642e-02,   1.75588872e+00,\n",
        "          5.34834881e-01,   1.23291861e+00,   1.16809010e+03,\n",
        "          7.93345466e-01,   9.09773442e-01,  -6.17820424e-05,\n",
        "          3.87440910e-05],\n",
        "       [  1.55176327e+00,   1.17537859e+00,   2.59737162e-01,\n",
        "         -2.72570851e+02,   1.08730968e-01,   1.78352720e+00,\n",
        "          7.46168920e-01,   1.13721442e+00,   1.39977530e+03,\n",
        "          4.81261351e-01,   1.53711464e+00,  -5.72488149e-05,\n",
        "          3.48496807e-05],\n",
        "       [  2.19706253e+00,   1.26297564e+00,   3.46779777e-01,\n",
        "         -3.73887168e+02,   8.47149077e-02,   1.79375078e+00,\n",
        "          7.39434720e-01,   1.07475559e+00,   3.07148505e+02,\n",
        "          4.22943064e-01,   2.19085375e+00,  -7.93095291e-05,\n",
        "          6.48612117e-06]]),\n",
        " {'hu': array([  1.12992057e-08,   6.27488871e-10,   3.90826646e-10]),\n",
        "  'imxer': -1,\n",
        "  'leniw': 33,\n",
        "  'lenrw': 308,\n",
        "  'message': 'Excess work done on this call (perhaps wrong Dfun type).',\n",
        "  'mused': array([2, 2, 2]),\n",
        "  'nfe': array([ 648, 2093, 4107]),\n",
        "  'nje': array([ 18,  88, 171]),\n",
        "  'nqu': array([5, 4, 4]),\n",
        "  'nst': array([ 247,  603, 1103]),\n",
        "  'tcur': array([  6.85353007e-08,   1.33584600e-07,   1.92694672e-07]),\n",
        "  'tolsf': array([  7.17822621e-316,   7.17822621e-316,   7.17822621e-316]),\n",
        "  'tsw': array([  2.43752376e-11,   2.43752376e-11,   1.43694801e-07])})"
       ]
      }
     ],
     "prompt_number": 122
    },
    {
     "cell_type": "code",
     "collapsed": false,
     "input": [
      "dervPWL(y0, 1e-5)"
     ],
     "language": "python",
     "metadata": {},
     "outputs": [
      {
       "output_type": "stream",
       "stream": "stdout",
       "text": [
        "3\n"
       ]
      },
      {
       "output_type": "pyout",
       "prompt_number": 119,
       "text": [
        "array([ -7.12005505e+12,   3.44205094e+10,   3.71524914e+10,\n",
        "        -1.83018473e+09,   5.00815583e+11,   4.85554612e+11,\n",
        "        -9.68676477e+06,  -4.36946617e+08,   1.68164875e+09,\n",
        "         2.68063935e+12,   1.13764101e+10,   4.89439165e+08,\n",
        "        -2.19508474e+09])"
       ]
      }
     ],
     "prompt_number": 119
    },
    {
     "cell_type": "code",
     "collapsed": false,
     "input": [
      "subs1 = { state[str( stateorder[ i ] ) ] : y0[ i ] for i in range(order)}\n",
      "subs1[ state['innegative'] ] = float(datapoints[0]['innegative'])\n",
      "subs1[ state['inpositive' ] ] = float(datapoints[0]['inpositive'])\n",
      "subs1 [ state['0'] ] = 0\n",
      "subs1 [ state['vdd'] ] = 1.8\n",
      "subs1[ state['cmfb1'] ] = float( datapoints[0]['cmfb1'] )\n",
      "subs1[state['vbias'] ] = float( datapoints[0]['vbias'] )\n",
      "subs1[ state['cfmb2'] ] = float( datapoints[0]['cfmb2'] )\n",
      "subs1[ state['umirror'] ] = float( datapoints[0]['umirror'] )\n",
      "subs1[ state['n008'] ] = float( datapoints[0]['n008'] )\n",
      "subs1[ state['n006'] ] = float( datapoints[0]['n006'] )\n",
      "xx = Sym2NumArray( eqs [ : ,0 ].evalf(subs = subs1 ) )"
     ],
     "language": "python",
     "metadata": {},
     "outputs": [],
     "prompt_number": 59
    },
    {
     "cell_type": "code",
     "collapsed": false,
     "input": [],
     "language": "python",
     "metadata": {},
     "outputs": [
      {
       "output_type": "pyout",
       "prompt_number": 63,
       "text": [
        "array([ -3.98190887e+07,   5.89285548e+07,   3.01156790e+07,\n",
        "        -2.08057241e+09,   6.10385813e+10,   2.71964905e+11,\n",
        "        -1.45576131e+07,   2.16163124e+06,  -7.72018711e+09,\n",
        "        -3.35568011e+10,   6.66709305e+10,  -5.63235831e+06,\n",
        "         3.05521707e+08])"
       ]
      }
     ],
     "prompt_number": 63
    },
    {
     "cell_type": "code",
     "collapsed": false,
     "input": [],
     "language": "python",
     "metadata": {},
     "outputs": []
    }
   ],
   "metadata": {}
  }
 ]
}