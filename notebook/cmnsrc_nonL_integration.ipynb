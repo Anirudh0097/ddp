{
 "metadata": {
  "name": "cmnsrc_nonL_integration"
 },
 "nbformat": 3,
 "nbformat_minor": 0,
 "worksheets": [
  {
   "cells": [
    {
     "cell_type": "markdown",
     "metadata": {},
     "source": [
      "## Importing all external libraries"
     ]
    },
    {
     "cell_type": "code",
     "collapsed": false,
     "input": [
      "import sympy"
     ],
     "language": "python",
     "metadata": {},
     "outputs": [],
     "prompt_number": 1
    },
    {
     "cell_type": "code",
     "collapsed": false,
     "input": [
      "global order \n",
      "order = 2"
     ],
     "language": "python",
     "metadata": {},
     "outputs": [],
     "prompt_number": 2
    },
    {
     "cell_type": "markdown",
     "metadata": {},
     "source": [
      "##Functions"
     ]
    },
    {
     "cell_type": "code",
     "collapsed": false,
     "input": [
      "import csv\n",
      "def import_text(filename, separator):\n",
      "    reader= csv.DictReader(open(filename), delimiter=separator, skipinitialspace=True)\n",
      "    for line in reader:\n",
      "        if line:\n",
      "            yield line"
     ],
     "language": "python",
     "metadata": {},
     "outputs": [],
     "prompt_number": 3
    },
    {
     "cell_type": "markdown",
     "metadata": {},
     "source": [
      "####Needs revision Temporarily fixed"
     ]
    },
    {
     "cell_type": "code",
     "collapsed": false,
     "input": [
      "def get_steadystate(filename,initialcond,stateorder,error):\n",
      "    pre=[float(initialcond[str(stateorder[k])]) for k in range(order)]\n",
      "    count=0\n",
      "    for data in import_text(filename,'\\t'):\n",
      "        curt=[float(data[str(stateorder[k])]) for k in range(order)]\n",
      "        diff=numpy.linalg.norm(numpy.array(pre)-numpy.array(curt))\n",
      "        pre=curt\n",
      "        #print \"Difference:\\t\",diff\n",
      "        #print \"Time:\\t\",data['time'],\"\\n\"\n",
      "        if(float(data['time'])==5.000000000000000e-006):\n",
      "            return curt\n",
      "       \n",
      "     "
     ],
     "language": "python",
     "metadata": {},
     "outputs": [],
     "prompt_number": 4
    },
    {
     "cell_type": "code",
     "collapsed": false,
     "input": [
      "def get_states(filename):\n",
      "    \"\"\" filename :: provide the absolute path to the data \n",
      "         Returns states\"\"\"\n",
      "    initialcond=get_initialcond(filename)\n",
      "    state={}\n",
      "    state['0']=sympy.Symbol('0')\n",
      "    for ind in initialcond.keys():\n",
      "        state[ind]=sympy.Symbol(ind)\n",
      "    return state"
     ],
     "language": "python",
     "metadata": {},
     "outputs": [],
     "prompt_number": 5
    },
    {
     "cell_type": "code",
     "collapsed": false,
     "input": [
      "def get_initialcond(filename):\n",
      "    for data in import_text(filename,'\\t'):\n",
      "        if(float(data['time'])==0):\n",
      "            return data"
     ],
     "language": "python",
     "metadata": {},
     "outputs": [],
     "prompt_number": 6
    },
    {
     "cell_type": "code",
     "collapsed": false,
     "input": [
      "def get_stateorder(state):\n",
      "    stateorder=sympy.Matrix([(state['drain']),(state['iC2'])])\n",
      "    return stateorder"
     ],
     "language": "python",
     "metadata": {},
     "outputs": [],
     "prompt_number": 7
    },
    {
     "cell_type": "code",
     "collapsed": false,
     "input": [
      "def get_linpdiff(initial,steady,stateorder):\n",
      "    init=[float(initial[str(stateorder[k])]) for k in range(order) ]\n",
      "    return numpy.linalg.norm(numpy.array(init)-steady)/numpy.linalg.norm(init)"
     ],
     "language": "python",
     "metadata": {},
     "outputs": [],
     "prompt_number": 8
    },
    {
     "cell_type": "code",
     "collapsed": false,
     "input": [
      "def get_linPoints(filename,initialcond,delta,sim_begin):\n",
      "    pre=numpy.array([float(initialcond[str(stateorder[k])]) for k in range(order)])\n",
      "    count=0\n",
      "    time=[]\n",
      "    print \"Simulation begins @ \", sim_begin\n",
      "    for i in import_text(filename,'\\t'):\n",
      "        cur=numpy.array([float(i[str(stateorder[k])]) for k in range(order)])\n",
      "        diff=abs(numpy.linalg.norm(pre-cur)/numpy.linalg.norm(pre))\n",
      "        if(diff>=delta):\n",
      "            pre=cur\n",
      "            count=count+1\n",
      "            print count,\") Difference is :\",diff,\"Time\",float(i['time']) - sim_begin\n",
      "            time.append(float(i['time']) - sim_begin)\n",
      "            \n",
      "     \n",
      "    return count,time\n",
      "        "
     ],
     "language": "python",
     "metadata": {},
     "outputs": [],
     "prompt_number": 9
    },
    {
     "cell_type": "code",
     "collapsed": false,
     "input": [
      "def Sym2NumArray(F):\n",
      "#Function to convert symbolic expression with numerical data to numpy array \n",
      "    shapeF=F.shape\n",
      "    B=numpy.zeros(shapeF)\n",
      "    for i in range(0,shapeF[0]):\n",
      "        for j in range(0,shapeF[1]):\n",
      "            B[i,j]=sympy.N(F[i,j])\n",
      "    return B"
     ],
     "language": "python",
     "metadata": {},
     "outputs": [],
     "prompt_number": 10
    },
    {
     "cell_type": "code",
     "collapsed": false,
     "input": [
      "def region(MOS,drain,gate,source):\n",
      "    th=0.477\n",
      "    if MOS=='CMOSP':\n",
      "        if(source<(gate+th)):\n",
      "            return 'c'\n",
      "        elif((source>=(gate+th)) & (drain>=(gate+th))):\n",
      "            return 'l'\n",
      "        elif((source>=(gate+th)) & (drain<(gate+th))):\n",
      "            return 's'\n",
      "    \n",
      "    if MOS=='CMOSN':\n",
      "        if(gate<(source+th)):\n",
      "            return 'c'\n",
      "        elif((gate>=(source+th)) & (drain<=(gate-th))):\n",
      "            return 'l'\n",
      "        elif((gate>=(source+th)) & (drain>(gate-th))):\n",
      "            return 's'\n",
      "               "
     ],
     "language": "python",
     "metadata": {},
     "outputs": [],
     "prompt_number": 11
    },
    {
     "cell_type": "code",
     "collapsed": false,
     "input": [
      "def current(information,state,point,vth):\n",
      "    d=state[information[1]]\n",
      "    g=state[information[2]]\n",
      "    s=state[information[3]]\n",
      "    p=re.compile('(l|w|=|u)')\n",
      "    w=float(p.sub('',information[5]))\n",
      "    l=float(p.sub('',information[6]))\n",
      "    vth=float(vth)\n",
      "    #cur=abs(float(cur))\n",
      "    sub1={state[i]:datapoints[point][i] for i in state}\n",
      "    \n",
      "    if(information[4]=='CMOSP'):\n",
      "        if(information[0]=='c'):\n",
      "            return 0\n",
      "        elif(information[0]=='s'):\n",
      "            cc=(43e-6) * (w / l) * ((g**2) + (1 - 2 * vth * 0.09) * (s**2) + (vth**2) + ((0.09 * vth - 1) * 2 * g * s) + (2 * g * vth) + (-2 * vth + 0.09 * vth**2) * s - (0.09 * d * vth**2) - (0.09 * d * g**2) -  (0.09 * d * s**2) + ( 2 * g * s * 0.09 * d) - (2 * g * vth * 0.09 * d) + ( 2* s * vth * 0.09 * d ) + (0.09 * s * g**2) + (0.09 * s**3) - (0.09 * 2 * g * s**2))\n",
      "            return cc\n",
      "        elif(information[0]=='l'):\n",
      "            cc=(86e-6) * (w / l) * ((0.5 * s**2) - (0.5 * d**2) - (g * s) - (s * vth) + (g * d) + (d * vth) + (0.09 * 0.5 * s**3) - (0.09 * s * 0.5 * d**2) - (0.09 * g * s**2) - (s**2 * 0.09 * vth) + (2 * 0.09 * s * g * d) + (2 * 0.09 * s * d * vth) - (0.5 * d * 0.09 * s**2) + (0.5 * 0.09 * d**3) - (0.09 * g * d**2) - (0.09 * d**2 *vth))\n",
      "            return  cc\n",
      "        \n",
      "    if(information[4]=='CMOSN'):\n",
      "        if(information[0]=='c'):\n",
      "            return 0\n",
      "        elif(information[0]=='s'):\n",
      "            cc = (0.5 * 285e-6) * (w / l) * ((g**2) + (1-2 * vth * 0.14) * (s**2) + (vth**2) + ((0.14 * vth - 1) * 2 * g * s) - (2 * g * vth) + (2 * vth - 0.14 * vth**2) * s + (0.14 * d * vth**2) + (0.14 * d * g**2) + (0.14 * d * s**2) - (2 * g * s * 0.14 * d) - (2 * g * vth * 0.14 * d) + (2 * s * vth * 0.14 * d) - (0.14 * s * g**2) - (0.14 * s**3) + (0.14 * 2 * g * s**2))\n",
      "            return cc\n",
      "        elif(information[0]=='l'):\n",
      "            cc=(285e-6) * (w / l) * ((g * d) - (s * g) + (0.5 * s**2) - (vth * d) + (vth * s) - (0.5 * d**2) + (0.14 * g * d**2) - (2 * 0.14 * d * s * g) + (0.5 * 0.14 * d * s**2) - (0.14 * vth * d**2) + (2 * 0.14 * d * vth * s) - (0.5 * 0.14 * d**3) + (s**2 *g * 0.14) - (0.5 * 0.14 * s**3) - (0.14 * s**2 * vth) + (0.5 * 0.14 * s * d**2))\n",
      "            return cc"
     ],
     "language": "python",
     "metadata": {},
     "outputs": [],
     "prompt_number": 19
    },
    {
     "cell_type": "code",
     "collapsed": false,
     "input": [
      "def normalize_times( datapoints, sim_begin) :\n",
      "    return numpy.array( [ float( datapoints[ i ][ 'time' ] ) - sim_begin for i in range(count)] )"
     ],
     "language": "python",
     "metadata": {},
     "outputs": [],
     "prompt_number": 20
    },
    {
     "cell_type": "code",
     "collapsed": false,
     "input": [
      "initial=get_initialcond('./Data/cmnsrc_data_lev1_3_0.3.txt')\n",
      "state=get_states('./Data/cmnsrc_data_lev1_3_0.3.txt')\n",
      "stateorder=get_stateorder(state)\n",
      "steadystate=get_steadystate('./Data/cmnsrc_data_lev1_3_0.3.txt',initial,stateorder,10e-6)\n",
      "delta=get_linpdiff(initial,steadystate,stateorder)\n",
      "count,time=get_linPoints('./Data/cmnsrc_data_lev1_3_0.3.txt',initial,delta/7, 0.5e-6)"
     ],
     "language": "python",
     "metadata": {},
     "outputs": [
      {
       "output_type": "stream",
       "stream": "stdout",
       "text": [
        "Simulation begins @  5e-07\n",
        "1 ) Difference is : 0.146797906495 Time 5.01825832937e-11\n",
        "2 ) Difference is : 0.150130338601 Time 1.00599966e-10\n",
        "3 ) Difference is : 0.689939311358 Time 1e-09\n"
       ]
      }
     ],
     "prompt_number": 21
    },
    {
     "cell_type": "code",
     "collapsed": false,
     "input": [
      "datapoints=[{} for i in range(count)]\n",
      "currents=[{} for i in range(count)]\n",
      "regions=[{} for i in range(count)]\n",
      "sim_begin = 5e-7\n",
      "for data in import_text('./Data/cmnsrc_data_lev1_3_0.3.txt','\\t'):\n",
      "    for i in range(count):\n",
      "        if(float(data['time'])==time[i]+sim_begin):\n",
      "            datapoints[i]=data\n",
      "            \n",
      "initial['0']=0  \n",
      "initialcond=initial\n",
      "for i in range(count):\n",
      "    datapoints[i]['0']=0\n",
      "    \n",
      "for data in import_text('./Data/cmnsrc_crnt_lev1_3_0.3.txt','\\t'):\n",
      "    for i in range(count):\n",
      "        if(float(data['time'])==time[i]+sim_begin):\n",
      "            currents[i]=data"
     ],
     "language": "python",
     "metadata": {},
     "outputs": [],
     "prompt_number": 25
    },
    {
     "cell_type": "code",
     "collapsed": false,
     "input": [
      "global datapoints\n",
      "print initialcond\n",
      "global count\n",
      "print datapoints\n",
      "global sim_begin\n",
      "sim_begin = 5e-7"
     ],
     "language": "python",
     "metadata": {},
     "outputs": [
      {
       "output_type": "stream",
       "stream": "stdout",
       "text": [
        "{'iC2': '2.718377e-012', 'drain': '2.718377e+000', 'inp': '2.000000e+000', '0': 0, 'time': '0.000000000000000e+000'}\n",
        "[{'iC2': '-2.050133e-004', 'drain': '2.319325e+000', 'inp': '2.200730e+000', '0': 0, 'time': '5.000501825832937e-007'}, {'iC2': '-3.896173e-004', 'drain': '1.971124e+000', 'inp': '2.402400e+000', '0': 0, 'time': '5.001005999659995e-007'}, {'iC2': '-1.052856e-003', 'drain': '6.111682e-001', 'inp': '6.000000e+000', '0': 0, 'time': '5.010000000000000e-007'}]\n"
       ]
      }
     ],
     "prompt_number": 26
    },
    {
     "cell_type": "heading",
     "level": 4,
     "metadata": {},
     "source": [
      "Understand Mode of operation"
     ]
    },
    {
     "cell_type": "code",
     "collapsed": false,
     "input": [
      "#Vth={'m15':0.476,'m14':0.476,'m10':0.476,'m8':0.476,'mc5':0.477,'mc2':0.476,'m6':0.474,'mc1':0.474,'m5':0.476,'m2':0.477,'m0':0.479,'m1':0.477,'m13':0.478,'m12':0.477,'m11':0.484,'m9':0.480,'m7':0.480,'mc4':0.456,'mc3':0.456,'m4':0.479,'m3':0.479}\n",
      "#Vth={'m15':0.477,'m14':0.477,'m10':0.477,'m8':0.477,'mc5':0.477,'mc2':0.477,'m6':0.477,'mc1':0.477,'m5':0.477,'m2':0.477,'m0':0.477,'m1':0.477,'m13':0.477,'m12':0.477,'m11':0.477,'m9':0.477,'m7':0.477,'mc4':0.477,'mc3':0.477,'m4':0.477,'m3':0.477}\n",
      "Vth={'m1':0.477}"
     ],
     "language": "python",
     "metadata": {},
     "outputs": [],
     "prompt_number": 27
    },
    {
     "cell_type": "heading",
     "level": 4,
     "metadata": {},
     "source": [
      "Parse netlist and determine nodes of connection"
     ]
    },
    {
     "cell_type": "code",
     "collapsed": false,
     "input": [
      "import re\n",
      "nl=open('./Data/cmnsrc_net_lev1.txt')\n",
      "x=re.compile('M(?#comment)')\n",
      "for point in range(count):\n",
      "    a=0\n",
      "    #print \"The state of the system at\",datapoints[point]['time']\n",
      "    while True:\n",
      "        i=nl.readline()    \n",
      "        if re.match(x,i):\n",
      "            a=a+1\n",
      "            inf=i.split()\n",
      "            sma=[low.lower() for low in i.split()]\n",
      "            r=region(sma[5].upper(),float(datapoints[point][sma[1]]),float(datapoints[point][sma[2]]),float(datapoints[point][sma[3]]))\n",
      "            #print sma[0],\"is in \",r\n",
      "            regions[point][sma[0]]=[r,sma[1],sma[2],sma[3],sma[5].upper(),sma[7],sma[6]]\n",
      "        if not i:           \n",
      "            nl.seek(0)\n",
      "            break\n",
      "print \"There are\",a,\"transistors\"\n"
     ],
     "language": "python",
     "metadata": {},
     "outputs": [
      {
       "output_type": "stream",
       "stream": "stdout",
       "text": [
        "There are 1 transistors\n"
       ]
      }
     ],
     "prompt_number": 28
    },
    {
     "cell_type": "heading",
     "level": 4,
     "metadata": {},
     "source": [
      "Checking for Mode of operation and substitution of current equations"
     ]
    },
    {
     "cell_type": "code",
     "collapsed": false,
     "input": [
      "ss=str('m1')\n",
      "point = 1\n",
      "\n",
      "print regions[point][ss]\n",
      "cc=current(regions[point][ss],state,point,Vth[ss])\n",
      "print cc\n",
      "sub1={state[i]:datapoints[point][i] for i in state}\n",
      "print \"Cal ::\",cc.evalf(subs=sub1)\n",
      "print \"LTSPICE ::\",currents[point]['Id('+ss.upper()+')']\n",
      "print datapoints[point]['drain']\n",
      "print \"Threshold::\", Vth[ss]"
     ],
     "language": "python",
     "metadata": {},
     "outputs": [
      {
       "output_type": "stream",
       "stream": "stdout",
       "text": [
        "['s', 'drain', 'inp', '0', 'CMOSN', 'w=3u', 'l=0.3u']\n",
        "-0.0001995*0**3 + 0.0001995*0**2*drain + 0.000399*0**2*inp + 0.001234677*0**2 - 0.000399*0*drain*inp + 0.000190323*0*drain - 0.0001995*0*inp**2 - 0.002659677*0*inp + 0.0013140579645*0 + 0.0001995*drain*inp**2 - 0.000190323*drain*inp + 4.53920355e-5*drain + 0.001425*inp**2 - 0.00135945*inp + 0.000324228825"
       ]
      },
      {
       "output_type": "stream",
       "stream": "stdout",
       "text": [
        "\n",
        "Cal :: "
       ]
      },
      {
       "output_type": "stream",
       "stream": "stdout",
       "text": [
        "0.00674051315565855\n",
        "LTSPICE :: 6.473069e-003\n",
        "1.971124e+000\n",
        "Threshold:: 0.477\n"
       ]
      }
     ],
     "prompt_number": 29
    },
    {
     "cell_type": "code",
     "collapsed": false,
     "input": [
      "print \"Vds ::\",float(datapoints[point]['drain'])\n",
      "d = float(datapoints[point]['drain'])\n",
      "g = float(datapoints[point]['inp'])\n",
      "vth = Vth['m1']\n",
      "print \"Vgs -Vth ::\", float(datapoints[point]['inp'])-Vth['m1']\n",
      "if regions[point]['m1'][0] == 'l' :\n",
      "    print \"In linear \"\n",
      "    print 285e-6*(10)*(g-vth-0.5*d)*d*(1+(0.14*d))\n",
      "if regions[point]['m1'][0] == 's' :\n",
      "    print 0.5*285e-6*10*(1+(0.14)*d)*(g-vth)**2"
     ],
     "language": "python",
     "metadata": {},
     "outputs": [
      {
       "output_type": "stream",
       "stream": "stdout",
       "text": [
        "Vds :: 1.971124\n",
        "Vgs -Vth :: 1.9254\n",
        "0.00674051315566\n"
       ]
      }
     ],
     "prompt_number": 31
    },
    {
     "cell_type": "heading",
     "level": 4,
     "metadata": {},
     "source": [
      "Generation of all non linear equations and evaluating them at linearization points"
     ]
    },
    {
     "cell_type": "code",
     "collapsed": false,
     "input": [
      "inp2=re.compile(r\"([-+]?[ ]?\\d+.\\d+).inpositive\\*\\*2 \")\n",
      "inp=re.compile(r\"([-+]?[ ]?\\d+.\\d+).inpositive \")\n",
      "inn2=re.compile(r\"([-+]?[ ]?\\d+.\\d+).innegative\\*\\*2 \")\n",
      "inn=re.compile(r\"([-+]?[ ]?\\d+.\\d+).innegative \")\n",
      "inp3=re.compile(r\"([-+]?[ ]?\\d+.\\d+).inpositive\\*\\*3 \")\n",
      "inn3=re.compile(r\"([-+]?[ ]?\\d+.\\d+).innegative\\*\\*3 \")\n",
      "start=re.compile(r\"^[*]\")\n",
      "\n",
      "linP=numpy.zeros((count,order,1))\n",
      "inputorder=sympy.Matrix( ((state['inp']),(state['inp']**2),(state['inp']**3)))\n",
      "inputm=inputorder.evalf(subs={state['inp']:6})\n",
      "for i in range(count):\n",
      "    for k in range(order):\n",
      "        linP[i][k]=(datapoints[i][str(stateorder[k])])          \n",
      "\n",
      "print stateorder"
     ],
     "language": "python",
     "metadata": {},
     "outputs": [
      {
       "output_type": "stream",
       "stream": "stdout",
       "text": [
        "[drain]\n",
        "[  iC2]\n"
       ]
      }
     ],
     "prompt_number": 32
    },
    {
     "cell_type": "code",
     "collapsed": false,
     "input": [
      "\n",
      "\n",
      "Cpara=1e-15\n",
      "eqs = sympy.Matrix(numpy.zeros((order,count))) \n",
      "\n",
      "for linpt in range(count):\n",
      "    print linpt\n",
      "    \n",
      "    Im1=current(regions[linpt]['m1'],state,linpt,Vth['m1'])\n",
      "    \n",
      "    vdot=(((5 - state[ 'drain' ]) / 500) - Im1 - state[ 'iC2' ]) * 1e15\n",
      "    idot=(vdot - state[ 'iC2' ]) / 2000\n",
      "    \n",
      "    eqs[ : , linpt] = sympy.Matrix( [(vdot),(idot)] )"
     ],
     "language": "python",
     "metadata": {},
     "outputs": [
      {
       "output_type": "stream",
       "stream": "stdout",
       "text": [
        "0\n",
        "1\n",
        "2"
       ]
      },
      {
       "output_type": "stream",
       "stream": "stdout",
       "text": [
        "\n"
       ]
      }
     ],
     "prompt_number": 33
    },
    {
     "cell_type": "code",
     "collapsed": false,
     "input": [
      "y0 = numpy.array( [ float( initialcond[ str( i ) ]) for i in stateorder ])\n",
      "subs1 = { state[ str(stateorder[ i ] ) ] : y0[  i  ] for i in range( order )}\n",
      "subs1"
     ],
     "language": "python",
     "metadata": {},
     "outputs": [
      {
       "output_type": "pyout",
       "prompt_number": 34,
       "text": [
        "{drain: 2.7183769999999998, iC2: 2.7183769999999999e-12}"
       ]
      }
     ],
     "prompt_number": 34
    },
    {
     "cell_type": "code",
     "collapsed": false,
     "input": [
      "\n",
      "def dervPWL(y,t):\n",
      "    \n",
      "    if t <= ( ( float( datapoints[0]['time'] ) - sim_begin ) + ( float( datapoints[1]['time'] ) - sim_begin ) ) * 0.5:\n",
      "        subs1 = { state[ str(stateorder[ i ] ) ] : y[  i  ] for i in range( order )}\n",
      "        subs1[ state[ '0' ] ] = 0\n",
      "        subs1[ state[ 'inp' ] ] = float(datapoints[ 0 ][ 'inp' ])\n",
      "        temp = ( eqs[ : , 0 ].evalf(subs = subs1) )\n",
      "        \n",
      "    elif ( ( float( datapoints[0]['time'] ) - sim_begin ) + ( float( datapoints[1]['time'] ) - sim_begin ) ) * 0.5 < t <= ( ( float( datapoints[1]['time'] ) - sim_begin ) + ( float( datapoints[2]['time'] ) - sim_begin ) ) * 0.5: \n",
      "        subs1 = { state[ str(stateorder[ i ] ) ] : y[  i  ] for i in range( order )}\n",
      "        subs1[ state[ '0' ] ] = 0\n",
      "        subs1[ state[ 'inp' ] ] = float(datapoints[ 1 ][ 'inp' ])\n",
      "        temp = ( eqs[ : , 1 ].evalf(subs = subs1) )\n",
      "        \n",
      "    else:\n",
      "        subs1 = { state[ str(stateorder[ i ] ) ] : y[  i  ] for i in range( order )}\n",
      "        subs1[ state[ '0' ] ] = 0\n",
      "        subs1[ state[ 'inp' ] ] = float(datapoints[ 2 ][ 'inp' ])\n",
      "        temp = ( eqs[ : , 2 ].evalf(subs = subs1) )\n",
      "        \n",
      "    return numpy.array([ float( temp[i] ) for i in range( order ) ])\n",
      "\n"
     ],
     "language": "python",
     "metadata": {},
     "outputs": [],
     "prompt_number": 35
    },
    {
     "cell_type": "code",
     "collapsed": false,
     "input": [
      "from scipy.integrate import odeint\n",
      "y0 = numpy.array( [ float( initialcond[ str( i ) ]) for i in stateorder ])\n",
      "dervPWL( y0, 0 )\n",
      "\n",
      "ti  = numpy.linspace(0, 2e-9, 20)\n",
      "solnPWL = odeint(dervPWL, y0, ti)"
     ],
     "language": "python",
     "metadata": {},
     "outputs": [],
     "prompt_number": 37
    },
    {
     "cell_type": "code",
     "collapsed": false,
     "input": [
      "drain_SPICE = []\n",
      "for data in import_text('./Data/cmnsrc_data_lev1_3_0.3.txt','\\t') :\n",
      "    if float( data['time']) >= sim_begin :\n",
      "        drain_SPICE.append( [ float( data['drain'] ) ,float( data['time'] ) - sim_begin ])\n",
      "\n",
      "\n",
      "voltage_SPICE = numpy.array( [ float( drain_SPICE[ i ][ 0 ] ) for i in range(len(drain_SPICE) ) ] )\n",
      "time_SPICE = numpy.array( [ float( drain_SPICE[ i ][ 1 ] ) for i in range(len(drain_SPICE) ) ] )\n"
     ],
     "language": "python",
     "metadata": {},
     "outputs": [],
     "prompt_number": 38
    },
    {
     "cell_type": "code",
     "collapsed": false,
     "input": [
      "from matplotlib import pyplot\n",
      "calc, = plt.plot(ti, numpy.array([ float(solnPWL[i][0]) for i in range(20)] ), '--')\n",
      "spice, = plt.plot(time_SPICE[:-2],voltage_SPICE[:-2])\n",
      "plt.grid()\n",
      "plt.legend( (calc, spice) , ('Non-linear integration', 'LTSPICE') ,'upper right')\n",
      "plt.ylabel(r'$V_{ds}$')\n",
      "plt.xlabel(r'$time$')\n",
      "plt.vlines(time,0,3,'c')\n",
      "plt.figsize(10,10)\n",
      "plt.title(r'Comparision of $V_{ds}$  common source')\n",
      "plt.show()"
     ],
     "language": "python",
     "metadata": {},
     "outputs": [
      {
       "output_type": "display_data",
       "png": "[encoded data removed]"
      }
     ],
     "prompt_number": 41
    }
   ],
   "metadata": {}
  }
 ]
}