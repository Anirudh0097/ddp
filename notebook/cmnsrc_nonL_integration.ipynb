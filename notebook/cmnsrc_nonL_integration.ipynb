{
 "metadata": {
  "name": "cmnsrc_nonL_integration"
 },
 "nbformat": 3,
 "nbformat_minor": 0,
 "worksheets": [
  {
   "cells": [
    {
     "cell_type": "markdown",
     "metadata": {},
     "source": [
      "## Importing all external libraries"
     ]
    },
    {
     "cell_type": "code",
     "collapsed": false,
     "input": [
      "import sympy"
     ],
     "language": "python",
     "metadata": {},
     "outputs": [],
     "prompt_number": 45
    },
    {
     "cell_type": "code",
     "collapsed": false,
     "input": [
      "global order \n",
      "order = 2"
     ],
     "language": "python",
     "metadata": {},
     "outputs": [],
     "prompt_number": 46
    },
    {
     "cell_type": "markdown",
     "metadata": {},
     "source": [
      "##Functions"
     ]
    },
    {
     "cell_type": "code",
     "collapsed": false,
     "input": [
      "import csv\n",
      "def import_text(filename, separator):\n",
      "    reader= csv.DictReader(open(filename), delimiter=separator, skipinitialspace=True)\n",
      "    for line in reader:\n",
      "        if line:\n",
      "            yield line"
     ],
     "language": "python",
     "metadata": {},
     "outputs": [],
     "prompt_number": 47
    },
    {
     "cell_type": "markdown",
     "metadata": {},
     "source": [
      "####Needs revision Temporarily fixed"
     ]
    },
    {
     "cell_type": "code",
     "collapsed": false,
     "input": [
      "def get_steadystate(filename,initialcond,stateorder,error):\n",
      "    pre=[float(initialcond[str(stateorder[k])]) for k in range(order)]\n",
      "    count=0\n",
      "    for data in import_text(filename,'\\t'):\n",
      "        curt=[float(data[str(stateorder[k])]) for k in range(order)]\n",
      "        diff=numpy.linalg.norm(numpy.array(pre)-numpy.array(curt))\n",
      "        pre=curt\n",
      "        #print \"Difference:\\t\",diff\n",
      "        #print \"Time:\\t\",data['time'],\"\\n\"\n",
      "        if(float(data['time'])==5.000000000000000e-006):\n",
      "            return curt\n",
      "       \n",
      "     "
     ],
     "language": "python",
     "metadata": {},
     "outputs": [],
     "prompt_number": 48
    },
    {
     "cell_type": "code",
     "collapsed": false,
     "input": [
      "def get_states(filename):\n",
      "    \"\"\" filename :: provide the absolute path to the data \n",
      "         Returns states\"\"\"\n",
      "    initialcond=get_initialcond(filename)\n",
      "    state={}\n",
      "    state['0']=sympy.Symbol('0')\n",
      "    for ind in initialcond.keys():\n",
      "        state[ind]=sympy.Symbol(ind)\n",
      "    return state"
     ],
     "language": "python",
     "metadata": {},
     "outputs": [],
     "prompt_number": 49
    },
    {
     "cell_type": "code",
     "collapsed": false,
     "input": [
      "def get_initialcond(filename):\n",
      "    for data in import_text(filename,'\\t'):\n",
      "        if(float(data['time'])==0):\n",
      "            return data"
     ],
     "language": "python",
     "metadata": {},
     "outputs": [],
     "prompt_number": 50
    },
    {
     "cell_type": "code",
     "collapsed": false,
     "input": [
      "def get_stateorder(state):\n",
      "    stateorder=sympy.Matrix([(state['drain']),(state['iC2'])])\n",
      "    return stateorder"
     ],
     "language": "python",
     "metadata": {},
     "outputs": [],
     "prompt_number": 51
    },
    {
     "cell_type": "code",
     "collapsed": false,
     "input": [
      "def get_linpdiff(initial,steady,stateorder):\n",
      "    init=[float(initial[str(stateorder[k])]) for k in range(order) ]\n",
      "    return numpy.linalg.norm(numpy.array(init)-steady)/numpy.linalg.norm(init)"
     ],
     "language": "python",
     "metadata": {},
     "outputs": [],
     "prompt_number": 52
    },
    {
     "cell_type": "code",
     "collapsed": false,
     "input": [
      "def get_linPoints(filename,initialcond,delta,sim_begin):\n",
      "    pre=numpy.array([float(initialcond[str(stateorder[k])]) for k in range(order)])\n",
      "    count=0\n",
      "    time=[]\n",
      "    print \"Simulation begins @ \", sim_begin\n",
      "    for i in import_text(filename,'\\t'):\n",
      "        cur=numpy.array([float(i[str(stateorder[k])]) for k in range(order)])\n",
      "        diff=abs(numpy.linalg.norm(pre-cur)/numpy.linalg.norm(pre))\n",
      "        if(diff>=delta):\n",
      "            pre=cur\n",
      "            count=count+1\n",
      "            print count,\") Difference is :\",diff,\"Time\",float(i['time']) - sim_begin\n",
      "            time.append(float(i['time']) - sim_begin)\n",
      "            \n",
      "     \n",
      "    return count,time\n",
      "        "
     ],
     "language": "python",
     "metadata": {},
     "outputs": [],
     "prompt_number": 53
    },
    {
     "cell_type": "code",
     "collapsed": false,
     "input": [
      "def Sym2NumArray(F):\n",
      "#Function to convert symbolic expression with numerical data to numpy array \n",
      "    shapeF=F.shape\n",
      "    B=numpy.zeros(shapeF)\n",
      "    for i in range(0,shapeF[0]):\n",
      "        for j in range(0,shapeF[1]):\n",
      "            B[i,j]=sympy.N(F[i,j])\n",
      "    return B"
     ],
     "language": "python",
     "metadata": {},
     "outputs": [],
     "prompt_number": 54
    },
    {
     "cell_type": "code",
     "collapsed": false,
     "input": [
      "def region(MOS,drain,gate,source):\n",
      "    th=0.477\n",
      "    if MOS=='CMOSP':\n",
      "        if(source<(gate+th)):\n",
      "            return 'c'\n",
      "        elif((source>=(gate+th)) & (drain>=(gate+th))):\n",
      "            return 'l'\n",
      "        elif((source>=(gate+th)) & (drain<(gate+th))):\n",
      "            return 's'\n",
      "    \n",
      "    if MOS=='CMOSN':\n",
      "        if(gate<(source+th)):\n",
      "            return 'c'\n",
      "        elif((gate>=(source+th)) & (drain<=(gate-th))):\n",
      "            return 'l'\n",
      "        elif((gate>=(source+th)) & (drain>(gate-th))):\n",
      "            return 's'\n",
      "               "
     ],
     "language": "python",
     "metadata": {},
     "outputs": [],
     "prompt_number": 55
    },
    {
     "cell_type": "code",
     "collapsed": false,
     "input": [
      "from currenteqs import current"
     ],
     "language": "python",
     "metadata": {},
     "outputs": [],
     "prompt_number": 56
    },
    {
     "cell_type": "code",
     "collapsed": false,
     "input": [
      "def normalize_times( datapoints, sim_begin) :\n",
      "    return numpy.array( [ float( datapoints[ i ][ 'time' ] ) - sim_begin for i in range(count)] )"
     ],
     "language": "python",
     "metadata": {},
     "outputs": [],
     "prompt_number": 57
    },
    {
     "cell_type": "code",
     "collapsed": false,
     "input": [
      "initial=get_initialcond('./Data/cmnsrc_data_lev1_3_0.3.txt')\n",
      "state=get_states('./Data/cmnsrc_data_lev1_3_0.3.txt')\n",
      "stateorder=get_stateorder(state)\n",
      "steadystate=get_steadystate('./Data/cmnsrc_data_lev1_3_0.3.txt',initial,stateorder,10e-6)\n",
      "delta=get_linpdiff(initial,steadystate,stateorder)\n",
      "count,time=get_linPoints('./Data/cmnsrc_data_lev1_3_0.3.txt',initial,delta/7, 0.5e-6)"
     ],
     "language": "python",
     "metadata": {},
     "outputs": [
      {
       "output_type": "stream",
       "stream": "stdout",
       "text": [
        "Simulation begins @  5e-07\n",
        "1 ) Difference is : 0.146797906495 Time 5.01825832937e-11\n",
        "2 ) Difference is : 0.150130338601 Time 1.00599966e-10"
       ]
      },
      {
       "output_type": "stream",
       "stream": "stdout",
       "text": [
        "\n",
        "3 ) Difference is : 0.689939311358 Time 1e-09\n"
       ]
      }
     ],
     "prompt_number": 58
    },
    {
     "cell_type": "code",
     "collapsed": false,
     "input": [
      "datapoints=[{} for i in range(count)]\n",
      "currents=[{} for i in range(count)]\n",
      "regions=[{} for i in range(count)]\n",
      "sim_begin = 5e-7\n",
      "for data in import_text('./Data/cmnsrc_data_lev1_3_0.3.txt','\\t'):\n",
      "    for i in range(count):\n",
      "        if(float(data['time'])==time[i]+sim_begin):\n",
      "            datapoints[i]=data\n",
      "            \n",
      "initial['0']=0  \n",
      "initialcond=initial\n",
      "for i in range(count):\n",
      "    datapoints[i]['0']=0\n",
      "    \n",
      "for data in import_text('./Data/cmnsrc_crnt_lev1_3_0.3.txt','\\t'):\n",
      "    for i in range(count):\n",
      "        if(float(data['time'])==time[i]+sim_begin):\n",
      "            currents[i]=data"
     ],
     "language": "python",
     "metadata": {},
     "outputs": [],
     "prompt_number": 59
    },
    {
     "cell_type": "code",
     "collapsed": false,
     "input": [
      "global datapoints\n",
      "print initialcond\n",
      "global count\n",
      "print datapoints\n",
      "global sim_begin\n",
      "sim_begin = 5e-7"
     ],
     "language": "python",
     "metadata": {},
     "outputs": [
      {
       "output_type": "stream",
       "stream": "stdout",
       "text": [
        "{'iC2': '-2.718377e-012', 'drain': '2.718377e+000', 'inp': '2.000000e+000', '0': 0, 'time': '0.000000000000000e+000'}\n",
        "[{'iC2': '2.050133e-004', 'drain': '2.319325e+000', 'inp': '2.200730e+000', '0': 0, 'time': '5.000501825832937e-007'}, {'iC2': '3.896173e-004', 'drain': '1.971124e+000', 'inp': '2.402400e+000', '0': 0, 'time': '5.001005999659995e-007'}, {'iC2': '1.052856e-003', 'drain': '6.111682e-001', 'inp': '6.000000e+000', '0': 0, 'time': '5.010000000000000e-007'}]\n"
       ]
      }
     ],
     "prompt_number": 60
    },
    {
     "cell_type": "heading",
     "level": 4,
     "metadata": {},
     "source": [
      "Understand Mode of operation"
     ]
    },
    {
     "cell_type": "code",
     "collapsed": false,
     "input": [
      "#Vth={'m15':0.476,'m14':0.476,'m10':0.476,'m8':0.476,'mc5':0.477,'mc2':0.476,'m6':0.474,'mc1':0.474,'m5':0.476,'m2':0.477,'m0':0.479,'m1':0.477,'m13':0.478,'m12':0.477,'m11':0.484,'m9':0.480,'m7':0.480,'mc4':0.456,'mc3':0.456,'m4':0.479,'m3':0.479}\n",
      "#Vth={'m15':0.477,'m14':0.477,'m10':0.477,'m8':0.477,'mc5':0.477,'mc2':0.477,'m6':0.477,'mc1':0.477,'m5':0.477,'m2':0.477,'m0':0.477,'m1':0.477,'m13':0.477,'m12':0.477,'m11':0.477,'m9':0.477,'m7':0.477,'mc4':0.477,'mc3':0.477,'m4':0.477,'m3':0.477}\n",
      "Vth={'m1':0.477}"
     ],
     "language": "python",
     "metadata": {},
     "outputs": [],
     "prompt_number": 61
    },
    {
     "cell_type": "heading",
     "level": 4,
     "metadata": {},
     "source": [
      "Parse netlist and determine nodes of connection"
     ]
    },
    {
     "cell_type": "code",
     "collapsed": false,
     "input": [
      "import re\n",
      "nl=open('./Data/cmnsrc_net_lev1.txt')\n",
      "x=re.compile('M(?#comment)')\n",
      "for point in range(count):\n",
      "    a=0\n",
      "    #print \"The state of the system at\",datapoints[point]['time']\n",
      "    while True:\n",
      "        i=nl.readline()    \n",
      "        if re.match(x,i):\n",
      "            a=a+1\n",
      "            inf=i.split()\n",
      "            sma=[low.lower() for low in i.split()]\n",
      "            r=region(sma[5].upper(),float(datapoints[point][sma[1]]),float(datapoints[point][sma[2]]),float(datapoints[point][sma[3]]))\n",
      "            #print sma[0],\"is in \",r\n",
      "            regions[point][sma[0]]=[r,sma[1],sma[2],sma[3],sma[5].upper(),sma[7],sma[6]]\n",
      "        if not i:           \n",
      "            nl.seek(0)\n",
      "            break\n",
      "print \"There are\",a,\"transistors\"\n"
     ],
     "language": "python",
     "metadata": {},
     "outputs": [
      {
       "output_type": "stream",
       "stream": "stdout",
       "text": [
        "There are 1 transistors\n"
       ]
      }
     ],
     "prompt_number": 62
    },
    {
     "cell_type": "heading",
     "level": 4,
     "metadata": {},
     "source": [
      "Checking for Mode of operation and substitution of current equations"
     ]
    },
    {
     "cell_type": "code",
     "collapsed": false,
     "input": [
      "datapoints"
     ],
     "language": "python",
     "metadata": {},
     "outputs": [
      {
       "output_type": "pyout",
       "prompt_number": 63,
       "text": [
        "[{'0': 0,\n",
        "  'drain': '2.319325e+000',\n",
        "  'iC2': '2.050133e-004',\n",
        "  'inp': '2.200730e+000',\n",
        "  'time': '5.000501825832937e-007'},\n",
        " {'0': 0,\n",
        "  'drain': '1.971124e+000',\n",
        "  'iC2': '3.896173e-004',\n",
        "  'inp': '2.402400e+000',\n",
        "  'time': '5.001005999659995e-007'},\n",
        " {'0': 0,\n",
        "  'drain': '6.111682e-001',\n",
        "  'iC2': '1.052856e-003',\n",
        "  'inp': '6.000000e+000',\n",
        "  'time': '5.010000000000000e-007'}]"
       ]
      }
     ],
     "prompt_number": 63
    },
    {
     "cell_type": "code",
     "collapsed": false,
     "input": [
      "ss=str('m1')\n",
      "point = 2\n",
      "\n",
      "print regions[point][ss]\n",
      "cc=current(regions[point][ss],state,Vth[ss])\n",
      "print cc\n",
      "sub1={state[i]:datapoints[point][i] for i in state}\n",
      "print \"Cal ::\",cc.evalf(subs=sub1)\n",
      "print \"LTSPICE ::\",currents[point]['Id('+ss.upper()+')']\n",
      "print datapoints[point]['drain']\n",
      "print \"Threshold::\", Vth[ss]"
     ],
     "language": "python",
     "metadata": {},
     "outputs": [
      {
       "output_type": "stream",
       "stream": "stdout",
       "text": [
        "['l', 'drain', 'inp', '0', 'CMOSN', 'w=3u', 'l=0.3u']\n",
        "-0.0001995*0**3 + 0.0001995*0**2*drain + 0.000399*0**2*inp + 0.001234677*0**2 + 0.0001995*0*drain**2 - 0.000798*0*drain*inp + 0.000380646*0*drain - 0.00285*0*inp + 0.00135945*0 - 0.0001995*drain**3 + 0.000399*drain**2*inp - 0.001615323*drain**2 + 0.00285*drain*inp - 0.00135945*drain"
       ]
      },
      {
       "output_type": "stream",
       "stream": "stdout",
       "text": [
        "\n",
        "Cal :: 0.00986543679009127\n",
        "LTSPICE :: 9.831392e-003\n",
        "6.111682e-001\n",
        "Threshold:: 0.477\n"
       ]
      }
     ],
     "prompt_number": 64
    },
    {
     "cell_type": "code",
     "collapsed": false,
     "input": [
      "print \"Vds ::\",float(datapoints[point]['drain'])\n",
      "d = float(datapoints[point]['drain'])\n",
      "g = float(datapoints[point]['inp'])\n",
      "vth = Vth['m1']\n",
      "print \"Vgs -Vth ::\", float(datapoints[point]['inp'])-Vth['m1']\n",
      "if regions[point]['m1'][0] == 'l' :\n",
      "    print \"In linear \"\n",
      "    print 285e-6*(10)*(g-vth-0.5*d)*d*(1+(0.14*d))\n",
      "if regions[point]['m1'][0] == 's' :\n",
      "    print 0.5*285e-6*10*(1+(0.14)*d)*(g-vth)**2"
     ],
     "language": "python",
     "metadata": {},
     "outputs": [
      {
       "output_type": "stream",
       "stream": "stdout",
       "text": [
        "Vds :: 0.6111682\n",
        "Vgs -Vth :: 5.523\n",
        "In linear \n",
        "0.00986543679009\n"
       ]
      }
     ],
     "prompt_number": 65
    },
    {
     "cell_type": "code",
     "collapsed": false,
     "input": [
      "datapoints"
     ],
     "language": "python",
     "metadata": {},
     "outputs": [
      {
       "output_type": "pyout",
       "prompt_number": 66,
       "text": [
        "[{'0': 0,\n",
        "  'drain': '2.319325e+000',\n",
        "  'iC2': '2.050133e-004',\n",
        "  'inp': '2.200730e+000',\n",
        "  'time': '5.000501825832937e-007'},\n",
        " {'0': 0,\n",
        "  'drain': '1.971124e+000',\n",
        "  'iC2': '3.896173e-004',\n",
        "  'inp': '2.402400e+000',\n",
        "  'time': '5.001005999659995e-007'},\n",
        " {'0': 0,\n",
        "  'drain': '6.111682e-001',\n",
        "  'iC2': '1.052856e-003',\n",
        "  'inp': '6.000000e+000',\n",
        "  'time': '5.010000000000000e-007'}]"
       ]
      }
     ],
     "prompt_number": 66
    },
    {
     "cell_type": "heading",
     "level": 4,
     "metadata": {},
     "source": [
      "Generation of all non linear equations and evaluating them at linearization points"
     ]
    },
    {
     "cell_type": "code",
     "collapsed": false,
     "input": [
      "inp=re.compile(r\"([-+]?[ ]?\\d+\\.\\d+).inp \")\n",
      "\n",
      "inp2=re.compile(r\"([-+]?[ ]?\\d+\\.\\d+).inp\\*\\*2 \")\n",
      "\n",
      "inp3=re.compile(r\"([-+]?[ ]?\\d+\\.\\d+).inp\\*\\*3 \")\n",
      "\n",
      "start=re.compile(r\"^[*]\")\n",
      "\n",
      "linP=numpy.zeros((count,order,1))\n",
      "inputorder=sympy.Matrix( ((state['inp']),(state['inp']**2),(state['inp']**3)))\n",
      "inputm0=Sym2NumArray( inputorder.evalf(subs={state['inp']:2.200730e+000}) )\n",
      "inputm1=Sym2NumArray( inputorder.evalf(subs={state['inp']:2.402400e+000}) )\n",
      "inputm2=Sym2NumArray( inputorder.evalf(subs={state['inp']:6}) )\n",
      "for i in range(count):\n",
      "    for k in range(order):\n",
      "        linP[i][k]=(datapoints[i][str(stateorder[k])])          \n",
      "\n",
      "print stateorder"
     ],
     "language": "python",
     "metadata": {},
     "outputs": [
      {
       "output_type": "stream",
       "stream": "stdout",
       "text": [
        "[drain]\n",
        "[  iC2]\n"
       ]
      }
     ],
     "prompt_number": 67
    },
    {
     "cell_type": "code",
     "collapsed": false,
     "input": [
      "Cpara=1e-15\n",
      "B=numpy.zeros((count, order, 3))\n",
      "linPVal=numpy.zeros((count, order, 1))\n",
      "linPJac=numpy.zeros((count, order, order))\n",
      "\n",
      "for linpt in range(count):\n",
      "    print linpt\n",
      "    \n",
      "    Im1=current(regions[linpt]['m1'],state,Vth['m1'])\n",
      "    \n",
      "    vdot=(((5 - state[ 'drain' ]) / 500) - Im1 - state[ 'iC2' ]) * 1e15\n",
      "    \n",
      "    print \"vdot = \", vdot ,\" \\n \"\n",
      "    \n",
      "    idot=(vdot - state[ 'iC2' ]) / 2000\n",
      "    \n",
      "    print \"Idot = \", idot , \"\\n \"\n",
      "    \n",
      "    eqs = sympy.Matrix( [(vdot),(idot)] )\n",
      "    \n",
      "    for i in range( order ):\n",
      "        che=str(eqs[i])\n",
      "        \n",
      "        checkinp=re.search(inp,che)\n",
      "        checkinp2=re.search(inp2,che)\n",
      "        checkinp3=re.search(inp3,che)\n",
      "        \n",
      "        \n",
      "        if re.search(inp,che):\n",
      "            print checkinp.group(1)\n",
      "            print \"inp1\"\n",
      "            B[linpt][i][0]=float((checkinp.group(1)).replace(\" \",\"\"))\n",
      "            che=che.replace((checkinp.group()),\"\")\n",
      "        \n",
      "        if re.search(inp2,che):\n",
      "            print checkinp2.group(1)\n",
      "            print \"inp2\"\n",
      "            \n",
      "            B[linpt][i][1]=float((checkinp2.group(1)).replace(\" \",\"\"))\n",
      "            che=che.replace((checkinp2.group()),\"\")\n",
      "        \n",
      "        if re.search(inp3,che):\n",
      "            print checkinp3.group(1)\n",
      "            print \"inp3\"\n",
      "            \n",
      "            B[linpt][i][2]=float((checkinp3.group(1)).replace(\" \",\"\"))\n",
      "            che=che.replace((checkinp3.group()),\"\")\n",
      "        \n",
      "        \n",
      "        if che[0]=='*':\n",
      "            che=che[1:]\n",
      "        \n",
      "        eqs[i]=sympy.parsing.sympy_parser.parse_expr( che, state)\n",
      "        print \"Trimmed vdot = \", eqs[ 0 ],\"\\n\\n\"\n",
      "        print \"Trimmed idot = \", eqs[ 1 ],\"\\n\\n\"\n",
      "        \n",
      "    sub1 = {state[i]:abs(float(datapoints[linpt][i])) for i in state}\n",
      "    val = eqs.evalf(subs = sub1 )\n",
      "    linPVal[ linpt ] = Sym2NumArray( val ) \n",
      "    jack = eqs.jacobian( stateorder )\n",
      "    print \"jack\", jack\n",
      "    evjack = jack.evalf( subs = sub1)    \n",
      "    linPJac[ linpt ] = Sym2NumArray( evjack )        "
     ],
     "language": "python",
     "metadata": {},
     "outputs": [
      {
       "output_type": "stream",
       "stream": "stdout",
       "text": [
        "0\n",
        "vdot =  199500000000.0*0**3 - 199500000000.0*0**2*drain - 399000000000.0*0**2*inp - 1234677000000.0*0**2 + 399000000000.0*0*drain*inp - 190323000000.0*0*drain + 199500000000.0*0*inp**2 + 2659677000000.0*0*inp - 1314057964500.0*0 - 199500000000.0*drain*inp**2 + 190323000000.0*drain*inp - 2045392035500.0*drain - 1.0e+15*iC2 - 1425000000000.0*inp**2 + 1359450000000.0*inp + 9675771175000.0  \n",
        " \n",
        "Idot =  99750000.0*0**3 - 99750000.0*0**2*drain - 199500000.0*0**2*inp - 617338500.0*0**2 + 199500000.0*0*drain*inp - 95161500.0*0*drain + 99750000.0*0*inp**2 + 1329838500.0*0*inp - 657028982.25*0 - 99750000.0*drain*inp**2 + 95161500.0*drain*inp - 1022696017.75*drain - 500000000000.0*iC2 - 712500000.0*inp**2 + 679725000.0*inp + 4837885587.5 \n",
        " \n",
        "+ 1359450000000.0\n",
        "inp1\n",
        "- 1425000000000.0\n",
        "inp2\n",
        "Trimmed vdot =  -199500000000.0*drain*inp**2 + 190323000000.0*drain*inp - 2045392035500.0*drain - 1.0e+15*iC2 + 9675771175000.0 \n",
        "\n",
        "\n",
        "Trimmed idot =  99750000.0*0**3 - 99750000.0*0**2*drain - 199500000.0*0**2*inp - 617338500.0*0**2 + 199500000.0*0*drain*inp - 95161500.0*0*drain + 99750000.0*0*inp**2 + 1329838500.0*0*inp - 657028982.25*0 - 99750000.0*drain*inp**2 + 95161500.0*drain*inp - 1022696017.75*drain - 500000000000.0*iC2 - 712500000.0*inp**2 + 679725000.0*inp + 4837885587.5 \n",
        "\n",
        "\n",
        "+ 679725000.0\n",
        "inp1\n",
        "- 712500000.0\n",
        "inp2\n",
        "Trimmed vdot =  -199500000000.0*drain*inp**2 + 190323000000.0*drain*inp - 2045392035500.0*drain - 1.0e+15*iC2 + 9675771175000.0"
       ]
      },
      {
       "output_type": "stream",
       "stream": "stdout",
       "text": [
        " \n",
        "\n",
        "\n",
        "Trimmed idot =  -99750000.0*drain*inp**2 + 95161500.0*drain*inp - 1022696017.75*drain - 500000000000.0*iC2 + 4837885587.5 \n",
        "\n",
        "\n",
        "jack [-199500000000.0*inp**2 + 190323000000.0*inp - 2045392035500.0,        -1.0e+15]\n",
        "[          -99750000.0*inp**2 + 95161500.0*inp - 1022696017.75, -500000000000.0]\n",
        "1\n",
        "vdot =  199500000000.0*0**3 - 199500000000.0*0**2*drain - 399000000000.0*0**2*inp - 1234677000000.0*0**2 + 399000000000.0*0*drain*inp - 190323000000.0*0*drain + 199500000000.0*0*inp**2 + 2659677000000.0*0*inp - 1314057964500.0*0 - 199500000000.0*drain*inp**2 + 190323000000.0*drain*inp - 2045392035500.0*drain - 1.0e+15*iC2 - 1425000000000.0*inp**2 + 1359450000000.0*inp + 9675771175000.0"
       ]
      },
      {
       "output_type": "stream",
       "stream": "stdout",
       "text": [
        "  \n",
        " \n",
        "Idot =  99750000.0*0**3 - 99750000.0*0**2*drain - 199500000.0*0**2*inp - 617338500.0*0**2 + 199500000.0*0*drain*inp - 95161500.0*0*drain + 99750000.0*0*inp**2 + 1329838500.0*0*inp - 657028982.25*0 - 99750000.0*drain*inp**2 + 95161500.0*drain*inp - 1022696017.75*drain - 500000000000.0*iC2 - 712500000.0*inp**2 + 679725000.0*inp + 4837885587.5 \n",
        " \n",
        "+ 1359450000000.0\n",
        "inp1\n",
        "- 1425000000000.0\n",
        "inp2\n",
        "Trimmed vdot =  -199500000000.0*drain*inp**2 + 190323000000.0*drain*inp - 2045392035500.0*drain - 1.0e+15*iC2 + 9675771175000.0 \n",
        "\n",
        "\n",
        "Trimmed idot =  99750000.0*0**3 - 99750000.0*0**2*drain - 199500000.0*0**2*inp - 617338500.0*0**2 + 199500000.0*0*drain*inp - 95161500.0*0*drain + 99750000.0*0*inp**2 + 1329838500.0*0*inp - 657028982.25*0 - 99750000.0*drain*inp**2 + 95161500.0*drain*inp - 1022696017.75*drain - 500000000000.0*iC2 - 712500000.0*inp**2 + 679725000.0*inp + 4837885587.5"
       ]
      },
      {
       "output_type": "stream",
       "stream": "stdout",
       "text": [
        " \n",
        "\n",
        "\n",
        "+ 679725000.0\n",
        "inp1\n",
        "- 712500000.0\n",
        "inp2\n",
        "Trimmed vdot =  -199500000000.0*drain*inp**2 + 190323000000.0*drain*inp - 2045392035500.0*drain - 1.0e+15*iC2 + 9675771175000.0 \n",
        "\n",
        "\n",
        "Trimmed idot =  -99750000.0*drain*inp**2 + 95161500.0*drain*inp - 1022696017.75*drain - 500000000000.0*iC2 + 4837885587.5 \n",
        "\n",
        "\n",
        "jack"
       ]
      },
      {
       "output_type": "stream",
       "stream": "stdout",
       "text": [
        " [-199500000000.0*inp**2 + 190323000000.0*inp - 2045392035500.0,        -1.0e+15]\n",
        "[          -99750000.0*inp**2 + 95161500.0*inp - 1022696017.75, -500000000000.0]\n",
        "2\n",
        "vdot =  199500000000.0*0**3 - 199500000000.0*0**2*drain - 399000000000.0*0**2*inp - 1234677000000.0*0**2 - 199500000000.0*0*drain**2 + 798000000000.0*0*drain*inp - 380646000000.0*0*drain + 2850000000000.0*0*inp - 1359450000000.0*0 + 199500000000.0*drain**3 - 399000000000.0*drain**2*inp + 1615323000000.0*drain**2 - 2850000000000.0*drain*inp - 640550000000.0*drain - 1.0e+15*iC2 + 10000000000000.0  \n",
        " \n",
        "Idot =  99750000.0*0**3 - 99750000.0*0**2*drain - 199500000.0*0**2*inp - 617338500.0*0**2 - 99750000.0*0*drain**2 + 399000000.0*0*drain*inp - 190323000.0*0*drain + 1425000000.0*0*inp - 679725000.0*0 + 99750000.0*drain**3 - 199500000.0*drain**2*inp + 807661500.0*drain**2 - 1425000000.0*drain*inp - 320275000.0*drain - 500000000000.0*iC2 + 5000000000.0"
       ]
      },
      {
       "output_type": "stream",
       "stream": "stdout",
       "text": [
        " \n",
        " \n",
        "Trimmed vdot =  199500000000.0*drain**3 - 399000000000.0*drain**2*inp + 1615323000000.0*drain**2 - 2850000000000.0*drain*inp - 640550000000.0*drain - 1.0e+15*iC2 + 10000000000000.0"
       ]
      },
      {
       "output_type": "stream",
       "stream": "stdout",
       "text": [
        " \n",
        "\n",
        "\n",
        "Trimmed idot =  99750000.0*0**3 - 99750000.0*0**2*drain - 199500000.0*0**2*inp - 617338500.0*0**2 - 99750000.0*0*drain**2 + 399000000.0*0*drain*inp - 190323000.0*0*drain + 1425000000.0*0*inp - 679725000.0*0 + 99750000.0*drain**3 - 199500000.0*drain**2*inp + 807661500.0*drain**2 - 1425000000.0*drain*inp - 320275000.0*drain - 500000000000.0*iC2 + 5000000000.0 \n",
        "\n",
        "\n",
        "Trimmed vdot = "
       ]
      },
      {
       "output_type": "stream",
       "stream": "stdout",
       "text": [
        " 199500000000.0*drain**3 - 399000000000.0*drain**2*inp + 1615323000000.0*drain**2 - 2850000000000.0*drain*inp - 640550000000.0*drain - 1.0e+15*iC2 + 10000000000000.0 \n",
        "\n",
        "\n",
        "Trimmed idot =  99750000.0*drain**3 - 199500000.0*drain**2*inp + 807661500.0*drain**2 - 1425000000.0*drain*inp - 320275000.0*drain - 500000000000.0*iC2 + 5000000000.0 \n",
        "\n",
        "\n",
        "jack [598500000000.0*drain**2 - 798000000000.0*drain*inp + 3230646000000.0*drain - 2850000000000.0*inp - 640550000000.0,        -1.0e+15]\n",
        "[               299250000.0*drain**2 - 399000000.0*drain*inp + 1615323000.0*drain - 1425000000.0*inp - 320275000.0, -500000000000.0]"
       ]
      },
      {
       "output_type": "stream",
       "stream": "stdout",
       "text": [
        "\n"
       ]
      }
     ],
     "prompt_number": 68
    },
    {
     "cell_type": "code",
     "collapsed": false,
     "input": [
      "(numpy.dot( linPJac[ 0 ], linP[ 1 ] )).reshape( order ,1 )"
     ],
     "language": "python",
     "metadata": {},
     "outputs": [
      {
       "output_type": "pyout",
       "prompt_number": 69,
       "text": [
        "array([[ -5.50027546e+12],\n",
        "       [ -2.75013773e+09]])"
       ]
      }
     ],
     "prompt_number": 69
    },
    {
     "cell_type": "code",
     "collapsed": false,
     "input": [
      "\n",
      "def dervPWL(y,t):\n",
      "    weights = normcalc( y )\n",
      "    temp0 = weights[ 0 ] * ( linPVal[ 0 ] + (numpy.dot( linPJac[ 0 ], y )).reshape( order ,1 ) - (numpy.dot( linPJac[ 0 ], linP[ 0 ] )).reshape( order ,1 ) + (numpy.dot( B[ 0 ], inputm0 )) )\n",
      "    temp1 = weights[ 1 ] *  ( linPVal[ 1 ] + (numpy.dot( linPJac[ 1 ], y )).reshape( order ,1 ) - (numpy.dot( linPJac[ 1 ], linP[ 1 ] )).reshape( order ,1 ) + (numpy.dot( B[ 1 ], inputm1 )) )\n",
      "    temp2 =  weights[ 2 ] * ( linPVal[ 2 ] + (numpy.dot( linPJac[ 2 ], y )).reshape( order ,1 ) - (numpy.dot( linPJac[ 2 ], linP[ 2 ] )).reshape( order ,1 ) + (numpy.dot( B[ 2 ], inputm2 )) )\n",
      "        \n",
      "    temp = temp0 + temp1 + temp2\n",
      "    return (temp.reshape(1, order))[0]\n",
      "\n"
     ],
     "language": "python",
     "metadata": {},
     "outputs": [],
     "prompt_number": 70
    },
    {
     "cell_type": "code",
     "collapsed": false,
     "input": [
      "def normcalc( y ) :\n",
      "    norm = numpy.array([ 10**(-1*numpy.linalg.norm( linP[ i ] - y.reshape(order,1) )) for i in range(count) ])\n",
      "    return norm/norm.sum()"
     ],
     "language": "python",
     "metadata": {},
     "outputs": [],
     "prompt_number": 71
    },
    {
     "cell_type": "code",
     "collapsed": false,
     "input": [
      "from scipy.integrate import odeint\n",
      "y0 = numpy.array( [ (float( initialcond[ str( i ) ]) )for i in stateorder ])\n",
      "\n",
      "dervPWL( y0, 0 )\n",
      "\n",
      "ti  = numpy.linspace(0, 2e-9, 20)\n",
      "solnPWL = odeint(dervPWL, y0, ti)"
     ],
     "language": "python",
     "metadata": {},
     "outputs": [],
     "prompt_number": 72
    },
    {
     "cell_type": "code",
     "collapsed": false,
     "input": [
      "drain_SPICE = []\n",
      "cur_SPICE = []\n",
      "for data in import_text('./Data/cmnsrc_data_lev1_3_0.3.txt','\\t') :\n",
      "    if float( data['time']) >= sim_begin :\n",
      "        drain_SPICE.append( [ float( data['drain'] ) ,float( data['time'] ) - sim_begin ] )\n",
      "        cur_SPICE.append( [ float( data['iC2'] ), float( data['time'] ) -sim_begin ] )\n",
      "\n",
      "\n",
      "voltage_SPICE = numpy.array( [ float( drain_SPICE[ i ][ 0 ] ) for i in range(len(drain_SPICE) ) ] )\n",
      "cap_SPICE = numpy.array( [ float(cur_SPICE[ i ][ 0 ] ) for i in range(len(cur_SPICE) )] ) \n",
      "time_SPICE = numpy.array( [ float( drain_SPICE[ i ][ 1 ] ) for i in range(len(drain_SPICE) ) ] )\n"
     ],
     "language": "python",
     "metadata": {},
     "outputs": [],
     "prompt_number": 73
    },
    {
     "cell_type": "code",
     "collapsed": false,
     "input": [
      "from matplotlib import pyplot\n",
      "calc, = plt.plot(ti, numpy.array([ float(solnPWL[i][0]) for i in range(20)] ), '--')\n",
      "spice, = plt.plot(time_SPICE[:-2],voltage_SPICE[:-2])\n",
      "plt.grid()\n",
      "plt.legend( (calc, spice) , ('PWL', 'LTSPICE') ,'upper right', shadow='True')\n",
      "plt.ylabel(r'$V_{ds}$',fontsize=40)\n",
      "plt.xlabel(r'$time$',fontsize=40)\n",
      "plt.vlines(time,0,3,'c')\n",
      "plt.figsize(10,10)\n",
      "plt.title(r'Comparision of $V_{ds}$  common source')\n",
      "plt.show()"
     ],
     "language": "python",
     "metadata": {},
     "outputs": [
      {
       "output_type": "display_data",
       "png": "[encoded data removed]"
      }
     ],
     "prompt_number": 74
    },
    {
     "cell_type": "code",
     "collapsed": false,
     "input": [
      "calc, = plt.plot(ti, numpy.array([-1 * float(solnPWL[i][1]) for i in range(20)] ), '--')\n",
      "spice, = plt.plot(time_SPICE[:-2],cap_SPICE[:-2])\n",
      "plt.grid()\n",
      "plt.legend( (calc, spice) , ('PWL', 'LTSPICE') ,'upper right')\n",
      "plt.ylabel(r'$I_{Capacitor}$',fontsize=30)\n",
      "plt.xlabel(r'$time$',fontsize=30)\n",
      "plt.vlines(time,-0.2e-3,1.2e-3,'c')\n",
      "plt.figsize(10,10)\n",
      "plt.title(r'Comparision of $I_{Capacitor}$  common source')\n",
      "plt.show()"
     ],
     "language": "python",
     "metadata": {},
     "outputs": [
      {
       "output_type": "display_data",
       "png": "[encoded data removed]"
      }
     ],
     "prompt_number": 75
    },
    {
     "cell_type": "code",
     "collapsed": false,
     "input": [
      "calc, = plt.plot(numpy.array([ float(solnPWL[i][0]) for i in range(20)] ),numpy.array([ -1*float(solnPWL[i][1]) for i in range(20)] ) , 'r--', linewidth=1)\n",
      "spice, = plt.plot(voltage_SPICE,cap_SPICE,'g-',linewidth=1)\n",
      "phase, = plt.plot( [float(datapoints[ i ]['drain']) for i in range(count) ], [float(datapoints[ i ]['iC2']) for i in range(count) ],'co',linewidth=4)\n",
      "plt.grid()\n",
      "#plt.legend( (calc, spice) , ('PWL', 'LTSPICE') ,'upper right')\n",
      "plt.ylabel(r'$I_C$',fontsize=30)\n",
      "plt.xlabel(r'$V_{ds}$', fontsize =30)\n",
      "\n",
      "plt.figsize(10,10)\n",
      "plt.title('Phase-Space for common source under step response')\n",
      "plt.show()\n"
     ],
     "language": "python",
     "metadata": {},
     "outputs": [
      {
       "output_type": "display_data",
       "png": "[encoded data removed]"
      }
     ],
     "prompt_number": 88
    },
    {
     "cell_type": "code",
     "collapsed": false,
     "input": [],
     "language": "python",
     "metadata": {},
     "outputs": [
      {
       "output_type": "pyout",
       "prompt_number": 42,
       "text": [
        "[2.319325, 1.971124, 0.6111682]"
       ]
      }
     ],
     "prompt_number": 42
    },
    {
     "cell_type": "markdown",
     "metadata": {},
     "source": [
      "### PWL Integration \n",
      "\n",
      "* Seems to work for Common source"
     ]
    }
   ],
   "metadata": {}
  }
 ]
}