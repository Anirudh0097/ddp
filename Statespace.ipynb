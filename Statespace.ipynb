{
 "metadata": {
  "name": "Statespace"
 },
 "nbformat": 3,
 "nbformat_minor": 0,
 "worksheets": [
  {
   "cells": [
    {
     "cell_type": "code",
     "collapsed": false,
     "input": [
      "import numpy as N\n",
      "import sympy as S\n",
      "ord=10\n",
      "A=N.diag(N.ones(ord)*-2)+N.diag(N.ones(ord-1),1)+N.diag(N.ones(ord-1),-1)\n",
      "B=N.zeros((ord));C=N.zeros((ord));\n",
      "B[0]=1;C[ord-1]=1;D=[0];\n",
      "A[ord-1][ord-1]=-1\n",
      "x=S.symbols('x1:11');"
     ],
     "language": "python",
     "metadata": {},
     "outputs": [],
     "prompt_number": 29
    },
    {
     "cell_type": "code",
     "collapsed": false,
     "input": [],
     "language": "python",
     "metadata": {},
     "outputs": [
      {
       "output_type": "pyout",
       "prompt_number": 33,
       "text": [
        "(x1, x2, x3, x4, x5, x6, x7, x8, x9, x10)"
       ]
      }
     ],
     "prompt_number": 33
    },
    {
     "cell_type": "code",
     "collapsed": false,
     "input": [
      "for i in [1,2,3,4,5,6,7,8]:\n",
      "    print i\n",
      "    nonL[i]=exp(10*(x[i-1]+x[i]))-exp(10*(x[i]-x[i+1]))\n"
     ],
     "language": "python",
     "metadata": {},
     "outputs": [
      {
       "output_type": "stream",
       "stream": "stdout",
       "text": [
        "1\n",
        "2\n",
        "3\n",
        "4\n",
        "5\n",
        "6\n",
        "7\n",
        "8\n"
       ]
      }
     ],
     "prompt_number": 154
    },
    {
     "cell_type": "code",
     "collapsed": false,
     "input": [
      "nonL"
     ],
     "language": "python",
     "metadata": {},
     "outputs": [
      {
       "output_type": "pyout",
       "prompt_number": 155,
       "text": [
        "[exp(10*x1 + 10*x2) - exp(10*x2 - 10*x3), exp(10*x1 + 10*x2) - exp(10*x2 - 10*x3), exp(10*x2 + 10*x3) - exp(10*x3 - 10*x4), exp(10*x3 + 10*x4) - exp(10*x4 - 10*x5), exp(10*x4 + 10*x5) - exp(10*x5 - 10*x6), exp(10*x5 + 10*x6) - exp(10*x6 - 10*x7), exp(10*x6 + 10*x7) - exp(10*x7 - 10*x8), exp(10*x7 + 10*x8) - exp(10*x8 - 10*x9), -exp(-10*x10 + 10*x9) + exp(10*x8 + 10*x9), 0]"
       ]
      }
     ],
     "prompt_number": 155
    },
    {
     "cell_type": "code",
     "collapsed": false,
     "input": [
      "A[ord-1][ord-1] =-1\n"
     ],
     "language": "python",
     "metadata": {},
     "outputs": [],
     "prompt_number": 153
    },
    {
     "cell_type": "code",
     "collapsed": false,
     "input": [
      "range"
     ],
     "language": "python",
     "metadata": {},
     "outputs": []
    }
   ],
   "metadata": {}
  }
 ]
}