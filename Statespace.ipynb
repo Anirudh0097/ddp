{
 "metadata": {
  "name": "Statespace"
 },
 "nbformat": 3,
 "nbformat_minor": 0,
 "worksheets": [
  {
   "cells": [
    {
     "cell_type": "code",
     "collapsed": false,
     "input": [
      "import numpy as N\n",
      "import scipy as SC\n",
      "import sympy as S\n",
      "ord=10\n",
      "A=N.diag(N.ones(ord)*-2)+N.diag(N.ones(ord-1),1)+N.diag(N.ones(ord-1),-1)\n",
      "B=N.zeros((ord));C=N.zeros((ord));\n",
      "B[0]=1;C[ord-1]=1;D=[0];\n",
      "A[ord-1][ord-1]=-1\n",
      "x=S.symbols('x1:11');\n",
      "nonl=SC.array(x)\n",
      "for i in range(1,9):\n",
      "    nonl[i]=S.exp(10*x[i-1]-10*x[i])-S.exp(10*x[i]-10*x[i+1])\n",
      "nonl[0]=2-S.exp(10*x[0])-S.exp(10*x[0]-10*x[1])\n",
      "nonl[ord-1]=S.exp(10*x[ord-2]-10*x[ord-1])-1"
     ],
     "language": "python",
     "metadata": {},
     "outputs": [],
     "prompt_number": 81
    },
    {
     "cell_type": "code",
     "collapsed": false,
     "input": [
      "nonl"
     ],
     "language": "python",
     "metadata": {},
     "outputs": [
      {
       "output_type": "pyout",
       "prompt_number": 98,
       "text": [
        "array([-exp(10*x1) - exp(10*x1 - 10*x2) + 2,\n",
        "       exp(10*x1 - 10*x2) - exp(10*x2 - 10*x3),\n",
        "       exp(10*x2 - 10*x3) - exp(10*x3 - 10*x4),\n",
        "       exp(10*x3 - 10*x4) - exp(10*x4 - 10*x5),\n",
        "       exp(10*x4 - 10*x5) - exp(10*x5 - 10*x6),\n",
        "       exp(10*x5 - 10*x6) - exp(10*x6 - 10*x7),\n",
        "       exp(10*x6 - 10*x7) - exp(10*x7 - 10*x8),\n",
        "       exp(10*x7 - 10*x8) - exp(10*x8 - 10*x9),\n",
        "       -exp(-10*x10 + 10*x9) + exp(10*x8 - 10*x9), exp(-10*x10 + 10*x9) - 1], dtype=object)"
       ]
      }
     ],
     "prompt_number": 98
    },
    {
     "cell_type": "code",
     "collapsed": false,
     "input": [],
     "language": "python",
     "metadata": {},
     "outputs": []
    }
   ],
   "metadata": {}
  }
 ]
}