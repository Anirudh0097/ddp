{
 "metadata": {
  "name": "Statespace"
 },
 "nbformat": 3,
 "nbformat_minor": 0,
 "worksheets": [
  {
   "cells": [
    {
     "cell_type": "code",
     "collapsed": false,
     "input": [
      "import numpy as N\n",
      "import scipy as SC\n",
      "import sympy as S\n",
      "ord=10\n",
      "A=N.diag(N.ones(ord)*-2)+N.diag(N.ones(ord-1),1)+N.diag(N.ones(ord-1),-1)\n",
      "B=N.zeros((ord));C=N.zeros((ord));\n",
      "B[0]=1;C[ord-1]=1;D=[0];\n",
      "A[ord-1][ord-1]=-1\n",
      "x=S.symbols('x1:11');\n",
      "nonl=S.Matrix(zeros((10,1)))\n",
      "for i in range(1,9):\n",
      "    nonl[i]=S.exp(10*x[i-1]-10*x[i])-S.exp(10*x[i]-10*x[i+1])\n",
      "nonl[0]=2-S.exp(10*x[0])-S.exp(10*x[0]-10*x[1])\n",
      "nonl[ord-1]=S.exp(10*x[ord-2]-10*x[ord-1])-1\n",
      "AMat=S.Matrix(A)\n",
      "xMat=S.Matrix(x)\n",
      "nonlMat=S.Matrix(nonl)\n",
      "Anew=AMat*(xMat)+nonl\n",
      "AJac=Anew.jacobian(x)"
     ],
     "language": "python",
     "metadata": {},
     "outputs": [],
     "prompt_number": 145
    },
    {
     "cell_type": "code",
     "collapsed": false,
     "input": [],
     "language": "python",
     "metadata": {},
     "outputs": [
      {
       "output_type": "pyout",
       "prompt_number": 147,
       "text": [
        "[-10*exp(10*x1) - 10*exp(10*x1 - 10*x2) - 2.0,                          10*exp(10*x1 - 10*x2) + 1.0,                                                    0,                                                    0,                                                    0,                                                    0,                                                    0,                                                    0,                                                      0,                              0]\n",
        "[                 10*exp(10*x1 - 10*x2) + 1.0, -10*exp(10*x1 - 10*x2) - 10*exp(10*x2 - 10*x3) - 2.0,                          10*exp(10*x2 - 10*x3) + 1.0,                                                    0,                                                    0,                                                    0,                                                    0,                                                    0,                                                      0,                              0]\n",
        "[                                           0,                          10*exp(10*x2 - 10*x3) + 1.0, -10*exp(10*x2 - 10*x3) - 10*exp(10*x3 - 10*x4) - 2.0,                          10*exp(10*x3 - 10*x4) + 1.0,                                                    0,                                                    0,                                                    0,                                                    0,                                                      0,                              0]\n",
        "[                                           0,                                                    0,                          10*exp(10*x3 - 10*x4) + 1.0, -10*exp(10*x3 - 10*x4) - 10*exp(10*x4 - 10*x5) - 2.0,                          10*exp(10*x4 - 10*x5) + 1.0,                                                    0,                                                    0,                                                    0,                                                      0,                              0]\n",
        "[                                           0,                                                    0,                                                    0,                          10*exp(10*x4 - 10*x5) + 1.0, -10*exp(10*x4 - 10*x5) - 10*exp(10*x5 - 10*x6) - 2.0,                          10*exp(10*x5 - 10*x6) + 1.0,                                                    0,                                                    0,                                                      0,                              0]\n",
        "[                                           0,                                                    0,                                                    0,                                                    0,                          10*exp(10*x5 - 10*x6) + 1.0, -10*exp(10*x5 - 10*x6) - 10*exp(10*x6 - 10*x7) - 2.0,                          10*exp(10*x6 - 10*x7) + 1.0,                                                    0,                                                      0,                              0]\n",
        "[                                           0,                                                    0,                                                    0,                                                    0,                                                    0,                          10*exp(10*x6 - 10*x7) + 1.0, -10*exp(10*x6 - 10*x7) - 10*exp(10*x7 - 10*x8) - 2.0,                          10*exp(10*x7 - 10*x8) + 1.0,                                                      0,                              0]\n",
        "[                                           0,                                                    0,                                                    0,                                                    0,                                                    0,                                                    0,                          10*exp(10*x7 - 10*x8) + 1.0, -10*exp(10*x7 - 10*x8) - 10*exp(10*x8 - 10*x9) - 2.0,                            10*exp(10*x8 - 10*x9) + 1.0,                              0]\n",
        "[                                           0,                                                    0,                                                    0,                                                    0,                                                    0,                                                    0,                                                    0,                          10*exp(10*x8 - 10*x9) + 1.0, -10*exp(-10*x10 + 10*x9) - 10*exp(10*x8 - 10*x9) - 2.0,  10*exp(-10*x10 + 10*x9) + 1.0]\n",
        "[                                           0,                                                    0,                                                    0,                                                    0,                                                    0,                                                    0,                                                    0,                                                    0,                          10*exp(-10*x10 + 10*x9) + 1.0, -10*exp(-10*x10 + 10*x9) - 1.0]"
       ]
      }
     ],
     "prompt_number": 147
    }
   ],
   "metadata": {}
  }
 ]
}